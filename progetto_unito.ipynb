{
  "nbformat": 4,
  "nbformat_minor": 0,
  "metadata": {
    "colab": {
      "provenance": [],
      "name": "progetto_niko_ross_salvo_2.ipynb"
    },
    "kernelspec": {
      "name": "python3",
      "display_name": "Python 3"
    },
    "language_info": {
      "name": "python"
    }
  },
  "cells": [
    {
      "cell_type": "markdown",
      "source": [
        "Progetto laboratorio di programmazione. Gruppo: Nicolò Cioni, Rossano Gilioli e Salvatore Russo. Dataset scelto : dataset n 1"
      ],
      "metadata": {
        "id": "DuZebNFjdhPV"
      }
    },
    {
      "cell_type": "markdown",
      "source": [
        "Preparazione dell'ambiente"
      ],
      "metadata": {
        "id": "Vo3O2pD1Xg-0"
      }
    },
    {
      "cell_type": "code",
      "execution_count": 98,
      "metadata": {
        "id": "Iu5uvsGbHgtA"
      },
      "outputs": [],
      "source": [
        "import pandas as pd\n",
        "import numpy as np\n",
        "import seaborn as sns\n",
        "import matplotlib.pyplot as plt\n",
        "from sklearn import svm, tree\n",
        "from sklearn.metrics import *\n",
        "test= pd.read_csv(\"/content/sample_data/1.test_convertito_numerici.csv\", sep=\",\")\n",
        "test_non = pd.read_csv(\"/content/sample_data/1.test_non_convertito.csv\", sep=\",\")\n",
        "train_non = pd.read_csv(\"/content/sample_data/1.train_non_convertito.csv\", sep=\",\")\n",
        "train = pd.read_csv(\"/content/sample_data/1.train_convertito_numerici.csv\", sep=\",\")"
      ]
    },
    {
      "cell_type": "markdown",
      "source": [
        "Fase 1: descrizione e prima analisi del dataset"
      ],
      "metadata": {
        "id": "1IbBdyK1Xlig"
      }
    },
    {
      "cell_type": "markdown",
      "source": [
        "Domanda n.1: come si presentano inizialmente i dataset? Quanti casi prensentano? Quante variabili? Sono presenti valori nulli? Come sono divise le variabili (numeriche/categoriche/temporali). Qual è la media generale delle cancellazioni?"
      ],
      "metadata": {
        "id": "1fwEgseWNH82"
      }
    },
    {
      "cell_type": "code",
      "source": [
        "print(\"Train dataset info:\")\n",
        "train.describe()"
      ],
      "metadata": {
        "id": "4isnIM9XXomq",
        "outputId": "2cbef846-91c4-4c9b-eef2-5d22b3f9c4bc",
        "colab": {
          "base_uri": "https://localhost:8080/",
          "height": 367
        }
      },
      "execution_count": 99,
      "outputs": [
        {
          "output_type": "stream",
          "name": "stdout",
          "text": [
            "Train dataset info:\n"
          ]
        },
        {
          "output_type": "execute_result",
          "data": {
            "text/plain": [
              "              hotel   is_canceled     lead_time  arrival_date_year  \\\n",
              "count  56707.000000  56707.000000  56707.000000            56707.0   \n",
              "mean       0.327420      0.358633    102.870369             2016.0   \n",
              "std        0.469276      0.479603    106.582358                0.0   \n",
              "min        0.000000      0.000000      0.000000             2016.0   \n",
              "25%        0.000000      0.000000     17.000000             2016.0   \n",
              "50%        0.000000      0.000000     68.000000             2016.0   \n",
              "75%        1.000000      1.000000    160.000000             2016.0   \n",
              "max        1.000000      1.000000    709.000000             2016.0   \n",
              "\n",
              "       arrival_date_month  arrival_date_week_number  \\\n",
              "count        56707.000000              56707.000000   \n",
              "mean             6.767313                 28.458162   \n",
              "std              3.194300                 13.925493   \n",
              "min              1.000000                  1.000000   \n",
              "25%              4.000000                 17.000000   \n",
              "50%              7.000000                 28.000000   \n",
              "75%             10.000000                 41.000000   \n",
              "max             12.000000                 53.000000   \n",
              "\n",
              "       arrival_date_day_of_month  stays_in_weekend_nights  \\\n",
              "count               56707.000000             56707.000000   \n",
              "mean                   15.911104                 0.893981   \n",
              "std                     8.784897                 0.983110   \n",
              "min                     1.000000                 0.000000   \n",
              "25%                     8.000000                 0.000000   \n",
              "50%                    16.000000                 1.000000   \n",
              "75%                    24.000000                 2.000000   \n",
              "max                    31.000000                19.000000   \n",
              "\n",
              "       stays_in_week_nights        adults  ...  assigned_room_type  \\\n",
              "count          56707.000000  56707.000000  ...        56707.000000   \n",
              "mean               2.442802      1.850988  ...            1.349075   \n",
              "std                1.863548      0.498133  ...            1.887103   \n",
              "min                0.000000      0.000000  ...            0.000000   \n",
              "25%                1.000000      2.000000  ...            0.000000   \n",
              "50%                2.000000      2.000000  ...            0.000000   \n",
              "75%                3.000000      2.000000  ...            3.000000   \n",
              "max               50.000000      4.000000  ...           11.000000   \n",
              "\n",
              "       booking_changes  deposit_type         agent       company  \\\n",
              "count      56707.00000  56707.000000  56707.000000  56707.000000   \n",
              "mean           0.22484      0.124429     71.445095      8.487435   \n",
              "std            0.66649      0.337000    102.585427     47.550647   \n",
              "min            0.00000      0.000000     -1.000000     -1.000000   \n",
              "25%            0.00000      0.000000      7.000000     -1.000000   \n",
              "50%            0.00000      0.000000      9.000000     -1.000000   \n",
              "75%            0.00000      0.000000    134.000000     -1.000000   \n",
              "max           21.00000      2.000000    481.000000    499.000000   \n",
              "\n",
              "       days_in_waiting_list  customer_type           adr  \\\n",
              "count          56707.000000   56707.000000  56707.000000   \n",
              "mean               3.833865       2.171302     98.325863   \n",
              "std               23.785668       0.477327     49.955696   \n",
              "min                0.000000       0.000000      0.000000   \n",
              "25%                0.000000       2.000000     68.530000   \n",
              "50%                0.000000       2.000000     90.950000   \n",
              "75%                0.000000       2.000000    120.000000   \n",
              "max              391.000000       3.000000   5400.000000   \n",
              "\n",
              "       required_car_parking_spaces  total_of_special_requests  \n",
              "count                 56707.000000               56707.000000  \n",
              "mean                      0.068334                   0.548645  \n",
              "std                       0.253296                   0.761173  \n",
              "min                       0.000000                   0.000000  \n",
              "25%                       0.000000                   0.000000  \n",
              "50%                       0.000000                   0.000000  \n",
              "75%                       0.000000                   1.000000  \n",
              "max                       3.000000                   5.000000  \n",
              "\n",
              "[8 rows x 30 columns]"
            ],
            "text/html": [
              "\n",
              "  <div id=\"df-7e49cb32-813f-4fdb-8504-bc9917ca7559\" class=\"colab-df-container\">\n",
              "    <div>\n",
              "<style scoped>\n",
              "    .dataframe tbody tr th:only-of-type {\n",
              "        vertical-align: middle;\n",
              "    }\n",
              "\n",
              "    .dataframe tbody tr th {\n",
              "        vertical-align: top;\n",
              "    }\n",
              "\n",
              "    .dataframe thead th {\n",
              "        text-align: right;\n",
              "    }\n",
              "</style>\n",
              "<table border=\"1\" class=\"dataframe\">\n",
              "  <thead>\n",
              "    <tr style=\"text-align: right;\">\n",
              "      <th></th>\n",
              "      <th>hotel</th>\n",
              "      <th>is_canceled</th>\n",
              "      <th>lead_time</th>\n",
              "      <th>arrival_date_year</th>\n",
              "      <th>arrival_date_month</th>\n",
              "      <th>arrival_date_week_number</th>\n",
              "      <th>arrival_date_day_of_month</th>\n",
              "      <th>stays_in_weekend_nights</th>\n",
              "      <th>stays_in_week_nights</th>\n",
              "      <th>adults</th>\n",
              "      <th>...</th>\n",
              "      <th>assigned_room_type</th>\n",
              "      <th>booking_changes</th>\n",
              "      <th>deposit_type</th>\n",
              "      <th>agent</th>\n",
              "      <th>company</th>\n",
              "      <th>days_in_waiting_list</th>\n",
              "      <th>customer_type</th>\n",
              "      <th>adr</th>\n",
              "      <th>required_car_parking_spaces</th>\n",
              "      <th>total_of_special_requests</th>\n",
              "    </tr>\n",
              "  </thead>\n",
              "  <tbody>\n",
              "    <tr>\n",
              "      <th>count</th>\n",
              "      <td>56707.000000</td>\n",
              "      <td>56707.000000</td>\n",
              "      <td>56707.000000</td>\n",
              "      <td>56707.0</td>\n",
              "      <td>56707.000000</td>\n",
              "      <td>56707.000000</td>\n",
              "      <td>56707.000000</td>\n",
              "      <td>56707.000000</td>\n",
              "      <td>56707.000000</td>\n",
              "      <td>56707.000000</td>\n",
              "      <td>...</td>\n",
              "      <td>56707.000000</td>\n",
              "      <td>56707.00000</td>\n",
              "      <td>56707.000000</td>\n",
              "      <td>56707.000000</td>\n",
              "      <td>56707.000000</td>\n",
              "      <td>56707.000000</td>\n",
              "      <td>56707.000000</td>\n",
              "      <td>56707.000000</td>\n",
              "      <td>56707.000000</td>\n",
              "      <td>56707.000000</td>\n",
              "    </tr>\n",
              "    <tr>\n",
              "      <th>mean</th>\n",
              "      <td>0.327420</td>\n",
              "      <td>0.358633</td>\n",
              "      <td>102.870369</td>\n",
              "      <td>2016.0</td>\n",
              "      <td>6.767313</td>\n",
              "      <td>28.458162</td>\n",
              "      <td>15.911104</td>\n",
              "      <td>0.893981</td>\n",
              "      <td>2.442802</td>\n",
              "      <td>1.850988</td>\n",
              "      <td>...</td>\n",
              "      <td>1.349075</td>\n",
              "      <td>0.22484</td>\n",
              "      <td>0.124429</td>\n",
              "      <td>71.445095</td>\n",
              "      <td>8.487435</td>\n",
              "      <td>3.833865</td>\n",
              "      <td>2.171302</td>\n",
              "      <td>98.325863</td>\n",
              "      <td>0.068334</td>\n",
              "      <td>0.548645</td>\n",
              "    </tr>\n",
              "    <tr>\n",
              "      <th>std</th>\n",
              "      <td>0.469276</td>\n",
              "      <td>0.479603</td>\n",
              "      <td>106.582358</td>\n",
              "      <td>0.0</td>\n",
              "      <td>3.194300</td>\n",
              "      <td>13.925493</td>\n",
              "      <td>8.784897</td>\n",
              "      <td>0.983110</td>\n",
              "      <td>1.863548</td>\n",
              "      <td>0.498133</td>\n",
              "      <td>...</td>\n",
              "      <td>1.887103</td>\n",
              "      <td>0.66649</td>\n",
              "      <td>0.337000</td>\n",
              "      <td>102.585427</td>\n",
              "      <td>47.550647</td>\n",
              "      <td>23.785668</td>\n",
              "      <td>0.477327</td>\n",
              "      <td>49.955696</td>\n",
              "      <td>0.253296</td>\n",
              "      <td>0.761173</td>\n",
              "    </tr>\n",
              "    <tr>\n",
              "      <th>min</th>\n",
              "      <td>0.000000</td>\n",
              "      <td>0.000000</td>\n",
              "      <td>0.000000</td>\n",
              "      <td>2016.0</td>\n",
              "      <td>1.000000</td>\n",
              "      <td>1.000000</td>\n",
              "      <td>1.000000</td>\n",
              "      <td>0.000000</td>\n",
              "      <td>0.000000</td>\n",
              "      <td>0.000000</td>\n",
              "      <td>...</td>\n",
              "      <td>0.000000</td>\n",
              "      <td>0.00000</td>\n",
              "      <td>0.000000</td>\n",
              "      <td>-1.000000</td>\n",
              "      <td>-1.000000</td>\n",
              "      <td>0.000000</td>\n",
              "      <td>0.000000</td>\n",
              "      <td>0.000000</td>\n",
              "      <td>0.000000</td>\n",
              "      <td>0.000000</td>\n",
              "    </tr>\n",
              "    <tr>\n",
              "      <th>25%</th>\n",
              "      <td>0.000000</td>\n",
              "      <td>0.000000</td>\n",
              "      <td>17.000000</td>\n",
              "      <td>2016.0</td>\n",
              "      <td>4.000000</td>\n",
              "      <td>17.000000</td>\n",
              "      <td>8.000000</td>\n",
              "      <td>0.000000</td>\n",
              "      <td>1.000000</td>\n",
              "      <td>2.000000</td>\n",
              "      <td>...</td>\n",
              "      <td>0.000000</td>\n",
              "      <td>0.00000</td>\n",
              "      <td>0.000000</td>\n",
              "      <td>7.000000</td>\n",
              "      <td>-1.000000</td>\n",
              "      <td>0.000000</td>\n",
              "      <td>2.000000</td>\n",
              "      <td>68.530000</td>\n",
              "      <td>0.000000</td>\n",
              "      <td>0.000000</td>\n",
              "    </tr>\n",
              "    <tr>\n",
              "      <th>50%</th>\n",
              "      <td>0.000000</td>\n",
              "      <td>0.000000</td>\n",
              "      <td>68.000000</td>\n",
              "      <td>2016.0</td>\n",
              "      <td>7.000000</td>\n",
              "      <td>28.000000</td>\n",
              "      <td>16.000000</td>\n",
              "      <td>1.000000</td>\n",
              "      <td>2.000000</td>\n",
              "      <td>2.000000</td>\n",
              "      <td>...</td>\n",
              "      <td>0.000000</td>\n",
              "      <td>0.00000</td>\n",
              "      <td>0.000000</td>\n",
              "      <td>9.000000</td>\n",
              "      <td>-1.000000</td>\n",
              "      <td>0.000000</td>\n",
              "      <td>2.000000</td>\n",
              "      <td>90.950000</td>\n",
              "      <td>0.000000</td>\n",
              "      <td>0.000000</td>\n",
              "    </tr>\n",
              "    <tr>\n",
              "      <th>75%</th>\n",
              "      <td>1.000000</td>\n",
              "      <td>1.000000</td>\n",
              "      <td>160.000000</td>\n",
              "      <td>2016.0</td>\n",
              "      <td>10.000000</td>\n",
              "      <td>41.000000</td>\n",
              "      <td>24.000000</td>\n",
              "      <td>2.000000</td>\n",
              "      <td>3.000000</td>\n",
              "      <td>2.000000</td>\n",
              "      <td>...</td>\n",
              "      <td>3.000000</td>\n",
              "      <td>0.00000</td>\n",
              "      <td>0.000000</td>\n",
              "      <td>134.000000</td>\n",
              "      <td>-1.000000</td>\n",
              "      <td>0.000000</td>\n",
              "      <td>2.000000</td>\n",
              "      <td>120.000000</td>\n",
              "      <td>0.000000</td>\n",
              "      <td>1.000000</td>\n",
              "    </tr>\n",
              "    <tr>\n",
              "      <th>max</th>\n",
              "      <td>1.000000</td>\n",
              "      <td>1.000000</td>\n",
              "      <td>709.000000</td>\n",
              "      <td>2016.0</td>\n",
              "      <td>12.000000</td>\n",
              "      <td>53.000000</td>\n",
              "      <td>31.000000</td>\n",
              "      <td>19.000000</td>\n",
              "      <td>50.000000</td>\n",
              "      <td>4.000000</td>\n",
              "      <td>...</td>\n",
              "      <td>11.000000</td>\n",
              "      <td>21.00000</td>\n",
              "      <td>2.000000</td>\n",
              "      <td>481.000000</td>\n",
              "      <td>499.000000</td>\n",
              "      <td>391.000000</td>\n",
              "      <td>3.000000</td>\n",
              "      <td>5400.000000</td>\n",
              "      <td>3.000000</td>\n",
              "      <td>5.000000</td>\n",
              "    </tr>\n",
              "  </tbody>\n",
              "</table>\n",
              "<p>8 rows × 30 columns</p>\n",
              "</div>\n",
              "    <div class=\"colab-df-buttons\">\n",
              "\n",
              "  <div class=\"colab-df-container\">\n",
              "    <button class=\"colab-df-convert\" onclick=\"convertToInteractive('df-7e49cb32-813f-4fdb-8504-bc9917ca7559')\"\n",
              "            title=\"Convert this dataframe to an interactive table.\"\n",
              "            style=\"display:none;\">\n",
              "\n",
              "  <svg xmlns=\"http://www.w3.org/2000/svg\" height=\"24px\" viewBox=\"0 -960 960 960\">\n",
              "    <path d=\"M120-120v-720h720v720H120Zm60-500h600v-160H180v160Zm220 220h160v-160H400v160Zm0 220h160v-160H400v160ZM180-400h160v-160H180v160Zm440 0h160v-160H620v160ZM180-180h160v-160H180v160Zm440 0h160v-160H620v160Z\"/>\n",
              "  </svg>\n",
              "    </button>\n",
              "\n",
              "  <style>\n",
              "    .colab-df-container {\n",
              "      display:flex;\n",
              "      gap: 12px;\n",
              "    }\n",
              "\n",
              "    .colab-df-convert {\n",
              "      background-color: #E8F0FE;\n",
              "      border: none;\n",
              "      border-radius: 50%;\n",
              "      cursor: pointer;\n",
              "      display: none;\n",
              "      fill: #1967D2;\n",
              "      height: 32px;\n",
              "      padding: 0 0 0 0;\n",
              "      width: 32px;\n",
              "    }\n",
              "\n",
              "    .colab-df-convert:hover {\n",
              "      background-color: #E2EBFA;\n",
              "      box-shadow: 0px 1px 2px rgba(60, 64, 67, 0.3), 0px 1px 3px 1px rgba(60, 64, 67, 0.15);\n",
              "      fill: #174EA6;\n",
              "    }\n",
              "\n",
              "    .colab-df-buttons div {\n",
              "      margin-bottom: 4px;\n",
              "    }\n",
              "\n",
              "    [theme=dark] .colab-df-convert {\n",
              "      background-color: #3B4455;\n",
              "      fill: #D2E3FC;\n",
              "    }\n",
              "\n",
              "    [theme=dark] .colab-df-convert:hover {\n",
              "      background-color: #434B5C;\n",
              "      box-shadow: 0px 1px 3px 1px rgba(0, 0, 0, 0.15);\n",
              "      filter: drop-shadow(0px 1px 2px rgba(0, 0, 0, 0.3));\n",
              "      fill: #FFFFFF;\n",
              "    }\n",
              "  </style>\n",
              "\n",
              "    <script>\n",
              "      const buttonEl =\n",
              "        document.querySelector('#df-7e49cb32-813f-4fdb-8504-bc9917ca7559 button.colab-df-convert');\n",
              "      buttonEl.style.display =\n",
              "        google.colab.kernel.accessAllowed ? 'block' : 'none';\n",
              "\n",
              "      async function convertToInteractive(key) {\n",
              "        const element = document.querySelector('#df-7e49cb32-813f-4fdb-8504-bc9917ca7559');\n",
              "        const dataTable =\n",
              "          await google.colab.kernel.invokeFunction('convertToInteractive',\n",
              "                                                    [key], {});\n",
              "        if (!dataTable) return;\n",
              "\n",
              "        const docLinkHtml = 'Like what you see? Visit the ' +\n",
              "          '<a target=\"_blank\" href=https://colab.research.google.com/notebooks/data_table.ipynb>data table notebook</a>'\n",
              "          + ' to learn more about interactive tables.';\n",
              "        element.innerHTML = '';\n",
              "        dataTable['output_type'] = 'display_data';\n",
              "        await google.colab.output.renderOutput(dataTable, element);\n",
              "        const docLink = document.createElement('div');\n",
              "        docLink.innerHTML = docLinkHtml;\n",
              "        element.appendChild(docLink);\n",
              "      }\n",
              "    </script>\n",
              "  </div>\n",
              "\n",
              "\n",
              "<div id=\"df-c28acb39-0d12-4ec5-9364-c93fbd8838ae\">\n",
              "  <button class=\"colab-df-quickchart\" onclick=\"quickchart('df-c28acb39-0d12-4ec5-9364-c93fbd8838ae')\"\n",
              "            title=\"Suggest charts\"\n",
              "            style=\"display:none;\">\n",
              "\n",
              "<svg xmlns=\"http://www.w3.org/2000/svg\" height=\"24px\"viewBox=\"0 0 24 24\"\n",
              "     width=\"24px\">\n",
              "    <g>\n",
              "        <path d=\"M19 3H5c-1.1 0-2 .9-2 2v14c0 1.1.9 2 2 2h14c1.1 0 2-.9 2-2V5c0-1.1-.9-2-2-2zM9 17H7v-7h2v7zm4 0h-2V7h2v10zm4 0h-2v-4h2v4z\"/>\n",
              "    </g>\n",
              "</svg>\n",
              "  </button>\n",
              "\n",
              "<style>\n",
              "  .colab-df-quickchart {\n",
              "      --bg-color: #E8F0FE;\n",
              "      --fill-color: #1967D2;\n",
              "      --hover-bg-color: #E2EBFA;\n",
              "      --hover-fill-color: #174EA6;\n",
              "      --disabled-fill-color: #AAA;\n",
              "      --disabled-bg-color: #DDD;\n",
              "  }\n",
              "\n",
              "  [theme=dark] .colab-df-quickchart {\n",
              "      --bg-color: #3B4455;\n",
              "      --fill-color: #D2E3FC;\n",
              "      --hover-bg-color: #434B5C;\n",
              "      --hover-fill-color: #FFFFFF;\n",
              "      --disabled-bg-color: #3B4455;\n",
              "      --disabled-fill-color: #666;\n",
              "  }\n",
              "\n",
              "  .colab-df-quickchart {\n",
              "    background-color: var(--bg-color);\n",
              "    border: none;\n",
              "    border-radius: 50%;\n",
              "    cursor: pointer;\n",
              "    display: none;\n",
              "    fill: var(--fill-color);\n",
              "    height: 32px;\n",
              "    padding: 0;\n",
              "    width: 32px;\n",
              "  }\n",
              "\n",
              "  .colab-df-quickchart:hover {\n",
              "    background-color: var(--hover-bg-color);\n",
              "    box-shadow: 0 1px 2px rgba(60, 64, 67, 0.3), 0 1px 3px 1px rgba(60, 64, 67, 0.15);\n",
              "    fill: var(--button-hover-fill-color);\n",
              "  }\n",
              "\n",
              "  .colab-df-quickchart-complete:disabled,\n",
              "  .colab-df-quickchart-complete:disabled:hover {\n",
              "    background-color: var(--disabled-bg-color);\n",
              "    fill: var(--disabled-fill-color);\n",
              "    box-shadow: none;\n",
              "  }\n",
              "\n",
              "  .colab-df-spinner {\n",
              "    border: 2px solid var(--fill-color);\n",
              "    border-color: transparent;\n",
              "    border-bottom-color: var(--fill-color);\n",
              "    animation:\n",
              "      spin 1s steps(1) infinite;\n",
              "  }\n",
              "\n",
              "  @keyframes spin {\n",
              "    0% {\n",
              "      border-color: transparent;\n",
              "      border-bottom-color: var(--fill-color);\n",
              "      border-left-color: var(--fill-color);\n",
              "    }\n",
              "    20% {\n",
              "      border-color: transparent;\n",
              "      border-left-color: var(--fill-color);\n",
              "      border-top-color: var(--fill-color);\n",
              "    }\n",
              "    30% {\n",
              "      border-color: transparent;\n",
              "      border-left-color: var(--fill-color);\n",
              "      border-top-color: var(--fill-color);\n",
              "      border-right-color: var(--fill-color);\n",
              "    }\n",
              "    40% {\n",
              "      border-color: transparent;\n",
              "      border-right-color: var(--fill-color);\n",
              "      border-top-color: var(--fill-color);\n",
              "    }\n",
              "    60% {\n",
              "      border-color: transparent;\n",
              "      border-right-color: var(--fill-color);\n",
              "    }\n",
              "    80% {\n",
              "      border-color: transparent;\n",
              "      border-right-color: var(--fill-color);\n",
              "      border-bottom-color: var(--fill-color);\n",
              "    }\n",
              "    90% {\n",
              "      border-color: transparent;\n",
              "      border-bottom-color: var(--fill-color);\n",
              "    }\n",
              "  }\n",
              "</style>\n",
              "\n",
              "  <script>\n",
              "    async function quickchart(key) {\n",
              "      const quickchartButtonEl =\n",
              "        document.querySelector('#' + key + ' button');\n",
              "      quickchartButtonEl.disabled = true;  // To prevent multiple clicks.\n",
              "      quickchartButtonEl.classList.add('colab-df-spinner');\n",
              "      try {\n",
              "        const charts = await google.colab.kernel.invokeFunction(\n",
              "            'suggestCharts', [key], {});\n",
              "      } catch (error) {\n",
              "        console.error('Error during call to suggestCharts:', error);\n",
              "      }\n",
              "      quickchartButtonEl.classList.remove('colab-df-spinner');\n",
              "      quickchartButtonEl.classList.add('colab-df-quickchart-complete');\n",
              "    }\n",
              "    (() => {\n",
              "      let quickchartButtonEl =\n",
              "        document.querySelector('#df-c28acb39-0d12-4ec5-9364-c93fbd8838ae button');\n",
              "      quickchartButtonEl.style.display =\n",
              "        google.colab.kernel.accessAllowed ? 'block' : 'none';\n",
              "    })();\n",
              "  </script>\n",
              "</div>\n",
              "    </div>\n",
              "  </div>\n"
            ]
          },
          "metadata": {},
          "execution_count": 99
        }
      ]
    },
    {
      "cell_type": "code",
      "source": [
        "print(\"Test dataset info:\")\n",
        "test.describe()"
      ],
      "metadata": {
        "id": "XtXRDSjFX_Am",
        "outputId": "1c54768d-7180-4c9f-fc22-3af33e629e92",
        "colab": {
          "base_uri": "https://localhost:8080/",
          "height": 367
        }
      },
      "execution_count": 100,
      "outputs": [
        {
          "output_type": "stream",
          "name": "stdout",
          "text": [
            "Test dataset info:\n"
          ]
        },
        {
          "output_type": "execute_result",
          "data": {
            "text/plain": [
              "              hotel   is_canceled     lead_time  arrival_date_year  \\\n",
              "count  40687.000000  40687.000000  40687.000000            40687.0   \n",
              "mean       0.323912      0.386979    109.259223             2017.0   \n",
              "std        0.467973      0.487065    107.940953                0.0   \n",
              "min        0.000000      0.000000      0.000000             2017.0   \n",
              "25%        0.000000      0.000000     23.000000             2017.0   \n",
              "50%        0.000000      0.000000     80.000000             2017.0   \n",
              "75%        1.000000      1.000000    164.500000             2017.0   \n",
              "max        1.000000      1.000000    629.000000             2017.0   \n",
              "\n",
              "       arrival_date_month  arrival_date_week_number  \\\n",
              "count        40687.000000              40687.000000   \n",
              "mean             4.709784                 18.630373   \n",
              "std              2.160014                  9.422475   \n",
              "min              1.000000                  1.000000   \n",
              "25%              3.000000                 11.000000   \n",
              "50%              5.000000                 19.000000   \n",
              "75%              7.000000                 26.000000   \n",
              "max              8.000000                 35.000000   \n",
              "\n",
              "       arrival_date_day_of_month  stays_in_weekend_nights  \\\n",
              "count               40687.000000             40687.000000   \n",
              "mean                   15.717576                 0.973308   \n",
              "std                     8.789609                 1.014337   \n",
              "min                     1.000000                 0.000000   \n",
              "25%                     8.000000                 0.000000   \n",
              "50%                    16.000000                 1.000000   \n",
              "75%                    23.000000                 2.000000   \n",
              "max                    31.000000                16.000000   \n",
              "\n",
              "       stays_in_week_nights        adults  ...  assigned_room_type  \\\n",
              "count          40687.000000  40687.000000  ...        40687.000000   \n",
              "mean               2.601543      1.877995  ...            1.386168   \n",
              "std                1.973291      0.496172  ...            1.907991   \n",
              "min                0.000000      0.000000  ...            0.000000   \n",
              "25%                1.000000      2.000000  ...            0.000000   \n",
              "50%                2.000000      2.000000  ...            0.000000   \n",
              "75%                3.000000      2.000000  ...            3.000000   \n",
              "max               40.000000      4.000000  ...           11.000000   \n",
              "\n",
              "       booking_changes  deposit_type         agent       company  \\\n",
              "count     40687.000000  40687.000000  40687.000000  40687.000000   \n",
              "mean          0.239438      0.102736     83.233047     12.665544   \n",
              "std           0.683429      0.305795    116.963712     65.972486   \n",
              "min           0.000000      0.000000     -1.000000     -1.000000   \n",
              "25%           0.000000      0.000000      9.000000     -1.000000   \n",
              "50%           0.000000      0.000000      9.000000     -1.000000   \n",
              "75%           0.000000      0.000000    229.000000     -1.000000   \n",
              "max          18.000000      2.000000    535.000000    543.000000   \n",
              "\n",
              "       days_in_waiting_list  customer_type           adr  \\\n",
              "count          40687.000000   40687.000000  40687.000000   \n",
              "mean               0.235186       2.109961    114.637950   \n",
              "std                4.458834       0.454108     52.256304   \n",
              "min                0.000000       0.000000     -6.380000   \n",
              "25%                0.000000       2.000000     80.000000   \n",
              "50%                0.000000       2.000000    107.100000   \n",
              "75%                0.000000       2.000000    140.000000   \n",
              "max              223.000000       3.000000    510.000000   \n",
              "\n",
              "       required_car_parking_spaces  total_of_special_requests  \n",
              "count                 40687.000000               40687.000000  \n",
              "mean                      0.054981                   0.676506  \n",
              "std                       0.235894                   0.846531  \n",
              "min                       0.000000                   0.000000  \n",
              "25%                       0.000000                   0.000000  \n",
              "50%                       0.000000                   0.000000  \n",
              "75%                       0.000000                   1.000000  \n",
              "max                       8.000000                   5.000000  \n",
              "\n",
              "[8 rows x 30 columns]"
            ],
            "text/html": [
              "\n",
              "  <div id=\"df-a8aae362-d0b3-475d-8456-953a078e036f\" class=\"colab-df-container\">\n",
              "    <div>\n",
              "<style scoped>\n",
              "    .dataframe tbody tr th:only-of-type {\n",
              "        vertical-align: middle;\n",
              "    }\n",
              "\n",
              "    .dataframe tbody tr th {\n",
              "        vertical-align: top;\n",
              "    }\n",
              "\n",
              "    .dataframe thead th {\n",
              "        text-align: right;\n",
              "    }\n",
              "</style>\n",
              "<table border=\"1\" class=\"dataframe\">\n",
              "  <thead>\n",
              "    <tr style=\"text-align: right;\">\n",
              "      <th></th>\n",
              "      <th>hotel</th>\n",
              "      <th>is_canceled</th>\n",
              "      <th>lead_time</th>\n",
              "      <th>arrival_date_year</th>\n",
              "      <th>arrival_date_month</th>\n",
              "      <th>arrival_date_week_number</th>\n",
              "      <th>arrival_date_day_of_month</th>\n",
              "      <th>stays_in_weekend_nights</th>\n",
              "      <th>stays_in_week_nights</th>\n",
              "      <th>adults</th>\n",
              "      <th>...</th>\n",
              "      <th>assigned_room_type</th>\n",
              "      <th>booking_changes</th>\n",
              "      <th>deposit_type</th>\n",
              "      <th>agent</th>\n",
              "      <th>company</th>\n",
              "      <th>days_in_waiting_list</th>\n",
              "      <th>customer_type</th>\n",
              "      <th>adr</th>\n",
              "      <th>required_car_parking_spaces</th>\n",
              "      <th>total_of_special_requests</th>\n",
              "    </tr>\n",
              "  </thead>\n",
              "  <tbody>\n",
              "    <tr>\n",
              "      <th>count</th>\n",
              "      <td>40687.000000</td>\n",
              "      <td>40687.000000</td>\n",
              "      <td>40687.000000</td>\n",
              "      <td>40687.0</td>\n",
              "      <td>40687.000000</td>\n",
              "      <td>40687.000000</td>\n",
              "      <td>40687.000000</td>\n",
              "      <td>40687.000000</td>\n",
              "      <td>40687.000000</td>\n",
              "      <td>40687.000000</td>\n",
              "      <td>...</td>\n",
              "      <td>40687.000000</td>\n",
              "      <td>40687.000000</td>\n",
              "      <td>40687.000000</td>\n",
              "      <td>40687.000000</td>\n",
              "      <td>40687.000000</td>\n",
              "      <td>40687.000000</td>\n",
              "      <td>40687.000000</td>\n",
              "      <td>40687.000000</td>\n",
              "      <td>40687.000000</td>\n",
              "      <td>40687.000000</td>\n",
              "    </tr>\n",
              "    <tr>\n",
              "      <th>mean</th>\n",
              "      <td>0.323912</td>\n",
              "      <td>0.386979</td>\n",
              "      <td>109.259223</td>\n",
              "      <td>2017.0</td>\n",
              "      <td>4.709784</td>\n",
              "      <td>18.630373</td>\n",
              "      <td>15.717576</td>\n",
              "      <td>0.973308</td>\n",
              "      <td>2.601543</td>\n",
              "      <td>1.877995</td>\n",
              "      <td>...</td>\n",
              "      <td>1.386168</td>\n",
              "      <td>0.239438</td>\n",
              "      <td>0.102736</td>\n",
              "      <td>83.233047</td>\n",
              "      <td>12.665544</td>\n",
              "      <td>0.235186</td>\n",
              "      <td>2.109961</td>\n",
              "      <td>114.637950</td>\n",
              "      <td>0.054981</td>\n",
              "      <td>0.676506</td>\n",
              "    </tr>\n",
              "    <tr>\n",
              "      <th>std</th>\n",
              "      <td>0.467973</td>\n",
              "      <td>0.487065</td>\n",
              "      <td>107.940953</td>\n",
              "      <td>0.0</td>\n",
              "      <td>2.160014</td>\n",
              "      <td>9.422475</td>\n",
              "      <td>8.789609</td>\n",
              "      <td>1.014337</td>\n",
              "      <td>1.973291</td>\n",
              "      <td>0.496172</td>\n",
              "      <td>...</td>\n",
              "      <td>1.907991</td>\n",
              "      <td>0.683429</td>\n",
              "      <td>0.305795</td>\n",
              "      <td>116.963712</td>\n",
              "      <td>65.972486</td>\n",
              "      <td>4.458834</td>\n",
              "      <td>0.454108</td>\n",
              "      <td>52.256304</td>\n",
              "      <td>0.235894</td>\n",
              "      <td>0.846531</td>\n",
              "    </tr>\n",
              "    <tr>\n",
              "      <th>min</th>\n",
              "      <td>0.000000</td>\n",
              "      <td>0.000000</td>\n",
              "      <td>0.000000</td>\n",
              "      <td>2017.0</td>\n",
              "      <td>1.000000</td>\n",
              "      <td>1.000000</td>\n",
              "      <td>1.000000</td>\n",
              "      <td>0.000000</td>\n",
              "      <td>0.000000</td>\n",
              "      <td>0.000000</td>\n",
              "      <td>...</td>\n",
              "      <td>0.000000</td>\n",
              "      <td>0.000000</td>\n",
              "      <td>0.000000</td>\n",
              "      <td>-1.000000</td>\n",
              "      <td>-1.000000</td>\n",
              "      <td>0.000000</td>\n",
              "      <td>0.000000</td>\n",
              "      <td>-6.380000</td>\n",
              "      <td>0.000000</td>\n",
              "      <td>0.000000</td>\n",
              "    </tr>\n",
              "    <tr>\n",
              "      <th>25%</th>\n",
              "      <td>0.000000</td>\n",
              "      <td>0.000000</td>\n",
              "      <td>23.000000</td>\n",
              "      <td>2017.0</td>\n",
              "      <td>3.000000</td>\n",
              "      <td>11.000000</td>\n",
              "      <td>8.000000</td>\n",
              "      <td>0.000000</td>\n",
              "      <td>1.000000</td>\n",
              "      <td>2.000000</td>\n",
              "      <td>...</td>\n",
              "      <td>0.000000</td>\n",
              "      <td>0.000000</td>\n",
              "      <td>0.000000</td>\n",
              "      <td>9.000000</td>\n",
              "      <td>-1.000000</td>\n",
              "      <td>0.000000</td>\n",
              "      <td>2.000000</td>\n",
              "      <td>80.000000</td>\n",
              "      <td>0.000000</td>\n",
              "      <td>0.000000</td>\n",
              "    </tr>\n",
              "    <tr>\n",
              "      <th>50%</th>\n",
              "      <td>0.000000</td>\n",
              "      <td>0.000000</td>\n",
              "      <td>80.000000</td>\n",
              "      <td>2017.0</td>\n",
              "      <td>5.000000</td>\n",
              "      <td>19.000000</td>\n",
              "      <td>16.000000</td>\n",
              "      <td>1.000000</td>\n",
              "      <td>2.000000</td>\n",
              "      <td>2.000000</td>\n",
              "      <td>...</td>\n",
              "      <td>0.000000</td>\n",
              "      <td>0.000000</td>\n",
              "      <td>0.000000</td>\n",
              "      <td>9.000000</td>\n",
              "      <td>-1.000000</td>\n",
              "      <td>0.000000</td>\n",
              "      <td>2.000000</td>\n",
              "      <td>107.100000</td>\n",
              "      <td>0.000000</td>\n",
              "      <td>0.000000</td>\n",
              "    </tr>\n",
              "    <tr>\n",
              "      <th>75%</th>\n",
              "      <td>1.000000</td>\n",
              "      <td>1.000000</td>\n",
              "      <td>164.500000</td>\n",
              "      <td>2017.0</td>\n",
              "      <td>7.000000</td>\n",
              "      <td>26.000000</td>\n",
              "      <td>23.000000</td>\n",
              "      <td>2.000000</td>\n",
              "      <td>3.000000</td>\n",
              "      <td>2.000000</td>\n",
              "      <td>...</td>\n",
              "      <td>3.000000</td>\n",
              "      <td>0.000000</td>\n",
              "      <td>0.000000</td>\n",
              "      <td>229.000000</td>\n",
              "      <td>-1.000000</td>\n",
              "      <td>0.000000</td>\n",
              "      <td>2.000000</td>\n",
              "      <td>140.000000</td>\n",
              "      <td>0.000000</td>\n",
              "      <td>1.000000</td>\n",
              "    </tr>\n",
              "    <tr>\n",
              "      <th>max</th>\n",
              "      <td>1.000000</td>\n",
              "      <td>1.000000</td>\n",
              "      <td>629.000000</td>\n",
              "      <td>2017.0</td>\n",
              "      <td>8.000000</td>\n",
              "      <td>35.000000</td>\n",
              "      <td>31.000000</td>\n",
              "      <td>16.000000</td>\n",
              "      <td>40.000000</td>\n",
              "      <td>4.000000</td>\n",
              "      <td>...</td>\n",
              "      <td>11.000000</td>\n",
              "      <td>18.000000</td>\n",
              "      <td>2.000000</td>\n",
              "      <td>535.000000</td>\n",
              "      <td>543.000000</td>\n",
              "      <td>223.000000</td>\n",
              "      <td>3.000000</td>\n",
              "      <td>510.000000</td>\n",
              "      <td>8.000000</td>\n",
              "      <td>5.000000</td>\n",
              "    </tr>\n",
              "  </tbody>\n",
              "</table>\n",
              "<p>8 rows × 30 columns</p>\n",
              "</div>\n",
              "    <div class=\"colab-df-buttons\">\n",
              "\n",
              "  <div class=\"colab-df-container\">\n",
              "    <button class=\"colab-df-convert\" onclick=\"convertToInteractive('df-a8aae362-d0b3-475d-8456-953a078e036f')\"\n",
              "            title=\"Convert this dataframe to an interactive table.\"\n",
              "            style=\"display:none;\">\n",
              "\n",
              "  <svg xmlns=\"http://www.w3.org/2000/svg\" height=\"24px\" viewBox=\"0 -960 960 960\">\n",
              "    <path d=\"M120-120v-720h720v720H120Zm60-500h600v-160H180v160Zm220 220h160v-160H400v160Zm0 220h160v-160H400v160ZM180-400h160v-160H180v160Zm440 0h160v-160H620v160ZM180-180h160v-160H180v160Zm440 0h160v-160H620v160Z\"/>\n",
              "  </svg>\n",
              "    </button>\n",
              "\n",
              "  <style>\n",
              "    .colab-df-container {\n",
              "      display:flex;\n",
              "      gap: 12px;\n",
              "    }\n",
              "\n",
              "    .colab-df-convert {\n",
              "      background-color: #E8F0FE;\n",
              "      border: none;\n",
              "      border-radius: 50%;\n",
              "      cursor: pointer;\n",
              "      display: none;\n",
              "      fill: #1967D2;\n",
              "      height: 32px;\n",
              "      padding: 0 0 0 0;\n",
              "      width: 32px;\n",
              "    }\n",
              "\n",
              "    .colab-df-convert:hover {\n",
              "      background-color: #E2EBFA;\n",
              "      box-shadow: 0px 1px 2px rgba(60, 64, 67, 0.3), 0px 1px 3px 1px rgba(60, 64, 67, 0.15);\n",
              "      fill: #174EA6;\n",
              "    }\n",
              "\n",
              "    .colab-df-buttons div {\n",
              "      margin-bottom: 4px;\n",
              "    }\n",
              "\n",
              "    [theme=dark] .colab-df-convert {\n",
              "      background-color: #3B4455;\n",
              "      fill: #D2E3FC;\n",
              "    }\n",
              "\n",
              "    [theme=dark] .colab-df-convert:hover {\n",
              "      background-color: #434B5C;\n",
              "      box-shadow: 0px 1px 3px 1px rgba(0, 0, 0, 0.15);\n",
              "      filter: drop-shadow(0px 1px 2px rgba(0, 0, 0, 0.3));\n",
              "      fill: #FFFFFF;\n",
              "    }\n",
              "  </style>\n",
              "\n",
              "    <script>\n",
              "      const buttonEl =\n",
              "        document.querySelector('#df-a8aae362-d0b3-475d-8456-953a078e036f button.colab-df-convert');\n",
              "      buttonEl.style.display =\n",
              "        google.colab.kernel.accessAllowed ? 'block' : 'none';\n",
              "\n",
              "      async function convertToInteractive(key) {\n",
              "        const element = document.querySelector('#df-a8aae362-d0b3-475d-8456-953a078e036f');\n",
              "        const dataTable =\n",
              "          await google.colab.kernel.invokeFunction('convertToInteractive',\n",
              "                                                    [key], {});\n",
              "        if (!dataTable) return;\n",
              "\n",
              "        const docLinkHtml = 'Like what you see? Visit the ' +\n",
              "          '<a target=\"_blank\" href=https://colab.research.google.com/notebooks/data_table.ipynb>data table notebook</a>'\n",
              "          + ' to learn more about interactive tables.';\n",
              "        element.innerHTML = '';\n",
              "        dataTable['output_type'] = 'display_data';\n",
              "        await google.colab.output.renderOutput(dataTable, element);\n",
              "        const docLink = document.createElement('div');\n",
              "        docLink.innerHTML = docLinkHtml;\n",
              "        element.appendChild(docLink);\n",
              "      }\n",
              "    </script>\n",
              "  </div>\n",
              "\n",
              "\n",
              "<div id=\"df-70a39c80-5771-412e-9235-8f9e5385d8e4\">\n",
              "  <button class=\"colab-df-quickchart\" onclick=\"quickchart('df-70a39c80-5771-412e-9235-8f9e5385d8e4')\"\n",
              "            title=\"Suggest charts\"\n",
              "            style=\"display:none;\">\n",
              "\n",
              "<svg xmlns=\"http://www.w3.org/2000/svg\" height=\"24px\"viewBox=\"0 0 24 24\"\n",
              "     width=\"24px\">\n",
              "    <g>\n",
              "        <path d=\"M19 3H5c-1.1 0-2 .9-2 2v14c0 1.1.9 2 2 2h14c1.1 0 2-.9 2-2V5c0-1.1-.9-2-2-2zM9 17H7v-7h2v7zm4 0h-2V7h2v10zm4 0h-2v-4h2v4z\"/>\n",
              "    </g>\n",
              "</svg>\n",
              "  </button>\n",
              "\n",
              "<style>\n",
              "  .colab-df-quickchart {\n",
              "      --bg-color: #E8F0FE;\n",
              "      --fill-color: #1967D2;\n",
              "      --hover-bg-color: #E2EBFA;\n",
              "      --hover-fill-color: #174EA6;\n",
              "      --disabled-fill-color: #AAA;\n",
              "      --disabled-bg-color: #DDD;\n",
              "  }\n",
              "\n",
              "  [theme=dark] .colab-df-quickchart {\n",
              "      --bg-color: #3B4455;\n",
              "      --fill-color: #D2E3FC;\n",
              "      --hover-bg-color: #434B5C;\n",
              "      --hover-fill-color: #FFFFFF;\n",
              "      --disabled-bg-color: #3B4455;\n",
              "      --disabled-fill-color: #666;\n",
              "  }\n",
              "\n",
              "  .colab-df-quickchart {\n",
              "    background-color: var(--bg-color);\n",
              "    border: none;\n",
              "    border-radius: 50%;\n",
              "    cursor: pointer;\n",
              "    display: none;\n",
              "    fill: var(--fill-color);\n",
              "    height: 32px;\n",
              "    padding: 0;\n",
              "    width: 32px;\n",
              "  }\n",
              "\n",
              "  .colab-df-quickchart:hover {\n",
              "    background-color: var(--hover-bg-color);\n",
              "    box-shadow: 0 1px 2px rgba(60, 64, 67, 0.3), 0 1px 3px 1px rgba(60, 64, 67, 0.15);\n",
              "    fill: var(--button-hover-fill-color);\n",
              "  }\n",
              "\n",
              "  .colab-df-quickchart-complete:disabled,\n",
              "  .colab-df-quickchart-complete:disabled:hover {\n",
              "    background-color: var(--disabled-bg-color);\n",
              "    fill: var(--disabled-fill-color);\n",
              "    box-shadow: none;\n",
              "  }\n",
              "\n",
              "  .colab-df-spinner {\n",
              "    border: 2px solid var(--fill-color);\n",
              "    border-color: transparent;\n",
              "    border-bottom-color: var(--fill-color);\n",
              "    animation:\n",
              "      spin 1s steps(1) infinite;\n",
              "  }\n",
              "\n",
              "  @keyframes spin {\n",
              "    0% {\n",
              "      border-color: transparent;\n",
              "      border-bottom-color: var(--fill-color);\n",
              "      border-left-color: var(--fill-color);\n",
              "    }\n",
              "    20% {\n",
              "      border-color: transparent;\n",
              "      border-left-color: var(--fill-color);\n",
              "      border-top-color: var(--fill-color);\n",
              "    }\n",
              "    30% {\n",
              "      border-color: transparent;\n",
              "      border-left-color: var(--fill-color);\n",
              "      border-top-color: var(--fill-color);\n",
              "      border-right-color: var(--fill-color);\n",
              "    }\n",
              "    40% {\n",
              "      border-color: transparent;\n",
              "      border-right-color: var(--fill-color);\n",
              "      border-top-color: var(--fill-color);\n",
              "    }\n",
              "    60% {\n",
              "      border-color: transparent;\n",
              "      border-right-color: var(--fill-color);\n",
              "    }\n",
              "    80% {\n",
              "      border-color: transparent;\n",
              "      border-right-color: var(--fill-color);\n",
              "      border-bottom-color: var(--fill-color);\n",
              "    }\n",
              "    90% {\n",
              "      border-color: transparent;\n",
              "      border-bottom-color: var(--fill-color);\n",
              "    }\n",
              "  }\n",
              "</style>\n",
              "\n",
              "  <script>\n",
              "    async function quickchart(key) {\n",
              "      const quickchartButtonEl =\n",
              "        document.querySelector('#' + key + ' button');\n",
              "      quickchartButtonEl.disabled = true;  // To prevent multiple clicks.\n",
              "      quickchartButtonEl.classList.add('colab-df-spinner');\n",
              "      try {\n",
              "        const charts = await google.colab.kernel.invokeFunction(\n",
              "            'suggestCharts', [key], {});\n",
              "      } catch (error) {\n",
              "        console.error('Error during call to suggestCharts:', error);\n",
              "      }\n",
              "      quickchartButtonEl.classList.remove('colab-df-spinner');\n",
              "      quickchartButtonEl.classList.add('colab-df-quickchart-complete');\n",
              "    }\n",
              "    (() => {\n",
              "      let quickchartButtonEl =\n",
              "        document.querySelector('#df-70a39c80-5771-412e-9235-8f9e5385d8e4 button');\n",
              "      quickchartButtonEl.style.display =\n",
              "        google.colab.kernel.accessAllowed ? 'block' : 'none';\n",
              "    })();\n",
              "  </script>\n",
              "</div>\n",
              "    </div>\n",
              "  </div>\n"
            ]
          },
          "metadata": {},
          "execution_count": 100
        }
      ]
    },
    {
      "cell_type": "code",
      "source": [
        "tot_train =  56707"
      ],
      "metadata": {
        "id": "ZkVL9r7mYCn1"
      },
      "execution_count": 101,
      "outputs": []
    },
    {
      "cell_type": "code",
      "source": [
        "tot_test= 40687"
      ],
      "metadata": {
        "id": "owoCcvcOYF6V"
      },
      "execution_count": 102,
      "outputs": []
    },
    {
      "cell_type": "markdown",
      "source": [
        " Risposta n.1 : i dataset si presentano con 56707 casi per il \"train dataset\" e 40687 per il \"test dataset\". Le colonne sono 30 per entrambi. I valori sono perlopiù categorici (14/30), infatti,  molti dei valori segnati come \"int\" in realtà sono la conversione in numero di \"Si\" e \"No\"(es: \"is_canceled\"), le temporali e le numeriche si dividono invece rispettivamente in 3/30 e 13/30. In entrambi i dateset non sembrano essere presenti valori nulli. La media delle cancellazioni è del 36% nel train dataset e del 39% nel secondo."
      ],
      "metadata": {
        "id": "pNGVY-vjNWvS"
      }
    },
    {
      "cell_type": "markdown",
      "source": [
        "Domanda n.2: Come si distribuisce il valore relativo al numero di persone? Quante prenotazioni includono bambini e quanti ospiti sono, invece,  da soli?"
      ],
      "metadata": {
        "id": "hs6v15OQwROn"
      }
    },
    {
      "cell_type": "code",
      "source": [
        "train[\"persone\"] = train[\"babies\"] + train[\"children\"] + train[\"adults\"]\n",
        "print(train[\"persone\"].mean())\n",
        "test[\"persone\"] = test[\"babies\"] + test[\"children\"] + test[\"adults\"]\n",
        "print(test[\"persone\"].mean())"
      ],
      "metadata": {
        "colab": {
          "base_uri": "https://localhost:8080/"
        },
        "id": "oFiwbUHKVdzz",
        "outputId": "0ba1a5b2-57a1-4b39-966e-a2a94c058927"
      },
      "execution_count": 103,
      "outputs": [
        {
          "output_type": "stream",
          "name": "stdout",
          "text": [
            "1.9633378595235156\n",
            "2.0107405313736573\n"
          ]
        }
      ]
    },
    {
      "cell_type": "code",
      "source": [
        "bambini_tr = train[\"babies\"].value_counts()\n",
        "print(bambini_tr)"
      ],
      "metadata": {
        "id": "gRzUX48KyEFZ",
        "outputId": "34aea5fa-7543-4cbb-d456-1118c1961fba",
        "colab": {
          "base_uri": "https://localhost:8080/"
        }
      },
      "execution_count": 104,
      "outputs": [
        {
          "output_type": "stream",
          "name": "stdout",
          "text": [
            "0     56261\n",
            "1       437\n",
            "2         8\n",
            "10        1\n",
            "Name: babies, dtype: int64\n"
          ]
        }
      ]
    },
    {
      "cell_type": "code",
      "source": [
        "bambini_te = test[\"babies\"].value_counts()\n",
        "print(bambini_te)"
      ],
      "metadata": {
        "id": "g71aEVrBpQcs",
        "outputId": "74298a7f-19cb-491a-c010-36af6fcda574",
        "colab": {
          "base_uri": "https://localhost:8080/"
        }
      },
      "execution_count": 105,
      "outputs": [
        {
          "output_type": "stream",
          "name": "stdout",
          "text": [
            "0    40429\n",
            "1      253\n",
            "2        5\n",
            "Name: babies, dtype: int64\n"
          ]
        }
      ]
    },
    {
      "cell_type": "code",
      "source": [
        "ragazzi_tr = train[\"children\"].value_counts()\n",
        "print(ragazzi_tr)"
      ],
      "metadata": {
        "id": "2IGSJS5GoPw9",
        "outputId": "69e37648-a1bd-4a5b-be2c-c66de0dae128",
        "colab": {
          "base_uri": "https://localhost:8080/"
        }
      },
      "execution_count": 106,
      "outputs": [
        {
          "output_type": "stream",
          "name": "stdout",
          "text": [
            "0.0    52578\n",
            "1.0     2384\n",
            "2.0     1711\n",
            "3.0       34\n",
            "Name: children, dtype: int64\n"
          ]
        }
      ]
    },
    {
      "cell_type": "code",
      "source": [
        "ragazzi_te = test[\"children\"].value_counts()\n",
        "print(ragazzi_te)"
      ],
      "metadata": {
        "id": "2mqxmxWZpU1y",
        "outputId": "9d8057d0-d332-4833-f9b7-8dd0e0e66f82",
        "colab": {
          "base_uri": "https://localhost:8080/"
        }
      },
      "execution_count": 107,
      "outputs": [
        {
          "output_type": "stream",
          "name": "stdout",
          "text": [
            "0.0    37137\n",
            "1.0     1999\n",
            "2.0     1514\n",
            "3.0       37\n",
            "Name: children, dtype: int64\n"
          ]
        }
      ]
    },
    {
      "cell_type": "code",
      "source": [
        "ragazzi_tot_tr = 2384+1711+34\n",
        "ragazzi_tot_te= 1999+1514+37\n",
        "bambini_tot_tr = 437+ 8 + 1\n",
        "bambini_tot_te = 253 + 5\n",
        "numero_famgilie_tr = ragazzi_tot_tr + bambini_tot_tr\n",
        "numero_famgilie_te  =ragazzi_tot_te + bambini_tot_te\n",
        "print(\"n. ragazzi nel train: \",ragazzi_tot_tr)\n",
        "print(\"n. ragazzi nel test: \",ragazzi_tot_te)\n",
        "print(\"n. bambini nel train: \",bambini_tot_tr)\n",
        "print(\"n. bambini nel test: \",bambini_tot_te)\n",
        "print(\"n. prenotazioni con non adulti neel train: \",numero_famgilie_tr)\n",
        "print(\"n. prenotazioni con non adulti nel test: \", numero_famgilie_te)\n"
      ],
      "metadata": {
        "id": "AE75DllCcHyp",
        "outputId": "e4c4583d-512a-4e5c-ec6a-cc6227f9c12e",
        "colab": {
          "base_uri": "https://localhost:8080/"
        }
      },
      "execution_count": 199,
      "outputs": [
        {
          "output_type": "stream",
          "name": "stdout",
          "text": [
            "n. ragazzi nel train:  4129\n",
            "n. ragazzi nel test:  3550\n",
            "n. bambini nel train:  446\n",
            "n. bambini nel test:  258\n",
            "n. prenotazioni con non adulti neel train:  4575\n",
            "n. prenotazioni con non adulti nel test:  3808\n"
          ]
        }
      ]
    },
    {
      "cell_type": "code",
      "source": [
        "train[\"colonna_bambini\"] = train[\"babies\"] + train[\"children\"]\n",
        "bambini_rag_tr = train[\"colonna_bambini\"].value_counts()\n",
        "print(bambini_rag_tr)"
      ],
      "metadata": {
        "id": "sVEmkscMzGPn",
        "outputId": "01e4bfa8-65c3-44b3-88e8-d44ce38e6d55",
        "colab": {
          "base_uri": "https://localhost:8080/"
        }
      },
      "execution_count": 109,
      "outputs": [
        {
          "output_type": "stream",
          "name": "stdout",
          "text": [
            "0.0     52211\n",
            "1.0      2678\n",
            "2.0      1768\n",
            "3.0        49\n",
            "10.0        1\n",
            "Name: colonna_bambini, dtype: int64\n"
          ]
        }
      ]
    },
    {
      "cell_type": "code",
      "source": [
        "test[\"colonna_bambini\"] = test[\"babies\"] + test[\"children\"]\n",
        "bambini_rag_te = test[\"colonna_bambini\"].value_counts()\n",
        "print(bambini_rag_te)"
      ],
      "metadata": {
        "id": "dHGFbFpupYsm",
        "outputId": "59717d11-8418-4914-e43a-76e09fcc03db",
        "colab": {
          "base_uri": "https://localhost:8080/"
        }
      },
      "execution_count": 110,
      "outputs": [
        {
          "output_type": "stream",
          "name": "stdout",
          "text": [
            "0.0    36941\n",
            "1.0     2136\n",
            "2.0     1565\n",
            "3.0       45\n",
            "Name: colonna_bambini, dtype: int64\n"
          ]
        }
      ]
    },
    {
      "cell_type": "code",
      "source": [
        "media_canc_bambini_tr = train.groupby(train[\"colonna_bambini\"])[\"is_canceled\"].mean()\n",
        "print(media_canc_bambini_tr)"
      ],
      "metadata": {
        "colab": {
          "base_uri": "https://localhost:8080/"
        },
        "id": "BNg4UTdfTT0w",
        "outputId": "33e86011-d2fb-4387-e44e-65bf5073bd23"
      },
      "execution_count": 203,
      "outputs": [
        {
          "output_type": "stream",
          "name": "stdout",
          "text": [
            "colonna_bambini\n",
            "0.0     0.360020\n",
            "1.0     0.305078\n",
            "2.0     0.400452\n",
            "3.0     0.306122\n",
            "10.0    0.000000\n",
            "Name: is_canceled, dtype: float64\n"
          ]
        }
      ]
    },
    {
      "cell_type": "code",
      "source": [
        "media_canc_bambini_te=test.groupby(test[\"colonna_bambini\"])[\"is_canceled\"].mean()\n",
        "print(media_canc_bambini_te)"
      ],
      "metadata": {
        "id": "tHeyQEWlfRRj",
        "outputId": "ae046e9d-d585-486d-aafd-8c329a804e8b",
        "colab": {
          "base_uri": "https://localhost:8080/"
        }
      },
      "execution_count": 204,
      "outputs": [
        {
          "output_type": "stream",
          "name": "stdout",
          "text": [
            "colonna_bambini\n",
            "0.0    0.385859\n",
            "1.0    0.352060\n",
            "2.0    0.466454\n",
            "3.0    0.200000\n",
            "Name: is_canceled, dtype: float64\n"
          ]
        }
      ]
    },
    {
      "cell_type": "code",
      "source": [
        "persone_tr = train[\"persone\"].value_counts().sort_index()\n",
        "print(persone_tr)"
      ],
      "metadata": {
        "id": "rWwbuYWTz8mA",
        "outputId": "2986f5f0-f94c-41ee-bf22-97ab47a1733c",
        "colab": {
          "base_uri": "https://localhost:8080/"
        }
      },
      "execution_count": 201,
      "outputs": [
        {
          "output_type": "stream",
          "name": "stdout",
          "text": [
            "0.0        84\n",
            "1.0     10967\n",
            "2.0     38563\n",
            "3.0      5189\n",
            "4.0      1852\n",
            "5.0        51\n",
            "12.0        1\n",
            "Name: persone, dtype: int64\n"
          ]
        }
      ]
    },
    {
      "cell_type": "code",
      "source": [
        "persone_te = test[\"persone\"].value_counts().sort_index()\n",
        "print(persone_te)"
      ],
      "metadata": {
        "id": "zIRVUeK8f6B0",
        "outputId": "b941b11d-0157-42b1-812d-f274d0a71a63",
        "colab": {
          "base_uri": "https://localhost:8080/"
        }
      },
      "execution_count": 114,
      "outputs": [
        {
          "output_type": "stream",
          "name": "stdout",
          "text": [
            "0.0       67\n",
            "1.0     7181\n",
            "2.0    27455\n",
            "3.0     4282\n",
            "4.0     1636\n",
            "5.0       66\n",
            "Name: persone, dtype: int64\n"
          ]
        }
      ]
    },
    {
      "cell_type": "code",
      "source": [
        "media_canc_persone_tr=train.groupby(train[\"persone\"])[\"is_canceled\"].mean()\n",
        "print(media_canc_persone_tr)"
      ],
      "metadata": {
        "id": "4gwvyfeTg2bZ",
        "outputId": "32cf728d-743f-4d30-fb3e-58b2b7323696",
        "colab": {
          "base_uri": "https://localhost:8080/"
        }
      },
      "execution_count": 205,
      "outputs": [
        {
          "output_type": "stream",
          "name": "stdout",
          "text": [
            "persone\n",
            "0.0     0.154762\n",
            "1.0     0.301176\n",
            "2.0     0.380468\n",
            "3.0     0.305454\n",
            "4.0     0.405508\n",
            "5.0     0.254902\n",
            "12.0    0.000000\n",
            "Name: is_canceled, dtype: float64\n"
          ]
        }
      ]
    },
    {
      "cell_type": "code",
      "source": [
        "media_canc_persone_te =test.groupby(test[\"persone\"])[\"is_canceled\"].mean()\n",
        "print(media_canc_persone_te)"
      ],
      "metadata": {
        "id": "hqJMWjzUgyyx",
        "outputId": "bf216618-deb7-4c8d-c754-a56844e3f582",
        "colab": {
          "base_uri": "https://localhost:8080/"
        }
      },
      "execution_count": 206,
      "outputs": [
        {
          "output_type": "stream",
          "name": "stdout",
          "text": [
            "persone\n",
            "0.0    0.164179\n",
            "1.0    0.290071\n",
            "2.0    0.409033\n",
            "3.0    0.380897\n",
            "4.0    0.473105\n",
            "5.0    0.242424\n",
            "Name: is_canceled, dtype: float64\n"
          ]
        }
      ]
    },
    {
      "cell_type": "code",
      "source": [
        "prenotazioni_fallaci_tr= train[(train[\"adults\"]== 0) & (train[\"children\"]== 0)]\n",
        "print(prenotazioni_fallaci_tr)"
      ],
      "metadata": {
        "id": "JSlKH_d_fk5K",
        "outputId": "9dae3e81-cf10-45c8-c2d6-2cd1a3a59467",
        "colab": {
          "base_uri": "https://localhost:8080/",
          "height": 443
        }
      },
      "execution_count": 208,
      "outputs": [
        {
          "output_type": "execute_result",
          "data": {
            "text/plain": [
              "       hotel  is_canceled  lead_time  arrival_date_year  arrival_date_month  \\\n",
              "389        1            1          0               2016                   2   \n",
              "5638       1            1          0               2016                  11   \n",
              "18555      1            0         31               2016                  12   \n",
              "19312      0            1          1               2016                   2   \n",
              "19326      0            0          0               2016                   2   \n",
              "...      ...          ...        ...                ...                 ...   \n",
              "55556      0            0          0               2016                  12   \n",
              "56000      0            0          0               2016                  12   \n",
              "56053      0            0          0               2016                  12   \n",
              "56443      0            0        255               2016                  12   \n",
              "56703      0            0        177               2016                  12   \n",
              "\n",
              "       arrival_date_week_number  arrival_date_day_of_month  \\\n",
              "389                           8                         15   \n",
              "5638                         48                         21   \n",
              "18555                        53                         27   \n",
              "19312                         7                         11   \n",
              "19326                         7                         12   \n",
              "...                         ...                        ...   \n",
              "55556                        50                          7   \n",
              "56000                        52                         18   \n",
              "56053                        52                         20   \n",
              "56443                        53                         27   \n",
              "56703                        53                         30   \n",
              "\n",
              "       stays_in_weekend_nights  stays_in_week_nights  adults  ...  company  \\\n",
              "389                          0                     0       0  ...    383.0   \n",
              "5638                         0                     0       0  ...    386.0   \n",
              "18555                        2                     8       0  ...     -1.0   \n",
              "19312                        0                     3       0  ...     -1.0   \n",
              "19326                        0                     1       0  ...     45.0   \n",
              "...                        ...                   ...     ...  ...      ...   \n",
              "55556                        0                     0       0  ...     -1.0   \n",
              "56000                        0                     0       0  ...     -1.0   \n",
              "56053                        0                     0       0  ...     -1.0   \n",
              "56443                        0                     3       0  ...     -1.0   \n",
              "56703                        2                     5       0  ...     -1.0   \n",
              "\n",
              "       days_in_waiting_list  customer_type    adr  \\\n",
              "389                       0              2   0.00   \n",
              "5638                      0              1   0.00   \n",
              "18555                     0              2  28.00   \n",
              "19312                     0              2   0.00   \n",
              "19326                     0              2   0.00   \n",
              "...                     ...            ...    ...   \n",
              "55556                     0              2   0.00   \n",
              "56000                     0              2   0.00   \n",
              "56053                     0              2   0.00   \n",
              "56443                     0              2  20.88   \n",
              "56703                     0              2   1.29   \n",
              "\n",
              "       required_car_parking_spaces  total_of_special_requests  persone  \\\n",
              "389                              0                          0      0.0   \n",
              "5638                             0                          0      0.0   \n",
              "18555                            1                          0      0.0   \n",
              "19312                            0                          1      0.0   \n",
              "19326                            0                          2      0.0   \n",
              "...                            ...                        ...      ...   \n",
              "55556                            0                          1      0.0   \n",
              "56000                            0                          1      0.0   \n",
              "56053                            0                          0      0.0   \n",
              "56443                            0                          0      0.0   \n",
              "56703                            0                          2      0.0   \n",
              "\n",
              "       colonna_bambini  prenotazioni_precedenti  giorni_totali  \n",
              "389                0.0                        0              0  \n",
              "5638               0.0                        0              0  \n",
              "18555              0.0                        0             10  \n",
              "19312              0.0                        0              3  \n",
              "19326              0.0                        0              1  \n",
              "...                ...                      ...            ...  \n",
              "55556              0.0                        0              0  \n",
              "56000              0.0                        0              0  \n",
              "56053              0.0                        0              0  \n",
              "56443              0.0                        0              3  \n",
              "56703              0.0                        0              7  \n",
              "\n",
              "[84 rows x 34 columns]"
            ],
            "text/html": [
              "\n",
              "  <div id=\"df-9a639e48-698a-4642-abb9-efecd2b9c4bc\" class=\"colab-df-container\">\n",
              "    <div>\n",
              "<style scoped>\n",
              "    .dataframe tbody tr th:only-of-type {\n",
              "        vertical-align: middle;\n",
              "    }\n",
              "\n",
              "    .dataframe tbody tr th {\n",
              "        vertical-align: top;\n",
              "    }\n",
              "\n",
              "    .dataframe thead th {\n",
              "        text-align: right;\n",
              "    }\n",
              "</style>\n",
              "<table border=\"1\" class=\"dataframe\">\n",
              "  <thead>\n",
              "    <tr style=\"text-align: right;\">\n",
              "      <th></th>\n",
              "      <th>hotel</th>\n",
              "      <th>is_canceled</th>\n",
              "      <th>lead_time</th>\n",
              "      <th>arrival_date_year</th>\n",
              "      <th>arrival_date_month</th>\n",
              "      <th>arrival_date_week_number</th>\n",
              "      <th>arrival_date_day_of_month</th>\n",
              "      <th>stays_in_weekend_nights</th>\n",
              "      <th>stays_in_week_nights</th>\n",
              "      <th>adults</th>\n",
              "      <th>...</th>\n",
              "      <th>company</th>\n",
              "      <th>days_in_waiting_list</th>\n",
              "      <th>customer_type</th>\n",
              "      <th>adr</th>\n",
              "      <th>required_car_parking_spaces</th>\n",
              "      <th>total_of_special_requests</th>\n",
              "      <th>persone</th>\n",
              "      <th>colonna_bambini</th>\n",
              "      <th>prenotazioni_precedenti</th>\n",
              "      <th>giorni_totali</th>\n",
              "    </tr>\n",
              "  </thead>\n",
              "  <tbody>\n",
              "    <tr>\n",
              "      <th>389</th>\n",
              "      <td>1</td>\n",
              "      <td>1</td>\n",
              "      <td>0</td>\n",
              "      <td>2016</td>\n",
              "      <td>2</td>\n",
              "      <td>8</td>\n",
              "      <td>15</td>\n",
              "      <td>0</td>\n",
              "      <td>0</td>\n",
              "      <td>0</td>\n",
              "      <td>...</td>\n",
              "      <td>383.0</td>\n",
              "      <td>0</td>\n",
              "      <td>2</td>\n",
              "      <td>0.00</td>\n",
              "      <td>0</td>\n",
              "      <td>0</td>\n",
              "      <td>0.0</td>\n",
              "      <td>0.0</td>\n",
              "      <td>0</td>\n",
              "      <td>0</td>\n",
              "    </tr>\n",
              "    <tr>\n",
              "      <th>5638</th>\n",
              "      <td>1</td>\n",
              "      <td>1</td>\n",
              "      <td>0</td>\n",
              "      <td>2016</td>\n",
              "      <td>11</td>\n",
              "      <td>48</td>\n",
              "      <td>21</td>\n",
              "      <td>0</td>\n",
              "      <td>0</td>\n",
              "      <td>0</td>\n",
              "      <td>...</td>\n",
              "      <td>386.0</td>\n",
              "      <td>0</td>\n",
              "      <td>1</td>\n",
              "      <td>0.00</td>\n",
              "      <td>0</td>\n",
              "      <td>0</td>\n",
              "      <td>0.0</td>\n",
              "      <td>0.0</td>\n",
              "      <td>0</td>\n",
              "      <td>0</td>\n",
              "    </tr>\n",
              "    <tr>\n",
              "      <th>18555</th>\n",
              "      <td>1</td>\n",
              "      <td>0</td>\n",
              "      <td>31</td>\n",
              "      <td>2016</td>\n",
              "      <td>12</td>\n",
              "      <td>53</td>\n",
              "      <td>27</td>\n",
              "      <td>2</td>\n",
              "      <td>8</td>\n",
              "      <td>0</td>\n",
              "      <td>...</td>\n",
              "      <td>-1.0</td>\n",
              "      <td>0</td>\n",
              "      <td>2</td>\n",
              "      <td>28.00</td>\n",
              "      <td>1</td>\n",
              "      <td>0</td>\n",
              "      <td>0.0</td>\n",
              "      <td>0.0</td>\n",
              "      <td>0</td>\n",
              "      <td>10</td>\n",
              "    </tr>\n",
              "    <tr>\n",
              "      <th>19312</th>\n",
              "      <td>0</td>\n",
              "      <td>1</td>\n",
              "      <td>1</td>\n",
              "      <td>2016</td>\n",
              "      <td>2</td>\n",
              "      <td>7</td>\n",
              "      <td>11</td>\n",
              "      <td>0</td>\n",
              "      <td>3</td>\n",
              "      <td>0</td>\n",
              "      <td>...</td>\n",
              "      <td>-1.0</td>\n",
              "      <td>0</td>\n",
              "      <td>2</td>\n",
              "      <td>0.00</td>\n",
              "      <td>0</td>\n",
              "      <td>1</td>\n",
              "      <td>0.0</td>\n",
              "      <td>0.0</td>\n",
              "      <td>0</td>\n",
              "      <td>3</td>\n",
              "    </tr>\n",
              "    <tr>\n",
              "      <th>19326</th>\n",
              "      <td>0</td>\n",
              "      <td>0</td>\n",
              "      <td>0</td>\n",
              "      <td>2016</td>\n",
              "      <td>2</td>\n",
              "      <td>7</td>\n",
              "      <td>12</td>\n",
              "      <td>0</td>\n",
              "      <td>1</td>\n",
              "      <td>0</td>\n",
              "      <td>...</td>\n",
              "      <td>45.0</td>\n",
              "      <td>0</td>\n",
              "      <td>2</td>\n",
              "      <td>0.00</td>\n",
              "      <td>0</td>\n",
              "      <td>2</td>\n",
              "      <td>0.0</td>\n",
              "      <td>0.0</td>\n",
              "      <td>0</td>\n",
              "      <td>1</td>\n",
              "    </tr>\n",
              "    <tr>\n",
              "      <th>...</th>\n",
              "      <td>...</td>\n",
              "      <td>...</td>\n",
              "      <td>...</td>\n",
              "      <td>...</td>\n",
              "      <td>...</td>\n",
              "      <td>...</td>\n",
              "      <td>...</td>\n",
              "      <td>...</td>\n",
              "      <td>...</td>\n",
              "      <td>...</td>\n",
              "      <td>...</td>\n",
              "      <td>...</td>\n",
              "      <td>...</td>\n",
              "      <td>...</td>\n",
              "      <td>...</td>\n",
              "      <td>...</td>\n",
              "      <td>...</td>\n",
              "      <td>...</td>\n",
              "      <td>...</td>\n",
              "      <td>...</td>\n",
              "      <td>...</td>\n",
              "    </tr>\n",
              "    <tr>\n",
              "      <th>55556</th>\n",
              "      <td>0</td>\n",
              "      <td>0</td>\n",
              "      <td>0</td>\n",
              "      <td>2016</td>\n",
              "      <td>12</td>\n",
              "      <td>50</td>\n",
              "      <td>7</td>\n",
              "      <td>0</td>\n",
              "      <td>0</td>\n",
              "      <td>0</td>\n",
              "      <td>...</td>\n",
              "      <td>-1.0</td>\n",
              "      <td>0</td>\n",
              "      <td>2</td>\n",
              "      <td>0.00</td>\n",
              "      <td>0</td>\n",
              "      <td>1</td>\n",
              "      <td>0.0</td>\n",
              "      <td>0.0</td>\n",
              "      <td>0</td>\n",
              "      <td>0</td>\n",
              "    </tr>\n",
              "    <tr>\n",
              "      <th>56000</th>\n",
              "      <td>0</td>\n",
              "      <td>0</td>\n",
              "      <td>0</td>\n",
              "      <td>2016</td>\n",
              "      <td>12</td>\n",
              "      <td>52</td>\n",
              "      <td>18</td>\n",
              "      <td>0</td>\n",
              "      <td>0</td>\n",
              "      <td>0</td>\n",
              "      <td>...</td>\n",
              "      <td>-1.0</td>\n",
              "      <td>0</td>\n",
              "      <td>2</td>\n",
              "      <td>0.00</td>\n",
              "      <td>0</td>\n",
              "      <td>1</td>\n",
              "      <td>0.0</td>\n",
              "      <td>0.0</td>\n",
              "      <td>0</td>\n",
              "      <td>0</td>\n",
              "    </tr>\n",
              "    <tr>\n",
              "      <th>56053</th>\n",
              "      <td>0</td>\n",
              "      <td>0</td>\n",
              "      <td>0</td>\n",
              "      <td>2016</td>\n",
              "      <td>12</td>\n",
              "      <td>52</td>\n",
              "      <td>20</td>\n",
              "      <td>0</td>\n",
              "      <td>0</td>\n",
              "      <td>0</td>\n",
              "      <td>...</td>\n",
              "      <td>-1.0</td>\n",
              "      <td>0</td>\n",
              "      <td>2</td>\n",
              "      <td>0.00</td>\n",
              "      <td>0</td>\n",
              "      <td>0</td>\n",
              "      <td>0.0</td>\n",
              "      <td>0.0</td>\n",
              "      <td>0</td>\n",
              "      <td>0</td>\n",
              "    </tr>\n",
              "    <tr>\n",
              "      <th>56443</th>\n",
              "      <td>0</td>\n",
              "      <td>0</td>\n",
              "      <td>255</td>\n",
              "      <td>2016</td>\n",
              "      <td>12</td>\n",
              "      <td>53</td>\n",
              "      <td>27</td>\n",
              "      <td>0</td>\n",
              "      <td>3</td>\n",
              "      <td>0</td>\n",
              "      <td>...</td>\n",
              "      <td>-1.0</td>\n",
              "      <td>0</td>\n",
              "      <td>2</td>\n",
              "      <td>20.88</td>\n",
              "      <td>0</td>\n",
              "      <td>0</td>\n",
              "      <td>0.0</td>\n",
              "      <td>0.0</td>\n",
              "      <td>0</td>\n",
              "      <td>3</td>\n",
              "    </tr>\n",
              "    <tr>\n",
              "      <th>56703</th>\n",
              "      <td>0</td>\n",
              "      <td>0</td>\n",
              "      <td>177</td>\n",
              "      <td>2016</td>\n",
              "      <td>12</td>\n",
              "      <td>53</td>\n",
              "      <td>30</td>\n",
              "      <td>2</td>\n",
              "      <td>5</td>\n",
              "      <td>0</td>\n",
              "      <td>...</td>\n",
              "      <td>-1.0</td>\n",
              "      <td>0</td>\n",
              "      <td>2</td>\n",
              "      <td>1.29</td>\n",
              "      <td>0</td>\n",
              "      <td>2</td>\n",
              "      <td>0.0</td>\n",
              "      <td>0.0</td>\n",
              "      <td>0</td>\n",
              "      <td>7</td>\n",
              "    </tr>\n",
              "  </tbody>\n",
              "</table>\n",
              "<p>84 rows × 34 columns</p>\n",
              "</div>\n",
              "    <div class=\"colab-df-buttons\">\n",
              "\n",
              "  <div class=\"colab-df-container\">\n",
              "    <button class=\"colab-df-convert\" onclick=\"convertToInteractive('df-9a639e48-698a-4642-abb9-efecd2b9c4bc')\"\n",
              "            title=\"Convert this dataframe to an interactive table.\"\n",
              "            style=\"display:none;\">\n",
              "\n",
              "  <svg xmlns=\"http://www.w3.org/2000/svg\" height=\"24px\" viewBox=\"0 -960 960 960\">\n",
              "    <path d=\"M120-120v-720h720v720H120Zm60-500h600v-160H180v160Zm220 220h160v-160H400v160Zm0 220h160v-160H400v160ZM180-400h160v-160H180v160Zm440 0h160v-160H620v160ZM180-180h160v-160H180v160Zm440 0h160v-160H620v160Z\"/>\n",
              "  </svg>\n",
              "    </button>\n",
              "\n",
              "  <style>\n",
              "    .colab-df-container {\n",
              "      display:flex;\n",
              "      gap: 12px;\n",
              "    }\n",
              "\n",
              "    .colab-df-convert {\n",
              "      background-color: #E8F0FE;\n",
              "      border: none;\n",
              "      border-radius: 50%;\n",
              "      cursor: pointer;\n",
              "      display: none;\n",
              "      fill: #1967D2;\n",
              "      height: 32px;\n",
              "      padding: 0 0 0 0;\n",
              "      width: 32px;\n",
              "    }\n",
              "\n",
              "    .colab-df-convert:hover {\n",
              "      background-color: #E2EBFA;\n",
              "      box-shadow: 0px 1px 2px rgba(60, 64, 67, 0.3), 0px 1px 3px 1px rgba(60, 64, 67, 0.15);\n",
              "      fill: #174EA6;\n",
              "    }\n",
              "\n",
              "    .colab-df-buttons div {\n",
              "      margin-bottom: 4px;\n",
              "    }\n",
              "\n",
              "    [theme=dark] .colab-df-convert {\n",
              "      background-color: #3B4455;\n",
              "      fill: #D2E3FC;\n",
              "    }\n",
              "\n",
              "    [theme=dark] .colab-df-convert:hover {\n",
              "      background-color: #434B5C;\n",
              "      box-shadow: 0px 1px 3px 1px rgba(0, 0, 0, 0.15);\n",
              "      filter: drop-shadow(0px 1px 2px rgba(0, 0, 0, 0.3));\n",
              "      fill: #FFFFFF;\n",
              "    }\n",
              "  </style>\n",
              "\n",
              "    <script>\n",
              "      const buttonEl =\n",
              "        document.querySelector('#df-9a639e48-698a-4642-abb9-efecd2b9c4bc button.colab-df-convert');\n",
              "      buttonEl.style.display =\n",
              "        google.colab.kernel.accessAllowed ? 'block' : 'none';\n",
              "\n",
              "      async function convertToInteractive(key) {\n",
              "        const element = document.querySelector('#df-9a639e48-698a-4642-abb9-efecd2b9c4bc');\n",
              "        const dataTable =\n",
              "          await google.colab.kernel.invokeFunction('convertToInteractive',\n",
              "                                                    [key], {});\n",
              "        if (!dataTable) return;\n",
              "\n",
              "        const docLinkHtml = 'Like what you see? Visit the ' +\n",
              "          '<a target=\"_blank\" href=https://colab.research.google.com/notebooks/data_table.ipynb>data table notebook</a>'\n",
              "          + ' to learn more about interactive tables.';\n",
              "        element.innerHTML = '';\n",
              "        dataTable['output_type'] = 'display_data';\n",
              "        await google.colab.output.renderOutput(dataTable, element);\n",
              "        const docLink = document.createElement('div');\n",
              "        docLink.innerHTML = docLinkHtml;\n",
              "        element.appendChild(docLink);\n",
              "      }\n",
              "    </script>\n",
              "  </div>\n",
              "\n",
              "\n",
              "<div id=\"df-ae168ea9-b75d-455d-9a1f-b25e1edcbcd3\">\n",
              "  <button class=\"colab-df-quickchart\" onclick=\"quickchart('df-ae168ea9-b75d-455d-9a1f-b25e1edcbcd3')\"\n",
              "            title=\"Suggest charts\"\n",
              "            style=\"display:none;\">\n",
              "\n",
              "<svg xmlns=\"http://www.w3.org/2000/svg\" height=\"24px\"viewBox=\"0 0 24 24\"\n",
              "     width=\"24px\">\n",
              "    <g>\n",
              "        <path d=\"M19 3H5c-1.1 0-2 .9-2 2v14c0 1.1.9 2 2 2h14c1.1 0 2-.9 2-2V5c0-1.1-.9-2-2-2zM9 17H7v-7h2v7zm4 0h-2V7h2v10zm4 0h-2v-4h2v4z\"/>\n",
              "    </g>\n",
              "</svg>\n",
              "  </button>\n",
              "\n",
              "<style>\n",
              "  .colab-df-quickchart {\n",
              "      --bg-color: #E8F0FE;\n",
              "      --fill-color: #1967D2;\n",
              "      --hover-bg-color: #E2EBFA;\n",
              "      --hover-fill-color: #174EA6;\n",
              "      --disabled-fill-color: #AAA;\n",
              "      --disabled-bg-color: #DDD;\n",
              "  }\n",
              "\n",
              "  [theme=dark] .colab-df-quickchart {\n",
              "      --bg-color: #3B4455;\n",
              "      --fill-color: #D2E3FC;\n",
              "      --hover-bg-color: #434B5C;\n",
              "      --hover-fill-color: #FFFFFF;\n",
              "      --disabled-bg-color: #3B4455;\n",
              "      --disabled-fill-color: #666;\n",
              "  }\n",
              "\n",
              "  .colab-df-quickchart {\n",
              "    background-color: var(--bg-color);\n",
              "    border: none;\n",
              "    border-radius: 50%;\n",
              "    cursor: pointer;\n",
              "    display: none;\n",
              "    fill: var(--fill-color);\n",
              "    height: 32px;\n",
              "    padding: 0;\n",
              "    width: 32px;\n",
              "  }\n",
              "\n",
              "  .colab-df-quickchart:hover {\n",
              "    background-color: var(--hover-bg-color);\n",
              "    box-shadow: 0 1px 2px rgba(60, 64, 67, 0.3), 0 1px 3px 1px rgba(60, 64, 67, 0.15);\n",
              "    fill: var(--button-hover-fill-color);\n",
              "  }\n",
              "\n",
              "  .colab-df-quickchart-complete:disabled,\n",
              "  .colab-df-quickchart-complete:disabled:hover {\n",
              "    background-color: var(--disabled-bg-color);\n",
              "    fill: var(--disabled-fill-color);\n",
              "    box-shadow: none;\n",
              "  }\n",
              "\n",
              "  .colab-df-spinner {\n",
              "    border: 2px solid var(--fill-color);\n",
              "    border-color: transparent;\n",
              "    border-bottom-color: var(--fill-color);\n",
              "    animation:\n",
              "      spin 1s steps(1) infinite;\n",
              "  }\n",
              "\n",
              "  @keyframes spin {\n",
              "    0% {\n",
              "      border-color: transparent;\n",
              "      border-bottom-color: var(--fill-color);\n",
              "      border-left-color: var(--fill-color);\n",
              "    }\n",
              "    20% {\n",
              "      border-color: transparent;\n",
              "      border-left-color: var(--fill-color);\n",
              "      border-top-color: var(--fill-color);\n",
              "    }\n",
              "    30% {\n",
              "      border-color: transparent;\n",
              "      border-left-color: var(--fill-color);\n",
              "      border-top-color: var(--fill-color);\n",
              "      border-right-color: var(--fill-color);\n",
              "    }\n",
              "    40% {\n",
              "      border-color: transparent;\n",
              "      border-right-color: var(--fill-color);\n",
              "      border-top-color: var(--fill-color);\n",
              "    }\n",
              "    60% {\n",
              "      border-color: transparent;\n",
              "      border-right-color: var(--fill-color);\n",
              "    }\n",
              "    80% {\n",
              "      border-color: transparent;\n",
              "      border-right-color: var(--fill-color);\n",
              "      border-bottom-color: var(--fill-color);\n",
              "    }\n",
              "    90% {\n",
              "      border-color: transparent;\n",
              "      border-bottom-color: var(--fill-color);\n",
              "    }\n",
              "  }\n",
              "</style>\n",
              "\n",
              "  <script>\n",
              "    async function quickchart(key) {\n",
              "      const quickchartButtonEl =\n",
              "        document.querySelector('#' + key + ' button');\n",
              "      quickchartButtonEl.disabled = true;  // To prevent multiple clicks.\n",
              "      quickchartButtonEl.classList.add('colab-df-spinner');\n",
              "      try {\n",
              "        const charts = await google.colab.kernel.invokeFunction(\n",
              "            'suggestCharts', [key], {});\n",
              "      } catch (error) {\n",
              "        console.error('Error during call to suggestCharts:', error);\n",
              "      }\n",
              "      quickchartButtonEl.classList.remove('colab-df-spinner');\n",
              "      quickchartButtonEl.classList.add('colab-df-quickchart-complete');\n",
              "    }\n",
              "    (() => {\n",
              "      let quickchartButtonEl =\n",
              "        document.querySelector('#df-ae168ea9-b75d-455d-9a1f-b25e1edcbcd3 button');\n",
              "      quickchartButtonEl.style.display =\n",
              "        google.colab.kernel.accessAllowed ? 'block' : 'none';\n",
              "    })();\n",
              "  </script>\n",
              "</div>\n",
              "    </div>\n",
              "  </div>\n"
            ]
          },
          "metadata": {},
          "execution_count": 208
        }
      ]
    },
    {
      "cell_type": "code",
      "source": [
        "prenotazioni_fallaci_te = test[(test[\"adults\"]== 0) & (test[\"children\"]== 0)]\n",
        "print(prenotazioni_fallaci_te)"
      ],
      "metadata": {
        "id": "B8zc1bhuhsQ7",
        "outputId": "b5f8bf8f-ed56-4b67-92f0-fc4962cba001",
        "colab": {
          "base_uri": "https://localhost:8080/"
        }
      },
      "execution_count": 210,
      "outputs": [
        {
          "output_type": "stream",
          "name": "stdout",
          "text": [
            "       hotel  is_canceled  lead_time  arrival_date_year  arrival_date_month  \\\n",
            "5148       1            0          4               2017                   1   \n",
            "5946       1            0         46               2017                   1   \n",
            "7968       1            0         15               2017                   3   \n",
            "7974       1            0         15               2017                   3   \n",
            "10578      1            0          1               2017                   6   \n",
            "...      ...          ...        ...                ...                 ...   \n",
            "36326      0            0        107               2017                   6   \n",
            "36388      0            0          1               2017                   6   \n",
            "37548      0            0         44               2017                   7   \n",
            "37831      0            0          2               2017                   7   \n",
            "38384      0            0        170               2017                   7   \n",
            "\n",
            "       arrival_date_week_number  arrival_date_day_of_month  \\\n",
            "5148                          2                         14   \n",
            "5946                          4                         25   \n",
            "7968                         13                         30   \n",
            "7974                         13                         30   \n",
            "10578                        25                         18   \n",
            "...                         ...                        ...   \n",
            "36326                        26                         27   \n",
            "36388                        26                         30   \n",
            "37548                        28                         15   \n",
            "37831                        28                         15   \n",
            "38384                        30                         27   \n",
            "\n",
            "       stays_in_weekend_nights  stays_in_week_nights  adults  ...  company  \\\n",
            "5148                         0                     1       0  ...     -1.0   \n",
            "5946                         3                     9       0  ...     -1.0   \n",
            "7968                         2                     6       0  ...    523.0   \n",
            "7974                         2                     6       0  ...    523.0   \n",
            "10578                        2                     5       0  ...     -1.0   \n",
            "...                        ...                   ...     ...  ...      ...   \n",
            "36326                        0                     3       0  ...     -1.0   \n",
            "36388                        0                     1       0  ...     -1.0   \n",
            "37548                        1                     1       0  ...     -1.0   \n",
            "37831                        2                     5       0  ...     -1.0   \n",
            "38384                        0                     2       0  ...     -1.0   \n",
            "\n",
            "       days_in_waiting_list  customer_type     adr  \\\n",
            "5148                      0              3    0.00   \n",
            "5946                      0              2    0.00   \n",
            "7968                      0              3    0.00   \n",
            "7974                      0              3    0.00   \n",
            "10578                     0              2    0.00   \n",
            "...                     ...            ...     ...   \n",
            "36326                     0              2  100.80   \n",
            "36388                     0              2    0.00   \n",
            "37548                     0              2   73.80   \n",
            "37831                     0              3   22.86   \n",
            "38384                     0              2    0.00   \n",
            "\n",
            "       required_car_parking_spaces  total_of_special_requests  persone  \\\n",
            "5148                             0                          0      0.0   \n",
            "5946                             0                          0      0.0   \n",
            "7968                             0                          0      0.0   \n",
            "7974                             0                          0      0.0   \n",
            "10578                            0                          0      0.0   \n",
            "...                            ...                        ...      ...   \n",
            "36326                            0                          0      0.0   \n",
            "36388                            1                          1      0.0   \n",
            "37548                            0                          0      0.0   \n",
            "37831                            0                          1      0.0   \n",
            "38384                            0                          0      0.0   \n",
            "\n",
            "       colonna_bambini  prenotazioni_precedenti  giorni_totali  \n",
            "5148               0.0                        0              1  \n",
            "5946               0.0                        0             12  \n",
            "7968               0.0                        0              8  \n",
            "7974               0.0                        0              8  \n",
            "10578              0.0                        0              7  \n",
            "...                ...                      ...            ...  \n",
            "36326              0.0                        0              3  \n",
            "36388              0.0                        0              1  \n",
            "37548              0.0                        0              2  \n",
            "37831              0.0                        0              7  \n",
            "38384              0.0                        0              2  \n",
            "\n",
            "[67 rows x 34 columns]\n"
          ]
        }
      ]
    },
    {
      "cell_type": "markdown",
      "source": [
        "Risposta n.2 : la media relativa al numero di persone è di circa 2 persone in entrambi i dataset e rappresenta anche il caso più rappresentato (38563 prenotazioni da 2 persone nel train dataset e 27455 nel test dataset)\n",
        "Il numero di prenotazioni composte da un numero qualsiasi di adulti con almeno un bambino (\"babies\" e/o \"children\") è relativamente basso in entrambi i dataset: 4575 (con 4129 con almeno un \"child\" e 446 con almeno un \"baby\") per il train e 3808 (con 3550 con almeno un \"child\" e 258 con almeno un \"baby\") per il test . Il numero massimo di bambini è di 10 raggiunto però in un singolo caso del \"train dataset\". Escludendo quello il massimo di bambini a seguito è di 3. La percentuale delle cancellazioni scende per le prenotazioni con solamente un \"non adulto\" e torna a salire per le prenotazioni con 2 a seguito (le prenotazioni con 3 \"non adulti\" sono così poche da non essere rilevanti). Escludendo suddetto caso estremo il numero massimo di persone per una singola camera è 5, la media delle cancellazioni cambia in base al numero di persone ma l'aumentare del numero di persone non aumenta questa media in modo lineare (prenotazioni da 3 componenti cancellano in media meno che prenotazioni da 2 e da 4). In entrambi i dataset poi sono presenti valori anomali corrispondenti a 0 persone per camera (84 nel train e 67 nel test) alcune prenotazioni invece contengono i casi con 0 adulti ma almeno un \"children\" quindi non si può sapere se siano valide o meno.\n",
        "Il numero di viaggiatori \"solitari\" è invece cospicuo e simile in entrambi i dataset (10967 nel train e 7181 nel test).\n",
        "Il numero di adulti per prenotazione varia da un minomo di 1 fino a un massimo di 4.\n",
        "\n"
      ],
      "metadata": {
        "id": "iJd5zwHqSmW-"
      }
    },
    {
      "cell_type": "markdown",
      "source": [
        "Domanda n.3: come si distrubuisce il numero delle prenotazioni durante i mesi dell'anno nei due dataset? La media delle cancellazioni cambia di mese in mese o rimane più o meno stabile?"
      ],
      "metadata": {
        "id": "hrDfjK6KFs9B"
      }
    },
    {
      "cell_type": "code",
      "source": [
        "mesi_tr = train[\"arrival_date_month\"].value_counts().sort_index()\n",
        "print(mesi_tr)"
      ],
      "metadata": {
        "id": "vTFPE_3E-CaS",
        "outputId": "c099007c-2a3c-4315-fe03-a19fc9115cfa",
        "colab": {
          "base_uri": "https://localhost:8080/"
        }
      },
      "execution_count": 117,
      "outputs": [
        {
          "output_type": "stream",
          "name": "stdout",
          "text": [
            "1     2248\n",
            "2     3891\n",
            "3     4824\n",
            "4     5428\n",
            "5     5478\n",
            "6     5292\n",
            "7     4572\n",
            "8     5063\n",
            "9     5394\n",
            "10    6203\n",
            "11    4454\n",
            "12    3860\n",
            "Name: arrival_date_month, dtype: int64\n"
          ]
        }
      ]
    },
    {
      "cell_type": "code",
      "source": [
        "mesi_te = test[\"arrival_date_month\"].value_counts().sort_index()\n",
        "print(mesi_te)"
      ],
      "metadata": {
        "id": "Psd-5IJ_rcwG",
        "outputId": "808db9f4-ac08-4959-e98d-5c1eaf0b5194",
        "colab": {
          "base_uri": "https://localhost:8080/"
        }
      },
      "execution_count": 118,
      "outputs": [
        {
          "output_type": "stream",
          "name": "stdout",
          "text": [
            "1    3681\n",
            "2    4177\n",
            "3    4970\n",
            "4    5661\n",
            "5    6313\n",
            "6    5647\n",
            "7    5313\n",
            "8    4925\n",
            "Name: arrival_date_month, dtype: int64\n"
          ]
        }
      ]
    },
    {
      "cell_type": "code",
      "source": [
        "per_mesi_tr = (mesi_tr / len(train) * 100).sort_index()\n",
        "print(per_mesi_tr)"
      ],
      "metadata": {
        "id": "OtQkPasXjs8y",
        "outputId": "af98fc92-55df-493d-8a16-929ff4b394b3",
        "colab": {
          "base_uri": "https://localhost:8080/"
        }
      },
      "execution_count": 214,
      "outputs": [
        {
          "output_type": "stream",
          "name": "stdout",
          "text": [
            "1      3.964237\n",
            "2      6.861587\n",
            "3      8.506886\n",
            "4      9.572011\n",
            "5      9.660183\n",
            "6      9.332181\n",
            "7      8.062497\n",
            "8      8.928351\n",
            "9      9.512053\n",
            "10    10.938685\n",
            "11     7.854410\n",
            "12     6.806920\n",
            "Name: arrival_date_month, dtype: float64\n"
          ]
        }
      ]
    },
    {
      "cell_type": "code",
      "source": [
        "per_mesi_te = (mesi_te / len(test) * 100).sort_index()\n",
        "print(per_mesi_te)"
      ],
      "metadata": {
        "id": "8M3KdxRJj6TH",
        "outputId": "a88453b5-4e8e-4b03-f3a1-f45320b68343",
        "colab": {
          "base_uri": "https://localhost:8080/"
        }
      },
      "execution_count": 215,
      "outputs": [
        {
          "output_type": "stream",
          "name": "stdout",
          "text": [
            "1     9.047116\n",
            "2    10.266178\n",
            "3    12.215204\n",
            "4    13.913535\n",
            "5    15.516012\n",
            "6    13.879126\n",
            "7    13.058225\n",
            "8    12.104603\n",
            "Name: arrival_date_month, dtype: float64\n"
          ]
        }
      ]
    },
    {
      "cell_type": "code",
      "source": [
        "media_mesi_tr = train.groupby(train[\"arrival_date_month\"])[\"is_canceled\"].mean()\n",
        "print(media_mesi_tr)"
      ],
      "metadata": {
        "colab": {
          "base_uri": "https://localhost:8080/"
        },
        "id": "UHuwagk9XL38",
        "outputId": "3bb85be5-71a6-44c4-f138-3cb7773b1785"
      },
      "execution_count": 211,
      "outputs": [
        {
          "output_type": "stream",
          "name": "stdout",
          "text": [
            "arrival_date_month\n",
            "1     0.247776\n",
            "2     0.343613\n",
            "3     0.306177\n",
            "4     0.379698\n",
            "5     0.349580\n",
            "6     0.396070\n",
            "7     0.327865\n",
            "8     0.360458\n",
            "9     0.374861\n",
            "10    0.405288\n",
            "11    0.367310\n",
            "12    0.362176\n",
            "Name: is_canceled, dtype: float64\n"
          ]
        }
      ]
    },
    {
      "cell_type": "code",
      "source": [
        "media_mesi_te = test.groupby(test[\"arrival_date_month\"])[\"is_canceled\"].mean()\n",
        "print(media_mesi_te)"
      ],
      "metadata": {
        "id": "ATsoU--4s_RE",
        "outputId": "0a9f783f-2f13-438f-9236-10b8408b725b",
        "colab": {
          "base_uri": "https://localhost:8080/"
        }
      },
      "execution_count": 212,
      "outputs": [
        {
          "output_type": "stream",
          "name": "stdout",
          "text": [
            "arrival_date_month\n",
            "1    0.339582\n",
            "2    0.325353\n",
            "3    0.336419\n",
            "4    0.435082\n",
            "5    0.437510\n",
            "6    0.431911\n",
            "7    0.373424\n",
            "8    0.368731\n",
            "Name: is_canceled, dtype: float64\n"
          ]
        }
      ]
    },
    {
      "cell_type": "markdown",
      "source": [
        "Risposta n.2: i due dataset differiscono per il numero di mesi tenuti in considerazione: il test dataset, infatti, prende in considerazione soltanto i mesi da gennaio a agosto.\n",
        "Il mese che ha riscontrato più prenotazioni nel traindataset è quello di ottobre (10% del totale), tuttavia le prenotazioni sembrano abbastanza equamente suddivise, fatta eccezione per gennaio dove si è riscontrato un valore notevolmente più basso in entrambi i dataset (anche se più marcato nel train dove corrisponde al 3%). Nel test dataset si ha poi un aumento non trascurabile di prenotazioni nel mese di maggio (15% del totale), non presente invece nel train.\n",
        "La meedia delle cancellazioni risulta altalentante con valori che si distanziano notevolmente dalla media generale (es: gennaio, nel train dataset, si distanzia di 11 punti percentuali)."
      ],
      "metadata": {
        "id": "lT1tp611XW0I"
      }
    },
    {
      "cell_type": "markdown",
      "source": [
        "Domanda n.3: come si sono divisi i casi in base al segmento di mercato e alla distribuzione? Come cambia la media relativa al numero di cancellazioni?"
      ],
      "metadata": {
        "id": "Gkunk5JJGUPJ"
      }
    },
    {
      "cell_type": "code",
      "source": [
        "mercato_tr= train_non[\"market_segment\"].value_counts().sort_index()\n",
        "print(mercato_tr)"
      ],
      "metadata": {
        "id": "UnH_wddXQlCw",
        "outputId": "2dac0310-1a73-42a9-8c8b-89e3f5023899",
        "colab": {
          "base_uri": "https://localhost:8080/"
        }
      },
      "execution_count": 121,
      "outputs": [
        {
          "output_type": "stream",
          "name": "stdout",
          "text": [
            "Aviation           127\n",
            "Complementary      364\n",
            "Corporate         2562\n",
            "Direct            5663\n",
            "Groups            7857\n",
            "Offline TA/TO    12473\n",
            "Online TA        27661\n",
            "Name: market_segment, dtype: int64\n"
          ]
        }
      ]
    },
    {
      "cell_type": "code",
      "source": [
        "per_merc_tr = (mercato_tr/ len(train_non) * 100).sort_index()\n",
        "print(per_merc_tr)"
      ],
      "metadata": {
        "id": "n4WZSlZLvXDW",
        "outputId": "0f34e7f2-fec4-46c1-d96a-9fda19a7ad15",
        "colab": {
          "base_uri": "https://localhost:8080/"
        }
      },
      "execution_count": 125,
      "outputs": [
        {
          "output_type": "stream",
          "name": "stdout",
          "text": [
            "Aviation          0.223958\n",
            "Complementary     0.641896\n",
            "Corporate         4.517961\n",
            "Direct            9.986421\n",
            "Groups           13.855432\n",
            "Offline TA/TO    21.995521\n",
            "Online TA        48.778810\n",
            "Name: market_segment, dtype: float64\n"
          ]
        }
      ]
    },
    {
      "cell_type": "code",
      "source": [
        "mercato_te = test_non[\"market_segment\"].value_counts().sort_index()\n",
        "print(mercato_te)"
      ],
      "metadata": {
        "id": "_zrEzp2U-tMv",
        "outputId": "6a0039f2-4f2c-4fd3-d42e-5c4171e7e0eb",
        "colab": {
          "base_uri": "https://localhost:8080/"
        }
      },
      "execution_count": 122,
      "outputs": [
        {
          "output_type": "stream",
          "name": "stdout",
          "text": [
            "Aviation           110\n",
            "Complementary      214\n",
            "Corporate         1562\n",
            "Direct            4629\n",
            "Groups            5854\n",
            "Offline TA/TO     5667\n",
            "Online TA        22651\n",
            "Name: market_segment, dtype: int64\n"
          ]
        }
      ]
    },
    {
      "cell_type": "code",
      "source": [
        "per_merc_te= (mercato_te / len(test_non) * 100).sort_index()\n",
        "print(per_merc_te)"
      ],
      "metadata": {
        "id": "JWEVUSyDvqF8",
        "outputId": "22a86a24-a7ed-46ab-bb46-beeeb766a309",
        "colab": {
          "base_uri": "https://localhost:8080/"
        }
      },
      "execution_count": 126,
      "outputs": [
        {
          "output_type": "stream",
          "name": "stdout",
          "text": [
            "Aviation          0.270357\n",
            "Complementary     0.525967\n",
            "Corporate         3.839064\n",
            "Direct           11.377098\n",
            "Groups           14.387888\n",
            "Offline TA/TO    13.928282\n",
            "Online TA        55.671345\n",
            "Name: market_segment, dtype: float64\n"
          ]
        }
      ]
    },
    {
      "cell_type": "code",
      "source": [
        "distribuzione_tr= train_non[\"distribution_channel\"].value_counts().sort_index()\n",
        "print(mercato_tr)"
      ],
      "metadata": {
        "id": "ZYwcXl_QmKx2",
        "outputId": "5c99f32b-5223-426c-f475-470807540c8c",
        "colab": {
          "base_uri": "https://localhost:8080/"
        }
      },
      "execution_count": 226,
      "outputs": [
        {
          "output_type": "stream",
          "name": "stdout",
          "text": [
            "Corporate     3292\n",
            "Direct        6799\n",
            "GDS            104\n",
            "TA/TO        46512\n",
            "Name: distribution_channel, dtype: int64\n"
          ]
        }
      ]
    },
    {
      "cell_type": "code",
      "source": [
        "per_distribuzione_tr = (distribuzione_tr/ len(train_non) * 100).sort_index()\n",
        "print(per_distribuzione_tr)"
      ],
      "metadata": {
        "id": "wm5f4lrAnOA3",
        "outputId": "336a3cb7-c8f3-4dd6-c8d2-89d545d06c5a",
        "colab": {
          "base_uri": "https://localhost:8080/"
        }
      },
      "execution_count": 228,
      "outputs": [
        {
          "output_type": "stream",
          "name": "stdout",
          "text": [
            "Corporate     5.805280\n",
            "Direct       11.989701\n",
            "GDS           0.183399\n",
            "TA/TO        82.021620\n",
            "Name: distribution_channel, dtype: float64\n"
          ]
        }
      ]
    },
    {
      "cell_type": "code",
      "source": [
        "distribuzione_te= test_non[\"distribution_channel\"].value_counts().sort_index()\n",
        "print(distribuzione_te)"
      ],
      "metadata": {
        "id": "EBApUqmomaaL",
        "outputId": "5e8588b0-8562-4f47-c50d-d41df195af35",
        "colab": {
          "base_uri": "https://localhost:8080/"
        }
      },
      "execution_count": 227,
      "outputs": [
        {
          "output_type": "stream",
          "name": "stdout",
          "text": [
            "Corporate     1921\n",
            "Direct        5061\n",
            "GDS             88\n",
            "TA/TO        33617\n",
            "Name: distribution_channel, dtype: int64\n"
          ]
        }
      ]
    },
    {
      "cell_type": "code",
      "source": [
        "per_distribuzione_te = (distribuzione_te/ len(test) * 100).sort_index()\n",
        "print(per_distribuzione_te)"
      ],
      "metadata": {
        "id": "eYlJeCqznZUc",
        "outputId": "ae08cbb8-bf08-49d2-f238-a5fecefbcafd",
        "colab": {
          "base_uri": "https://localhost:8080/"
        }
      },
      "execution_count": 229,
      "outputs": [
        {
          "output_type": "stream",
          "name": "stdout",
          "text": [
            "Corporate     4.721410\n",
            "Direct       12.438863\n",
            "GDS           0.216285\n",
            "TA/TO        82.623442\n",
            "Name: distribution_channel, dtype: float64\n"
          ]
        }
      ]
    },
    {
      "cell_type": "code",
      "source": [
        "canc_mercato_tr = train_non.groupby(train_non[\"market_segment\"])[\"is_canceled\"].mean()\n",
        "print(canc_mercato_tr)"
      ],
      "metadata": {
        "id": "F8DcO36R_M7U",
        "outputId": "a7b4e94a-6849-4bfd-e3c6-0936ed48d871",
        "colab": {
          "base_uri": "https://localhost:8080/"
        }
      },
      "execution_count": 224,
      "outputs": [
        {
          "output_type": "stream",
          "name": "stdout",
          "text": [
            "market_segment\n",
            "Aviation         0.228346\n",
            "Complementary    0.129121\n",
            "Corporate        0.146370\n",
            "Direct           0.153099\n",
            "Groups           0.617539\n",
            "Offline TA/TO    0.347150\n",
            "Online TA        0.355627\n",
            "Name: is_canceled, dtype: float64\n"
          ]
        }
      ]
    },
    {
      "cell_type": "code",
      "source": [
        "canc_mercato_te = test_non.groupby(test_non[\"market_segment\"])[\"is_canceled\"].mean()\n",
        "print(canc_mercato_te)"
      ],
      "metadata": {
        "id": "iUguoB9l_CTv",
        "outputId": "8898dc0f-05c7-4ad0-8396-652aac20c4df",
        "colab": {
          "base_uri": "https://localhost:8080/"
        }
      },
      "execution_count": 221,
      "outputs": [
        {
          "output_type": "stream",
          "name": "stdout",
          "text": [
            "market_segment\n",
            "Aviation         0.209091\n",
            "Complementary    0.163551\n",
            "Corporate        0.254802\n",
            "Direct           0.154677\n",
            "Groups           0.581141\n",
            "Offline TA/TO    0.337745\n",
            "Online TA        0.408680\n",
            "Name: is_canceled, dtype: float64\n"
          ]
        }
      ]
    },
    {
      "cell_type": "code",
      "source": [
        "canc_distribuzione_tr = train_non.groupby(train_non[\"distribution_channel\"])[\"is_canceled\"].mean()\n",
        "print(canc_distribuzione_tr)"
      ],
      "metadata": {
        "id": "jJYdjrF7oc_l",
        "outputId": "373a8c7d-80fd-4028-f1a3-941db65f3909",
        "colab": {
          "base_uri": "https://localhost:8080/"
        }
      },
      "execution_count": 230,
      "outputs": [
        {
          "output_type": "stream",
          "name": "stdout",
          "text": [
            "distribution_channel\n",
            "Corporate    0.183475\n",
            "Direct       0.171790\n",
            "GDS          0.211538\n",
            "TA/TO        0.398671\n",
            "Name: is_canceled, dtype: float64\n"
          ]
        }
      ]
    },
    {
      "cell_type": "code",
      "source": [
        "canc_distribuzione_te = test_non.groupby(test_non[\"distribution_channel\"])[\"is_canceled\"].mean()\n",
        "print(canc_distribuzione_te)"
      ],
      "metadata": {
        "id": "36uQg1fyotJr",
        "outputId": "c12bc8f5-cf68-45ba-ebbb-27b2060d03f1",
        "colab": {
          "base_uri": "https://localhost:8080/"
        }
      },
      "execution_count": 231,
      "outputs": [
        {
          "output_type": "stream",
          "name": "stdout",
          "text": [
            "distribution_channel\n",
            "Corporate    0.258199\n",
            "Direct       0.175855\n",
            "GDS          0.170455\n",
            "TA/TO        0.426689\n",
            "Name: is_canceled, dtype: float64\n"
          ]
        }
      ]
    },
    {
      "cell_type": "markdown",
      "source": [
        "Risposta n.4:  \n",
        "i valori relativi al segmento di mercato e il canale di distribuzione sembrano più o meno omogenei nei due dataset.\n",
        "Sia per quanto riguarda il segmento di mercato che il canale di distribuzione c'è una netta maggioranza per quanto riguarda i \"Travel Agents\" (sia online che offline ma con una netta preferenza per l'online per quanto riguarda il segmento di mercato).\n",
        "Per quanto riguarda il segmento di mercato \"Aviation\" e \"complementary\" hanno un numero di casi estremamente basso (neanche l'1%) e \"Groups\", \"Direct\" e \"Corporate\" non raggiungono insieme nemmeno il 30% dei casi. La distribuzione invece si distribuisce quasi totalmente sui \"Travel Agents\" che raggiungono in entrambi i dataset più dell'80% dei casi.\n",
        "Per il segmento di mercato la media delle cancellazioni è praticamente raddoppiata (rispetto a quella generale) per il valore \"Groups\" mentre è quasi la metà per \"Direct\".\n",
        "Un po' più alta rispetto alla media generale la media relativa alle cancellazioni per il valore \"TA/TO\" mentre molto più basse quelle degli altri valori.\n"
      ],
      "metadata": {
        "id": "7PfoBqlenlVk"
      }
    },
    {
      "cell_type": "markdown",
      "source": [
        "Domanda n.5: come si distribuisce il valore delle prenotazioni precedenti (cancellate e non) e come aver già prenotato presso l'hotel influisce sulla media delle cancellazioni? Esiste una differenza, per quanto riguarda la media delle cancellazioni, tra avere già avuto una prenotazione non cancellata e una cancellazione?"
      ],
      "metadata": {
        "id": "450pvgseHwha"
      }
    },
    {
      "cell_type": "code",
      "source": [
        "cancellazioni_tr = train[\"previous_cancellations\"].value_counts().sort_index()\n",
        "print(cancellazioni_tr)"
      ],
      "metadata": {
        "id": "j_UOmPJJJYlS",
        "outputId": "a1ce8758-b6cb-4fb3-e67c-37f20d4599c5",
        "colab": {
          "base_uri": "https://localhost:8080/"
        }
      },
      "execution_count": 127,
      "outputs": [
        {
          "output_type": "stream",
          "name": "stdout",
          "text": [
            "0     54936\n",
            "1      1595\n",
            "2        48\n",
            "3        51\n",
            "4        12\n",
            "5        13\n",
            "6         7\n",
            "11       33\n",
            "13       12\n",
            "Name: previous_cancellations, dtype: int64\n"
          ]
        }
      ]
    },
    {
      "cell_type": "code",
      "source": [
        "canc_prec_tot_train = tot_train - 54936\n",
        "print(canc_prec_tot_train)"
      ],
      "metadata": {
        "id": "rZcYJgf84krV",
        "outputId": "eca7a729-2e09-401f-dee2-3064d10bcfa1",
        "colab": {
          "base_uri": "https://localhost:8080/"
        }
      },
      "execution_count": 246,
      "outputs": [
        {
          "output_type": "stream",
          "name": "stdout",
          "text": [
            "1771\n"
          ]
        }
      ]
    },
    {
      "cell_type": "code",
      "source": [
        "cancellazioni_te = test[\"previous_cancellations\"].value_counts()\n",
        "print(cancellazioni_te)"
      ],
      "metadata": {
        "id": "2igQ1PJ9Mz_w",
        "outputId": "91c1bbc3-34a1-45d5-cb85-8e4d6b9dad7f",
        "colab": {
          "base_uri": "https://localhost:8080/"
        }
      },
      "execution_count": 128,
      "outputs": [
        {
          "output_type": "stream",
          "name": "stdout",
          "text": [
            "0    40409\n",
            "1      195\n",
            "2       37\n",
            "4       19\n",
            "6       15\n",
            "3        6\n",
            "5        6\n",
            "Name: previous_cancellations, dtype: int64\n"
          ]
        }
      ]
    },
    {
      "cell_type": "code",
      "source": [
        "canc_prec_tot_test = tot_test - 40409\n",
        "print(canc_prec_tot_test)"
      ],
      "metadata": {
        "id": "uBA4mkKM4wSe",
        "outputId": "b947791c-a084-4987-878b-aaa24d56611a",
        "colab": {
          "base_uri": "https://localhost:8080/"
        }
      },
      "execution_count": 247,
      "outputs": [
        {
          "output_type": "stream",
          "name": "stdout",
          "text": [
            "278\n"
          ]
        }
      ]
    },
    {
      "cell_type": "code",
      "source": [
        "non_cancellazioni_tr = train[\"previous_bookings_not_canceled\"].value_counts().sort_index()\n",
        "print(non_cancellazioni_tr)"
      ],
      "metadata": {
        "id": "3_XIlI2gM5hr",
        "outputId": "3febd84c-9556-4c9e-f941-752398cf2583",
        "colab": {
          "base_uri": "https://localhost:8080/"
        }
      },
      "execution_count": 129,
      "outputs": [
        {
          "output_type": "stream",
          "name": "stdout",
          "text": [
            "0     54827\n",
            "1       777\n",
            "2       289\n",
            "3       183\n",
            "4       138\n",
            "5       110\n",
            "6        62\n",
            "7        43\n",
            "8        36\n",
            "9        27\n",
            "10       22\n",
            "11       18\n",
            "12       15\n",
            "13       10\n",
            "14       11\n",
            "15       11\n",
            "16       10\n",
            "17        9\n",
            "18        9\n",
            "19        8\n",
            "20        9\n",
            "21        9\n",
            "22        9\n",
            "23        4\n",
            "24        4\n",
            "25       11\n",
            "26        2\n",
            "27        4\n",
            "28        3\n",
            "29        3\n",
            "30        2\n",
            "31        2\n",
            "32        2\n",
            "33        1\n",
            "34        1\n",
            "35        1\n",
            "36        1\n",
            "37        1\n",
            "38        1\n",
            "39        1\n",
            "40        1\n",
            "41        1\n",
            "42        1\n",
            "43        1\n",
            "44        2\n",
            "45        1\n",
            "46        1\n",
            "47        1\n",
            "48        2\n",
            "49        1\n",
            "50        1\n",
            "51        1\n",
            "52        1\n",
            "53        1\n",
            "54        1\n",
            "55        1\n",
            "56        1\n",
            "57        1\n",
            "58        1\n",
            "Name: previous_bookings_not_canceled, dtype: int64\n"
          ]
        }
      ]
    },
    {
      "cell_type": "code",
      "source": [
        "non_cancellazioni_te = test[\"previous_bookings_not_canceled\"].value_counts().sort_index()\n",
        "print(non_cancellazioni_te)"
      ],
      "metadata": {
        "id": "eYnS-MjONTQl",
        "outputId": "0c5c5b63-2cf0-4046-e9bb-5db3708988a6",
        "colab": {
          "base_uri": "https://localhost:8080/"
        }
      },
      "execution_count": 130,
      "outputs": [
        {
          "output_type": "stream",
          "name": "stdout",
          "text": [
            "0     39259\n",
            "1       590\n",
            "2       231\n",
            "3       122\n",
            "4        80\n",
            "5        60\n",
            "6        46\n",
            "7        39\n",
            "8        30\n",
            "9        30\n",
            "10       29\n",
            "11       23\n",
            "12       21\n",
            "13       19\n",
            "14       16\n",
            "15       10\n",
            "16       10\n",
            "17        7\n",
            "18        5\n",
            "19        5\n",
            "20        3\n",
            "21        3\n",
            "22        1\n",
            "23        3\n",
            "24        5\n",
            "25        6\n",
            "26        5\n",
            "27        5\n",
            "28        4\n",
            "29        3\n",
            "30        2\n",
            "58        1\n",
            "59        1\n",
            "60        1\n",
            "61        1\n",
            "62        1\n",
            "63        1\n",
            "64        1\n",
            "65        1\n",
            "66        1\n",
            "67        1\n",
            "68        1\n",
            "69        1\n",
            "70        1\n",
            "71        1\n",
            "72        1\n",
            "Name: previous_bookings_not_canceled, dtype: int64\n"
          ]
        }
      ]
    },
    {
      "cell_type": "code",
      "source": [
        "train[\"prenotazioni_precedenti\"] = train[\"previous_bookings_not_canceled\"] + train[\"previous_cancellations\"]\n",
        "prenotazioni_tr = train[\"prenotazioni_precedenti\"].value_counts().sort_index()\n",
        "print(prenotazioni_tr)"
      ],
      "metadata": {
        "id": "Nk1X51onPORW",
        "outputId": "142a5b3b-b291-43fb-8c5a-47c64d3c0c43",
        "colab": {
          "base_uri": "https://localhost:8080/"
        }
      },
      "execution_count": 234,
      "outputs": [
        {
          "output_type": "stream",
          "name": "stdout",
          "text": [
            "0     53380\n",
            "1      2162\n",
            "2       302\n",
            "3       179\n",
            "4       125\n",
            "      ...  \n",
            "59        1\n",
            "60        1\n",
            "61        1\n",
            "62        1\n",
            "64        1\n",
            "Name: prenotazioni_precedenti, Length: 63, dtype: int64\n"
          ]
        }
      ]
    },
    {
      "cell_type": "code",
      "source": [
        "pren_prec_tot_train= tot_train - 53380\n",
        "print(pren_prec_tot_train)"
      ],
      "metadata": {
        "id": "aF9JkVwf3a7s",
        "outputId": "93bd524a-9d03-42d0-ae91-e27a9ec583e6",
        "colab": {
          "base_uri": "https://localhost:8080/"
        }
      },
      "execution_count": 244,
      "outputs": [
        {
          "output_type": "stream",
          "name": "stdout",
          "text": [
            "3327\n"
          ]
        }
      ]
    },
    {
      "cell_type": "code",
      "source": [
        "test[\"prenotazioni_precedenti\"] = test[\"previous_bookings_not_canceled\"] + test[\"previous_cancellations\"]\n",
        "prenotazioni_te = test[\"prenotazioni_precedenti\"].value_counts().sort_index()\n",
        "print(prenotazioni_te)"
      ],
      "metadata": {
        "id": "evpMaTvHUtIN",
        "outputId": "dc8691fb-a6f7-46a2-c26a-3961f9d00728",
        "colab": {
          "base_uri": "https://localhost:8080/"
        }
      },
      "execution_count": 132,
      "outputs": [
        {
          "output_type": "stream",
          "name": "stdout",
          "text": [
            "0     39253\n",
            "1       570\n",
            "2       236\n",
            "3       122\n",
            "4        89\n",
            "5        58\n",
            "6        47\n",
            "7        31\n",
            "8        32\n",
            "9        31\n",
            "10       26\n",
            "11       23\n",
            "12       21\n",
            "13       18\n",
            "14       18\n",
            "15       15\n",
            "16       14\n",
            "17       10\n",
            "18        5\n",
            "19        5\n",
            "20        5\n",
            "21        3\n",
            "22        2\n",
            "23        3\n",
            "24        5\n",
            "25        6\n",
            "26        4\n",
            "27        5\n",
            "28        4\n",
            "29        3\n",
            "30        3\n",
            "31        2\n",
            "32        1\n",
            "33        1\n",
            "34        1\n",
            "64        1\n",
            "65        1\n",
            "66        1\n",
            "67        1\n",
            "68        1\n",
            "69        1\n",
            "70        1\n",
            "71        1\n",
            "72        1\n",
            "73        1\n",
            "74        1\n",
            "75        1\n",
            "76        1\n",
            "77        1\n",
            "78        1\n",
            "Name: prenotazioni_precedenti, dtype: int64\n"
          ]
        }
      ]
    },
    {
      "cell_type": "code",
      "source": [
        "pren_prec_tot_test= tot_test - 39253\n",
        "print(pren_prec_tot_test)"
      ],
      "metadata": {
        "id": "Eu1AAvpi4R-3",
        "outputId": "4976eed1-3490-4f34-d48b-b6300be26f2d",
        "colab": {
          "base_uri": "https://localhost:8080/"
        }
      },
      "execution_count": 245,
      "outputs": [
        {
          "output_type": "stream",
          "name": "stdout",
          "text": [
            "1434\n"
          ]
        }
      ]
    },
    {
      "cell_type": "code",
      "source": [
        "media_canc_non_canc_tr=train.groupby(train[\"previous_bookings_not_canceled\"])[\"is_canceled\"].mean()\n",
        "print(media_canc_non_canc_tr)"
      ],
      "metadata": {
        "id": "ANMgOlw5OHLc",
        "outputId": "0772d63d-b109-43cb-d402-c6c2aec5988d",
        "colab": {
          "base_uri": "https://localhost:8080/"
        }
      },
      "execution_count": 236,
      "outputs": [
        {
          "output_type": "stream",
          "name": "stdout",
          "text": [
            "previous_bookings_not_canceled\n",
            "0     0.368924\n",
            "1     0.055341\n",
            "2     0.038062\n",
            "3     0.043716\n",
            "4     0.072464\n",
            "5     0.081818\n",
            "6     0.048387\n",
            "7     0.023256\n",
            "8     0.055556\n",
            "9     0.000000\n",
            "10    0.136364\n",
            "11    0.111111\n",
            "12    0.200000\n",
            "13    0.000000\n",
            "14    0.000000\n",
            "15    0.181818\n",
            "16    0.000000\n",
            "17    0.000000\n",
            "18    0.000000\n",
            "19    0.000000\n",
            "20    0.000000\n",
            "21    0.000000\n",
            "22    0.000000\n",
            "23    0.000000\n",
            "24    0.000000\n",
            "25    0.727273\n",
            "26    0.000000\n",
            "27    0.250000\n",
            "28    0.000000\n",
            "29    0.333333\n",
            "30    0.000000\n",
            "31    0.000000\n",
            "32    0.000000\n",
            "33    0.000000\n",
            "34    0.000000\n",
            "35    0.000000\n",
            "36    0.000000\n",
            "37    0.000000\n",
            "38    0.000000\n",
            "39    0.000000\n",
            "40    0.000000\n",
            "41    0.000000\n",
            "42    0.000000\n",
            "43    0.000000\n",
            "44    0.500000\n",
            "45    0.000000\n",
            "46    0.000000\n",
            "47    0.000000\n",
            "48    0.500000\n",
            "49    0.000000\n",
            "50    0.000000\n",
            "51    0.000000\n",
            "52    0.000000\n",
            "53    0.000000\n",
            "54    0.000000\n",
            "55    0.000000\n",
            "56    0.000000\n",
            "57    0.000000\n",
            "58    1.000000\n",
            "Name: is_canceled, dtype: float64\n"
          ]
        }
      ]
    },
    {
      "cell_type": "code",
      "source": [
        "media_canc_non_canc_te =test.groupby(test[\"previous_bookings_not_canceled\"])[\"is_canceled\"].mean()\n",
        "print(media_canc_non_canc_te)"
      ],
      "metadata": {
        "id": "Df6Xuys6NiEa",
        "outputId": "d726b6cd-7d02-45a0-86c1-aef1a71611f8",
        "colab": {
          "base_uri": "https://localhost:8080/"
        }
      },
      "execution_count": 237,
      "outputs": [
        {
          "output_type": "stream",
          "name": "stdout",
          "text": [
            "previous_bookings_not_canceled\n",
            "0     0.399272\n",
            "1     0.049153\n",
            "2     0.060606\n",
            "3     0.040984\n",
            "4     0.025000\n",
            "5     0.016667\n",
            "6     0.000000\n",
            "7     0.076923\n",
            "8     0.033333\n",
            "9     0.000000\n",
            "10    0.137931\n",
            "11    0.130435\n",
            "12    0.000000\n",
            "13    0.105263\n",
            "14    0.125000\n",
            "15    0.000000\n",
            "16    0.100000\n",
            "17    0.142857\n",
            "18    0.000000\n",
            "19    0.000000\n",
            "20    0.000000\n",
            "21    0.000000\n",
            "22    0.000000\n",
            "23    0.000000\n",
            "24    0.000000\n",
            "25    0.000000\n",
            "26    0.200000\n",
            "27    0.200000\n",
            "28    0.000000\n",
            "29    0.000000\n",
            "30    0.000000\n",
            "58    0.000000\n",
            "59    0.000000\n",
            "60    0.000000\n",
            "61    0.000000\n",
            "62    0.000000\n",
            "63    0.000000\n",
            "64    0.000000\n",
            "65    0.000000\n",
            "66    0.000000\n",
            "67    0.000000\n",
            "68    0.000000\n",
            "69    0.000000\n",
            "70    0.000000\n",
            "71    0.000000\n",
            "72    0.000000\n",
            "Name: is_canceled, dtype: float64\n"
          ]
        }
      ]
    },
    {
      "cell_type": "code",
      "source": [
        "media_canc_canc_tr = train.groupby(train[\"previous_cancellations\"])[\"is_canceled\"].mean()\n",
        "print(media_canc_canc_tr)"
      ],
      "metadata": {
        "id": "3Whe03PWVAq6",
        "outputId": "46ccbe59-47ba-4326-c574-dc5893921421",
        "colab": {
          "base_uri": "https://localhost:8080/"
        }
      },
      "execution_count": 238,
      "outputs": [
        {
          "output_type": "stream",
          "name": "stdout",
          "text": [
            "previous_cancellations\n",
            "0     0.342799\n",
            "1     0.909718\n",
            "2     0.312500\n",
            "3     0.196078\n",
            "4     0.083333\n",
            "5     0.153846\n",
            "6     1.000000\n",
            "11    0.242424\n",
            "13    0.916667\n",
            "Name: is_canceled, dtype: float64\n"
          ]
        }
      ]
    },
    {
      "cell_type": "code",
      "source": [
        "media_canc_canc_te = test.groupby(test[\"previous_cancellations\"])[\"is_canceled\"].mean()\n",
        "print(media_canc_canc_te)"
      ],
      "metadata": {
        "id": "bFsGmYm5Vhmg",
        "outputId": "d45a4155-1982-4757-c6f4-06e26c41e61f",
        "colab": {
          "base_uri": "https://localhost:8080/"
        }
      },
      "execution_count": 239,
      "outputs": [
        {
          "output_type": "stream",
          "name": "stdout",
          "text": [
            "previous_cancellations\n",
            "0    0.388453\n",
            "1    0.174359\n",
            "2    0.162162\n",
            "3    0.333333\n",
            "4    0.315789\n",
            "5    0.000000\n",
            "6    0.000000\n",
            "Name: is_canceled, dtype: float64\n"
          ]
        }
      ]
    },
    {
      "cell_type": "code",
      "source": [
        "media_pren_prec_tr=train.groupby(train[\"prenotazioni_precedenti\"])[\"is_canceled\"].mean()\n",
        "print(media_pren_prec_tr)"
      ],
      "metadata": {
        "id": "eq9p2QCoU3_e",
        "outputId": "d22b0e01-6dd1-4ffa-c564-58ac7be75623",
        "colab": {
          "base_uri": "https://localhost:8080/"
        }
      },
      "execution_count": 241,
      "outputs": [
        {
          "output_type": "stream",
          "name": "stdout",
          "text": [
            "prenotazioni_precedenti\n",
            "0     0.352154\n",
            "1     0.663275\n",
            "2     0.076159\n",
            "3     0.039106\n",
            "4     0.056000\n",
            "        ...   \n",
            "59    0.000000\n",
            "60    0.000000\n",
            "61    0.000000\n",
            "62    0.000000\n",
            "64    1.000000\n",
            "Name: is_canceled, Length: 63, dtype: float64\n"
          ]
        }
      ]
    },
    {
      "cell_type": "code",
      "source": [
        "media_pren_prec_te=test.groupby(test[\"prenotazioni_precedenti\"])[\"is_canceled\"].mean()\n",
        "print(media_pren_prec_te)"
      ],
      "metadata": {
        "id": "e9VUjubAVez6",
        "outputId": "2e3a660d-b11c-4f20-e2cb-3667aed57cbc",
        "colab": {
          "base_uri": "https://localhost:8080/"
        }
      },
      "execution_count": 240,
      "outputs": [
        {
          "output_type": "stream",
          "name": "stdout",
          "text": [
            "prenotazioni_precedenti\n",
            "0     0.399256\n",
            "1     0.024561\n",
            "2     0.093220\n",
            "3     0.073770\n",
            "4     0.067416\n",
            "5     0.051724\n",
            "6     0.000000\n",
            "7     0.032258\n",
            "8     0.031250\n",
            "9     0.032258\n",
            "10    0.076923\n",
            "11    0.130435\n",
            "12    0.000000\n",
            "13    0.000000\n",
            "14    0.055556\n",
            "15    0.200000\n",
            "16    0.214286\n",
            "17    0.100000\n",
            "18    0.000000\n",
            "19    0.000000\n",
            "20    0.000000\n",
            "21    0.333333\n",
            "22    0.000000\n",
            "23    0.000000\n",
            "24    0.000000\n",
            "25    0.000000\n",
            "26    0.000000\n",
            "27    0.200000\n",
            "28    0.000000\n",
            "29    0.000000\n",
            "30    0.333333\n",
            "31    0.000000\n",
            "32    0.000000\n",
            "33    0.000000\n",
            "34    0.000000\n",
            "64    0.000000\n",
            "65    0.000000\n",
            "66    0.000000\n",
            "67    0.000000\n",
            "68    0.000000\n",
            "69    0.000000\n",
            "70    0.000000\n",
            "71    0.000000\n",
            "72    0.000000\n",
            "73    0.000000\n",
            "74    0.000000\n",
            "75    0.000000\n",
            "76    0.000000\n",
            "77    0.000000\n",
            "78    0.000000\n",
            "Name: is_canceled, dtype: float64\n"
          ]
        }
      ]
    },
    {
      "cell_type": "markdown",
      "source": [
        "Risposta n.5: Il numero di persone che hanno almeno una prenotazione non cancellata presso l'hotel è abbastanza omogeneo nei due dataset ().  Quello invece al numero di ospiti con almeno una cancellazione riscontra un valore anomalo, in quanto nel train è di 1771 e invece nel test appena 278, in più la media di cancellazioni, nel train, di chi aveva già una cancellazione precedente risulta estremamente alta (90% circa). In generale avere già una prenotazione precedente diminuisce di molto la media delle cancellazioni, questo è più evidente per chi aveva una prenotazione non cancellata."
      ],
      "metadata": {
        "id": "oM9yc0bvOA4G"
      }
    },
    {
      "cell_type": "markdown",
      "source": [
        "Controllare la distribuzione in base al tipo di hotel selezionato"
      ],
      "metadata": {
        "id": "ngkEcqMPH5oE"
      }
    },
    {
      "cell_type": "markdown",
      "source": [
        "Controllare la distribuzione in base ai giorni in attesa"
      ],
      "metadata": {
        "id": "UIsJQn48KxI_"
      }
    },
    {
      "cell_type": "code",
      "source": [
        "attesa_tr = train[\"days_in_waiting_list\"].value_counts().sort_index()\n",
        "print(attesa_tr)"
      ],
      "metadata": {
        "id": "yJ_qqzayLE7d",
        "outputId": "15f3c7fb-72be-4171-aa40-6f8e79a293b4",
        "colab": {
          "base_uri": "https://localhost:8080/"
        }
      },
      "execution_count": 139,
      "outputs": [
        {
          "output_type": "stream",
          "name": "stdout",
          "text": [
            "0      53958\n",
            "1          8\n",
            "2          3\n",
            "3         59\n",
            "4         20\n",
            "       ...  \n",
            "236       35\n",
            "259       10\n",
            "330       15\n",
            "379       15\n",
            "391       45\n",
            "Name: days_in_waiting_list, Length: 94, dtype: int64\n"
          ]
        }
      ]
    },
    {
      "cell_type": "code",
      "source": [
        "waiting_people = tot_train - 53958\n",
        "print(waiting_people)"
      ],
      "metadata": {
        "id": "6WVDkD8vMJLs",
        "outputId": "ad36abf2-8ce2-43dc-a5cf-6018d9e624f1",
        "colab": {
          "base_uri": "https://localhost:8080/"
        }
      },
      "execution_count": 140,
      "outputs": [
        {
          "output_type": "stream",
          "name": "stdout",
          "text": [
            "2749\n"
          ]
        }
      ]
    },
    {
      "cell_type": "code",
      "source": [
        "attesa_te = test[\"days_in_waiting_list\"].value_counts().sort_index()\n",
        "print(attesa_te)"
      ],
      "metadata": {
        "id": "nfKf2eKEIBK8",
        "outputId": "056d16b2-2431-4622-964b-b9eec043c482",
        "colab": {
          "base_uri": "https://localhost:8080/"
        }
      },
      "execution_count": 141,
      "outputs": [
        {
          "output_type": "stream",
          "name": "stdout",
          "text": [
            "0      40487\n",
            "1          4\n",
            "2          2\n",
            "4          5\n",
            "5          6\n",
            "       ...  \n",
            "165        1\n",
            "175        1\n",
            "183        1\n",
            "185        2\n",
            "223        1\n",
            "Name: days_in_waiting_list, Length: 76, dtype: int64\n"
          ]
        }
      ]
    },
    {
      "cell_type": "code",
      "source": [
        "waiting_people_test = tot_test - 40487\n",
        "print(waiting_people_test)"
      ],
      "metadata": {
        "id": "m_HELkC0M-dI",
        "outputId": "7ca6d232-4e8d-4d27-c9eb-99f2f3364657",
        "colab": {
          "base_uri": "https://localhost:8080/"
        }
      },
      "execution_count": 142,
      "outputs": [
        {
          "output_type": "stream",
          "name": "stdout",
          "text": [
            "200\n"
          ]
        }
      ]
    },
    {
      "cell_type": "markdown",
      "source": [
        "I due dataset differiscono molto nei valori relativi alle persone che sono rimaste in lista d'attesa, difatti, nel train dataset abbiamo 2750 persone con valori che vanno da 0 a 391 giorni in lista d'attesa, nel secondo, invece, i casi scendono a 200 con valori da 0 a 223."
      ],
      "metadata": {
        "id": "fWEMRiRUIQwJ"
      }
    },
    {
      "cell_type": "markdown",
      "source": [
        "Controllare i valori in base al tipo di stanza prenotata e il tipo di stanza assegnata e come influisce il cambio nelle cancellazioni."
      ],
      "metadata": {
        "id": "ngxdU9ZQNMvc"
      }
    },
    {
      "cell_type": "markdown",
      "source": [
        "controllare la distribuzione in base al \"customer Type\". (fino a qui Salvo)"
      ],
      "metadata": {
        "id": "RUfKyvABOhW_"
      }
    },
    {
      "cell_type": "markdown",
      "source": [
        "Controllare la distribuzione dei dati in base alla durata del soggiorno (fare una colonna \"days\" (weekend + week))"
      ],
      "metadata": {
        "id": "UTSjn7hIPWKT"
      }
    },
    {
      "cell_type": "code",
      "source": [
        "weekend_tr = train[\"stays_in_weekend_nights\"].value_counts().sort_index()\n",
        "print(weekend_tr)"
      ],
      "metadata": {
        "id": "oGObUmI4uFH4",
        "outputId": "32af4efe-2f8f-4e6e-b996-fc2d601813d1",
        "colab": {
          "base_uri": "https://localhost:8080/"
        }
      },
      "execution_count": 143,
      "outputs": [
        {
          "output_type": "stream",
          "name": "stdout",
          "text": [
            "0     25340\n",
            "1     14987\n",
            "2     14807\n",
            "3       602\n",
            "4       818\n",
            "5        44\n",
            "6        59\n",
            "7         7\n",
            "8        29\n",
            "9         6\n",
            "10        2\n",
            "12        2\n",
            "14        2\n",
            "16        1\n",
            "19        1\n",
            "Name: stays_in_weekend_nights, dtype: int64\n"
          ]
        }
      ]
    },
    {
      "cell_type": "code",
      "source": [
        "weekend_te = test[\"stays_in_weekend_nights\"].value_counts().sort_index()\n",
        "print(weekend_te)"
      ],
      "metadata": {
        "id": "oLCoChf7uQkK",
        "outputId": "36d51fd8-7cf9-41c4-b596-73c686d61240",
        "colab": {
          "base_uri": "https://localhost:8080/"
        }
      },
      "execution_count": 144,
      "outputs": [
        {
          "output_type": "stream",
          "name": "stdout",
          "text": [
            "0     16885\n",
            "1     10433\n",
            "2     12138\n",
            "3       408\n",
            "4       689\n",
            "5        15\n",
            "6        81\n",
            "7         2\n",
            "8        23\n",
            "9         1\n",
            "10        5\n",
            "12        3\n",
            "13        2\n",
            "16        2\n",
            "Name: stays_in_weekend_nights, dtype: int64\n"
          ]
        }
      ]
    },
    {
      "cell_type": "code",
      "source": [
        "week_tr=train[\"stays_in_week_nights\"].value_counts().sort_index()\n",
        "print(week_tr)"
      ],
      "metadata": {
        "id": "3DwunHyeuVS7",
        "outputId": "9ceda71f-a8bd-462f-fcff-f93a0b9ef78d",
        "colab": {
          "base_uri": "https://localhost:8080/"
        }
      },
      "execution_count": 145,
      "outputs": [
        {
          "output_type": "stream",
          "name": "stdout",
          "text": [
            "0      3978\n",
            "1     14464\n",
            "2     16209\n",
            "3     10651\n",
            "4      4376\n",
            "5      4901\n",
            "6       640\n",
            "7       455\n",
            "8       289\n",
            "9        97\n",
            "10      487\n",
            "11       27\n",
            "12       15\n",
            "13       12\n",
            "14       11\n",
            "15       37\n",
            "16        3\n",
            "17        3\n",
            "18        5\n",
            "19        4\n",
            "20       22\n",
            "21        8\n",
            "22        3\n",
            "24        1\n",
            "25        3\n",
            "30        2\n",
            "34        1\n",
            "35        1\n",
            "41        1\n",
            "50        1\n",
            "Name: stays_in_week_nights, dtype: int64\n"
          ]
        }
      ]
    },
    {
      "cell_type": "code",
      "source": [
        "week_te = test[\"stays_in_week_nights\"].value_counts().sort_index()\n",
        "print(week_te)"
      ],
      "metadata": {
        "id": "BkRTMsKiudDS",
        "outputId": "03f1ee44-0c38-4f57-cbec-9484ca181fa8",
        "colab": {
          "base_uri": "https://localhost:8080/"
        }
      },
      "execution_count": 146,
      "outputs": [
        {
          "output_type": "stream",
          "name": "stdout",
          "text": [
            "0      2452\n",
            "1      9864\n",
            "2     10535\n",
            "3      8349\n",
            "4      3587\n",
            "5      4187\n",
            "6       515\n",
            "7       362\n",
            "8       236\n",
            "9        88\n",
            "10      338\n",
            "11       14\n",
            "12       18\n",
            "13        8\n",
            "14       22\n",
            "15       33\n",
            "16        7\n",
            "17        1\n",
            "18        1\n",
            "19       39\n",
            "20       12\n",
            "21        5\n",
            "22        4\n",
            "25        3\n",
            "26        1\n",
            "30        3\n",
            "32        1\n",
            "40        2\n",
            "Name: stays_in_week_nights, dtype: int64\n"
          ]
        }
      ]
    },
    {
      "cell_type": "code",
      "source": [
        "media_weekend_tr = train[\"stays_in_weekend_nights\"].mean()\n",
        "print(media_weekend_tr)"
      ],
      "metadata": {
        "id": "QPOMhVGxukHC",
        "outputId": "6d5d4b39-6ea6-4311-de12-f88a73b990ab",
        "colab": {
          "base_uri": "https://localhost:8080/"
        }
      },
      "execution_count": 147,
      "outputs": [
        {
          "output_type": "stream",
          "name": "stdout",
          "text": [
            "0.8939813426913785\n"
          ]
        }
      ]
    },
    {
      "cell_type": "code",
      "source": [
        "media_weekend_te = test[\"stays_in_weekend_nights\"].mean()\n",
        "print(media_weekend_te)"
      ],
      "metadata": {
        "id": "qyhwIM-GuxAv",
        "outputId": "71d64214-2903-48dc-9183-fe47d7157fab",
        "colab": {
          "base_uri": "https://localhost:8080/"
        }
      },
      "execution_count": 148,
      "outputs": [
        {
          "output_type": "stream",
          "name": "stdout",
          "text": [
            "0.9733084277533365\n"
          ]
        }
      ]
    },
    {
      "cell_type": "code",
      "source": [
        "media_week_tr =train[\"stays_in_week_nights\"].mean()\n",
        "print(media_week_tr)"
      ],
      "metadata": {
        "id": "7Y4t3twZunMi",
        "outputId": "35b2c1ce-2421-4fa7-f1fa-f30c8d93e3d4",
        "colab": {
          "base_uri": "https://localhost:8080/"
        }
      },
      "execution_count": 149,
      "outputs": [
        {
          "output_type": "stream",
          "name": "stdout",
          "text": [
            "2.4428024758848115\n"
          ]
        }
      ]
    },
    {
      "cell_type": "code",
      "source": [
        "media_week_te = test[\"stays_in_week_nights\"].mean()\n",
        "print(media_week_te)"
      ],
      "metadata": {
        "id": "Zj_WVShkuz5m",
        "outputId": "0a0a7cd8-e489-4694-ffd1-d4b7a357814b",
        "colab": {
          "base_uri": "https://localhost:8080/"
        }
      },
      "execution_count": 150,
      "outputs": [
        {
          "output_type": "stream",
          "name": "stdout",
          "text": [
            "2.601543490549807\n"
          ]
        }
      ]
    },
    {
      "cell_type": "code",
      "source": [
        "per_week_tr = (week_tr / len(train) * 100).sort_index()\n",
        "print(per_week_tr)"
      ],
      "metadata": {
        "id": "hfhlHhrMu9CS",
        "outputId": "60672905-8a0b-4ad2-bcb9-e640d842639b",
        "colab": {
          "base_uri": "https://localhost:8080/"
        }
      },
      "execution_count": 151,
      "outputs": [
        {
          "output_type": "stream",
          "name": "stdout",
          "text": [
            "0      7.015007\n",
            "1     25.506551\n",
            "2     28.583773\n",
            "3     18.782514\n",
            "4      7.716860\n",
            "5      8.642672\n",
            "6      1.128608\n",
            "7      0.802370\n",
            "8      0.509637\n",
            "9      0.171055\n",
            "10     0.858801\n",
            "11     0.047613\n",
            "12     0.026452\n",
            "13     0.021161\n",
            "14     0.019398\n",
            "15     0.065248\n",
            "16     0.005290\n",
            "17     0.005290\n",
            "18     0.008817\n",
            "19     0.007054\n",
            "20     0.038796\n",
            "21     0.014108\n",
            "22     0.005290\n",
            "24     0.001763\n",
            "25     0.005290\n",
            "30     0.003527\n",
            "34     0.001763\n",
            "35     0.001763\n",
            "41     0.001763\n",
            "50     0.001763\n",
            "Name: stays_in_week_nights, dtype: float64\n"
          ]
        }
      ]
    },
    {
      "cell_type": "code",
      "source": [
        "per_week_te = (week_te / len(test) * 100).sort_index()\n",
        "print(per_week_te)"
      ],
      "metadata": {
        "id": "14eBDEIivCIC",
        "outputId": "a04d93d3-7ce1-4ab0-a113-188bd0bc53f9",
        "colab": {
          "base_uri": "https://localhost:8080/"
        }
      },
      "execution_count": 152,
      "outputs": [
        {
          "output_type": "stream",
          "name": "stdout",
          "text": [
            "0      6.026495\n",
            "1     24.243616\n",
            "2     25.892791\n",
            "3     20.520068\n",
            "4      8.816084\n",
            "5     10.290756\n",
            "6      1.265761\n",
            "7      0.889719\n",
            "8      0.580038\n",
            "9      0.216285\n",
            "10     0.830732\n",
            "11     0.034409\n",
            "12     0.044240\n",
            "13     0.019662\n",
            "14     0.054071\n",
            "15     0.081107\n",
            "16     0.017205\n",
            "17     0.002458\n",
            "18     0.002458\n",
            "19     0.095854\n",
            "20     0.029493\n",
            "21     0.012289\n",
            "22     0.009831\n",
            "25     0.007373\n",
            "26     0.002458\n",
            "30     0.007373\n",
            "32     0.002458\n",
            "40     0.004916\n",
            "Name: stays_in_week_nights, dtype: float64\n"
          ]
        }
      ]
    },
    {
      "cell_type": "code",
      "source": [
        "train[\"giorni_totali\"] = train[\"stays_in_week_nights\"] + train[\"stays_in_weekend_nights\"]\n",
        "giorni_tr = train[\"giorni_totali\"].value_counts().sort_index()\n",
        "print(giorni_tr)"
      ],
      "metadata": {
        "id": "9irS3rYbxTec",
        "outputId": "368cb4c7-e295-41c0-b3ed-6421c3d6e921",
        "colab": {
          "base_uri": "https://localhost:8080/"
        }
      },
      "execution_count": 153,
      "outputs": [
        {
          "output_type": "stream",
          "name": "stdout",
          "text": [
            "0       417\n",
            "1     10803\n",
            "2     12912\n",
            "3     13119\n",
            "4      7928\n",
            "5      3672\n",
            "6      1817\n",
            "7      3711\n",
            "8       507\n",
            "9       389\n",
            "10      494\n",
            "11      169\n",
            "12       94\n",
            "13       54\n",
            "14      435\n",
            "15       46\n",
            "16       12\n",
            "17       11\n",
            "18        8\n",
            "19        7\n",
            "20       10\n",
            "21       34\n",
            "22        3\n",
            "23        2\n",
            "24        4\n",
            "25        1\n",
            "26        5\n",
            "27        1\n",
            "28       19\n",
            "29        8\n",
            "30        5\n",
            "33        1\n",
            "34        1\n",
            "35        2\n",
            "42        2\n",
            "48        1\n",
            "49        1\n",
            "57        1\n",
            "69        1\n",
            "Name: giorni_totali, dtype: int64\n"
          ]
        }
      ]
    },
    {
      "cell_type": "code",
      "source": [
        "test[\"giorni_totali\"] = test[\"stays_in_week_nights\"] + test[\"stays_in_weekend_nights\"]\n",
        "giorni_te=test[\"giorni_totali\"].value_counts().sort_index()\n",
        "print(giorni_te)"
      ],
      "metadata": {
        "id": "VMj0w5HKx2AN",
        "outputId": "2534dee7-5b06-4e54-ef14-4c86c020e1d8",
        "colab": {
          "base_uri": "https://localhost:8080/"
        }
      },
      "execution_count": 154,
      "outputs": [
        {
          "output_type": "stream",
          "name": "stdout",
          "text": [
            "0      144\n",
            "1     6764\n",
            "2     8159\n",
            "3     9681\n",
            "4     6558\n",
            "5     2862\n",
            "6     1300\n",
            "7     3370\n",
            "8      380\n",
            "9      280\n",
            "10     421\n",
            "11     155\n",
            "12      82\n",
            "13      37\n",
            "14     314\n",
            "15      16\n",
            "16      17\n",
            "17       5\n",
            "18      23\n",
            "19       7\n",
            "20       1\n",
            "21      32\n",
            "22       5\n",
            "23       1\n",
            "24       2\n",
            "25      36\n",
            "26       1\n",
            "27       3\n",
            "28      10\n",
            "29       4\n",
            "30       7\n",
            "35       3\n",
            "38       1\n",
            "42       2\n",
            "43       1\n",
            "45       1\n",
            "56       2\n",
            "Name: giorni_totali, dtype: int64\n"
          ]
        }
      ]
    },
    {
      "cell_type": "markdown",
      "source": [
        "Rispondere alla domanda. valori anomali 0 giorni totali"
      ],
      "metadata": {
        "id": "4V385IkDwncS"
      }
    },
    {
      "cell_type": "markdown",
      "source": [
        "Controllare la distribuzione di dati in base al tipo di prenotazione e pasti prenotati (b&b etc.)"
      ],
      "metadata": {
        "id": "ajwYQQ3FP_ii"
      }
    },
    {
      "cell_type": "code",
      "source": [
        "room_type_tr = train_non[\"reserved_room_type\"].value_counts().sort_index()\n",
        "print(room_type_tr)"
      ],
      "metadata": {
        "id": "x2e5giTzwq_q",
        "outputId": "6b90af26-c953-4092-de6b-a52ad7f90d01",
        "colab": {
          "base_uri": "https://localhost:8080/"
        }
      },
      "execution_count": 155,
      "outputs": [
        {
          "output_type": "stream",
          "name": "stdout",
          "text": [
            "A    40718\n",
            "B      672\n",
            "C      282\n",
            "D     9421\n",
            "E     2881\n",
            "F     1424\n",
            "G      997\n",
            "H      306\n",
            "P        6\n",
            "Name: reserved_room_type, dtype: int64\n"
          ]
        }
      ]
    },
    {
      "cell_type": "code",
      "source": [
        "room_type_te=test_non[\"reserved_room_type\"].value_counts().sort_index()\n",
        "print(room_type_te)"
      ],
      "metadata": {
        "id": "Jt0QY_1jycgR",
        "outputId": "3323a638-036e-403e-abdb-aed613ace46e",
        "colab": {
          "base_uri": "https://localhost:8080/"
        }
      },
      "execution_count": 156,
      "outputs": [
        {
          "output_type": "stream",
          "name": "stdout",
          "text": [
            "A    27556\n",
            "B      202\n",
            "C      479\n",
            "D     7594\n",
            "E     2701\n",
            "F     1099\n",
            "G      837\n",
            "H      213\n",
            "P        6\n",
            "Name: reserved_room_type, dtype: int64\n"
          ]
        }
      ]
    },
    {
      "cell_type": "code",
      "source": [
        "room_assigned_tr = train_non[\"assigned_room_type\"].value_counts().sort_index()\n",
        "print(room_assigned_tr)"
      ],
      "metadata": {
        "id": "1EPvhtvOyjpF",
        "outputId": "a014b731-a1d5-4639-bf96-3d52e92a4091",
        "colab": {
          "base_uri": "https://localhost:8080/"
        }
      },
      "execution_count": 157,
      "outputs": [
        {
          "output_type": "stream",
          "name": "stdout",
          "text": [
            "A    34690\n",
            "B     1346\n",
            "C      984\n",
            "D    12403\n",
            "E     3574\n",
            "F     1799\n",
            "G     1210\n",
            "H      339\n",
            "I      215\n",
            "K      141\n",
            "P        6\n",
            "Name: assigned_room_type, dtype: int64\n"
          ]
        }
      ]
    },
    {
      "cell_type": "code",
      "source": [
        "room_assigned_te=test_non[\"assigned_room_type\"].value_counts().sort_index()\n",
        "print(room_assigned_te)"
      ],
      "metadata": {
        "id": "GsZvJYLDyqhG",
        "outputId": "73ed88b6-e905-47b4-db8f-fa4cbe82eb93",
        "colab": {
          "base_uri": "https://localhost:8080/"
        }
      },
      "execution_count": 158,
      "outputs": [
        {
          "output_type": "stream",
          "name": "stdout",
          "text": [
            "A    24922\n",
            "B      304\n",
            "C      913\n",
            "D     8903\n",
            "E     2900\n",
            "F     1320\n",
            "G      960\n",
            "H      247\n",
            "I      103\n",
            "K      109\n",
            "P        6\n",
            "Name: assigned_room_type, dtype: int64\n"
          ]
        }
      ]
    },
    {
      "cell_type": "code",
      "source": [
        "per_room_tr = (room_type_tr / len(train) * 100).sort_index()\n",
        "print(per_room_tr)"
      ],
      "metadata": {
        "id": "sblzKI04y1rb",
        "outputId": "936db794-c3ec-40ce-e7cd-afe953478aed",
        "colab": {
          "base_uri": "https://localhost:8080/"
        }
      },
      "execution_count": 159,
      "outputs": [
        {
          "output_type": "stream",
          "name": "stdout",
          "text": [
            "A    71.804186\n",
            "B     1.185039\n",
            "C     0.497293\n",
            "D    16.613469\n",
            "E     5.080502\n",
            "F     2.511154\n",
            "G     1.758160\n",
            "H     0.539616\n",
            "P     0.010581\n",
            "Name: reserved_room_type, dtype: float64\n"
          ]
        }
      ]
    },
    {
      "cell_type": "code",
      "source": [
        "per_room_te = (room_type_te / len(test) * 100).sort_index()\n",
        "print(per_room_te)"
      ],
      "metadata": {
        "id": "5y82ZIKmzYny",
        "outputId": "6b9136ff-becd-4e1a-e7bf-dfccd54a53e1",
        "colab": {
          "base_uri": "https://localhost:8080/"
        }
      },
      "execution_count": 160,
      "outputs": [
        {
          "output_type": "stream",
          "name": "stdout",
          "text": [
            "A    67.726792\n",
            "B     0.496473\n",
            "C     1.177280\n",
            "D    18.664438\n",
            "E     6.638484\n",
            "F     2.701108\n",
            "G     2.057168\n",
            "H     0.523509\n",
            "P     0.014747\n",
            "Name: reserved_room_type, dtype: float64\n"
          ]
        }
      ]
    },
    {
      "cell_type": "code",
      "source": [
        "per_assigned_tr = (room_assigned_tr / len(train) * 100).sort_index()\n",
        "print(per_assigned_tr)"
      ],
      "metadata": {
        "id": "AOhaBtDZ0eO-",
        "outputId": "855eef34-06f3-4e4c-a46e-6cc9fc8250b3",
        "colab": {
          "base_uri": "https://localhost:8080/"
        }
      },
      "execution_count": 161,
      "outputs": [
        {
          "output_type": "stream",
          "name": "stdout",
          "text": [
            "A    61.174105\n",
            "B     2.373605\n",
            "C     1.735236\n",
            "D    21.872079\n",
            "E     6.302573\n",
            "F     3.172448\n",
            "G     2.133775\n",
            "H     0.597810\n",
            "I     0.379142\n",
            "K     0.248647\n",
            "P     0.010581\n",
            "Name: assigned_room_type, dtype: float64\n"
          ]
        }
      ]
    },
    {
      "cell_type": "code",
      "source": [
        "per_assigned_te = (room_assigned_te / len(test) * 100).sort_index()\n",
        "print(per_assigned_te)"
      ],
      "metadata": {
        "id": "IIp9tenf0lDX",
        "outputId": "8a4487d4-52d9-4229-ee5e-b0f8fac3704e",
        "colab": {
          "base_uri": "https://localhost:8080/"
        }
      },
      "execution_count": 162,
      "outputs": [
        {
          "output_type": "stream",
          "name": "stdout",
          "text": [
            "A    61.252980\n",
            "B     0.747167\n",
            "C     2.243960\n",
            "D    21.881682\n",
            "E     7.127584\n",
            "F     3.244279\n",
            "G     2.359476\n",
            "H     0.607074\n",
            "I     0.253152\n",
            "K     0.267899\n",
            "P     0.014747\n",
            "Name: assigned_room_type, dtype: float64\n"
          ]
        }
      ]
    },
    {
      "cell_type": "code",
      "source": [
        "pasti_tr = train_non[\"meal\"].value_counts().sort_index()\n",
        "print(pasti_tr)"
      ],
      "metadata": {
        "id": "PuCrq-zN09JU",
        "outputId": "4db08b5a-1220-4fbd-f23e-18dabf1a537d",
        "colab": {
          "base_uri": "https://localhost:8080/"
        }
      },
      "execution_count": 163,
      "outputs": [
        {
          "output_type": "stream",
          "name": "stdout",
          "text": [
            "BB           44551\n",
            "FB             334\n",
            "HB            6176\n",
            "SC            5060\n",
            "Undefined      586\n",
            "Name: meal, dtype: int64\n"
          ]
        }
      ]
    },
    {
      "cell_type": "code",
      "source": [
        "pasti_te =test_non[\"meal\"].value_counts().sort_index()\n",
        "print(pasti_te)"
      ],
      "metadata": {
        "id": "W-UM6N3e1F9Q",
        "outputId": "cf77ee63-1305-40ab-f526-95f416f80e41",
        "colab": {
          "base_uri": "https://localhost:8080/"
        }
      },
      "execution_count": 164,
      "outputs": [
        {
          "output_type": "stream",
          "name": "stdout",
          "text": [
            "BB           30524\n",
            "FB              95\n",
            "HB            4477\n",
            "SC            5178\n",
            "Undefined      413\n",
            "Name: meal, dtype: int64\n"
          ]
        }
      ]
    },
    {
      "cell_type": "code",
      "source": [
        "per_pasti_tr= (pasti_tr / len(train_non) * 100).sort_index()\n",
        "print(per_pasti_tr)"
      ],
      "metadata": {
        "id": "OEWr7god1TxE",
        "outputId": "895b4b3d-88d3-4b25-fe8e-0ad24068c648",
        "colab": {
          "base_uri": "https://localhost:8080/"
        }
      },
      "execution_count": 165,
      "outputs": [
        {
          "output_type": "stream",
          "name": "stdout",
          "text": [
            "BB           78.563493\n",
            "FB            0.588993\n",
            "HB           10.891072\n",
            "SC            8.923061\n",
            "Undefined     1.033382\n",
            "Name: meal, dtype: float64\n"
          ]
        }
      ]
    },
    {
      "cell_type": "code",
      "source": [
        "per_pasti_te = (pasti_te / len(test_non) * 100).sort_index()\n",
        "print(per_pasti_te)"
      ],
      "metadata": {
        "id": "BJoUBCT81K-G",
        "outputId": "9f42b36b-b951-4d94-8a4b-02543339b44a",
        "colab": {
          "base_uri": "https://localhost:8080/"
        }
      },
      "execution_count": 166,
      "outputs": [
        {
          "output_type": "stream",
          "name": "stdout",
          "text": [
            "BB           75.021506\n",
            "FB            0.233490\n",
            "HB           11.003515\n",
            "SC           12.726424\n",
            "Undefined     1.015066\n",
            "Name: meal, dtype: float64\n"
          ]
        }
      ]
    },
    {
      "cell_type": "code",
      "source": [
        "train_non.groupby(train_non[\"meal\"])[\"is_canceled\"].mean()"
      ],
      "metadata": {
        "id": "LbWxnHno3kXq",
        "outputId": "7ba5fb78-d47c-45eb-e802-fa2b35ae606e",
        "colab": {
          "base_uri": "https://localhost:8080/"
        }
      },
      "execution_count": 167,
      "outputs": [
        {
          "output_type": "execute_result",
          "data": {
            "text/plain": [
              "meal\n",
              "BB           0.362304\n",
              "FB           0.601796\n",
              "HB           0.311528\n",
              "SC           0.374111\n",
              "Undefined    0.303754\n",
              "Name: is_canceled, dtype: float64"
            ]
          },
          "metadata": {},
          "execution_count": 167
        }
      ]
    },
    {
      "cell_type": "code",
      "source": [
        "test_non.groupby(test_non[\"meal\"])[\"is_canceled\"].mean()"
      ],
      "metadata": {
        "id": "dkMr-yRx4O4p",
        "outputId": "611df490-ba83-4750-fe91-d5cb4198ba89",
        "colab": {
          "base_uri": "https://localhost:8080/"
        }
      },
      "execution_count": 168,
      "outputs": [
        {
          "output_type": "execute_result",
          "data": {
            "text/plain": [
              "meal\n",
              "BB           0.395918\n",
              "FB           0.389474\n",
              "HB           0.334152\n",
              "SC           0.393588\n",
              "Undefined    0.215496\n",
              "Name: is_canceled, dtype: float64"
            ]
          },
          "metadata": {},
          "execution_count": 168
        }
      ]
    },
    {
      "cell_type": "markdown",
      "source": [
        "Si segnala un valore alquanto elevato, rispetto al resto dei casi, nell'assegnazione di tipo \"0\" (più del 60% in entrambi i dataset). Per quanto riguarda il tipo di pasto invece i valori si concentrano per la maggior parte (più del 75%) nell'etichetta \"B&B\". Nel Train dataset la media delle cancellazioni per il valore FB (\"full board\") è quasi del doppio. Nel caso \"room type\" vediamo un valore molto basso (6 unità) nell'ultima tipologia di stanza, della quale però possiamo solo ipotizzare la reale tipologia. Riguardare"
      ],
      "metadata": {
        "id": "VgJdX04W2cZR"
      }
    },
    {
      "cell_type": "markdown",
      "source": [
        "Controllare il numero di cancellazioni in base al deposito fatto oppure no (deposit_type)"
      ],
      "metadata": {
        "id": "-z5n5X6wQdMb"
      }
    },
    {
      "cell_type": "code",
      "source": [
        "depositi_tr = train_non[\"deposit_type\"].value_counts()\n",
        "print(depositi_tr)"
      ],
      "metadata": {
        "id": "wE-zYO725m3B",
        "outputId": "7ab86e6b-4b11-4741-f969-30a55ddbbd15",
        "colab": {
          "base_uri": "https://localhost:8080/"
        }
      },
      "execution_count": 169,
      "outputs": [
        {
          "output_type": "stream",
          "name": "stdout",
          "text": [
            "No Deposit    49782\n",
            "Non Refund     6794\n",
            "Refundable      131\n",
            "Name: deposit_type, dtype: int64\n"
          ]
        }
      ]
    },
    {
      "cell_type": "code",
      "source": [
        "depositi_te= test_non[\"deposit_type\"].value_counts()\n",
        "print(depositi_te)"
      ],
      "metadata": {
        "id": "UN3vHxwx5x6s",
        "outputId": "eb09c2a6-17f8-46d8-99cb-d6c49a999378",
        "colab": {
          "base_uri": "https://localhost:8080/"
        }
      },
      "execution_count": 170,
      "outputs": [
        {
          "output_type": "stream",
          "name": "stdout",
          "text": [
            "No Deposit    36534\n",
            "Non Refund     4126\n",
            "Refundable       27\n",
            "Name: deposit_type, dtype: int64\n"
          ]
        }
      ]
    },
    {
      "cell_type": "code",
      "source": [
        "per_dep_tr = (depositi_tr / len(train_non) * 100).sort_index()\n",
        "print(per_dep_tr)"
      ],
      "metadata": {
        "id": "aG7XpE2e57tg",
        "outputId": "80c94714-ed94-4657-ade1-65a59665d173",
        "colab": {
          "base_uri": "https://localhost:8080/"
        }
      },
      "execution_count": 171,
      "outputs": [
        {
          "output_type": "stream",
          "name": "stdout",
          "text": [
            "No Deposit    87.788104\n",
            "Non Refund    11.980884\n",
            "Refundable     0.231012\n",
            "Name: deposit_type, dtype: float64\n"
          ]
        }
      ]
    },
    {
      "cell_type": "code",
      "source": [
        "per_dep_te = (depositi_te / len(test_non) * 100).sort_index()\n",
        "print(per_dep_te)"
      ],
      "metadata": {
        "id": "KroUGV8v55sK",
        "outputId": "2963cb6b-fe08-45d0-cf0b-a7542654b2fe",
        "colab": {
          "base_uri": "https://localhost:8080/"
        }
      },
      "execution_count": 172,
      "outputs": [
        {
          "output_type": "stream",
          "name": "stdout",
          "text": [
            "No Deposit    89.792809\n",
            "Non Refund    10.140831\n",
            "Refundable     0.066360\n",
            "Name: deposit_type, dtype: float64\n"
          ]
        }
      ]
    },
    {
      "cell_type": "code",
      "source": [
        "train_non.groupby(train_non[\"deposit_type\"])[\"is_canceled\"].mean()"
      ],
      "metadata": {
        "id": "vzV_7EKIAr4s",
        "outputId": "40dce9d8-871d-44eb-ad35-f36ed8f94f4a",
        "colab": {
          "base_uri": "https://localhost:8080/"
        }
      },
      "execution_count": 173,
      "outputs": [
        {
          "output_type": "execute_result",
          "data": {
            "text/plain": [
              "deposit_type\n",
              "No Deposit    0.273372\n",
              "Non Refund    0.988814\n",
              "Refundable    0.076336\n",
              "Name: is_canceled, dtype: float64"
            ]
          },
          "metadata": {},
          "execution_count": 173
        }
      ]
    },
    {
      "cell_type": "code",
      "source": [
        "test_non.groupby(test_non[\"deposit_type\"])[\"is_canceled\"].mean()"
      ],
      "metadata": {
        "id": "nVCI_-WeAsr6",
        "outputId": "d767b76a-b9cc-454d-96a1-e0f254a59bb0",
        "colab": {
          "base_uri": "https://localhost:8080/"
        }
      },
      "execution_count": 174,
      "outputs": [
        {
          "output_type": "execute_result",
          "data": {
            "text/plain": [
              "deposit_type\n",
              "No Deposit    0.317540\n",
              "Non Refund    0.998061\n",
              "Refundable    0.962963\n",
              "Name: is_canceled, dtype: float64"
            ]
          },
          "metadata": {},
          "execution_count": 174
        }
      ]
    },
    {
      "cell_type": "markdown",
      "source": [
        "Sembra abbastanza evidente (come era lecito aspettarsi) una molto maggiore quantità di cancellazioni nei casi in cui non viene lasciato alcun deposito. Il dato che ci sembra invece più significativo è l'elevato numero di cancellazioni nei casi \"non refund\", rispetto ai relativamente pochi casi \"refundable\". Questo è senz'altro dovuto al numero molto maggiore di prenotazioni \"non refund\", dettate dalla maggiore convenienza economica. riguardare"
      ],
      "metadata": {
        "id": "vUb12NYWAkwu"
      }
    },
    {
      "cell_type": "markdown",
      "source": [
        "Controllare la distribuzione di chi ha richiesto un parcheggio e chi no"
      ],
      "metadata": {
        "id": "R61hglmoQoSG"
      }
    },
    {
      "cell_type": "code",
      "source": [
        "macchina_tr = train[\"required_car_parking_spaces\"].value_counts()\n",
        "print(macchina_tr)"
      ],
      "metadata": {
        "id": "_iNQh6jxbeNi",
        "outputId": "a636557a-c1ce-4a7c-e8e9-4abc5e2b1e0f",
        "colab": {
          "base_uri": "https://localhost:8080/"
        }
      },
      "execution_count": 175,
      "outputs": [
        {
          "output_type": "stream",
          "name": "stdout",
          "text": [
            "0    52845\n",
            "1     3850\n",
            "2       11\n",
            "3        1\n",
            "Name: required_car_parking_spaces, dtype: int64\n"
          ]
        }
      ]
    },
    {
      "cell_type": "code",
      "source": [
        "macchina_te = test[\"required_car_parking_spaces\"].value_counts().sort_index()\n",
        "print(macchina_te)"
      ],
      "metadata": {
        "id": "xdDubxkQb8Fn",
        "outputId": "5b9f1fb9-ef32-4b7b-f325-be4645f08bc5",
        "colab": {
          "base_uri": "https://localhost:8080/"
        }
      },
      "execution_count": 176,
      "outputs": [
        {
          "output_type": "stream",
          "name": "stdout",
          "text": [
            "0    38481\n",
            "1     2189\n",
            "2       13\n",
            "3        2\n",
            "8        2\n",
            "Name: required_car_parking_spaces, dtype: int64\n"
          ]
        }
      ]
    },
    {
      "cell_type": "code",
      "source": [
        "per_macchina_tr = (macchina_tr / len(train) * 100).sort_index()\n",
        "print(per_macchina_tr)"
      ],
      "metadata": {
        "id": "8kC_yxX8dMYV",
        "outputId": "d4988901-4fbc-4c8e-c8cd-95cb136161af",
        "colab": {
          "base_uri": "https://localhost:8080/"
        }
      },
      "execution_count": 177,
      "outputs": [
        {
          "output_type": "stream",
          "name": "stdout",
          "text": [
            "0    93.189553\n",
            "1     6.789285\n",
            "2     0.019398\n",
            "3     0.001763\n",
            "Name: required_car_parking_spaces, dtype: float64\n"
          ]
        }
      ]
    },
    {
      "cell_type": "code",
      "source": [
        "per_macchina_te = (macchina_te / len(test) * 100).sort_index()\n",
        "print(per_macchina_te)"
      ],
      "metadata": {
        "id": "kHUy-g_qdr0T",
        "outputId": "3fc03663-194f-4796-9ff7-d407fd6ec2b7",
        "colab": {
          "base_uri": "https://localhost:8080/"
        }
      },
      "execution_count": 178,
      "outputs": [
        {
          "output_type": "stream",
          "name": "stdout",
          "text": [
            "0    94.578121\n",
            "1     5.380097\n",
            "2     0.031951\n",
            "3     0.004916\n",
            "8     0.004916\n",
            "Name: required_car_parking_spaces, dtype: float64\n"
          ]
        }
      ]
    },
    {
      "cell_type": "markdown",
      "source": [
        "I dati relativi al parcheggio sembrano abbastanza lineari, nei due dataset. L'unico valore che si nota è una ulteriore riga, dal valore \"8\", nel \"test\""
      ],
      "metadata": {
        "id": "pFUq1ZlHo0sa"
      }
    },
    {
      "cell_type": "markdown",
      "source": [
        "Seconda parte: esplorazione dati."
      ],
      "metadata": {
        "id": "8WGMAI8zpfgZ"
      }
    },
    {
      "cell_type": "markdown",
      "source": [],
      "metadata": {
        "id": "kpkiCmlztG3c"
      }
    },
    {
      "cell_type": "code",
      "source": [
        "#mese di arrivo e cancellazioni\n",
        "sns.set_style(\"whitegrid\")\n",
        "sns.histplot(x=\"arrival_date_month\", hue = \"is_canceled\", multiple = \"dodge\", data=train, bins = 12)\n",
        "plt.show()"
      ],
      "metadata": {
        "id": "VpZnh-mSpkam",
        "outputId": "219bddc8-672f-4d4b-95e3-25e0aaa2f0da",
        "colab": {
          "base_uri": "https://localhost:8080/",
          "height": 450
        }
      },
      "execution_count": 179,
      "outputs": [
        {
          "output_type": "display_data",
          "data": {
            "text/plain": [
              "<Figure size 640x480 with 1 Axes>"
            ],
            "image/png": "[encoded data removed]"
          },
          "metadata": {}
        }
      ]
    },
    {
      "cell_type": "code",
      "source": [
        "sns.histplot(x=\"arrival_date_month\", hue = \"is_canceled\", multiple = \"fill\", stat = \"count\", data=train, bins =12)\n",
        "plt.show()"
      ],
      "metadata": {
        "id": "UfBXZjeNs8QU",
        "outputId": "bd721a68-5664-474a-de4a-8b480712e0cd",
        "colab": {
          "base_uri": "https://localhost:8080/",
          "height": 455
        }
      },
      "execution_count": 180,
      "outputs": [
        {
          "output_type": "display_data",
          "data": {
            "text/plain": [
              "<Figure size 640x480 with 1 Axes>"
            ],
            "image/png": "[encoded data removed]"
          },
          "metadata": {}
        }
      ]
    },
    {
      "cell_type": "code",
      "source": [
        "sns.histplot(x=\"arrival_date_month\", hue = \"is_canceled\", multiple = \"fill\", stat = \"count\", data=test, bins =8)\n",
        "plt.show()"
      ],
      "metadata": {
        "id": "eH95FdEnxvjK",
        "outputId": "206c207b-08c5-435d-baf1-027e3f8208b1",
        "colab": {
          "base_uri": "https://localhost:8080/",
          "height": 455
        }
      },
      "execution_count": 181,
      "outputs": [
        {
          "output_type": "display_data",
          "data": {
            "text/plain": [
              "<Figure size 640x480 with 1 Axes>"
            ],
            "image/png": "[encoded data removed]"
          },
          "metadata": {}
        }
      ]
    },
    {
      "cell_type": "code",
      "source": [
        "sns.histplot(x=\"arrival_date_month\", hue = \"is_canceled\", multiple = \"stack\", stat = \"count\", data=test, bins =8)\n",
        "plt.show()"
      ],
      "metadata": {
        "id": "Lqcv7ed5x_m9",
        "outputId": "877bbfdb-91d2-4032-df77-89f6ffe49430",
        "colab": {
          "base_uri": "https://localhost:8080/",
          "height": 450
        }
      },
      "execution_count": 182,
      "outputs": [
        {
          "output_type": "display_data",
          "data": {
            "text/plain": [
              "<Figure size 640x480 with 1 Axes>"
            ],
            "image/png": "[encoded data removed]"
          },
          "metadata": {}
        }
      ]
    },
    {
      "cell_type": "markdown",
      "source": [
        "Come abbiamo visto in precedenza i due dataset differiscono nel numero di mesi riportati (12 per il train e 8 per il test). Il numero di prenotazioni cresce in entrambi i dataset dal mese di gennaio (mese con il numero di prenotazioni più basso) fino a maggio per poi scendere nuovamente fino a luglio per poi risalire da agosto (dove però il test dataset si ferma) e riscendere da ottobre. Le percentuali di prenotazioni tendono ad essere, invece, abbastanza variabili tra i due dataset, in generale non sembra esserci una correlazione tra il mese e la crescita della media dele cancellazioni."
      ],
      "metadata": {
        "id": "frm3pLu2viiy"
      }
    },
    {
      "cell_type": "code",
      "source": [
        "sns.histplot(x=\"assigned_room_type\", hue=\"is_canceled\", data=train, bins=11, multiple=\"stack\")\n",
        "plt.xticks([0, 1, 2, 3, 4, 5, 6, 7, 8 ,9 , 10,11])\n",
        "plt.show()"
      ],
      "metadata": {
        "id": "zuiZezrTiLZi",
        "outputId": "fed863f0-4624-4b9f-baca-de2e1ad310ac",
        "colab": {
          "base_uri": "https://localhost:8080/",
          "height": 450
        }
      },
      "execution_count": 183,
      "outputs": [
        {
          "output_type": "display_data",
          "data": {
            "text/plain": [
              "<Figure size 640x480 with 1 Axes>"
            ],
            "image/png": "[encoded data removed]"
          },
          "metadata": {}
        }
      ]
    },
    {
      "cell_type": "code",
      "source": [
        "#tipo di pasto in base ai\n",
        "sns.boxplot( x= \"hotel\" , y=\"stays_in_week_nights\", hue = \"is_canceled\", data=train_non)\n",
        "plt.show()"
      ],
      "metadata": {
        "id": "viE10UUvwhLR",
        "outputId": "d42c0487-215b-485a-fecb-aa8cd6bb8e83",
        "colab": {
          "base_uri": "https://localhost:8080/",
          "height": 449
        }
      },
      "execution_count": 184,
      "outputs": [
        {
          "output_type": "display_data",
          "data": {
            "text/plain": [
              "<Figure size 640x480 with 1 Axes>"
            ],
            "image/png": "[encoded data removed]"
          },
          "metadata": {}
        }
      ]
    },
    {
      "cell_type": "code",
      "source": [
        "sns.boxplot(x=\"hotel\", y=\"stays_in_week_nights\", hue = \"is_canceled\", data=test_non)\n",
        "plt.show()"
      ],
      "metadata": {
        "id": "HNo-9G-owrOl",
        "outputId": "818da063-8f06-448a-f4e8-150510c6f10d",
        "colab": {
          "base_uri": "https://localhost:8080/",
          "height": 449
        }
      },
      "execution_count": 185,
      "outputs": [
        {
          "output_type": "display_data",
          "data": {
            "text/plain": [
              "<Figure size 640x480 with 1 Axes>"
            ],
            "image/png": "[encoded data removed]"
          },
          "metadata": {}
        }
      ]
    },
    {
      "cell_type": "code",
      "source": [
        "#tipo di pasto e cancellazioni\n",
        "sns.histplot(x=\"meal\", hue = \"is_canceled\", multiple = \"fill\", stat = \"count\", data=train_non, bins =5)\n",
        "plt.show()"
      ],
      "metadata": {
        "id": "gupX1tY5x9_u",
        "outputId": "97473062-cdd8-46b1-bace-75834775b07d",
        "colab": {
          "base_uri": "https://localhost:8080/",
          "height": 455
        }
      },
      "execution_count": 186,
      "outputs": [
        {
          "output_type": "display_data",
          "data": {
            "text/plain": [
              "<Figure size 640x480 with 1 Axes>"
            ],
            "image/png": "[encoded data removed]"
          },
          "metadata": {}
        }
      ]
    },
    {
      "cell_type": "code",
      "source": [
        "sns.histplot(x=\"meal\", hue = \"is_canceled\", multiple = \"fill\", stat = \"count\", data=test_non, bins =5)\n",
        "plt.show()"
      ],
      "metadata": {
        "id": "ipvfW7_dhixl",
        "outputId": "6e85bea7-4dce-4dd2-aca1-08b469c58a9d",
        "colab": {
          "base_uri": "https://localhost:8080/",
          "height": 455
        }
      },
      "execution_count": 187,
      "outputs": [
        {
          "output_type": "display_data",
          "data": {
            "text/plain": [
              "<Figure size 640x480 with 1 Axes>"
            ],
            "image/png": "[encoded data removed]"
          },
          "metadata": {}
        }
      ]
    },
    {
      "cell_type": "code",
      "source": [
        "#canale di distribuzione e cancellazioni\n",
        "sns.histplot(x=\"distribution_channel\", hue = \"is_canceled\", multiple = \"dodge\", stat = \"count\", data=train_non, bins =8)\n",
        "plt.show()"
      ],
      "metadata": {
        "id": "zm_6YiZWyanR",
        "outputId": "309382c9-c28b-4ba7-a372-004324b70fdc",
        "colab": {
          "base_uri": "https://localhost:8080/",
          "height": 450
        }
      },
      "execution_count": 188,
      "outputs": [
        {
          "output_type": "display_data",
          "data": {
            "text/plain": [
              "<Figure size 640x480 with 1 Axes>"
            ],
            "image/png": "[encoded data removed]"
          },
          "metadata": {}
        }
      ]
    },
    {
      "cell_type": "code",
      "source": [
        "#cancellazioni in base alle persone\n",
        "sns.histplot(x=\"persone\", hue=\"is_canceled\", multiple=\"stack\", stat=\"count\", data=train, bins = 10)\n",
        "plt.xticks([1, 2, 3, 4, 5, 6])\n",
        "plt.show()"
      ],
      "metadata": {
        "id": "02bg7HZrzpsX",
        "outputId": "a82098f4-46e3-428b-bd09-79af4b39b89c",
        "colab": {
          "base_uri": "https://localhost:8080/",
          "height": 450
        }
      },
      "execution_count": 189,
      "outputs": [
        {
          "output_type": "display_data",
          "data": {
            "text/plain": [
              "<Figure size 640x480 with 1 Axes>"
            ],
            "image/png": "[encoded data removed]"
          },
          "metadata": {}
        }
      ]
    },
    {
      "cell_type": "code",
      "source": [
        "#persone e cancellazioni\n",
        "sns.histplot(x=\"persone\", hue = \"is_canceled\", multiple = \"dodge\", stat = \"count\", data=test, bins = 6)\n",
        "plt.xticks([1, 2, 3, 4, 5])\n",
        "plt.show()"
      ],
      "metadata": {
        "id": "f0PdMUWE3dgp",
        "outputId": "d7b63129-c21f-4e9e-a9e3-81abea5af4a6",
        "colab": {
          "base_uri": "https://localhost:8080/",
          "height": 449
        }
      },
      "execution_count": 190,
      "outputs": [
        {
          "output_type": "display_data",
          "data": {
            "text/plain": [
              "<Figure size 640x480 with 1 Axes>"
            ],
            "image/png": "[encoded data removed]"
          },
          "metadata": {}
        }
      ]
    },
    {
      "cell_type": "code",
      "source": [
        "sns.histplot(x=\"persone\", hue = \"is_canceled\", multiple = \"fill\", stat = \"probability\", data=test, bins = 6)\n",
        "plt.show()"
      ],
      "metadata": {
        "id": "TXKIJqQdnO3u",
        "outputId": "1e3bfb92-e1c5-44bd-8480-4ac886a5f548",
        "colab": {
          "base_uri": "https://localhost:8080/",
          "height": 455
        }
      },
      "execution_count": 191,
      "outputs": [
        {
          "output_type": "display_data",
          "data": {
            "text/plain": [
              "<Figure size 640x480 with 1 Axes>"
            ],
            "image/png": "[encoded data removed]"
          },
          "metadata": {}
        }
      ]
    },
    {
      "cell_type": "code",
      "source": [
        "sns.histplot(x=\"persone\", hue = \"is_canceled\", multiple = \"fill\", stat = \"probability\", data=train, bins = 12)\n",
        "plt.xticks([0, 1, 2, 3, 4, 5, 12])\n",
        "plt.show()\n",
        "#togliere il valore 12"
      ],
      "metadata": {
        "id": "Zzg8hWF-njrl",
        "outputId": "6b8ced72-42bd-4dfd-82e5-9c80f50fb5b3",
        "colab": {
          "base_uri": "https://localhost:8080/",
          "height": 455
        }
      },
      "execution_count": 192,
      "outputs": [
        {
          "output_type": "display_data",
          "data": {
            "text/plain": [
              "<Figure size 640x480 with 1 Axes>"
            ],
            "image/png": "[encoded data removed]"
          },
          "metadata": {}
        }
      ]
    },
    {
      "cell_type": "markdown",
      "source": [
        "Dai grafici si evince molto chiaramente come la stragrande maggioranza delle prenotazioni sia per due persone. La percentuale di cancellazioni si alza notevolemente in corrispondenza di tale dato. Anche le prenotazioni da 4 persone, nonostante i casi siano di molto inferiori presenta una percentuale di cancellazioni molto alta"
      ],
      "metadata": {
        "id": "zLDUfnzdMKMO"
      }
    },
    {
      "cell_type": "markdown",
      "source": [
        "Fase 3 Machine learning"
      ],
      "metadata": {
        "id": "W5JaI6mzPt1x"
      }
    },
    {
      "cell_type": "code",
      "source": [
        "train.describe()"
      ],
      "metadata": {
        "id": "JVYPVXW9SWZi",
        "outputId": "27917b5a-3c16-4e25-dedb-2f92ef573b86",
        "colab": {
          "base_uri": "https://localhost:8080/",
          "height": 349
        }
      },
      "execution_count": 193,
      "outputs": [
        {
          "output_type": "execute_result",
          "data": {
            "text/plain": [
              "              hotel   is_canceled     lead_time  arrival_date_year  \\\n",
              "count  56707.000000  56707.000000  56707.000000            56707.0   \n",
              "mean       0.327420      0.358633    102.870369             2016.0   \n",
              "std        0.469276      0.479603    106.582358                0.0   \n",
              "min        0.000000      0.000000      0.000000             2016.0   \n",
              "25%        0.000000      0.000000     17.000000             2016.0   \n",
              "50%        0.000000      0.000000     68.000000             2016.0   \n",
              "75%        1.000000      1.000000    160.000000             2016.0   \n",
              "max        1.000000      1.000000    709.000000             2016.0   \n",
              "\n",
              "       arrival_date_month  arrival_date_week_number  \\\n",
              "count        56707.000000              56707.000000   \n",
              "mean             6.767313                 28.458162   \n",
              "std              3.194300                 13.925493   \n",
              "min              1.000000                  1.000000   \n",
              "25%              4.000000                 17.000000   \n",
              "50%              7.000000                 28.000000   \n",
              "75%             10.000000                 41.000000   \n",
              "max             12.000000                 53.000000   \n",
              "\n",
              "       arrival_date_day_of_month  stays_in_weekend_nights  \\\n",
              "count               56707.000000             56707.000000   \n",
              "mean                   15.911104                 0.893981   \n",
              "std                     8.784897                 0.983110   \n",
              "min                     1.000000                 0.000000   \n",
              "25%                     8.000000                 0.000000   \n",
              "50%                    16.000000                 1.000000   \n",
              "75%                    24.000000                 2.000000   \n",
              "max                    31.000000                19.000000   \n",
              "\n",
              "       stays_in_week_nights        adults  ...       company  \\\n",
              "count          56707.000000  56707.000000  ...  56707.000000   \n",
              "mean               2.442802      1.850988  ...      8.487435   \n",
              "std                1.863548      0.498133  ...     47.550647   \n",
              "min                0.000000      0.000000  ...     -1.000000   \n",
              "25%                1.000000      2.000000  ...     -1.000000   \n",
              "50%                2.000000      2.000000  ...     -1.000000   \n",
              "75%                3.000000      2.000000  ...     -1.000000   \n",
              "max               50.000000      4.000000  ...    499.000000   \n",
              "\n",
              "       days_in_waiting_list  customer_type           adr  \\\n",
              "count          56707.000000   56707.000000  56707.000000   \n",
              "mean               3.833865       2.171302     98.325863   \n",
              "std               23.785668       0.477327     49.955696   \n",
              "min                0.000000       0.000000      0.000000   \n",
              "25%                0.000000       2.000000     68.530000   \n",
              "50%                0.000000       2.000000     90.950000   \n",
              "75%                0.000000       2.000000    120.000000   \n",
              "max              391.000000       3.000000   5400.000000   \n",
              "\n",
              "       required_car_parking_spaces  total_of_special_requests       persone  \\\n",
              "count                 56707.000000               56707.000000  56707.000000   \n",
              "mean                      0.068334                   0.548645      1.963338   \n",
              "std                       0.253296                   0.761173      0.655733   \n",
              "min                       0.000000                   0.000000      0.000000   \n",
              "25%                       0.000000                   0.000000      2.000000   \n",
              "50%                       0.000000                   0.000000      2.000000   \n",
              "75%                       0.000000                   1.000000      2.000000   \n",
              "max                       3.000000                   5.000000     12.000000   \n",
              "\n",
              "       colonna_bambini  prenotazioni_precedenti  giorni_totali  \n",
              "count     56707.000000             56707.000000   56707.000000  \n",
              "mean          0.112349                 0.197930       3.336784  \n",
              "std           0.410922                 1.749266       2.498863  \n",
              "min           0.000000                 0.000000       0.000000  \n",
              "25%           0.000000                 0.000000       2.000000  \n",
              "50%           0.000000                 0.000000       3.000000  \n",
              "75%           0.000000                 0.000000       4.000000  \n",
              "max          10.000000                64.000000      69.000000  \n",
              "\n",
              "[8 rows x 34 columns]"
            ],
            "text/html": [
              "\n",
              "  <div id=\"df-39318f64-1411-472e-9ed1-6c47e5a82e65\" class=\"colab-df-container\">\n",
              "    <div>\n",
              "<style scoped>\n",
              "    .dataframe tbody tr th:only-of-type {\n",
              "        vertical-align: middle;\n",
              "    }\n",
              "\n",
              "    .dataframe tbody tr th {\n",
              "        vertical-align: top;\n",
              "    }\n",
              "\n",
              "    .dataframe thead th {\n",
              "        text-align: right;\n",
              "    }\n",
              "</style>\n",
              "<table border=\"1\" class=\"dataframe\">\n",
              "  <thead>\n",
              "    <tr style=\"text-align: right;\">\n",
              "      <th></th>\n",
              "      <th>hotel</th>\n",
              "      <th>is_canceled</th>\n",
              "      <th>lead_time</th>\n",
              "      <th>arrival_date_year</th>\n",
              "      <th>arrival_date_month</th>\n",
              "      <th>arrival_date_week_number</th>\n",
              "      <th>arrival_date_day_of_month</th>\n",
              "      <th>stays_in_weekend_nights</th>\n",
              "      <th>stays_in_week_nights</th>\n",
              "      <th>adults</th>\n",
              "      <th>...</th>\n",
              "      <th>company</th>\n",
              "      <th>days_in_waiting_list</th>\n",
              "      <th>customer_type</th>\n",
              "      <th>adr</th>\n",
              "      <th>required_car_parking_spaces</th>\n",
              "      <th>total_of_special_requests</th>\n",
              "      <th>persone</th>\n",
              "      <th>colonna_bambini</th>\n",
              "      <th>prenotazioni_precedenti</th>\n",
              "      <th>giorni_totali</th>\n",
              "    </tr>\n",
              "  </thead>\n",
              "  <tbody>\n",
              "    <tr>\n",
              "      <th>count</th>\n",
              "      <td>56707.000000</td>\n",
              "      <td>56707.000000</td>\n",
              "      <td>56707.000000</td>\n",
              "      <td>56707.0</td>\n",
              "      <td>56707.000000</td>\n",
              "      <td>56707.000000</td>\n",
              "      <td>56707.000000</td>\n",
              "      <td>56707.000000</td>\n",
              "      <td>56707.000000</td>\n",
              "      <td>56707.000000</td>\n",
              "      <td>...</td>\n",
              "      <td>56707.000000</td>\n",
              "      <td>56707.000000</td>\n",
              "      <td>56707.000000</td>\n",
              "      <td>56707.000000</td>\n",
              "      <td>56707.000000</td>\n",
              "      <td>56707.000000</td>\n",
              "      <td>56707.000000</td>\n",
              "      <td>56707.000000</td>\n",
              "      <td>56707.000000</td>\n",
              "      <td>56707.000000</td>\n",
              "    </tr>\n",
              "    <tr>\n",
              "      <th>mean</th>\n",
              "      <td>0.327420</td>\n",
              "      <td>0.358633</td>\n",
              "      <td>102.870369</td>\n",
              "      <td>2016.0</td>\n",
              "      <td>6.767313</td>\n",
              "      <td>28.458162</td>\n",
              "      <td>15.911104</td>\n",
              "      <td>0.893981</td>\n",
              "      <td>2.442802</td>\n",
              "      <td>1.850988</td>\n",
              "      <td>...</td>\n",
              "      <td>8.487435</td>\n",
              "      <td>3.833865</td>\n",
              "      <td>2.171302</td>\n",
              "      <td>98.325863</td>\n",
              "      <td>0.068334</td>\n",
              "      <td>0.548645</td>\n",
              "      <td>1.963338</td>\n",
              "      <td>0.112349</td>\n",
              "      <td>0.197930</td>\n",
              "      <td>3.336784</td>\n",
              "    </tr>\n",
              "    <tr>\n",
              "      <th>std</th>\n",
              "      <td>0.469276</td>\n",
              "      <td>0.479603</td>\n",
              "      <td>106.582358</td>\n",
              "      <td>0.0</td>\n",
              "      <td>3.194300</td>\n",
              "      <td>13.925493</td>\n",
              "      <td>8.784897</td>\n",
              "      <td>0.983110</td>\n",
              "      <td>1.863548</td>\n",
              "      <td>0.498133</td>\n",
              "      <td>...</td>\n",
              "      <td>47.550647</td>\n",
              "      <td>23.785668</td>\n",
              "      <td>0.477327</td>\n",
              "      <td>49.955696</td>\n",
              "      <td>0.253296</td>\n",
              "      <td>0.761173</td>\n",
              "      <td>0.655733</td>\n",
              "      <td>0.410922</td>\n",
              "      <td>1.749266</td>\n",
              "      <td>2.498863</td>\n",
              "    </tr>\n",
              "    <tr>\n",
              "      <th>min</th>\n",
              "      <td>0.000000</td>\n",
              "      <td>0.000000</td>\n",
              "      <td>0.000000</td>\n",
              "      <td>2016.0</td>\n",
              "      <td>1.000000</td>\n",
              "      <td>1.000000</td>\n",
              "      <td>1.000000</td>\n",
              "      <td>0.000000</td>\n",
              "      <td>0.000000</td>\n",
              "      <td>0.000000</td>\n",
              "      <td>...</td>\n",
              "      <td>-1.000000</td>\n",
              "      <td>0.000000</td>\n",
              "      <td>0.000000</td>\n",
              "      <td>0.000000</td>\n",
              "      <td>0.000000</td>\n",
              "      <td>0.000000</td>\n",
              "      <td>0.000000</td>\n",
              "      <td>0.000000</td>\n",
              "      <td>0.000000</td>\n",
              "      <td>0.000000</td>\n",
              "    </tr>\n",
              "    <tr>\n",
              "      <th>25%</th>\n",
              "      <td>0.000000</td>\n",
              "      <td>0.000000</td>\n",
              "      <td>17.000000</td>\n",
              "      <td>2016.0</td>\n",
              "      <td>4.000000</td>\n",
              "      <td>17.000000</td>\n",
              "      <td>8.000000</td>\n",
              "      <td>0.000000</td>\n",
              "      <td>1.000000</td>\n",
              "      <td>2.000000</td>\n",
              "      <td>...</td>\n",
              "      <td>-1.000000</td>\n",
              "      <td>0.000000</td>\n",
              "      <td>2.000000</td>\n",
              "      <td>68.530000</td>\n",
              "      <td>0.000000</td>\n",
              "      <td>0.000000</td>\n",
              "      <td>2.000000</td>\n",
              "      <td>0.000000</td>\n",
              "      <td>0.000000</td>\n",
              "      <td>2.000000</td>\n",
              "    </tr>\n",
              "    <tr>\n",
              "      <th>50%</th>\n",
              "      <td>0.000000</td>\n",
              "      <td>0.000000</td>\n",
              "      <td>68.000000</td>\n",
              "      <td>2016.0</td>\n",
              "      <td>7.000000</td>\n",
              "      <td>28.000000</td>\n",
              "      <td>16.000000</td>\n",
              "      <td>1.000000</td>\n",
              "      <td>2.000000</td>\n",
              "      <td>2.000000</td>\n",
              "      <td>...</td>\n",
              "      <td>-1.000000</td>\n",
              "      <td>0.000000</td>\n",
              "      <td>2.000000</td>\n",
              "      <td>90.950000</td>\n",
              "      <td>0.000000</td>\n",
              "      <td>0.000000</td>\n",
              "      <td>2.000000</td>\n",
              "      <td>0.000000</td>\n",
              "      <td>0.000000</td>\n",
              "      <td>3.000000</td>\n",
              "    </tr>\n",
              "    <tr>\n",
              "      <th>75%</th>\n",
              "      <td>1.000000</td>\n",
              "      <td>1.000000</td>\n",
              "      <td>160.000000</td>\n",
              "      <td>2016.0</td>\n",
              "      <td>10.000000</td>\n",
              "      <td>41.000000</td>\n",
              "      <td>24.000000</td>\n",
              "      <td>2.000000</td>\n",
              "      <td>3.000000</td>\n",
              "      <td>2.000000</td>\n",
              "      <td>...</td>\n",
              "      <td>-1.000000</td>\n",
              "      <td>0.000000</td>\n",
              "      <td>2.000000</td>\n",
              "      <td>120.000000</td>\n",
              "      <td>0.000000</td>\n",
              "      <td>1.000000</td>\n",
              "      <td>2.000000</td>\n",
              "      <td>0.000000</td>\n",
              "      <td>0.000000</td>\n",
              "      <td>4.000000</td>\n",
              "    </tr>\n",
              "    <tr>\n",
              "      <th>max</th>\n",
              "      <td>1.000000</td>\n",
              "      <td>1.000000</td>\n",
              "      <td>709.000000</td>\n",
              "      <td>2016.0</td>\n",
              "      <td>12.000000</td>\n",
              "      <td>53.000000</td>\n",
              "      <td>31.000000</td>\n",
              "      <td>19.000000</td>\n",
              "      <td>50.000000</td>\n",
              "      <td>4.000000</td>\n",
              "      <td>...</td>\n",
              "      <td>499.000000</td>\n",
              "      <td>391.000000</td>\n",
              "      <td>3.000000</td>\n",
              "      <td>5400.000000</td>\n",
              "      <td>3.000000</td>\n",
              "      <td>5.000000</td>\n",
              "      <td>12.000000</td>\n",
              "      <td>10.000000</td>\n",
              "      <td>64.000000</td>\n",
              "      <td>69.000000</td>\n",
              "    </tr>\n",
              "  </tbody>\n",
              "</table>\n",
              "<p>8 rows × 34 columns</p>\n",
              "</div>\n",
              "    <div class=\"colab-df-buttons\">\n",
              "\n",
              "  <div class=\"colab-df-container\">\n",
              "    <button class=\"colab-df-convert\" onclick=\"convertToInteractive('df-39318f64-1411-472e-9ed1-6c47e5a82e65')\"\n",
              "            title=\"Convert this dataframe to an interactive table.\"\n",
              "            style=\"display:none;\">\n",
              "\n",
              "  <svg xmlns=\"http://www.w3.org/2000/svg\" height=\"24px\" viewBox=\"0 -960 960 960\">\n",
              "    <path d=\"M120-120v-720h720v720H120Zm60-500h600v-160H180v160Zm220 220h160v-160H400v160Zm0 220h160v-160H400v160ZM180-400h160v-160H180v160Zm440 0h160v-160H620v160ZM180-180h160v-160H180v160Zm440 0h160v-160H620v160Z\"/>\n",
              "  </svg>\n",
              "    </button>\n",
              "\n",
              "  <style>\n",
              "    .colab-df-container {\n",
              "      display:flex;\n",
              "      gap: 12px;\n",
              "    }\n",
              "\n",
              "    .colab-df-convert {\n",
              "      background-color: #E8F0FE;\n",
              "      border: none;\n",
              "      border-radius: 50%;\n",
              "      cursor: pointer;\n",
              "      display: none;\n",
              "      fill: #1967D2;\n",
              "      height: 32px;\n",
              "      padding: 0 0 0 0;\n",
              "      width: 32px;\n",
              "    }\n",
              "\n",
              "    .colab-df-convert:hover {\n",
              "      background-color: #E2EBFA;\n",
              "      box-shadow: 0px 1px 2px rgba(60, 64, 67, 0.3), 0px 1px 3px 1px rgba(60, 64, 67, 0.15);\n",
              "      fill: #174EA6;\n",
              "    }\n",
              "\n",
              "    .colab-df-buttons div {\n",
              "      margin-bottom: 4px;\n",
              "    }\n",
              "\n",
              "    [theme=dark] .colab-df-convert {\n",
              "      background-color: #3B4455;\n",
              "      fill: #D2E3FC;\n",
              "    }\n",
              "\n",
              "    [theme=dark] .colab-df-convert:hover {\n",
              "      background-color: #434B5C;\n",
              "      box-shadow: 0px 1px 3px 1px rgba(0, 0, 0, 0.15);\n",
              "      filter: drop-shadow(0px 1px 2px rgba(0, 0, 0, 0.3));\n",
              "      fill: #FFFFFF;\n",
              "    }\n",
              "  </style>\n",
              "\n",
              "    <script>\n",
              "      const buttonEl =\n",
              "        document.querySelector('#df-39318f64-1411-472e-9ed1-6c47e5a82e65 button.colab-df-convert');\n",
              "      buttonEl.style.display =\n",
              "        google.colab.kernel.accessAllowed ? 'block' : 'none';\n",
              "\n",
              "      async function convertToInteractive(key) {\n",
              "        const element = document.querySelector('#df-39318f64-1411-472e-9ed1-6c47e5a82e65');\n",
              "        const dataTable =\n",
              "          await google.colab.kernel.invokeFunction('convertToInteractive',\n",
              "                                                    [key], {});\n",
              "        if (!dataTable) return;\n",
              "\n",
              "        const docLinkHtml = 'Like what you see? Visit the ' +\n",
              "          '<a target=\"_blank\" href=https://colab.research.google.com/notebooks/data_table.ipynb>data table notebook</a>'\n",
              "          + ' to learn more about interactive tables.';\n",
              "        element.innerHTML = '';\n",
              "        dataTable['output_type'] = 'display_data';\n",
              "        await google.colab.output.renderOutput(dataTable, element);\n",
              "        const docLink = document.createElement('div');\n",
              "        docLink.innerHTML = docLinkHtml;\n",
              "        element.appendChild(docLink);\n",
              "      }\n",
              "    </script>\n",
              "  </div>\n",
              "\n",
              "\n",
              "<div id=\"df-49897c8c-8cf7-45b1-829d-d8227ee9c527\">\n",
              "  <button class=\"colab-df-quickchart\" onclick=\"quickchart('df-49897c8c-8cf7-45b1-829d-d8227ee9c527')\"\n",
              "            title=\"Suggest charts\"\n",
              "            style=\"display:none;\">\n",
              "\n",
              "<svg xmlns=\"http://www.w3.org/2000/svg\" height=\"24px\"viewBox=\"0 0 24 24\"\n",
              "     width=\"24px\">\n",
              "    <g>\n",
              "        <path d=\"M19 3H5c-1.1 0-2 .9-2 2v14c0 1.1.9 2 2 2h14c1.1 0 2-.9 2-2V5c0-1.1-.9-2-2-2zM9 17H7v-7h2v7zm4 0h-2V7h2v10zm4 0h-2v-4h2v4z\"/>\n",
              "    </g>\n",
              "</svg>\n",
              "  </button>\n",
              "\n",
              "<style>\n",
              "  .colab-df-quickchart {\n",
              "      --bg-color: #E8F0FE;\n",
              "      --fill-color: #1967D2;\n",
              "      --hover-bg-color: #E2EBFA;\n",
              "      --hover-fill-color: #174EA6;\n",
              "      --disabled-fill-color: #AAA;\n",
              "      --disabled-bg-color: #DDD;\n",
              "  }\n",
              "\n",
              "  [theme=dark] .colab-df-quickchart {\n",
              "      --bg-color: #3B4455;\n",
              "      --fill-color: #D2E3FC;\n",
              "      --hover-bg-color: #434B5C;\n",
              "      --hover-fill-color: #FFFFFF;\n",
              "      --disabled-bg-color: #3B4455;\n",
              "      --disabled-fill-color: #666;\n",
              "  }\n",
              "\n",
              "  .colab-df-quickchart {\n",
              "    background-color: var(--bg-color);\n",
              "    border: none;\n",
              "    border-radius: 50%;\n",
              "    cursor: pointer;\n",
              "    display: none;\n",
              "    fill: var(--fill-color);\n",
              "    height: 32px;\n",
              "    padding: 0;\n",
              "    width: 32px;\n",
              "  }\n",
              "\n",
              "  .colab-df-quickchart:hover {\n",
              "    background-color: var(--hover-bg-color);\n",
              "    box-shadow: 0 1px 2px rgba(60, 64, 67, 0.3), 0 1px 3px 1px rgba(60, 64, 67, 0.15);\n",
              "    fill: var(--button-hover-fill-color);\n",
              "  }\n",
              "\n",
              "  .colab-df-quickchart-complete:disabled,\n",
              "  .colab-df-quickchart-complete:disabled:hover {\n",
              "    background-color: var(--disabled-bg-color);\n",
              "    fill: var(--disabled-fill-color);\n",
              "    box-shadow: none;\n",
              "  }\n",
              "\n",
              "  .colab-df-spinner {\n",
              "    border: 2px solid var(--fill-color);\n",
              "    border-color: transparent;\n",
              "    border-bottom-color: var(--fill-color);\n",
              "    animation:\n",
              "      spin 1s steps(1) infinite;\n",
              "  }\n",
              "\n",
              "  @keyframes spin {\n",
              "    0% {\n",
              "      border-color: transparent;\n",
              "      border-bottom-color: var(--fill-color);\n",
              "      border-left-color: var(--fill-color);\n",
              "    }\n",
              "    20% {\n",
              "      border-color: transparent;\n",
              "      border-left-color: var(--fill-color);\n",
              "      border-top-color: var(--fill-color);\n",
              "    }\n",
              "    30% {\n",
              "      border-color: transparent;\n",
              "      border-left-color: var(--fill-color);\n",
              "      border-top-color: var(--fill-color);\n",
              "      border-right-color: var(--fill-color);\n",
              "    }\n",
              "    40% {\n",
              "      border-color: transparent;\n",
              "      border-right-color: var(--fill-color);\n",
              "      border-top-color: var(--fill-color);\n",
              "    }\n",
              "    60% {\n",
              "      border-color: transparent;\n",
              "      border-right-color: var(--fill-color);\n",
              "    }\n",
              "    80% {\n",
              "      border-color: transparent;\n",
              "      border-right-color: var(--fill-color);\n",
              "      border-bottom-color: var(--fill-color);\n",
              "    }\n",
              "    90% {\n",
              "      border-color: transparent;\n",
              "      border-bottom-color: var(--fill-color);\n",
              "    }\n",
              "  }\n",
              "</style>\n",
              "\n",
              "  <script>\n",
              "    async function quickchart(key) {\n",
              "      const quickchartButtonEl =\n",
              "        document.querySelector('#' + key + ' button');\n",
              "      quickchartButtonEl.disabled = true;  // To prevent multiple clicks.\n",
              "      quickchartButtonEl.classList.add('colab-df-spinner');\n",
              "      try {\n",
              "        const charts = await google.colab.kernel.invokeFunction(\n",
              "            'suggestCharts', [key], {});\n",
              "      } catch (error) {\n",
              "        console.error('Error during call to suggestCharts:', error);\n",
              "      }\n",
              "      quickchartButtonEl.classList.remove('colab-df-spinner');\n",
              "      quickchartButtonEl.classList.add('colab-df-quickchart-complete');\n",
              "    }\n",
              "    (() => {\n",
              "      let quickchartButtonEl =\n",
              "        document.querySelector('#df-49897c8c-8cf7-45b1-829d-d8227ee9c527 button');\n",
              "      quickchartButtonEl.style.display =\n",
              "        google.colab.kernel.accessAllowed ? 'block' : 'none';\n",
              "    })();\n",
              "  </script>\n",
              "</div>\n",
              "    </div>\n",
              "  </div>\n"
            ]
          },
          "metadata": {},
          "execution_count": 193
        }
      ]
    },
    {
      "cell_type": "code",
      "source": [
        "print(test.isnull().sum())\n",
        "print(train.isnull().sum())"
      ],
      "metadata": {
        "id": "Laxb6_35PDNI",
        "outputId": "6b02ff98-525d-45bb-f577-d76105c92c83",
        "colab": {
          "base_uri": "https://localhost:8080/"
        }
      },
      "execution_count": 194,
      "outputs": [
        {
          "output_type": "stream",
          "name": "stdout",
          "text": [
            "hotel                             0\n",
            "is_canceled                       0\n",
            "lead_time                         0\n",
            "arrival_date_year                 0\n",
            "arrival_date_month                0\n",
            "arrival_date_week_number          0\n",
            "arrival_date_day_of_month         0\n",
            "stays_in_weekend_nights           0\n",
            "stays_in_week_nights              0\n",
            "adults                            0\n",
            "children                          0\n",
            "babies                            0\n",
            "meal                              0\n",
            "country                           0\n",
            "market_segment                    0\n",
            "distribution_channel              0\n",
            "is_repeated_guest                 0\n",
            "previous_cancellations            0\n",
            "previous_bookings_not_canceled    0\n",
            "reserved_room_type                0\n",
            "assigned_room_type                0\n",
            "booking_changes                   0\n",
            "deposit_type                      0\n",
            "agent                             0\n",
            "company                           0\n",
            "days_in_waiting_list              0\n",
            "customer_type                     0\n",
            "adr                               0\n",
            "required_car_parking_spaces       0\n",
            "total_of_special_requests         0\n",
            "persone                           0\n",
            "colonna_bambini                   0\n",
            "prenotazioni_precedenti           0\n",
            "giorni_totali                     0\n",
            "dtype: int64\n",
            "hotel                             0\n",
            "is_canceled                       0\n",
            "lead_time                         0\n",
            "arrival_date_year                 0\n",
            "arrival_date_month                0\n",
            "arrival_date_week_number          0\n",
            "arrival_date_day_of_month         0\n",
            "stays_in_weekend_nights           0\n",
            "stays_in_week_nights              0\n",
            "adults                            0\n",
            "children                          0\n",
            "babies                            0\n",
            "meal                              0\n",
            "country                           0\n",
            "market_segment                    0\n",
            "distribution_channel              0\n",
            "is_repeated_guest                 0\n",
            "previous_cancellations            0\n",
            "previous_bookings_not_canceled    0\n",
            "reserved_room_type                0\n",
            "assigned_room_type                0\n",
            "booking_changes                   0\n",
            "deposit_type                      0\n",
            "agent                             0\n",
            "company                           0\n",
            "days_in_waiting_list              0\n",
            "customer_type                     0\n",
            "adr                               0\n",
            "required_car_parking_spaces       0\n",
            "total_of_special_requests         0\n",
            "persone                           0\n",
            "colonna_bambini                   0\n",
            "prenotazioni_precedenti           0\n",
            "giorni_totali                     0\n",
            "dtype: int64\n"
          ]
        }
      ]
    }
  ]
}