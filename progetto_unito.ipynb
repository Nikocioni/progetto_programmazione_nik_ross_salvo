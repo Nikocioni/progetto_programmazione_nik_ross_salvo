{
  "nbformat": 4,
  "nbformat_minor": 0,
  "metadata": {
    "colab": {
      "provenance": [],
      "name": "progetto_niko_ross_salvo_2.ipynb"
    },
    "kernelspec": {
      "name": "python3",
      "display_name": "Python 3"
    },
    "language_info": {
      "name": "python"
    }
  },
  "cells": [
    {
      "cell_type": "markdown",
      "source": [
        "Progetto laboratorio di programmazione. Gruppo: Nicolò Cioni, Rossano Gilioli e Salvatore Russo. Dataset scelto : dataset n 1"
      ],
      "metadata": {
        "id": "DuZebNFjdhPV"
      }
    },
    {
      "cell_type": "code",
      "execution_count": 88,
      "metadata": {
        "id": "Iu5uvsGbHgtA"
      },
      "outputs": [],
      "source": [
        "import pandas as pd\n",
        "import numpy as np\n",
        "import seaborn as sns\n",
        "import matplotlib.pyplot as plt\n",
        "from sklearn import svm, tree\n",
        "from sklearn.metrics import *\n",
        "test= pd.read_csv(\"/content/sample_data/1.test_convertito_numerici.csv\", sep=\",\")\n",
        "test_non = pd.read_csv(\"/content/sample_data/1.test_non_convertito.csv\", sep=\",\")\n",
        "train_non = pd.read_csv(\"/content/sample_data/1.train_non_convertito.csv\", sep=\",\")\n",
        "train = pd.read_csv(\"/content/sample_data/1.train_convertito_numerici.csv\", sep=\",\")"
      ]
    },
    {
      "cell_type": "markdown",
      "source": [
        "Quante righe e colonne sono presenti nei due dataset? I valori sono per lo più numerici o categorici e tra le righe sono poi presenti valori nulli?"
      ],
      "metadata": {
        "id": "1fwEgseWNH82"
      }
    },
    {
      "cell_type": "code",
      "source": [
        "print(\"Train dataset info:\")\n",
        "train.describe()"
      ],
      "metadata": {
        "id": "4isnIM9XXomq",
        "outputId": "694ef869-9cab-4ba4-9478-f6b967ac7e4f",
        "colab": {
          "base_uri": "https://localhost:8080/",
          "height": 367
        }
      },
      "execution_count": 89,
      "outputs": [
        {
          "output_type": "stream",
          "name": "stdout",
          "text": [
            "Train dataset info:\n"
          ]
        },
        {
          "output_type": "execute_result",
          "data": {
            "text/plain": [
              "              hotel   is_canceled     lead_time  arrival_date_year  \\\n",
              "count  56707.000000  56707.000000  56707.000000            56707.0   \n",
              "mean       0.327420      0.358633    102.870369             2016.0   \n",
              "std        0.469276      0.479603    106.582358                0.0   \n",
              "min        0.000000      0.000000      0.000000             2016.0   \n",
              "25%        0.000000      0.000000     17.000000             2016.0   \n",
              "50%        0.000000      0.000000     68.000000             2016.0   \n",
              "75%        1.000000      1.000000    160.000000             2016.0   \n",
              "max        1.000000      1.000000    709.000000             2016.0   \n",
              "\n",
              "       arrival_date_month  arrival_date_week_number  \\\n",
              "count        56707.000000              56707.000000   \n",
              "mean             6.767313                 28.458162   \n",
              "std              3.194300                 13.925493   \n",
              "min              1.000000                  1.000000   \n",
              "25%              4.000000                 17.000000   \n",
              "50%              7.000000                 28.000000   \n",
              "75%             10.000000                 41.000000   \n",
              "max             12.000000                 53.000000   \n",
              "\n",
              "       arrival_date_day_of_month  stays_in_weekend_nights  \\\n",
              "count               56707.000000             56707.000000   \n",
              "mean                   15.911104                 0.893981   \n",
              "std                     8.784897                 0.983110   \n",
              "min                     1.000000                 0.000000   \n",
              "25%                     8.000000                 0.000000   \n",
              "50%                    16.000000                 1.000000   \n",
              "75%                    24.000000                 2.000000   \n",
              "max                    31.000000                19.000000   \n",
              "\n",
              "       stays_in_week_nights        adults  ...  assigned_room_type  \\\n",
              "count          56707.000000  56707.000000  ...        56707.000000   \n",
              "mean               2.442802      1.850988  ...            1.349075   \n",
              "std                1.863548      0.498133  ...            1.887103   \n",
              "min                0.000000      0.000000  ...            0.000000   \n",
              "25%                1.000000      2.000000  ...            0.000000   \n",
              "50%                2.000000      2.000000  ...            0.000000   \n",
              "75%                3.000000      2.000000  ...            3.000000   \n",
              "max               50.000000      4.000000  ...           11.000000   \n",
              "\n",
              "       booking_changes  deposit_type         agent       company  \\\n",
              "count      56707.00000  56707.000000  56707.000000  56707.000000   \n",
              "mean           0.22484      0.124429     71.445095      8.487435   \n",
              "std            0.66649      0.337000    102.585427     47.550647   \n",
              "min            0.00000      0.000000     -1.000000     -1.000000   \n",
              "25%            0.00000      0.000000      7.000000     -1.000000   \n",
              "50%            0.00000      0.000000      9.000000     -1.000000   \n",
              "75%            0.00000      0.000000    134.000000     -1.000000   \n",
              "max           21.00000      2.000000    481.000000    499.000000   \n",
              "\n",
              "       days_in_waiting_list  customer_type           adr  \\\n",
              "count          56707.000000   56707.000000  56707.000000   \n",
              "mean               3.833865       2.171302     98.325863   \n",
              "std               23.785668       0.477327     49.955696   \n",
              "min                0.000000       0.000000      0.000000   \n",
              "25%                0.000000       2.000000     68.530000   \n",
              "50%                0.000000       2.000000     90.950000   \n",
              "75%                0.000000       2.000000    120.000000   \n",
              "max              391.000000       3.000000   5400.000000   \n",
              "\n",
              "       required_car_parking_spaces  total_of_special_requests  \n",
              "count                 56707.000000               56707.000000  \n",
              "mean                      0.068334                   0.548645  \n",
              "std                       0.253296                   0.761173  \n",
              "min                       0.000000                   0.000000  \n",
              "25%                       0.000000                   0.000000  \n",
              "50%                       0.000000                   0.000000  \n",
              "75%                       0.000000                   1.000000  \n",
              "max                       3.000000                   5.000000  \n",
              "\n",
              "[8 rows x 30 columns]"
            ],
            "text/html": [
              "\n",
              "  <div id=\"df-f4448389-cd3d-419f-91c5-5f345b278177\" class=\"colab-df-container\">\n",
              "    <div>\n",
              "<style scoped>\n",
              "    .dataframe tbody tr th:only-of-type {\n",
              "        vertical-align: middle;\n",
              "    }\n",
              "\n",
              "    .dataframe tbody tr th {\n",
              "        vertical-align: top;\n",
              "    }\n",
              "\n",
              "    .dataframe thead th {\n",
              "        text-align: right;\n",
              "    }\n",
              "</style>\n",
              "<table border=\"1\" class=\"dataframe\">\n",
              "  <thead>\n",
              "    <tr style=\"text-align: right;\">\n",
              "      <th></th>\n",
              "      <th>hotel</th>\n",
              "      <th>is_canceled</th>\n",
              "      <th>lead_time</th>\n",
              "      <th>arrival_date_year</th>\n",
              "      <th>arrival_date_month</th>\n",
              "      <th>arrival_date_week_number</th>\n",
              "      <th>arrival_date_day_of_month</th>\n",
              "      <th>stays_in_weekend_nights</th>\n",
              "      <th>stays_in_week_nights</th>\n",
              "      <th>adults</th>\n",
              "      <th>...</th>\n",
              "      <th>assigned_room_type</th>\n",
              "      <th>booking_changes</th>\n",
              "      <th>deposit_type</th>\n",
              "      <th>agent</th>\n",
              "      <th>company</th>\n",
              "      <th>days_in_waiting_list</th>\n",
              "      <th>customer_type</th>\n",
              "      <th>adr</th>\n",
              "      <th>required_car_parking_spaces</th>\n",
              "      <th>total_of_special_requests</th>\n",
              "    </tr>\n",
              "  </thead>\n",
              "  <tbody>\n",
              "    <tr>\n",
              "      <th>count</th>\n",
              "      <td>56707.000000</td>\n",
              "      <td>56707.000000</td>\n",
              "      <td>56707.000000</td>\n",
              "      <td>56707.0</td>\n",
              "      <td>56707.000000</td>\n",
              "      <td>56707.000000</td>\n",
              "      <td>56707.000000</td>\n",
              "      <td>56707.000000</td>\n",
              "      <td>56707.000000</td>\n",
              "      <td>56707.000000</td>\n",
              "      <td>...</td>\n",
              "      <td>56707.000000</td>\n",
              "      <td>56707.00000</td>\n",
              "      <td>56707.000000</td>\n",
              "      <td>56707.000000</td>\n",
              "      <td>56707.000000</td>\n",
              "      <td>56707.000000</td>\n",
              "      <td>56707.000000</td>\n",
              "      <td>56707.000000</td>\n",
              "      <td>56707.000000</td>\n",
              "      <td>56707.000000</td>\n",
              "    </tr>\n",
              "    <tr>\n",
              "      <th>mean</th>\n",
              "      <td>0.327420</td>\n",
              "      <td>0.358633</td>\n",
              "      <td>102.870369</td>\n",
              "      <td>2016.0</td>\n",
              "      <td>6.767313</td>\n",
              "      <td>28.458162</td>\n",
              "      <td>15.911104</td>\n",
              "      <td>0.893981</td>\n",
              "      <td>2.442802</td>\n",
              "      <td>1.850988</td>\n",
              "      <td>...</td>\n",
              "      <td>1.349075</td>\n",
              "      <td>0.22484</td>\n",
              "      <td>0.124429</td>\n",
              "      <td>71.445095</td>\n",
              "      <td>8.487435</td>\n",
              "      <td>3.833865</td>\n",
              "      <td>2.171302</td>\n",
              "      <td>98.325863</td>\n",
              "      <td>0.068334</td>\n",
              "      <td>0.548645</td>\n",
              "    </tr>\n",
              "    <tr>\n",
              "      <th>std</th>\n",
              "      <td>0.469276</td>\n",
              "      <td>0.479603</td>\n",
              "      <td>106.582358</td>\n",
              "      <td>0.0</td>\n",
              "      <td>3.194300</td>\n",
              "      <td>13.925493</td>\n",
              "      <td>8.784897</td>\n",
              "      <td>0.983110</td>\n",
              "      <td>1.863548</td>\n",
              "      <td>0.498133</td>\n",
              "      <td>...</td>\n",
              "      <td>1.887103</td>\n",
              "      <td>0.66649</td>\n",
              "      <td>0.337000</td>\n",
              "      <td>102.585427</td>\n",
              "      <td>47.550647</td>\n",
              "      <td>23.785668</td>\n",
              "      <td>0.477327</td>\n",
              "      <td>49.955696</td>\n",
              "      <td>0.253296</td>\n",
              "      <td>0.761173</td>\n",
              "    </tr>\n",
              "    <tr>\n",
              "      <th>min</th>\n",
              "      <td>0.000000</td>\n",
              "      <td>0.000000</td>\n",
              "      <td>0.000000</td>\n",
              "      <td>2016.0</td>\n",
              "      <td>1.000000</td>\n",
              "      <td>1.000000</td>\n",
              "      <td>1.000000</td>\n",
              "      <td>0.000000</td>\n",
              "      <td>0.000000</td>\n",
              "      <td>0.000000</td>\n",
              "      <td>...</td>\n",
              "      <td>0.000000</td>\n",
              "      <td>0.00000</td>\n",
              "      <td>0.000000</td>\n",
              "      <td>-1.000000</td>\n",
              "      <td>-1.000000</td>\n",
              "      <td>0.000000</td>\n",
              "      <td>0.000000</td>\n",
              "      <td>0.000000</td>\n",
              "      <td>0.000000</td>\n",
              "      <td>0.000000</td>\n",
              "    </tr>\n",
              "    <tr>\n",
              "      <th>25%</th>\n",
              "      <td>0.000000</td>\n",
              "      <td>0.000000</td>\n",
              "      <td>17.000000</td>\n",
              "      <td>2016.0</td>\n",
              "      <td>4.000000</td>\n",
              "      <td>17.000000</td>\n",
              "      <td>8.000000</td>\n",
              "      <td>0.000000</td>\n",
              "      <td>1.000000</td>\n",
              "      <td>2.000000</td>\n",
              "      <td>...</td>\n",
              "      <td>0.000000</td>\n",
              "      <td>0.00000</td>\n",
              "      <td>0.000000</td>\n",
              "      <td>7.000000</td>\n",
              "      <td>-1.000000</td>\n",
              "      <td>0.000000</td>\n",
              "      <td>2.000000</td>\n",
              "      <td>68.530000</td>\n",
              "      <td>0.000000</td>\n",
              "      <td>0.000000</td>\n",
              "    </tr>\n",
              "    <tr>\n",
              "      <th>50%</th>\n",
              "      <td>0.000000</td>\n",
              "      <td>0.000000</td>\n",
              "      <td>68.000000</td>\n",
              "      <td>2016.0</td>\n",
              "      <td>7.000000</td>\n",
              "      <td>28.000000</td>\n",
              "      <td>16.000000</td>\n",
              "      <td>1.000000</td>\n",
              "      <td>2.000000</td>\n",
              "      <td>2.000000</td>\n",
              "      <td>...</td>\n",
              "      <td>0.000000</td>\n",
              "      <td>0.00000</td>\n",
              "      <td>0.000000</td>\n",
              "      <td>9.000000</td>\n",
              "      <td>-1.000000</td>\n",
              "      <td>0.000000</td>\n",
              "      <td>2.000000</td>\n",
              "      <td>90.950000</td>\n",
              "      <td>0.000000</td>\n",
              "      <td>0.000000</td>\n",
              "    </tr>\n",
              "    <tr>\n",
              "      <th>75%</th>\n",
              "      <td>1.000000</td>\n",
              "      <td>1.000000</td>\n",
              "      <td>160.000000</td>\n",
              "      <td>2016.0</td>\n",
              "      <td>10.000000</td>\n",
              "      <td>41.000000</td>\n",
              "      <td>24.000000</td>\n",
              "      <td>2.000000</td>\n",
              "      <td>3.000000</td>\n",
              "      <td>2.000000</td>\n",
              "      <td>...</td>\n",
              "      <td>3.000000</td>\n",
              "      <td>0.00000</td>\n",
              "      <td>0.000000</td>\n",
              "      <td>134.000000</td>\n",
              "      <td>-1.000000</td>\n",
              "      <td>0.000000</td>\n",
              "      <td>2.000000</td>\n",
              "      <td>120.000000</td>\n",
              "      <td>0.000000</td>\n",
              "      <td>1.000000</td>\n",
              "    </tr>\n",
              "    <tr>\n",
              "      <th>max</th>\n",
              "      <td>1.000000</td>\n",
              "      <td>1.000000</td>\n",
              "      <td>709.000000</td>\n",
              "      <td>2016.0</td>\n",
              "      <td>12.000000</td>\n",
              "      <td>53.000000</td>\n",
              "      <td>31.000000</td>\n",
              "      <td>19.000000</td>\n",
              "      <td>50.000000</td>\n",
              "      <td>4.000000</td>\n",
              "      <td>...</td>\n",
              "      <td>11.000000</td>\n",
              "      <td>21.00000</td>\n",
              "      <td>2.000000</td>\n",
              "      <td>481.000000</td>\n",
              "      <td>499.000000</td>\n",
              "      <td>391.000000</td>\n",
              "      <td>3.000000</td>\n",
              "      <td>5400.000000</td>\n",
              "      <td>3.000000</td>\n",
              "      <td>5.000000</td>\n",
              "    </tr>\n",
              "  </tbody>\n",
              "</table>\n",
              "<p>8 rows × 30 columns</p>\n",
              "</div>\n",
              "    <div class=\"colab-df-buttons\">\n",
              "\n",
              "  <div class=\"colab-df-container\">\n",
              "    <button class=\"colab-df-convert\" onclick=\"convertToInteractive('df-f4448389-cd3d-419f-91c5-5f345b278177')\"\n",
              "            title=\"Convert this dataframe to an interactive table.\"\n",
              "            style=\"display:none;\">\n",
              "\n",
              "  <svg xmlns=\"http://www.w3.org/2000/svg\" height=\"24px\" viewBox=\"0 -960 960 960\">\n",
              "    <path d=\"M120-120v-720h720v720H120Zm60-500h600v-160H180v160Zm220 220h160v-160H400v160Zm0 220h160v-160H400v160ZM180-400h160v-160H180v160Zm440 0h160v-160H620v160ZM180-180h160v-160H180v160Zm440 0h160v-160H620v160Z\"/>\n",
              "  </svg>\n",
              "    </button>\n",
              "\n",
              "  <style>\n",
              "    .colab-df-container {\n",
              "      display:flex;\n",
              "      gap: 12px;\n",
              "    }\n",
              "\n",
              "    .colab-df-convert {\n",
              "      background-color: #E8F0FE;\n",
              "      border: none;\n",
              "      border-radius: 50%;\n",
              "      cursor: pointer;\n",
              "      display: none;\n",
              "      fill: #1967D2;\n",
              "      height: 32px;\n",
              "      padding: 0 0 0 0;\n",
              "      width: 32px;\n",
              "    }\n",
              "\n",
              "    .colab-df-convert:hover {\n",
              "      background-color: #E2EBFA;\n",
              "      box-shadow: 0px 1px 2px rgba(60, 64, 67, 0.3), 0px 1px 3px 1px rgba(60, 64, 67, 0.15);\n",
              "      fill: #174EA6;\n",
              "    }\n",
              "\n",
              "    .colab-df-buttons div {\n",
              "      margin-bottom: 4px;\n",
              "    }\n",
              "\n",
              "    [theme=dark] .colab-df-convert {\n",
              "      background-color: #3B4455;\n",
              "      fill: #D2E3FC;\n",
              "    }\n",
              "\n",
              "    [theme=dark] .colab-df-convert:hover {\n",
              "      background-color: #434B5C;\n",
              "      box-shadow: 0px 1px 3px 1px rgba(0, 0, 0, 0.15);\n",
              "      filter: drop-shadow(0px 1px 2px rgba(0, 0, 0, 0.3));\n",
              "      fill: #FFFFFF;\n",
              "    }\n",
              "  </style>\n",
              "\n",
              "    <script>\n",
              "      const buttonEl =\n",
              "        document.querySelector('#df-f4448389-cd3d-419f-91c5-5f345b278177 button.colab-df-convert');\n",
              "      buttonEl.style.display =\n",
              "        google.colab.kernel.accessAllowed ? 'block' : 'none';\n",
              "\n",
              "      async function convertToInteractive(key) {\n",
              "        const element = document.querySelector('#df-f4448389-cd3d-419f-91c5-5f345b278177');\n",
              "        const dataTable =\n",
              "          await google.colab.kernel.invokeFunction('convertToInteractive',\n",
              "                                                    [key], {});\n",
              "        if (!dataTable) return;\n",
              "\n",
              "        const docLinkHtml = 'Like what you see? Visit the ' +\n",
              "          '<a target=\"_blank\" href=https://colab.research.google.com/notebooks/data_table.ipynb>data table notebook</a>'\n",
              "          + ' to learn more about interactive tables.';\n",
              "        element.innerHTML = '';\n",
              "        dataTable['output_type'] = 'display_data';\n",
              "        await google.colab.output.renderOutput(dataTable, element);\n",
              "        const docLink = document.createElement('div');\n",
              "        docLink.innerHTML = docLinkHtml;\n",
              "        element.appendChild(docLink);\n",
              "      }\n",
              "    </script>\n",
              "  </div>\n",
              "\n",
              "\n",
              "<div id=\"df-d4bfa5be-d5de-43e7-a9bc-441a44a2c46e\">\n",
              "  <button class=\"colab-df-quickchart\" onclick=\"quickchart('df-d4bfa5be-d5de-43e7-a9bc-441a44a2c46e')\"\n",
              "            title=\"Suggest charts\"\n",
              "            style=\"display:none;\">\n",
              "\n",
              "<svg xmlns=\"http://www.w3.org/2000/svg\" height=\"24px\"viewBox=\"0 0 24 24\"\n",
              "     width=\"24px\">\n",
              "    <g>\n",
              "        <path d=\"M19 3H5c-1.1 0-2 .9-2 2v14c0 1.1.9 2 2 2h14c1.1 0 2-.9 2-2V5c0-1.1-.9-2-2-2zM9 17H7v-7h2v7zm4 0h-2V7h2v10zm4 0h-2v-4h2v4z\"/>\n",
              "    </g>\n",
              "</svg>\n",
              "  </button>\n",
              "\n",
              "<style>\n",
              "  .colab-df-quickchart {\n",
              "      --bg-color: #E8F0FE;\n",
              "      --fill-color: #1967D2;\n",
              "      --hover-bg-color: #E2EBFA;\n",
              "      --hover-fill-color: #174EA6;\n",
              "      --disabled-fill-color: #AAA;\n",
              "      --disabled-bg-color: #DDD;\n",
              "  }\n",
              "\n",
              "  [theme=dark] .colab-df-quickchart {\n",
              "      --bg-color: #3B4455;\n",
              "      --fill-color: #D2E3FC;\n",
              "      --hover-bg-color: #434B5C;\n",
              "      --hover-fill-color: #FFFFFF;\n",
              "      --disabled-bg-color: #3B4455;\n",
              "      --disabled-fill-color: #666;\n",
              "  }\n",
              "\n",
              "  .colab-df-quickchart {\n",
              "    background-color: var(--bg-color);\n",
              "    border: none;\n",
              "    border-radius: 50%;\n",
              "    cursor: pointer;\n",
              "    display: none;\n",
              "    fill: var(--fill-color);\n",
              "    height: 32px;\n",
              "    padding: 0;\n",
              "    width: 32px;\n",
              "  }\n",
              "\n",
              "  .colab-df-quickchart:hover {\n",
              "    background-color: var(--hover-bg-color);\n",
              "    box-shadow: 0 1px 2px rgba(60, 64, 67, 0.3), 0 1px 3px 1px rgba(60, 64, 67, 0.15);\n",
              "    fill: var(--button-hover-fill-color);\n",
              "  }\n",
              "\n",
              "  .colab-df-quickchart-complete:disabled,\n",
              "  .colab-df-quickchart-complete:disabled:hover {\n",
              "    background-color: var(--disabled-bg-color);\n",
              "    fill: var(--disabled-fill-color);\n",
              "    box-shadow: none;\n",
              "  }\n",
              "\n",
              "  .colab-df-spinner {\n",
              "    border: 2px solid var(--fill-color);\n",
              "    border-color: transparent;\n",
              "    border-bottom-color: var(--fill-color);\n",
              "    animation:\n",
              "      spin 1s steps(1) infinite;\n",
              "  }\n",
              "\n",
              "  @keyframes spin {\n",
              "    0% {\n",
              "      border-color: transparent;\n",
              "      border-bottom-color: var(--fill-color);\n",
              "      border-left-color: var(--fill-color);\n",
              "    }\n",
              "    20% {\n",
              "      border-color: transparent;\n",
              "      border-left-color: var(--fill-color);\n",
              "      border-top-color: var(--fill-color);\n",
              "    }\n",
              "    30% {\n",
              "      border-color: transparent;\n",
              "      border-left-color: var(--fill-color);\n",
              "      border-top-color: var(--fill-color);\n",
              "      border-right-color: var(--fill-color);\n",
              "    }\n",
              "    40% {\n",
              "      border-color: transparent;\n",
              "      border-right-color: var(--fill-color);\n",
              "      border-top-color: var(--fill-color);\n",
              "    }\n",
              "    60% {\n",
              "      border-color: transparent;\n",
              "      border-right-color: var(--fill-color);\n",
              "    }\n",
              "    80% {\n",
              "      border-color: transparent;\n",
              "      border-right-color: var(--fill-color);\n",
              "      border-bottom-color: var(--fill-color);\n",
              "    }\n",
              "    90% {\n",
              "      border-color: transparent;\n",
              "      border-bottom-color: var(--fill-color);\n",
              "    }\n",
              "  }\n",
              "</style>\n",
              "\n",
              "  <script>\n",
              "    async function quickchart(key) {\n",
              "      const quickchartButtonEl =\n",
              "        document.querySelector('#' + key + ' button');\n",
              "      quickchartButtonEl.disabled = true;  // To prevent multiple clicks.\n",
              "      quickchartButtonEl.classList.add('colab-df-spinner');\n",
              "      try {\n",
              "        const charts = await google.colab.kernel.invokeFunction(\n",
              "            'suggestCharts', [key], {});\n",
              "      } catch (error) {\n",
              "        console.error('Error during call to suggestCharts:', error);\n",
              "      }\n",
              "      quickchartButtonEl.classList.remove('colab-df-spinner');\n",
              "      quickchartButtonEl.classList.add('colab-df-quickchart-complete');\n",
              "    }\n",
              "    (() => {\n",
              "      let quickchartButtonEl =\n",
              "        document.querySelector('#df-d4bfa5be-d5de-43e7-a9bc-441a44a2c46e button');\n",
              "      quickchartButtonEl.style.display =\n",
              "        google.colab.kernel.accessAllowed ? 'block' : 'none';\n",
              "    })();\n",
              "  </script>\n",
              "</div>\n",
              "    </div>\n",
              "  </div>\n"
            ]
          },
          "metadata": {},
          "execution_count": 89
        }
      ]
    },
    {
      "cell_type": "code",
      "source": [
        "print(\"Test dataset info:\")\n",
        "test.describe()"
      ],
      "metadata": {
        "id": "XtXRDSjFX_Am",
        "outputId": "2194cb32-477b-4d37-fc7c-9e9cd5714fdd",
        "colab": {
          "base_uri": "https://localhost:8080/",
          "height": 367
        }
      },
      "execution_count": 90,
      "outputs": [
        {
          "output_type": "stream",
          "name": "stdout",
          "text": [
            "Test dataset info:\n"
          ]
        },
        {
          "output_type": "execute_result",
          "data": {
            "text/plain": [
              "              hotel   is_canceled     lead_time  arrival_date_year  \\\n",
              "count  40687.000000  40687.000000  40687.000000            40687.0   \n",
              "mean       0.323912      0.386979    109.259223             2017.0   \n",
              "std        0.467973      0.487065    107.940953                0.0   \n",
              "min        0.000000      0.000000      0.000000             2017.0   \n",
              "25%        0.000000      0.000000     23.000000             2017.0   \n",
              "50%        0.000000      0.000000     80.000000             2017.0   \n",
              "75%        1.000000      1.000000    164.500000             2017.0   \n",
              "max        1.000000      1.000000    629.000000             2017.0   \n",
              "\n",
              "       arrival_date_month  arrival_date_week_number  \\\n",
              "count        40687.000000              40687.000000   \n",
              "mean             4.709784                 18.630373   \n",
              "std              2.160014                  9.422475   \n",
              "min              1.000000                  1.000000   \n",
              "25%              3.000000                 11.000000   \n",
              "50%              5.000000                 19.000000   \n",
              "75%              7.000000                 26.000000   \n",
              "max              8.000000                 35.000000   \n",
              "\n",
              "       arrival_date_day_of_month  stays_in_weekend_nights  \\\n",
              "count               40687.000000             40687.000000   \n",
              "mean                   15.717576                 0.973308   \n",
              "std                     8.789609                 1.014337   \n",
              "min                     1.000000                 0.000000   \n",
              "25%                     8.000000                 0.000000   \n",
              "50%                    16.000000                 1.000000   \n",
              "75%                    23.000000                 2.000000   \n",
              "max                    31.000000                16.000000   \n",
              "\n",
              "       stays_in_week_nights        adults  ...  assigned_room_type  \\\n",
              "count          40687.000000  40687.000000  ...        40687.000000   \n",
              "mean               2.601543      1.877995  ...            1.386168   \n",
              "std                1.973291      0.496172  ...            1.907991   \n",
              "min                0.000000      0.000000  ...            0.000000   \n",
              "25%                1.000000      2.000000  ...            0.000000   \n",
              "50%                2.000000      2.000000  ...            0.000000   \n",
              "75%                3.000000      2.000000  ...            3.000000   \n",
              "max               40.000000      4.000000  ...           11.000000   \n",
              "\n",
              "       booking_changes  deposit_type         agent       company  \\\n",
              "count     40687.000000  40687.000000  40687.000000  40687.000000   \n",
              "mean          0.239438      0.102736     83.233047     12.665544   \n",
              "std           0.683429      0.305795    116.963712     65.972486   \n",
              "min           0.000000      0.000000     -1.000000     -1.000000   \n",
              "25%           0.000000      0.000000      9.000000     -1.000000   \n",
              "50%           0.000000      0.000000      9.000000     -1.000000   \n",
              "75%           0.000000      0.000000    229.000000     -1.000000   \n",
              "max          18.000000      2.000000    535.000000    543.000000   \n",
              "\n",
              "       days_in_waiting_list  customer_type           adr  \\\n",
              "count          40687.000000   40687.000000  40687.000000   \n",
              "mean               0.235186       2.109961    114.637950   \n",
              "std                4.458834       0.454108     52.256304   \n",
              "min                0.000000       0.000000     -6.380000   \n",
              "25%                0.000000       2.000000     80.000000   \n",
              "50%                0.000000       2.000000    107.100000   \n",
              "75%                0.000000       2.000000    140.000000   \n",
              "max              223.000000       3.000000    510.000000   \n",
              "\n",
              "       required_car_parking_spaces  total_of_special_requests  \n",
              "count                 40687.000000               40687.000000  \n",
              "mean                      0.054981                   0.676506  \n",
              "std                       0.235894                   0.846531  \n",
              "min                       0.000000                   0.000000  \n",
              "25%                       0.000000                   0.000000  \n",
              "50%                       0.000000                   0.000000  \n",
              "75%                       0.000000                   1.000000  \n",
              "max                       8.000000                   5.000000  \n",
              "\n",
              "[8 rows x 30 columns]"
            ],
            "text/html": [
              "\n",
              "  <div id=\"df-e81d068e-c274-496e-aa1f-993d333fac80\" class=\"colab-df-container\">\n",
              "    <div>\n",
              "<style scoped>\n",
              "    .dataframe tbody tr th:only-of-type {\n",
              "        vertical-align: middle;\n",
              "    }\n",
              "\n",
              "    .dataframe tbody tr th {\n",
              "        vertical-align: top;\n",
              "    }\n",
              "\n",
              "    .dataframe thead th {\n",
              "        text-align: right;\n",
              "    }\n",
              "</style>\n",
              "<table border=\"1\" class=\"dataframe\">\n",
              "  <thead>\n",
              "    <tr style=\"text-align: right;\">\n",
              "      <th></th>\n",
              "      <th>hotel</th>\n",
              "      <th>is_canceled</th>\n",
              "      <th>lead_time</th>\n",
              "      <th>arrival_date_year</th>\n",
              "      <th>arrival_date_month</th>\n",
              "      <th>arrival_date_week_number</th>\n",
              "      <th>arrival_date_day_of_month</th>\n",
              "      <th>stays_in_weekend_nights</th>\n",
              "      <th>stays_in_week_nights</th>\n",
              "      <th>adults</th>\n",
              "      <th>...</th>\n",
              "      <th>assigned_room_type</th>\n",
              "      <th>booking_changes</th>\n",
              "      <th>deposit_type</th>\n",
              "      <th>agent</th>\n",
              "      <th>company</th>\n",
              "      <th>days_in_waiting_list</th>\n",
              "      <th>customer_type</th>\n",
              "      <th>adr</th>\n",
              "      <th>required_car_parking_spaces</th>\n",
              "      <th>total_of_special_requests</th>\n",
              "    </tr>\n",
              "  </thead>\n",
              "  <tbody>\n",
              "    <tr>\n",
              "      <th>count</th>\n",
              "      <td>40687.000000</td>\n",
              "      <td>40687.000000</td>\n",
              "      <td>40687.000000</td>\n",
              "      <td>40687.0</td>\n",
              "      <td>40687.000000</td>\n",
              "      <td>40687.000000</td>\n",
              "      <td>40687.000000</td>\n",
              "      <td>40687.000000</td>\n",
              "      <td>40687.000000</td>\n",
              "      <td>40687.000000</td>\n",
              "      <td>...</td>\n",
              "      <td>40687.000000</td>\n",
              "      <td>40687.000000</td>\n",
              "      <td>40687.000000</td>\n",
              "      <td>40687.000000</td>\n",
              "      <td>40687.000000</td>\n",
              "      <td>40687.000000</td>\n",
              "      <td>40687.000000</td>\n",
              "      <td>40687.000000</td>\n",
              "      <td>40687.000000</td>\n",
              "      <td>40687.000000</td>\n",
              "    </tr>\n",
              "    <tr>\n",
              "      <th>mean</th>\n",
              "      <td>0.323912</td>\n",
              "      <td>0.386979</td>\n",
              "      <td>109.259223</td>\n",
              "      <td>2017.0</td>\n",
              "      <td>4.709784</td>\n",
              "      <td>18.630373</td>\n",
              "      <td>15.717576</td>\n",
              "      <td>0.973308</td>\n",
              "      <td>2.601543</td>\n",
              "      <td>1.877995</td>\n",
              "      <td>...</td>\n",
              "      <td>1.386168</td>\n",
              "      <td>0.239438</td>\n",
              "      <td>0.102736</td>\n",
              "      <td>83.233047</td>\n",
              "      <td>12.665544</td>\n",
              "      <td>0.235186</td>\n",
              "      <td>2.109961</td>\n",
              "      <td>114.637950</td>\n",
              "      <td>0.054981</td>\n",
              "      <td>0.676506</td>\n",
              "    </tr>\n",
              "    <tr>\n",
              "      <th>std</th>\n",
              "      <td>0.467973</td>\n",
              "      <td>0.487065</td>\n",
              "      <td>107.940953</td>\n",
              "      <td>0.0</td>\n",
              "      <td>2.160014</td>\n",
              "      <td>9.422475</td>\n",
              "      <td>8.789609</td>\n",
              "      <td>1.014337</td>\n",
              "      <td>1.973291</td>\n",
              "      <td>0.496172</td>\n",
              "      <td>...</td>\n",
              "      <td>1.907991</td>\n",
              "      <td>0.683429</td>\n",
              "      <td>0.305795</td>\n",
              "      <td>116.963712</td>\n",
              "      <td>65.972486</td>\n",
              "      <td>4.458834</td>\n",
              "      <td>0.454108</td>\n",
              "      <td>52.256304</td>\n",
              "      <td>0.235894</td>\n",
              "      <td>0.846531</td>\n",
              "    </tr>\n",
              "    <tr>\n",
              "      <th>min</th>\n",
              "      <td>0.000000</td>\n",
              "      <td>0.000000</td>\n",
              "      <td>0.000000</td>\n",
              "      <td>2017.0</td>\n",
              "      <td>1.000000</td>\n",
              "      <td>1.000000</td>\n",
              "      <td>1.000000</td>\n",
              "      <td>0.000000</td>\n",
              "      <td>0.000000</td>\n",
              "      <td>0.000000</td>\n",
              "      <td>...</td>\n",
              "      <td>0.000000</td>\n",
              "      <td>0.000000</td>\n",
              "      <td>0.000000</td>\n",
              "      <td>-1.000000</td>\n",
              "      <td>-1.000000</td>\n",
              "      <td>0.000000</td>\n",
              "      <td>0.000000</td>\n",
              "      <td>-6.380000</td>\n",
              "      <td>0.000000</td>\n",
              "      <td>0.000000</td>\n",
              "    </tr>\n",
              "    <tr>\n",
              "      <th>25%</th>\n",
              "      <td>0.000000</td>\n",
              "      <td>0.000000</td>\n",
              "      <td>23.000000</td>\n",
              "      <td>2017.0</td>\n",
              "      <td>3.000000</td>\n",
              "      <td>11.000000</td>\n",
              "      <td>8.000000</td>\n",
              "      <td>0.000000</td>\n",
              "      <td>1.000000</td>\n",
              "      <td>2.000000</td>\n",
              "      <td>...</td>\n",
              "      <td>0.000000</td>\n",
              "      <td>0.000000</td>\n",
              "      <td>0.000000</td>\n",
              "      <td>9.000000</td>\n",
              "      <td>-1.000000</td>\n",
              "      <td>0.000000</td>\n",
              "      <td>2.000000</td>\n",
              "      <td>80.000000</td>\n",
              "      <td>0.000000</td>\n",
              "      <td>0.000000</td>\n",
              "    </tr>\n",
              "    <tr>\n",
              "      <th>50%</th>\n",
              "      <td>0.000000</td>\n",
              "      <td>0.000000</td>\n",
              "      <td>80.000000</td>\n",
              "      <td>2017.0</td>\n",
              "      <td>5.000000</td>\n",
              "      <td>19.000000</td>\n",
              "      <td>16.000000</td>\n",
              "      <td>1.000000</td>\n",
              "      <td>2.000000</td>\n",
              "      <td>2.000000</td>\n",
              "      <td>...</td>\n",
              "      <td>0.000000</td>\n",
              "      <td>0.000000</td>\n",
              "      <td>0.000000</td>\n",
              "      <td>9.000000</td>\n",
              "      <td>-1.000000</td>\n",
              "      <td>0.000000</td>\n",
              "      <td>2.000000</td>\n",
              "      <td>107.100000</td>\n",
              "      <td>0.000000</td>\n",
              "      <td>0.000000</td>\n",
              "    </tr>\n",
              "    <tr>\n",
              "      <th>75%</th>\n",
              "      <td>1.000000</td>\n",
              "      <td>1.000000</td>\n",
              "      <td>164.500000</td>\n",
              "      <td>2017.0</td>\n",
              "      <td>7.000000</td>\n",
              "      <td>26.000000</td>\n",
              "      <td>23.000000</td>\n",
              "      <td>2.000000</td>\n",
              "      <td>3.000000</td>\n",
              "      <td>2.000000</td>\n",
              "      <td>...</td>\n",
              "      <td>3.000000</td>\n",
              "      <td>0.000000</td>\n",
              "      <td>0.000000</td>\n",
              "      <td>229.000000</td>\n",
              "      <td>-1.000000</td>\n",
              "      <td>0.000000</td>\n",
              "      <td>2.000000</td>\n",
              "      <td>140.000000</td>\n",
              "      <td>0.000000</td>\n",
              "      <td>1.000000</td>\n",
              "    </tr>\n",
              "    <tr>\n",
              "      <th>max</th>\n",
              "      <td>1.000000</td>\n",
              "      <td>1.000000</td>\n",
              "      <td>629.000000</td>\n",
              "      <td>2017.0</td>\n",
              "      <td>8.000000</td>\n",
              "      <td>35.000000</td>\n",
              "      <td>31.000000</td>\n",
              "      <td>16.000000</td>\n",
              "      <td>40.000000</td>\n",
              "      <td>4.000000</td>\n",
              "      <td>...</td>\n",
              "      <td>11.000000</td>\n",
              "      <td>18.000000</td>\n",
              "      <td>2.000000</td>\n",
              "      <td>535.000000</td>\n",
              "      <td>543.000000</td>\n",
              "      <td>223.000000</td>\n",
              "      <td>3.000000</td>\n",
              "      <td>510.000000</td>\n",
              "      <td>8.000000</td>\n",
              "      <td>5.000000</td>\n",
              "    </tr>\n",
              "  </tbody>\n",
              "</table>\n",
              "<p>8 rows × 30 columns</p>\n",
              "</div>\n",
              "    <div class=\"colab-df-buttons\">\n",
              "\n",
              "  <div class=\"colab-df-container\">\n",
              "    <button class=\"colab-df-convert\" onclick=\"convertToInteractive('df-e81d068e-c274-496e-aa1f-993d333fac80')\"\n",
              "            title=\"Convert this dataframe to an interactive table.\"\n",
              "            style=\"display:none;\">\n",
              "\n",
              "  <svg xmlns=\"http://www.w3.org/2000/svg\" height=\"24px\" viewBox=\"0 -960 960 960\">\n",
              "    <path d=\"M120-120v-720h720v720H120Zm60-500h600v-160H180v160Zm220 220h160v-160H400v160Zm0 220h160v-160H400v160ZM180-400h160v-160H180v160Zm440 0h160v-160H620v160ZM180-180h160v-160H180v160Zm440 0h160v-160H620v160Z\"/>\n",
              "  </svg>\n",
              "    </button>\n",
              "\n",
              "  <style>\n",
              "    .colab-df-container {\n",
              "      display:flex;\n",
              "      gap: 12px;\n",
              "    }\n",
              "\n",
              "    .colab-df-convert {\n",
              "      background-color: #E8F0FE;\n",
              "      border: none;\n",
              "      border-radius: 50%;\n",
              "      cursor: pointer;\n",
              "      display: none;\n",
              "      fill: #1967D2;\n",
              "      height: 32px;\n",
              "      padding: 0 0 0 0;\n",
              "      width: 32px;\n",
              "    }\n",
              "\n",
              "    .colab-df-convert:hover {\n",
              "      background-color: #E2EBFA;\n",
              "      box-shadow: 0px 1px 2px rgba(60, 64, 67, 0.3), 0px 1px 3px 1px rgba(60, 64, 67, 0.15);\n",
              "      fill: #174EA6;\n",
              "    }\n",
              "\n",
              "    .colab-df-buttons div {\n",
              "      margin-bottom: 4px;\n",
              "    }\n",
              "\n",
              "    [theme=dark] .colab-df-convert {\n",
              "      background-color: #3B4455;\n",
              "      fill: #D2E3FC;\n",
              "    }\n",
              "\n",
              "    [theme=dark] .colab-df-convert:hover {\n",
              "      background-color: #434B5C;\n",
              "      box-shadow: 0px 1px 3px 1px rgba(0, 0, 0, 0.15);\n",
              "      filter: drop-shadow(0px 1px 2px rgba(0, 0, 0, 0.3));\n",
              "      fill: #FFFFFF;\n",
              "    }\n",
              "  </style>\n",
              "\n",
              "    <script>\n",
              "      const buttonEl =\n",
              "        document.querySelector('#df-e81d068e-c274-496e-aa1f-993d333fac80 button.colab-df-convert');\n",
              "      buttonEl.style.display =\n",
              "        google.colab.kernel.accessAllowed ? 'block' : 'none';\n",
              "\n",
              "      async function convertToInteractive(key) {\n",
              "        const element = document.querySelector('#df-e81d068e-c274-496e-aa1f-993d333fac80');\n",
              "        const dataTable =\n",
              "          await google.colab.kernel.invokeFunction('convertToInteractive',\n",
              "                                                    [key], {});\n",
              "        if (!dataTable) return;\n",
              "\n",
              "        const docLinkHtml = 'Like what you see? Visit the ' +\n",
              "          '<a target=\"_blank\" href=https://colab.research.google.com/notebooks/data_table.ipynb>data table notebook</a>'\n",
              "          + ' to learn more about interactive tables.';\n",
              "        element.innerHTML = '';\n",
              "        dataTable['output_type'] = 'display_data';\n",
              "        await google.colab.output.renderOutput(dataTable, element);\n",
              "        const docLink = document.createElement('div');\n",
              "        docLink.innerHTML = docLinkHtml;\n",
              "        element.appendChild(docLink);\n",
              "      }\n",
              "    </script>\n",
              "  </div>\n",
              "\n",
              "\n",
              "<div id=\"df-52a369a7-96de-408a-87d1-310363fe722d\">\n",
              "  <button class=\"colab-df-quickchart\" onclick=\"quickchart('df-52a369a7-96de-408a-87d1-310363fe722d')\"\n",
              "            title=\"Suggest charts\"\n",
              "            style=\"display:none;\">\n",
              "\n",
              "<svg xmlns=\"http://www.w3.org/2000/svg\" height=\"24px\"viewBox=\"0 0 24 24\"\n",
              "     width=\"24px\">\n",
              "    <g>\n",
              "        <path d=\"M19 3H5c-1.1 0-2 .9-2 2v14c0 1.1.9 2 2 2h14c1.1 0 2-.9 2-2V5c0-1.1-.9-2-2-2zM9 17H7v-7h2v7zm4 0h-2V7h2v10zm4 0h-2v-4h2v4z\"/>\n",
              "    </g>\n",
              "</svg>\n",
              "  </button>\n",
              "\n",
              "<style>\n",
              "  .colab-df-quickchart {\n",
              "      --bg-color: #E8F0FE;\n",
              "      --fill-color: #1967D2;\n",
              "      --hover-bg-color: #E2EBFA;\n",
              "      --hover-fill-color: #174EA6;\n",
              "      --disabled-fill-color: #AAA;\n",
              "      --disabled-bg-color: #DDD;\n",
              "  }\n",
              "\n",
              "  [theme=dark] .colab-df-quickchart {\n",
              "      --bg-color: #3B4455;\n",
              "      --fill-color: #D2E3FC;\n",
              "      --hover-bg-color: #434B5C;\n",
              "      --hover-fill-color: #FFFFFF;\n",
              "      --disabled-bg-color: #3B4455;\n",
              "      --disabled-fill-color: #666;\n",
              "  }\n",
              "\n",
              "  .colab-df-quickchart {\n",
              "    background-color: var(--bg-color);\n",
              "    border: none;\n",
              "    border-radius: 50%;\n",
              "    cursor: pointer;\n",
              "    display: none;\n",
              "    fill: var(--fill-color);\n",
              "    height: 32px;\n",
              "    padding: 0;\n",
              "    width: 32px;\n",
              "  }\n",
              "\n",
              "  .colab-df-quickchart:hover {\n",
              "    background-color: var(--hover-bg-color);\n",
              "    box-shadow: 0 1px 2px rgba(60, 64, 67, 0.3), 0 1px 3px 1px rgba(60, 64, 67, 0.15);\n",
              "    fill: var(--button-hover-fill-color);\n",
              "  }\n",
              "\n",
              "  .colab-df-quickchart-complete:disabled,\n",
              "  .colab-df-quickchart-complete:disabled:hover {\n",
              "    background-color: var(--disabled-bg-color);\n",
              "    fill: var(--disabled-fill-color);\n",
              "    box-shadow: none;\n",
              "  }\n",
              "\n",
              "  .colab-df-spinner {\n",
              "    border: 2px solid var(--fill-color);\n",
              "    border-color: transparent;\n",
              "    border-bottom-color: var(--fill-color);\n",
              "    animation:\n",
              "      spin 1s steps(1) infinite;\n",
              "  }\n",
              "\n",
              "  @keyframes spin {\n",
              "    0% {\n",
              "      border-color: transparent;\n",
              "      border-bottom-color: var(--fill-color);\n",
              "      border-left-color: var(--fill-color);\n",
              "    }\n",
              "    20% {\n",
              "      border-color: transparent;\n",
              "      border-left-color: var(--fill-color);\n",
              "      border-top-color: var(--fill-color);\n",
              "    }\n",
              "    30% {\n",
              "      border-color: transparent;\n",
              "      border-left-color: var(--fill-color);\n",
              "      border-top-color: var(--fill-color);\n",
              "      border-right-color: var(--fill-color);\n",
              "    }\n",
              "    40% {\n",
              "      border-color: transparent;\n",
              "      border-right-color: var(--fill-color);\n",
              "      border-top-color: var(--fill-color);\n",
              "    }\n",
              "    60% {\n",
              "      border-color: transparent;\n",
              "      border-right-color: var(--fill-color);\n",
              "    }\n",
              "    80% {\n",
              "      border-color: transparent;\n",
              "      border-right-color: var(--fill-color);\n",
              "      border-bottom-color: var(--fill-color);\n",
              "    }\n",
              "    90% {\n",
              "      border-color: transparent;\n",
              "      border-bottom-color: var(--fill-color);\n",
              "    }\n",
              "  }\n",
              "</style>\n",
              "\n",
              "  <script>\n",
              "    async function quickchart(key) {\n",
              "      const quickchartButtonEl =\n",
              "        document.querySelector('#' + key + ' button');\n",
              "      quickchartButtonEl.disabled = true;  // To prevent multiple clicks.\n",
              "      quickchartButtonEl.classList.add('colab-df-spinner');\n",
              "      try {\n",
              "        const charts = await google.colab.kernel.invokeFunction(\n",
              "            'suggestCharts', [key], {});\n",
              "      } catch (error) {\n",
              "        console.error('Error during call to suggestCharts:', error);\n",
              "      }\n",
              "      quickchartButtonEl.classList.remove('colab-df-spinner');\n",
              "      quickchartButtonEl.classList.add('colab-df-quickchart-complete');\n",
              "    }\n",
              "    (() => {\n",
              "      let quickchartButtonEl =\n",
              "        document.querySelector('#df-52a369a7-96de-408a-87d1-310363fe722d button');\n",
              "      quickchartButtonEl.style.display =\n",
              "        google.colab.kernel.accessAllowed ? 'block' : 'none';\n",
              "    })();\n",
              "  </script>\n",
              "</div>\n",
              "    </div>\n",
              "  </div>\n"
            ]
          },
          "metadata": {},
          "execution_count": 90
        }
      ]
    },
    {
      "cell_type": "code",
      "source": [
        "tot_train =  56707"
      ],
      "metadata": {
        "id": "ZkVL9r7mYCn1"
      },
      "execution_count": 91,
      "outputs": []
    },
    {
      "cell_type": "code",
      "source": [
        "tot_test= 40687"
      ],
      "metadata": {
        "id": "owoCcvcOYF6V"
      },
      "execution_count": 92,
      "outputs": []
    },
    {
      "cell_type": "markdown",
      "source": [
        "Nel \"Train dataset\" sono presenti 56707 righe mentre nel \"Test Dataset\" 40687. Le colonne sono 30 per entrambi. I valori sono perlopiù categorici (18/30), infatti,  molti dei valori segnati come \"int\" in realtà sono la conversione in numero di \"Si\" e \"No\"(es: \"is_canceled\") . In entrambi i dateset non sono presenti valori nulli. La media delle cancellazioni è del 36% nel train dataset e del 39% nel secondo."
      ],
      "metadata": {
        "id": "pNGVY-vjNWvS"
      }
    },
    {
      "cell_type": "markdown",
      "source": [
        "Come si distribuisce il valore relativo al numero di persone? Quante prenotazioni includono bambini e quanti ospiti sono, invece,  da soli?"
      ],
      "metadata": {
        "id": "hs6v15OQwROn"
      }
    },
    {
      "cell_type": "code",
      "source": [
        "train[\"persone\"] = train[\"babies\"] + train[\"children\"] + train[\"adults\"]\n",
        "print(train[\"persone\"].mean())\n",
        "test[\"persone\"] = test[\"babies\"] + test[\"children\"] + test[\"adults\"]\n",
        "print(test[\"persone\"].mean())"
      ],
      "metadata": {
        "colab": {
          "base_uri": "https://localhost:8080/"
        },
        "id": "oFiwbUHKVdzz",
        "outputId": "53113e61-dc89-487d-c18c-63f478a8b90f"
      },
      "execution_count": 93,
      "outputs": [
        {
          "output_type": "stream",
          "name": "stdout",
          "text": [
            "1.9633378595235156\n",
            "2.0107405313736573\n"
          ]
        }
      ]
    },
    {
      "cell_type": "code",
      "source": [
        "bambini_tr = train[\"babies\"].value_counts()\n",
        "print(bambini_tr)"
      ],
      "metadata": {
        "id": "gRzUX48KyEFZ",
        "outputId": "19e77916-919d-46bc-cb98-8725bff151e2",
        "colab": {
          "base_uri": "https://localhost:8080/"
        }
      },
      "execution_count": 211,
      "outputs": [
        {
          "output_type": "stream",
          "name": "stdout",
          "text": [
            "0     56261\n",
            "1       437\n",
            "2         8\n",
            "10        1\n",
            "Name: babies, dtype: int64\n"
          ]
        }
      ]
    },
    {
      "cell_type": "code",
      "source": [
        "bambini_te = test[\"babies\"].value_counts()\n",
        "print(bambini_te)"
      ],
      "metadata": {
        "id": "g71aEVrBpQcs",
        "outputId": "9bbc6285-4930-4906-d2a7-c03ca1289b16",
        "colab": {
          "base_uri": "https://localhost:8080/"
        }
      },
      "execution_count": 210,
      "outputs": [
        {
          "output_type": "stream",
          "name": "stdout",
          "text": [
            "0    40429\n",
            "1      253\n",
            "2        5\n",
            "Name: babies, dtype: int64\n"
          ]
        }
      ]
    },
    {
      "cell_type": "code",
      "source": [
        "ragazzi_tr = train[\"children\"].value_counts()\n",
        "print(ragazzi_tr)"
      ],
      "metadata": {
        "id": "2IGSJS5GoPw9",
        "outputId": "868895c0-4403-4094-8d85-000ba2b866c6",
        "colab": {
          "base_uri": "https://localhost:8080/"
        }
      },
      "execution_count": 212,
      "outputs": [
        {
          "output_type": "stream",
          "name": "stdout",
          "text": [
            "0.0    52578\n",
            "1.0     2384\n",
            "2.0     1711\n",
            "3.0       34\n",
            "Name: children, dtype: int64\n"
          ]
        }
      ]
    },
    {
      "cell_type": "code",
      "source": [
        "ragazzi_te = test[\"children\"].value_counts()\n",
        "print(ragazzi_te)"
      ],
      "metadata": {
        "id": "2mqxmxWZpU1y",
        "outputId": "f64e5f07-9ef3-4132-e406-38f9a1ea8b9e",
        "colab": {
          "base_uri": "https://localhost:8080/"
        }
      },
      "execution_count": 213,
      "outputs": [
        {
          "output_type": "stream",
          "name": "stdout",
          "text": [
            "0.0    37137\n",
            "1.0     1999\n",
            "2.0     1514\n",
            "3.0       37\n",
            "Name: children, dtype: int64\n"
          ]
        }
      ]
    },
    {
      "cell_type": "code",
      "source": [
        "train[\"colonna_bambini\"] = train[\"babies\"] + train[\"children\"]\n",
        "bambini_rag_tr = train[\"colonna_bambini\"].value_counts()\n",
        "print(bambini_rag_tr)"
      ],
      "metadata": {
        "id": "sVEmkscMzGPn",
        "outputId": "0e1196c2-e670-4e3c-c5f4-8416e0107afc",
        "colab": {
          "base_uri": "https://localhost:8080/"
        }
      },
      "execution_count": 214,
      "outputs": [
        {
          "output_type": "stream",
          "name": "stdout",
          "text": [
            "0.0     52211\n",
            "1.0      2678\n",
            "2.0      1768\n",
            "3.0        49\n",
            "10.0        1\n",
            "Name: colonna_bambini, dtype: int64\n"
          ]
        }
      ]
    },
    {
      "cell_type": "code",
      "source": [
        "test[\"colonna_bambini\"] = test[\"babies\"] + test[\"children\"]\n",
        "bambini_rag_te = test[\"colonna_bambini\"].value_counts()\n",
        "print(bambini_rag_te)"
      ],
      "metadata": {
        "id": "dHGFbFpupYsm",
        "outputId": "3325ebef-f520-444f-e8a0-41ee8839628b",
        "colab": {
          "base_uri": "https://localhost:8080/"
        }
      },
      "execution_count": 215,
      "outputs": [
        {
          "output_type": "stream",
          "name": "stdout",
          "text": [
            "0.0    36941\n",
            "1.0     2136\n",
            "2.0     1565\n",
            "3.0       45\n",
            "Name: colonna_bambini, dtype: int64\n"
          ]
        }
      ]
    },
    {
      "cell_type": "code",
      "source": [
        "train.groupby(train[\"colonna_bambini\"])[\"is_canceled\"].mean()"
      ],
      "metadata": {
        "colab": {
          "base_uri": "https://localhost:8080/"
        },
        "id": "BNg4UTdfTT0w",
        "outputId": "c8aa6f4b-5aba-4615-af6e-476ab0f51685"
      },
      "execution_count": 100,
      "outputs": [
        {
          "output_type": "execute_result",
          "data": {
            "text/plain": [
              "colonna_bambini\n",
              "0.0     0.360020\n",
              "1.0     0.305078\n",
              "2.0     0.400452\n",
              "3.0     0.306122\n",
              "10.0    0.000000\n",
              "Name: is_canceled, dtype: float64"
            ]
          },
          "metadata": {},
          "execution_count": 100
        }
      ]
    },
    {
      "cell_type": "code",
      "source": [
        "test.groupby(test[\"colonna_bambini\"])[\"is_canceled\"].mean()"
      ],
      "metadata": {
        "id": "tHeyQEWlfRRj",
        "outputId": "f914a150-d98e-4fca-82df-d970a75321ad",
        "colab": {
          "base_uri": "https://localhost:8080/"
        }
      },
      "execution_count": 101,
      "outputs": [
        {
          "output_type": "execute_result",
          "data": {
            "text/plain": [
              "colonna_bambini\n",
              "0.0    0.385859\n",
              "1.0    0.352060\n",
              "2.0    0.466454\n",
              "3.0    0.200000\n",
              "Name: is_canceled, dtype: float64"
            ]
          },
          "metadata": {},
          "execution_count": 101
        }
      ]
    },
    {
      "cell_type": "code",
      "source": [
        "persone_tr = train[\"persone\"].value_counts().sort_index()\n",
        "print(persone_tr)"
      ],
      "metadata": {
        "id": "rWwbuYWTz8mA",
        "outputId": "ce7143a8-416c-4eaf-900d-2cfc063898e6",
        "colab": {
          "base_uri": "https://localhost:8080/"
        }
      },
      "execution_count": 217,
      "outputs": [
        {
          "output_type": "stream",
          "name": "stdout",
          "text": [
            "0.0        84\n",
            "1.0     10967\n",
            "2.0     38563\n",
            "3.0      5189\n",
            "4.0      1852\n",
            "5.0        51\n",
            "12.0        1\n",
            "Name: persone, dtype: int64\n"
          ]
        }
      ]
    },
    {
      "cell_type": "code",
      "source": [
        "persone_te = test[\"persone\"].value_counts().sort_index()\n",
        "print(persone_te)"
      ],
      "metadata": {
        "id": "zIRVUeK8f6B0",
        "outputId": "8f098b0f-8fef-4e89-c0d7-50c564a9beaf",
        "colab": {
          "base_uri": "https://localhost:8080/"
        }
      },
      "execution_count": 218,
      "outputs": [
        {
          "output_type": "stream",
          "name": "stdout",
          "text": [
            "0.0       67\n",
            "1.0     7181\n",
            "2.0    27455\n",
            "3.0     4282\n",
            "4.0     1636\n",
            "5.0       66\n",
            "Name: persone, dtype: int64\n"
          ]
        }
      ]
    },
    {
      "cell_type": "code",
      "source": [
        "train.groupby(train[\"persone\"])[\"is_canceled\"].mean()"
      ],
      "metadata": {
        "id": "4gwvyfeTg2bZ",
        "outputId": "a27c556c-d2b6-462b-84ed-c016d09c5abe",
        "colab": {
          "base_uri": "https://localhost:8080/"
        }
      },
      "execution_count": 104,
      "outputs": [
        {
          "output_type": "execute_result",
          "data": {
            "text/plain": [
              "persone\n",
              "0.0     0.154762\n",
              "1.0     0.301176\n",
              "2.0     0.380468\n",
              "3.0     0.305454\n",
              "4.0     0.405508\n",
              "5.0     0.254902\n",
              "12.0    0.000000\n",
              "Name: is_canceled, dtype: float64"
            ]
          },
          "metadata": {},
          "execution_count": 104
        }
      ]
    },
    {
      "cell_type": "code",
      "source": [
        "test.groupby(test[\"persone\"])[\"is_canceled\"].mean()"
      ],
      "metadata": {
        "id": "hqJMWjzUgyyx",
        "outputId": "57a26101-d82f-46a8-aa09-d8b7589e30ed",
        "colab": {
          "base_uri": "https://localhost:8080/"
        }
      },
      "execution_count": 105,
      "outputs": [
        {
          "output_type": "execute_result",
          "data": {
            "text/plain": [
              "persone\n",
              "0.0    0.164179\n",
              "1.0    0.290071\n",
              "2.0    0.409033\n",
              "3.0    0.380897\n",
              "4.0    0.473105\n",
              "5.0    0.242424\n",
              "Name: is_canceled, dtype: float64"
            ]
          },
          "metadata": {},
          "execution_count": 105
        }
      ]
    },
    {
      "cell_type": "markdown",
      "source": [
        "La media del numero di persone è di circa 2 persone in entrambi i dataset.\n",
        "Il numero di prenotazioni composte da un numero qualsiasi di adulti con almeno un bambino (\"babies\" e/o \"children\") è relativamente basso in entrambi i dataset: poco meno di 4500 per il train e 3700 per il test . Il numero massimo di bambini è di 10 raggiunto però in un singolo caso. Escludendo quello il massimo di bambini a seguito è di 3. La media delle cancellazioni scende per le prenotazioni con solamente un bambini e torna a salire per le prenotazioni con 2 bambini a seguito (le prenotazioni con 3 bambini sono così poche da non essere rilevanti). Escludendo suddetto caso estremo il numero massimo di persone per una singola camera è 5, l'aumentare del numero di persone non aumenta la media delle cancellazioni in modo lineare (prenotazioni da 3 componenti cancellano in media meno che prenotazioni da 2 e da 4). In entrambi i dataset poi sono presenti valori anomali corrispondenti a 0 persone per camera (84 nel train e 67 nel test).\n",
        "Il numero di viaggiatori \"solitari\" è invece cospicuo e simile in entrambi i dataset.\n",
        "Il numero di adulti per prenotazione varia da un minomo di 1 fino a un massimo di 4.\n",
        "\n"
      ],
      "metadata": {
        "id": "iJd5zwHqSmW-"
      }
    },
    {
      "cell_type": "markdown",
      "source": [
        "Come si distrubuisce il numero delle prenotazioni nei mesi dell'anno e la media delle cancellazioni?"
      ],
      "metadata": {
        "id": "hrDfjK6KFs9B"
      }
    },
    {
      "cell_type": "code",
      "source": [
        "mesi_tr = train[\"arrival_date_month\"].value_counts().sort_index()\n",
        "print(mesi_tr)"
      ],
      "metadata": {
        "id": "vTFPE_3E-CaS",
        "outputId": "09582d6c-7691-4956-860c-bf6fb4c222fc",
        "colab": {
          "base_uri": "https://localhost:8080/"
        }
      },
      "execution_count": 219,
      "outputs": [
        {
          "output_type": "stream",
          "name": "stdout",
          "text": [
            "1     2248\n",
            "2     3891\n",
            "3     4824\n",
            "4     5428\n",
            "5     5478\n",
            "6     5292\n",
            "7     4572\n",
            "8     5063\n",
            "9     5394\n",
            "10    6203\n",
            "11    4454\n",
            "12    3860\n",
            "Name: arrival_date_month, dtype: int64\n"
          ]
        }
      ]
    },
    {
      "cell_type": "code",
      "source": [
        "mesi_te = test[\"arrival_date_month\"].value_counts().sort_index()\n",
        "print(mesi_te)"
      ],
      "metadata": {
        "id": "Psd-5IJ_rcwG",
        "outputId": "65168bad-9966-421a-b2d0-814e4279cec8",
        "colab": {
          "base_uri": "https://localhost:8080/"
        }
      },
      "execution_count": 220,
      "outputs": [
        {
          "output_type": "stream",
          "name": "stdout",
          "text": [
            "1    3681\n",
            "2    4177\n",
            "3    4970\n",
            "4    5661\n",
            "5    6313\n",
            "6    5647\n",
            "7    5313\n",
            "8    4925\n",
            "Name: arrival_date_month, dtype: int64\n"
          ]
        }
      ]
    },
    {
      "cell_type": "code",
      "source": [
        "#media cancellazioni in base al mese di arrivo\n",
        "train.groupby(train[\"arrival_date_month\"])[\"is_canceled\"].mean()"
      ],
      "metadata": {
        "colab": {
          "base_uri": "https://localhost:8080/"
        },
        "id": "UHuwagk9XL38",
        "outputId": "118b0f3f-a5f8-4fc3-cee7-a5384139d9ad"
      },
      "execution_count": 108,
      "outputs": [
        {
          "output_type": "execute_result",
          "data": {
            "text/plain": [
              "arrival_date_month\n",
              "1     0.247776\n",
              "2     0.343613\n",
              "3     0.306177\n",
              "4     0.379698\n",
              "5     0.349580\n",
              "6     0.396070\n",
              "7     0.327865\n",
              "8     0.360458\n",
              "9     0.374861\n",
              "10    0.405288\n",
              "11    0.367310\n",
              "12    0.362176\n",
              "Name: is_canceled, dtype: float64"
            ]
          },
          "metadata": {},
          "execution_count": 108
        }
      ]
    },
    {
      "cell_type": "code",
      "source": [
        "test.groupby(test[\"arrival_date_month\"])[\"is_canceled\"].mean()"
      ],
      "metadata": {
        "id": "ATsoU--4s_RE",
        "outputId": "ac9bc17f-c846-4de7-8ee9-b0a120e01556",
        "colab": {
          "base_uri": "https://localhost:8080/"
        }
      },
      "execution_count": 109,
      "outputs": [
        {
          "output_type": "execute_result",
          "data": {
            "text/plain": [
              "arrival_date_month\n",
              "1    0.339582\n",
              "2    0.325353\n",
              "3    0.336419\n",
              "4    0.435082\n",
              "5    0.437510\n",
              "6    0.431911\n",
              "7    0.373424\n",
              "8    0.368731\n",
              "Name: is_canceled, dtype: float64"
            ]
          },
          "metadata": {},
          "execution_count": 109
        }
      ]
    },
    {
      "cell_type": "markdown",
      "source": [
        "I due dataset differiscono per il numero di mesi tenuti in considerazione: il testdataset, infatti, prende in considerazione soltanto i mesi da gennaio a agosto.\n",
        "Il mese che ha riscontrato più prenotazioni nel traindataset è quello di ottobre, tuttavia le prenotazioni sembrano abbastanza equamente suddivise, fatta eccezione per gennaio dove si è riscontrato un valore notevolmente più basso in entrambi i dataset (anche se più marcato nel train). Nel test dataset si ha poi un aumento non trascurabile di prenotazioni nel mese di maggio, non presente invece nel train.\n",
        "La media realtiva al numero di persone in ognuno dei mesi dell'anno è in linea con quella generale dei due dataset.\n",
        "Quella delle cancellazioni invece risulta più altalentante con valori che si distanziano notevolmente dalla media generale (es: gennaio, nel train dataset, si distanzia di 11 punti percentuali)."
      ],
      "metadata": {
        "id": "lT1tp611XW0I"
      }
    },
    {
      "cell_type": "markdown",
      "source": [
        "Come si sono divisi i casi in base al segmento di mercaro? Come cambia la media relativa al numero di cancellazioni?"
      ],
      "metadata": {
        "id": "Gkunk5JJGUPJ"
      }
    },
    {
      "cell_type": "code",
      "source": [
        "mercato_tr= train_non[\"market_segment\"].value_counts().sort_index()\n",
        "print(mercato_tr)"
      ],
      "metadata": {
        "id": "UnH_wddXQlCw",
        "outputId": "21ca8aec-75d1-46fc-c982-741807c8d12a",
        "colab": {
          "base_uri": "https://localhost:8080/"
        }
      },
      "execution_count": 221,
      "outputs": [
        {
          "output_type": "stream",
          "name": "stdout",
          "text": [
            "Aviation           127\n",
            "Complementary      364\n",
            "Corporate         2562\n",
            "Direct            5663\n",
            "Groups            7857\n",
            "Offline TA/TO    12473\n",
            "Online TA        27661\n",
            "Name: market_segment, dtype: int64\n"
          ]
        }
      ]
    },
    {
      "cell_type": "code",
      "source": [
        "mercato_te = test_non[\"market_segment\"].value_counts().sort_index()\n",
        "print(mercato_te)"
      ],
      "metadata": {
        "id": "_zrEzp2U-tMv",
        "outputId": "ac321d44-579d-44b1-e632-eb42d063835d",
        "colab": {
          "base_uri": "https://localhost:8080/"
        }
      },
      "execution_count": 222,
      "outputs": [
        {
          "output_type": "stream",
          "name": "stdout",
          "text": [
            "Aviation           110\n",
            "Complementary      214\n",
            "Corporate         1562\n",
            "Direct            4629\n",
            "Groups            5854\n",
            "Offline TA/TO     5667\n",
            "Online TA        22651\n",
            "Name: market_segment, dtype: int64\n"
          ]
        }
      ]
    },
    {
      "cell_type": "code",
      "source": [
        "test_non.groupby(test_non[\"market_segment\"])[\"is_canceled\"].mean()"
      ],
      "metadata": {
        "id": "iUguoB9l_CTv",
        "outputId": "5f669427-095e-481b-9967-cc5e8eef35e8",
        "colab": {
          "base_uri": "https://localhost:8080/"
        }
      },
      "execution_count": 112,
      "outputs": [
        {
          "output_type": "execute_result",
          "data": {
            "text/plain": [
              "market_segment\n",
              "Aviation         0.209091\n",
              "Complementary    0.163551\n",
              "Corporate        0.254802\n",
              "Direct           0.154677\n",
              "Groups           0.581141\n",
              "Offline TA/TO    0.337745\n",
              "Online TA        0.408680\n",
              "Name: is_canceled, dtype: float64"
            ]
          },
          "metadata": {},
          "execution_count": 112
        }
      ]
    },
    {
      "cell_type": "code",
      "source": [
        "train_non.groupby(train_non[\"market_segment\"])[\"is_canceled\"].mean()"
      ],
      "metadata": {
        "id": "F8DcO36R_M7U",
        "outputId": "7b2dddaa-b635-4f39-f8f6-b22c0c3cecf6",
        "colab": {
          "base_uri": "https://localhost:8080/"
        }
      },
      "execution_count": 113,
      "outputs": [
        {
          "output_type": "execute_result",
          "data": {
            "text/plain": [
              "market_segment\n",
              "Aviation         0.228346\n",
              "Complementary    0.129121\n",
              "Corporate        0.146370\n",
              "Direct           0.153099\n",
              "Groups           0.617539\n",
              "Offline TA/TO    0.347150\n",
              "Online TA        0.355627\n",
              "Name: is_canceled, dtype: float64"
            ]
          },
          "metadata": {},
          "execution_count": 113
        }
      ]
    },
    {
      "cell_type": "code",
      "source": [
        "per_merc_tr = (mercato_tr/ len(train_non) * 100).sort_index()\n",
        "print(per_merc_tr)"
      ],
      "metadata": {
        "id": "n4WZSlZLvXDW",
        "outputId": "9394a518-4ae7-4b2b-9b8d-3930d067bb8e",
        "colab": {
          "base_uri": "https://localhost:8080/"
        }
      },
      "execution_count": 223,
      "outputs": [
        {
          "output_type": "stream",
          "name": "stdout",
          "text": [
            "Aviation          0.223958\n",
            "Complementary     0.641896\n",
            "Corporate         4.517961\n",
            "Direct            9.986421\n",
            "Groups           13.855432\n",
            "Offline TA/TO    21.995521\n",
            "Online TA        48.778810\n",
            "Name: market_segment, dtype: float64\n"
          ]
        }
      ]
    },
    {
      "cell_type": "code",
      "source": [
        "per_merc_te= (mercato_te / len(test_non) * 100).sort_index()\n",
        "print(per_merc_te)"
      ],
      "metadata": {
        "id": "JWEVUSyDvqF8",
        "outputId": "46353496-e1f3-448e-9899-8809411ef1ca",
        "colab": {
          "base_uri": "https://localhost:8080/"
        }
      },
      "execution_count": 224,
      "outputs": [
        {
          "output_type": "stream",
          "name": "stdout",
          "text": [
            "Aviation          0.270357\n",
            "Complementary     0.525967\n",
            "Corporate         3.839064\n",
            "Direct           11.377098\n",
            "Groups           14.387888\n",
            "Offline TA/TO    13.928282\n",
            "Online TA        55.671345\n",
            "Name: market_segment, dtype: float64\n"
          ]
        }
      ]
    },
    {
      "cell_type": "markdown",
      "source": [
        "I valori relativi ai canali di distribuzione scelti dai visitatori sembrano più o meno simili nei due dataset fatta eccezione per il dato inerente alle prenotazioni avvenute offline tramite TA/TO (21% nel train e 13% nel test) .\n",
        "\"Aviation\" e \"complementary\" hanno un numero di casi estremamente più basso (neanche l'1%) mentre le prenotazioni presso agenzie online rappresentano circa la metà dei casi in entrambi i datset.\n",
        "La media delle cancellazioni è quasi raddoppiata per quanto riguarda i gruppi mentre è dimezzata per chi prenota direttamente."
      ],
      "metadata": {
        "id": "keW4C3r4_Ul1"
      }
    },
    {
      "cell_type": "markdown",
      "source": [
        "Come si distribuisce il valore delle prenotazioni precedenti (cancellate e non) e come aver già prenotato presso l'hotel cambia la media delle cancellazioni? C'è differenza tra avere già avuto una prenotazione non cancellata e una cancellazione?"
      ],
      "metadata": {
        "id": "450pvgseHwha"
      }
    },
    {
      "cell_type": "code",
      "source": [
        "cancellazioni_tr = train[\"previous_cancellations\"].value_counts().sort_index()\n",
        "print(cancellazioni_tr)"
      ],
      "metadata": {
        "id": "j_UOmPJJJYlS",
        "outputId": "4a8877de-215e-4326-eeb3-8d3584676100",
        "colab": {
          "base_uri": "https://localhost:8080/"
        }
      },
      "execution_count": 226,
      "outputs": [
        {
          "output_type": "stream",
          "name": "stdout",
          "text": [
            "0     54936\n",
            "1      1595\n",
            "2        48\n",
            "3        51\n",
            "4        12\n",
            "5        13\n",
            "6         7\n",
            "11       33\n",
            "13       12\n",
            "Name: previous_cancellations, dtype: int64\n"
          ]
        }
      ]
    },
    {
      "cell_type": "code",
      "source": [
        "cancellazioni_te = test[\"previous_cancellations\"].value_counts()\n",
        "print(cancellazioni_te)"
      ],
      "metadata": {
        "id": "2igQ1PJ9Mz_w",
        "outputId": "130955a0-3640-46bd-f8b1-1dc12c6c91b4",
        "colab": {
          "base_uri": "https://localhost:8080/"
        }
      },
      "execution_count": 227,
      "outputs": [
        {
          "output_type": "stream",
          "name": "stdout",
          "text": [
            "0    40409\n",
            "1      195\n",
            "2       37\n",
            "4       19\n",
            "6       15\n",
            "3        6\n",
            "5        6\n",
            "Name: previous_cancellations, dtype: int64\n"
          ]
        }
      ]
    },
    {
      "cell_type": "code",
      "source": [
        "non_cancellazioni_tr = train[\"previous_bookings_not_canceled\"].value_counts().sort_index()\n",
        "print(non_cancellazioni_tr)"
      ],
      "metadata": {
        "id": "3_XIlI2gM5hr",
        "outputId": "2f8c0a3f-a7a2-4d33-b792-8b80f9ae481d",
        "colab": {
          "base_uri": "https://localhost:8080/"
        }
      },
      "execution_count": 228,
      "outputs": [
        {
          "output_type": "stream",
          "name": "stdout",
          "text": [
            "0     54827\n",
            "1       777\n",
            "2       289\n",
            "3       183\n",
            "4       138\n",
            "5       110\n",
            "6        62\n",
            "7        43\n",
            "8        36\n",
            "9        27\n",
            "10       22\n",
            "11       18\n",
            "12       15\n",
            "13       10\n",
            "14       11\n",
            "15       11\n",
            "16       10\n",
            "17        9\n",
            "18        9\n",
            "19        8\n",
            "20        9\n",
            "21        9\n",
            "22        9\n",
            "23        4\n",
            "24        4\n",
            "25       11\n",
            "26        2\n",
            "27        4\n",
            "28        3\n",
            "29        3\n",
            "30        2\n",
            "31        2\n",
            "32        2\n",
            "33        1\n",
            "34        1\n",
            "35        1\n",
            "36        1\n",
            "37        1\n",
            "38        1\n",
            "39        1\n",
            "40        1\n",
            "41        1\n",
            "42        1\n",
            "43        1\n",
            "44        2\n",
            "45        1\n",
            "46        1\n",
            "47        1\n",
            "48        2\n",
            "49        1\n",
            "50        1\n",
            "51        1\n",
            "52        1\n",
            "53        1\n",
            "54        1\n",
            "55        1\n",
            "56        1\n",
            "57        1\n",
            "58        1\n",
            "Name: previous_bookings_not_canceled, dtype: int64\n"
          ]
        }
      ]
    },
    {
      "cell_type": "code",
      "source": [
        "non_cancellazioni_te = test[\"previous_bookings_not_canceled\"].value_counts().sort_index()\n",
        "print(non_cancellazioni_te)"
      ],
      "metadata": {
        "id": "eYnS-MjONTQl",
        "outputId": "dc3765b2-e5a5-48cd-9382-6405dcf146a9",
        "colab": {
          "base_uri": "https://localhost:8080/"
        }
      },
      "execution_count": 229,
      "outputs": [
        {
          "output_type": "stream",
          "name": "stdout",
          "text": [
            "0     39259\n",
            "1       590\n",
            "2       231\n",
            "3       122\n",
            "4        80\n",
            "5        60\n",
            "6        46\n",
            "7        39\n",
            "8        30\n",
            "9        30\n",
            "10       29\n",
            "11       23\n",
            "12       21\n",
            "13       19\n",
            "14       16\n",
            "15       10\n",
            "16       10\n",
            "17        7\n",
            "18        5\n",
            "19        5\n",
            "20        3\n",
            "21        3\n",
            "22        1\n",
            "23        3\n",
            "24        5\n",
            "25        6\n",
            "26        5\n",
            "27        5\n",
            "28        4\n",
            "29        3\n",
            "30        2\n",
            "58        1\n",
            "59        1\n",
            "60        1\n",
            "61        1\n",
            "62        1\n",
            "63        1\n",
            "64        1\n",
            "65        1\n",
            "66        1\n",
            "67        1\n",
            "68        1\n",
            "69        1\n",
            "70        1\n",
            "71        1\n",
            "72        1\n",
            "Name: previous_bookings_not_canceled, dtype: int64\n"
          ]
        }
      ]
    },
    {
      "cell_type": "code",
      "source": [
        "train[\"prenotazioni_precedenti\"] = train[\"previous_bookings_not_canceled\"] + train[\"previous_cancellations\"]\n",
        "prenotazioni_tr = train[\"prenotazioni_precedenti\"].value_counts().sort_index()\n",
        "print(prenotazioni_tr)"
      ],
      "metadata": {
        "id": "Nk1X51onPORW",
        "outputId": "356cb68b-58f8-4dd6-f521-502c22bea3f3",
        "colab": {
          "base_uri": "https://localhost:8080/"
        }
      },
      "execution_count": 230,
      "outputs": [
        {
          "output_type": "stream",
          "name": "stdout",
          "text": [
            "0     53380\n",
            "1      2162\n",
            "2       302\n",
            "3       179\n",
            "4       125\n",
            "5       102\n",
            "6        77\n",
            "7        53\n",
            "8        43\n",
            "9        30\n",
            "10       23\n",
            "11       20\n",
            "12       18\n",
            "13        9\n",
            "14       22\n",
            "15       16\n",
            "16       14\n",
            "17        9\n",
            "18        9\n",
            "19        8\n",
            "20        8\n",
            "21       10\n",
            "22        8\n",
            "23        7\n",
            "24        4\n",
            "25        5\n",
            "26        4\n",
            "27        3\n",
            "28        2\n",
            "29        3\n",
            "30        4\n",
            "31        3\n",
            "32        3\n",
            "33        4\n",
            "34        1\n",
            "35        1\n",
            "36        9\n",
            "37        1\n",
            "38        1\n",
            "39        1\n",
            "40        1\n",
            "41        1\n",
            "42        1\n",
            "43        1\n",
            "44        1\n",
            "45        1\n",
            "46        1\n",
            "47        1\n",
            "48        1\n",
            "49        1\n",
            "50        1\n",
            "51        1\n",
            "53        2\n",
            "54        1\n",
            "55        1\n",
            "56        1\n",
            "57        1\n",
            "58        1\n",
            "59        1\n",
            "60        1\n",
            "61        1\n",
            "62        1\n",
            "64        1\n",
            "Name: prenotazioni_precedenti, dtype: int64\n"
          ]
        }
      ]
    },
    {
      "cell_type": "code",
      "source": [
        "test[\"prenotazioni_precedenti\"] = test[\"previous_bookings_not_canceled\"] + test[\"previous_cancellations\"]\n",
        "prenotazioni_te = test[\"prenotazioni_precedenti\"].value_counts().sort_index()\n",
        "print(prenotazioni_te)"
      ],
      "metadata": {
        "id": "evpMaTvHUtIN",
        "outputId": "0dd565f2-3585-405a-f63d-bae2d0ccd865",
        "colab": {
          "base_uri": "https://localhost:8080/"
        }
      },
      "execution_count": 231,
      "outputs": [
        {
          "output_type": "stream",
          "name": "stdout",
          "text": [
            "0     39253\n",
            "1       570\n",
            "2       236\n",
            "3       122\n",
            "4        89\n",
            "5        58\n",
            "6        47\n",
            "7        31\n",
            "8        32\n",
            "9        31\n",
            "10       26\n",
            "11       23\n",
            "12       21\n",
            "13       18\n",
            "14       18\n",
            "15       15\n",
            "16       14\n",
            "17       10\n",
            "18        5\n",
            "19        5\n",
            "20        5\n",
            "21        3\n",
            "22        2\n",
            "23        3\n",
            "24        5\n",
            "25        6\n",
            "26        4\n",
            "27        5\n",
            "28        4\n",
            "29        3\n",
            "30        3\n",
            "31        2\n",
            "32        1\n",
            "33        1\n",
            "34        1\n",
            "64        1\n",
            "65        1\n",
            "66        1\n",
            "67        1\n",
            "68        1\n",
            "69        1\n",
            "70        1\n",
            "71        1\n",
            "72        1\n",
            "73        1\n",
            "74        1\n",
            "75        1\n",
            "76        1\n",
            "77        1\n",
            "78        1\n",
            "Name: prenotazioni_precedenti, dtype: int64\n"
          ]
        }
      ]
    },
    {
      "cell_type": "code",
      "source": [
        "train.groupby(train[\"previous_bookings_not_canceled\"])[\"is_canceled\"].mean()"
      ],
      "metadata": {
        "id": "ANMgOlw5OHLc",
        "outputId": "3daa41da-48a4-4172-baac-ca21dd9f3657",
        "colab": {
          "base_uri": "https://localhost:8080/"
        }
      },
      "execution_count": 120,
      "outputs": [
        {
          "output_type": "execute_result",
          "data": {
            "text/plain": [
              "previous_bookings_not_canceled\n",
              "0     0.368924\n",
              "1     0.055341\n",
              "2     0.038062\n",
              "3     0.043716\n",
              "4     0.072464\n",
              "5     0.081818\n",
              "6     0.048387\n",
              "7     0.023256\n",
              "8     0.055556\n",
              "9     0.000000\n",
              "10    0.136364\n",
              "11    0.111111\n",
              "12    0.200000\n",
              "13    0.000000\n",
              "14    0.000000\n",
              "15    0.181818\n",
              "16    0.000000\n",
              "17    0.000000\n",
              "18    0.000000\n",
              "19    0.000000\n",
              "20    0.000000\n",
              "21    0.000000\n",
              "22    0.000000\n",
              "23    0.000000\n",
              "24    0.000000\n",
              "25    0.727273\n",
              "26    0.000000\n",
              "27    0.250000\n",
              "28    0.000000\n",
              "29    0.333333\n",
              "30    0.000000\n",
              "31    0.000000\n",
              "32    0.000000\n",
              "33    0.000000\n",
              "34    0.000000\n",
              "35    0.000000\n",
              "36    0.000000\n",
              "37    0.000000\n",
              "38    0.000000\n",
              "39    0.000000\n",
              "40    0.000000\n",
              "41    0.000000\n",
              "42    0.000000\n",
              "43    0.000000\n",
              "44    0.500000\n",
              "45    0.000000\n",
              "46    0.000000\n",
              "47    0.000000\n",
              "48    0.500000\n",
              "49    0.000000\n",
              "50    0.000000\n",
              "51    0.000000\n",
              "52    0.000000\n",
              "53    0.000000\n",
              "54    0.000000\n",
              "55    0.000000\n",
              "56    0.000000\n",
              "57    0.000000\n",
              "58    1.000000\n",
              "Name: is_canceled, dtype: float64"
            ]
          },
          "metadata": {},
          "execution_count": 120
        }
      ]
    },
    {
      "cell_type": "code",
      "source": [
        "test.groupby(test[\"previous_bookings_not_canceled\"])[\"is_canceled\"].mean()"
      ],
      "metadata": {
        "id": "Df6Xuys6NiEa",
        "outputId": "3042341a-1ef6-4dc3-8919-245362311159",
        "colab": {
          "base_uri": "https://localhost:8080/"
        }
      },
      "execution_count": 121,
      "outputs": [
        {
          "output_type": "execute_result",
          "data": {
            "text/plain": [
              "previous_bookings_not_canceled\n",
              "0     0.399272\n",
              "1     0.049153\n",
              "2     0.060606\n",
              "3     0.040984\n",
              "4     0.025000\n",
              "5     0.016667\n",
              "6     0.000000\n",
              "7     0.076923\n",
              "8     0.033333\n",
              "9     0.000000\n",
              "10    0.137931\n",
              "11    0.130435\n",
              "12    0.000000\n",
              "13    0.105263\n",
              "14    0.125000\n",
              "15    0.000000\n",
              "16    0.100000\n",
              "17    0.142857\n",
              "18    0.000000\n",
              "19    0.000000\n",
              "20    0.000000\n",
              "21    0.000000\n",
              "22    0.000000\n",
              "23    0.000000\n",
              "24    0.000000\n",
              "25    0.000000\n",
              "26    0.200000\n",
              "27    0.200000\n",
              "28    0.000000\n",
              "29    0.000000\n",
              "30    0.000000\n",
              "58    0.000000\n",
              "59    0.000000\n",
              "60    0.000000\n",
              "61    0.000000\n",
              "62    0.000000\n",
              "63    0.000000\n",
              "64    0.000000\n",
              "65    0.000000\n",
              "66    0.000000\n",
              "67    0.000000\n",
              "68    0.000000\n",
              "69    0.000000\n",
              "70    0.000000\n",
              "71    0.000000\n",
              "72    0.000000\n",
              "Name: is_canceled, dtype: float64"
            ]
          },
          "metadata": {},
          "execution_count": 121
        }
      ]
    },
    {
      "cell_type": "code",
      "source": [
        "train.groupby(train[\"previous_cancellations\"])[\"is_canceled\"].mean()"
      ],
      "metadata": {
        "id": "3Whe03PWVAq6",
        "outputId": "c7ec0d7f-e120-46f9-b7c3-6d4248bd8dec",
        "colab": {
          "base_uri": "https://localhost:8080/"
        }
      },
      "execution_count": 122,
      "outputs": [
        {
          "output_type": "execute_result",
          "data": {
            "text/plain": [
              "previous_cancellations\n",
              "0     0.342799\n",
              "1     0.909718\n",
              "2     0.312500\n",
              "3     0.196078\n",
              "4     0.083333\n",
              "5     0.153846\n",
              "6     1.000000\n",
              "11    0.242424\n",
              "13    0.916667\n",
              "Name: is_canceled, dtype: float64"
            ]
          },
          "metadata": {},
          "execution_count": 122
        }
      ]
    },
    {
      "cell_type": "code",
      "source": [
        "test.groupby(test[\"previous_cancellations\"])[\"is_canceled\"].mean()"
      ],
      "metadata": {
        "id": "bFsGmYm5Vhmg",
        "outputId": "fbad8b76-200f-4c73-b389-c3cf72fea5bf",
        "colab": {
          "base_uri": "https://localhost:8080/"
        }
      },
      "execution_count": 123,
      "outputs": [
        {
          "output_type": "execute_result",
          "data": {
            "text/plain": [
              "previous_cancellations\n",
              "0    0.388453\n",
              "1    0.174359\n",
              "2    0.162162\n",
              "3    0.333333\n",
              "4    0.315789\n",
              "5    0.000000\n",
              "6    0.000000\n",
              "Name: is_canceled, dtype: float64"
            ]
          },
          "metadata": {},
          "execution_count": 123
        }
      ]
    },
    {
      "cell_type": "code",
      "source": [
        "train.groupby(train[\"prenotazioni_precedenti\"])[\"is_canceled\"].mean()"
      ],
      "metadata": {
        "id": "eq9p2QCoU3_e",
        "outputId": "538cf61f-3fac-40dc-c04b-f8b00d60a677",
        "colab": {
          "base_uri": "https://localhost:8080/"
        }
      },
      "execution_count": 124,
      "outputs": [
        {
          "output_type": "execute_result",
          "data": {
            "text/plain": [
              "prenotazioni_precedenti\n",
              "0     0.352154\n",
              "1     0.663275\n",
              "2     0.076159\n",
              "3     0.039106\n",
              "4     0.056000\n",
              "5     0.078431\n",
              "6     0.220779\n",
              "7     0.094340\n",
              "8     0.046512\n",
              "9     0.033333\n",
              "10    0.086957\n",
              "11    0.050000\n",
              "12    0.222222\n",
              "13    0.000000\n",
              "14    0.545455\n",
              "15    0.125000\n",
              "16    0.000000\n",
              "17    0.000000\n",
              "18    0.111111\n",
              "19    0.000000\n",
              "20    0.000000\n",
              "21    0.000000\n",
              "22    0.000000\n",
              "23    0.000000\n",
              "24    0.000000\n",
              "25    0.000000\n",
              "26    0.000000\n",
              "27    0.000000\n",
              "28    0.000000\n",
              "29    0.333333\n",
              "30    0.250000\n",
              "31    0.000000\n",
              "32    0.000000\n",
              "33    0.000000\n",
              "34    0.000000\n",
              "35    0.000000\n",
              "36    0.888889\n",
              "37    0.000000\n",
              "38    0.000000\n",
              "39    0.000000\n",
              "40    0.000000\n",
              "41    0.000000\n",
              "42    0.000000\n",
              "43    0.000000\n",
              "44    0.000000\n",
              "45    0.000000\n",
              "46    0.000000\n",
              "47    1.000000\n",
              "48    0.000000\n",
              "49    0.000000\n",
              "50    0.000000\n",
              "51    0.000000\n",
              "53    0.500000\n",
              "54    0.000000\n",
              "55    0.000000\n",
              "56    0.000000\n",
              "57    0.000000\n",
              "58    0.000000\n",
              "59    0.000000\n",
              "60    0.000000\n",
              "61    0.000000\n",
              "62    0.000000\n",
              "64    1.000000\n",
              "Name: is_canceled, dtype: float64"
            ]
          },
          "metadata": {},
          "execution_count": 124
        }
      ]
    },
    {
      "cell_type": "code",
      "source": [
        "test.groupby(test[\"prenotazioni_precedenti\"])[\"is_canceled\"].mean()"
      ],
      "metadata": {
        "id": "e9VUjubAVez6",
        "outputId": "251d6a7f-6a5e-499e-9c7b-446fd13f1955",
        "colab": {
          "base_uri": "https://localhost:8080/"
        }
      },
      "execution_count": 125,
      "outputs": [
        {
          "output_type": "execute_result",
          "data": {
            "text/plain": [
              "prenotazioni_precedenti\n",
              "0     0.399256\n",
              "1     0.024561\n",
              "2     0.093220\n",
              "3     0.073770\n",
              "4     0.067416\n",
              "5     0.051724\n",
              "6     0.000000\n",
              "7     0.032258\n",
              "8     0.031250\n",
              "9     0.032258\n",
              "10    0.076923\n",
              "11    0.130435\n",
              "12    0.000000\n",
              "13    0.000000\n",
              "14    0.055556\n",
              "15    0.200000\n",
              "16    0.214286\n",
              "17    0.100000\n",
              "18    0.000000\n",
              "19    0.000000\n",
              "20    0.000000\n",
              "21    0.333333\n",
              "22    0.000000\n",
              "23    0.000000\n",
              "24    0.000000\n",
              "25    0.000000\n",
              "26    0.000000\n",
              "27    0.200000\n",
              "28    0.000000\n",
              "29    0.000000\n",
              "30    0.333333\n",
              "31    0.000000\n",
              "32    0.000000\n",
              "33    0.000000\n",
              "34    0.000000\n",
              "64    0.000000\n",
              "65    0.000000\n",
              "66    0.000000\n",
              "67    0.000000\n",
              "68    0.000000\n",
              "69    0.000000\n",
              "70    0.000000\n",
              "71    0.000000\n",
              "72    0.000000\n",
              "73    0.000000\n",
              "74    0.000000\n",
              "75    0.000000\n",
              "76    0.000000\n",
              "77    0.000000\n",
              "78    0.000000\n",
              "Name: is_canceled, dtype: float64"
            ]
          },
          "metadata": {},
          "execution_count": 125
        }
      ]
    },
    {
      "cell_type": "markdown",
      "source": [
        "Il numero di persone che hanno almeno una prenotazione non cancellata presso l'hotel è abbastanza omogeneo nei due dataset. Anche quello inerente al numero di cancellazioni è equilibrato fatta eccezione per quello relativo alle persone con una cancellazione precedente che riscontra un valore anomalo, in quanto nel train è superiore di 10 volte rispetto al test, in più la media di cancellazioni, nel train, di chi aveva già una cancellazione precedente risulta estremamente alta (90% circa). In generale avere già una prenotazione precedente diminuisce di molto la media delle cancellazioni, questo è più evidente per chi aveva una prenotazione non cancellata."
      ],
      "metadata": {
        "id": "oM9yc0bvOA4G"
      }
    },
    {
      "cell_type": "markdown",
      "source": [
        "Controllare la distribuzione in base al tipo di hotel selezionato"
      ],
      "metadata": {
        "id": "ngkEcqMPH5oE"
      }
    },
    {
      "cell_type": "markdown",
      "source": [
        "Controllare la distribuzione in base ai giorni in attesa"
      ],
      "metadata": {
        "id": "UIsJQn48KxI_"
      }
    },
    {
      "cell_type": "code",
      "source": [
        "attesa_tr = train[\"days_in_waiting_list\"].value_counts().sort_index()\n",
        "print(attesa_tr)"
      ],
      "metadata": {
        "id": "yJ_qqzayLE7d",
        "outputId": "29170896-e6ce-4455-a7ea-e5da9d0aaa92",
        "colab": {
          "base_uri": "https://localhost:8080/"
        }
      },
      "execution_count": 232,
      "outputs": [
        {
          "output_type": "stream",
          "name": "stdout",
          "text": [
            "0      53958\n",
            "1          8\n",
            "2          3\n",
            "3         59\n",
            "4         20\n",
            "       ...  \n",
            "236       35\n",
            "259       10\n",
            "330       15\n",
            "379       15\n",
            "391       45\n",
            "Name: days_in_waiting_list, Length: 94, dtype: int64\n"
          ]
        }
      ]
    },
    {
      "cell_type": "code",
      "source": [
        "waiting_people = tot_train - 53958\n",
        "print(waiting_people)"
      ],
      "metadata": {
        "id": "6WVDkD8vMJLs",
        "outputId": "6897d238-0eef-4f13-d607-d349009d2fe0",
        "colab": {
          "base_uri": "https://localhost:8080/"
        }
      },
      "execution_count": 127,
      "outputs": [
        {
          "output_type": "stream",
          "name": "stdout",
          "text": [
            "2749\n"
          ]
        }
      ]
    },
    {
      "cell_type": "code",
      "source": [
        "attesa_te = test[\"days_in_waiting_list\"].value_counts().sort_index()\n",
        "print(attesa_te)"
      ],
      "metadata": {
        "id": "nfKf2eKEIBK8",
        "outputId": "1e9c57a1-4e45-44b4-c821-3c916aad66f3",
        "colab": {
          "base_uri": "https://localhost:8080/"
        }
      },
      "execution_count": 233,
      "outputs": [
        {
          "output_type": "stream",
          "name": "stdout",
          "text": [
            "0      40487\n",
            "1          4\n",
            "2          2\n",
            "4          5\n",
            "5          6\n",
            "       ...  \n",
            "165        1\n",
            "175        1\n",
            "183        1\n",
            "185        2\n",
            "223        1\n",
            "Name: days_in_waiting_list, Length: 76, dtype: int64\n"
          ]
        }
      ]
    },
    {
      "cell_type": "code",
      "source": [
        "waiting_people_test = tot_test - 40487\n",
        "print(waiting_people_test)"
      ],
      "metadata": {
        "id": "m_HELkC0M-dI",
        "outputId": "715a3e0f-3455-4a80-f258-c85690076853",
        "colab": {
          "base_uri": "https://localhost:8080/"
        }
      },
      "execution_count": 129,
      "outputs": [
        {
          "output_type": "stream",
          "name": "stdout",
          "text": [
            "200\n"
          ]
        }
      ]
    },
    {
      "cell_type": "markdown",
      "source": [
        "I due dataset differiscono molto nei valori relativi alle persone che sono rimaste in lista d'attesa, difatti, nel train dataset abbiamo 2750 persone con valori che vanno da 0 a 391 giorni in lista d'attesa, nel secondo, invece, i casi scendono a 200 con valori da 0 a 223."
      ],
      "metadata": {
        "id": "fWEMRiRUIQwJ"
      }
    },
    {
      "cell_type": "markdown",
      "source": [
        "Controllare i valori in base al tipo di stanza prenotata e il tipo di stanza assegnata e come influisce il cambio nelle cancellazioni."
      ],
      "metadata": {
        "id": "ngxdU9ZQNMvc"
      }
    },
    {
      "cell_type": "markdown",
      "source": [
        "controllare la distribuzione in base al \"customer Type\". (fino a qui Salvo)"
      ],
      "metadata": {
        "id": "RUfKyvABOhW_"
      }
    },
    {
      "cell_type": "markdown",
      "source": [
        "Controllare la distribuzione dei dati in base alla durata del soggiorno (fare una colonna \"days\" (weekend + week))"
      ],
      "metadata": {
        "id": "UTSjn7hIPWKT"
      }
    },
    {
      "cell_type": "code",
      "source": [
        "weekend_tr = train[\"stays_in_weekend_nights\"].value_counts().sort_index()\n",
        "print(weekend_tr)"
      ],
      "metadata": {
        "id": "oGObUmI4uFH4",
        "outputId": "79e86dbf-a21a-4a41-8678-0aebbe079cb6",
        "colab": {
          "base_uri": "https://localhost:8080/"
        }
      },
      "execution_count": 235,
      "outputs": [
        {
          "output_type": "stream",
          "name": "stdout",
          "text": [
            "0     25340\n",
            "1     14987\n",
            "2     14807\n",
            "3       602\n",
            "4       818\n",
            "5        44\n",
            "6        59\n",
            "7         7\n",
            "8        29\n",
            "9         6\n",
            "10        2\n",
            "12        2\n",
            "14        2\n",
            "16        1\n",
            "19        1\n",
            "Name: stays_in_weekend_nights, dtype: int64\n"
          ]
        }
      ]
    },
    {
      "cell_type": "code",
      "source": [
        "weekend_te = test[\"stays_in_weekend_nights\"].value_counts().sort_index()\n",
        "print(weekend_te)"
      ],
      "metadata": {
        "id": "oLCoChf7uQkK",
        "outputId": "800547fc-7cd2-4f16-8de3-52f5c8b7115b",
        "colab": {
          "base_uri": "https://localhost:8080/"
        }
      },
      "execution_count": 236,
      "outputs": [
        {
          "output_type": "stream",
          "name": "stdout",
          "text": [
            "0     16885\n",
            "1     10433\n",
            "2     12138\n",
            "3       408\n",
            "4       689\n",
            "5        15\n",
            "6        81\n",
            "7         2\n",
            "8        23\n",
            "9         1\n",
            "10        5\n",
            "12        3\n",
            "13        2\n",
            "16        2\n",
            "Name: stays_in_weekend_nights, dtype: int64\n"
          ]
        }
      ]
    },
    {
      "cell_type": "code",
      "source": [
        "week_tr=train[\"stays_in_week_nights\"].value_counts().sort_index()\n",
        "print(week_tr)"
      ],
      "metadata": {
        "id": "3DwunHyeuVS7",
        "outputId": "05c175af-2b8e-41e8-c03a-01b275792e66",
        "colab": {
          "base_uri": "https://localhost:8080/"
        }
      },
      "execution_count": 237,
      "outputs": [
        {
          "output_type": "stream",
          "name": "stdout",
          "text": [
            "0      3978\n",
            "1     14464\n",
            "2     16209\n",
            "3     10651\n",
            "4      4376\n",
            "5      4901\n",
            "6       640\n",
            "7       455\n",
            "8       289\n",
            "9        97\n",
            "10      487\n",
            "11       27\n",
            "12       15\n",
            "13       12\n",
            "14       11\n",
            "15       37\n",
            "16        3\n",
            "17        3\n",
            "18        5\n",
            "19        4\n",
            "20       22\n",
            "21        8\n",
            "22        3\n",
            "24        1\n",
            "25        3\n",
            "30        2\n",
            "34        1\n",
            "35        1\n",
            "41        1\n",
            "50        1\n",
            "Name: stays_in_week_nights, dtype: int64\n"
          ]
        }
      ]
    },
    {
      "cell_type": "code",
      "source": [
        "week_te = test[\"stays_in_week_nights\"].value_counts().sort_index()\n",
        "print(week_te)"
      ],
      "metadata": {
        "id": "BkRTMsKiudDS",
        "outputId": "a1521db8-3466-4513-f986-de1c2f28faf8",
        "colab": {
          "base_uri": "https://localhost:8080/"
        }
      },
      "execution_count": 239,
      "outputs": [
        {
          "output_type": "stream",
          "name": "stdout",
          "text": [
            "0      2452\n",
            "1      9864\n",
            "2     10535\n",
            "3      8349\n",
            "4      3587\n",
            "5      4187\n",
            "6       515\n",
            "7       362\n",
            "8       236\n",
            "9        88\n",
            "10      338\n",
            "11       14\n",
            "12       18\n",
            "13        8\n",
            "14       22\n",
            "15       33\n",
            "16        7\n",
            "17        1\n",
            "18        1\n",
            "19       39\n",
            "20       12\n",
            "21        5\n",
            "22        4\n",
            "25        3\n",
            "26        1\n",
            "30        3\n",
            "32        1\n",
            "40        2\n",
            "Name: stays_in_week_nights, dtype: int64\n"
          ]
        }
      ]
    },
    {
      "cell_type": "code",
      "source": [
        "media_weekend_tr = train[\"stays_in_weekend_nights\"].mean()\n",
        "print(media_weekend_tr)"
      ],
      "metadata": {
        "id": "QPOMhVGxukHC",
        "outputId": "7abc1260-06ef-4095-f5dc-8a6ed523d176",
        "colab": {
          "base_uri": "https://localhost:8080/"
        }
      },
      "execution_count": 240,
      "outputs": [
        {
          "output_type": "stream",
          "name": "stdout",
          "text": [
            "0.8939813426913785\n"
          ]
        }
      ]
    },
    {
      "cell_type": "code",
      "source": [
        "media_weekend_te = test[\"stays_in_weekend_nights\"].mean()\n",
        "print(media_weekend_te)"
      ],
      "metadata": {
        "id": "qyhwIM-GuxAv",
        "outputId": "394870b8-7d4a-4f5a-9630-3ae3869471e8",
        "colab": {
          "base_uri": "https://localhost:8080/"
        }
      },
      "execution_count": 241,
      "outputs": [
        {
          "output_type": "stream",
          "name": "stdout",
          "text": [
            "0.9733084277533365\n"
          ]
        }
      ]
    },
    {
      "cell_type": "code",
      "source": [
        "media_week_tr =train[\"stays_in_week_nights\"].mean()\n",
        "print(media_week_tr)"
      ],
      "metadata": {
        "id": "7Y4t3twZunMi",
        "outputId": "ee5eccd8-e52a-422a-89d4-0caf1d62e72e",
        "colab": {
          "base_uri": "https://localhost:8080/"
        }
      },
      "execution_count": 242,
      "outputs": [
        {
          "output_type": "stream",
          "name": "stdout",
          "text": [
            "2.4428024758848115\n"
          ]
        }
      ]
    },
    {
      "cell_type": "code",
      "source": [
        "media_week_te = test[\"stays_in_week_nights\"].mean()\n",
        "print(media_week_te)"
      ],
      "metadata": {
        "id": "Zj_WVShkuz5m",
        "outputId": "99bc823e-c61e-4059-fdb8-848a385ec1b8",
        "colab": {
          "base_uri": "https://localhost:8080/"
        }
      },
      "execution_count": 243,
      "outputs": [
        {
          "output_type": "stream",
          "name": "stdout",
          "text": [
            "2.601543490549807\n"
          ]
        }
      ]
    },
    {
      "cell_type": "code",
      "source": [
        "per_week_tr = (week_tr / len(train) * 100).sort_index()\n",
        "print(per_week_tr)"
      ],
      "metadata": {
        "id": "hfhlHhrMu9CS",
        "outputId": "a3474783-952d-45ef-d51c-1d6ac146bf47",
        "colab": {
          "base_uri": "https://localhost:8080/"
        }
      },
      "execution_count": 244,
      "outputs": [
        {
          "output_type": "stream",
          "name": "stdout",
          "text": [
            "0      7.015007\n",
            "1     25.506551\n",
            "2     28.583773\n",
            "3     18.782514\n",
            "4      7.716860\n",
            "5      8.642672\n",
            "6      1.128608\n",
            "7      0.802370\n",
            "8      0.509637\n",
            "9      0.171055\n",
            "10     0.858801\n",
            "11     0.047613\n",
            "12     0.026452\n",
            "13     0.021161\n",
            "14     0.019398\n",
            "15     0.065248\n",
            "16     0.005290\n",
            "17     0.005290\n",
            "18     0.008817\n",
            "19     0.007054\n",
            "20     0.038796\n",
            "21     0.014108\n",
            "22     0.005290\n",
            "24     0.001763\n",
            "25     0.005290\n",
            "30     0.003527\n",
            "34     0.001763\n",
            "35     0.001763\n",
            "41     0.001763\n",
            "50     0.001763\n",
            "Name: stays_in_week_nights, dtype: float64\n"
          ]
        }
      ]
    },
    {
      "cell_type": "code",
      "source": [
        "per_week_te = (week_te / len(test) * 100).sort_index()\n",
        "print(per_week_te)"
      ],
      "metadata": {
        "id": "14eBDEIivCIC",
        "outputId": "af5f064f-2c61-4025-dcf8-7c78569a4cb2",
        "colab": {
          "base_uri": "https://localhost:8080/"
        }
      },
      "execution_count": 245,
      "outputs": [
        {
          "output_type": "stream",
          "name": "stdout",
          "text": [
            "0      6.026495\n",
            "1     24.243616\n",
            "2     25.892791\n",
            "3     20.520068\n",
            "4      8.816084\n",
            "5     10.290756\n",
            "6      1.265761\n",
            "7      0.889719\n",
            "8      0.580038\n",
            "9      0.216285\n",
            "10     0.830732\n",
            "11     0.034409\n",
            "12     0.044240\n",
            "13     0.019662\n",
            "14     0.054071\n",
            "15     0.081107\n",
            "16     0.017205\n",
            "17     0.002458\n",
            "18     0.002458\n",
            "19     0.095854\n",
            "20     0.029493\n",
            "21     0.012289\n",
            "22     0.009831\n",
            "25     0.007373\n",
            "26     0.002458\n",
            "30     0.007373\n",
            "32     0.002458\n",
            "40     0.004916\n",
            "Name: stays_in_week_nights, dtype: float64\n"
          ]
        }
      ]
    },
    {
      "cell_type": "code",
      "source": [
        "train[\"giorni_totali\"] = train[\"stays_in_week_nights\"] + train[\"stays_in_weekend_nights\"]\n",
        "giorni_tr = train[\"giorni_totali\"].value_counts().sort_index()\n",
        "print(giorni_tr)"
      ],
      "metadata": {
        "id": "9irS3rYbxTec",
        "outputId": "48a381f9-725c-4172-cc17-fa46cd0f1706",
        "colab": {
          "base_uri": "https://localhost:8080/"
        }
      },
      "execution_count": 246,
      "outputs": [
        {
          "output_type": "stream",
          "name": "stdout",
          "text": [
            "0       417\n",
            "1     10803\n",
            "2     12912\n",
            "3     13119\n",
            "4      7928\n",
            "5      3672\n",
            "6      1817\n",
            "7      3711\n",
            "8       507\n",
            "9       389\n",
            "10      494\n",
            "11      169\n",
            "12       94\n",
            "13       54\n",
            "14      435\n",
            "15       46\n",
            "16       12\n",
            "17       11\n",
            "18        8\n",
            "19        7\n",
            "20       10\n",
            "21       34\n",
            "22        3\n",
            "23        2\n",
            "24        4\n",
            "25        1\n",
            "26        5\n",
            "27        1\n",
            "28       19\n",
            "29        8\n",
            "30        5\n",
            "33        1\n",
            "34        1\n",
            "35        2\n",
            "42        2\n",
            "48        1\n",
            "49        1\n",
            "57        1\n",
            "69        1\n",
            "Name: giorni_totali, dtype: int64\n"
          ]
        }
      ]
    },
    {
      "cell_type": "code",
      "source": [
        "test[\"giorni_totali\"] = test[\"stays_in_week_nights\"] + test[\"stays_in_weekend_nights\"]\n",
        "giorni_te=test[\"giorni_totali\"].value_counts().sort_index()\n",
        "print(giorni_te)"
      ],
      "metadata": {
        "id": "VMj0w5HKx2AN",
        "outputId": "a462e071-0ec7-429e-dd1e-de7eadef7531",
        "colab": {
          "base_uri": "https://localhost:8080/"
        }
      },
      "execution_count": 247,
      "outputs": [
        {
          "output_type": "stream",
          "name": "stdout",
          "text": [
            "0      144\n",
            "1     6764\n",
            "2     8159\n",
            "3     9681\n",
            "4     6558\n",
            "5     2862\n",
            "6     1300\n",
            "7     3370\n",
            "8      380\n",
            "9      280\n",
            "10     421\n",
            "11     155\n",
            "12      82\n",
            "13      37\n",
            "14     314\n",
            "15      16\n",
            "16      17\n",
            "17       5\n",
            "18      23\n",
            "19       7\n",
            "20       1\n",
            "21      32\n",
            "22       5\n",
            "23       1\n",
            "24       2\n",
            "25      36\n",
            "26       1\n",
            "27       3\n",
            "28      10\n",
            "29       4\n",
            "30       7\n",
            "35       3\n",
            "38       1\n",
            "42       2\n",
            "43       1\n",
            "45       1\n",
            "56       2\n",
            "Name: giorni_totali, dtype: int64\n"
          ]
        }
      ]
    },
    {
      "cell_type": "markdown",
      "source": [
        "Rispondere alla domanda. valori anomali 0 giorni totali"
      ],
      "metadata": {
        "id": "4V385IkDwncS"
      }
    },
    {
      "cell_type": "markdown",
      "source": [
        "Controllare la distribuzione di dati in base al tipo di prenotazione e pasti prenotati (b&b etc.)"
      ],
      "metadata": {
        "id": "ajwYQQ3FP_ii"
      }
    },
    {
      "cell_type": "code",
      "source": [
        "room_type_tr = train_non[\"reserved_room_type\"].value_counts().sort_index()\n",
        "print(room_type_tr)"
      ],
      "metadata": {
        "id": "x2e5giTzwq_q",
        "outputId": "d578b980-fc05-482f-85e4-de8c44ae99fa",
        "colab": {
          "base_uri": "https://localhost:8080/"
        }
      },
      "execution_count": 248,
      "outputs": [
        {
          "output_type": "stream",
          "name": "stdout",
          "text": [
            "A    40718\n",
            "B      672\n",
            "C      282\n",
            "D     9421\n",
            "E     2881\n",
            "F     1424\n",
            "G      997\n",
            "H      306\n",
            "P        6\n",
            "Name: reserved_room_type, dtype: int64\n"
          ]
        }
      ]
    },
    {
      "cell_type": "code",
      "source": [
        "room_type_te=test_non[\"reserved_room_type\"].value_counts().sort_index()\n",
        "print(room_type_te)"
      ],
      "metadata": {
        "id": "Jt0QY_1jycgR",
        "outputId": "ad0e3061-2a05-430c-fa5d-dadccea50d7c",
        "colab": {
          "base_uri": "https://localhost:8080/"
        }
      },
      "execution_count": 249,
      "outputs": [
        {
          "output_type": "stream",
          "name": "stdout",
          "text": [
            "A    27556\n",
            "B      202\n",
            "C      479\n",
            "D     7594\n",
            "E     2701\n",
            "F     1099\n",
            "G      837\n",
            "H      213\n",
            "P        6\n",
            "Name: reserved_room_type, dtype: int64\n"
          ]
        }
      ]
    },
    {
      "cell_type": "code",
      "source": [
        "room_assigned_tr = train_non[\"assigned_room_type\"].value_counts().sort_index()\n",
        "print(room_assigned_tr)"
      ],
      "metadata": {
        "id": "1EPvhtvOyjpF",
        "outputId": "ab3bdb2f-5cb4-4def-f1bd-1c17256d1a2d",
        "colab": {
          "base_uri": "https://localhost:8080/"
        }
      },
      "execution_count": 250,
      "outputs": [
        {
          "output_type": "stream",
          "name": "stdout",
          "text": [
            "A    34690\n",
            "B     1346\n",
            "C      984\n",
            "D    12403\n",
            "E     3574\n",
            "F     1799\n",
            "G     1210\n",
            "H      339\n",
            "I      215\n",
            "K      141\n",
            "P        6\n",
            "Name: assigned_room_type, dtype: int64\n"
          ]
        }
      ]
    },
    {
      "cell_type": "code",
      "source": [
        "room_assigned_te=test_non[\"assigned_room_type\"].value_counts().sort_index()\n",
        "print(room_assigned_te)"
      ],
      "metadata": {
        "id": "GsZvJYLDyqhG",
        "outputId": "ca52566c-9259-4cbc-8bda-44ef1c293a2e",
        "colab": {
          "base_uri": "https://localhost:8080/"
        }
      },
      "execution_count": 251,
      "outputs": [
        {
          "output_type": "stream",
          "name": "stdout",
          "text": [
            "A    24922\n",
            "B      304\n",
            "C      913\n",
            "D     8903\n",
            "E     2900\n",
            "F     1320\n",
            "G      960\n",
            "H      247\n",
            "I      103\n",
            "K      109\n",
            "P        6\n",
            "Name: assigned_room_type, dtype: int64\n"
          ]
        }
      ]
    },
    {
      "cell_type": "code",
      "source": [
        "per_room_tr = (room_type_tr / len(train) * 100).sort_index()\n",
        "print(per_room_tr)"
      ],
      "metadata": {
        "id": "sblzKI04y1rb",
        "outputId": "a0801995-5f65-494c-d53d-49113ec5ec06",
        "colab": {
          "base_uri": "https://localhost:8080/"
        }
      },
      "execution_count": 253,
      "outputs": [
        {
          "output_type": "stream",
          "name": "stdout",
          "text": [
            "A    71.804186\n",
            "B     1.185039\n",
            "C     0.497293\n",
            "D    16.613469\n",
            "E     5.080502\n",
            "F     2.511154\n",
            "G     1.758160\n",
            "H     0.539616\n",
            "P     0.010581\n",
            "Name: reserved_room_type, dtype: float64\n"
          ]
        }
      ]
    },
    {
      "cell_type": "code",
      "source": [
        "per_room_te = (room_type_te / len(test) * 100).sort_index()\n",
        "print(per_room_te)"
      ],
      "metadata": {
        "id": "5y82ZIKmzYny",
        "outputId": "801dfea3-9a3e-49da-b4a5-518264c4e472",
        "colab": {
          "base_uri": "https://localhost:8080/"
        }
      },
      "execution_count": 254,
      "outputs": [
        {
          "output_type": "stream",
          "name": "stdout",
          "text": [
            "A    67.726792\n",
            "B     0.496473\n",
            "C     1.177280\n",
            "D    18.664438\n",
            "E     6.638484\n",
            "F     2.701108\n",
            "G     2.057168\n",
            "H     0.523509\n",
            "P     0.014747\n",
            "Name: reserved_room_type, dtype: float64\n"
          ]
        }
      ]
    },
    {
      "cell_type": "code",
      "source": [
        "per_assigned_tr = (room_assigned_tr / len(train) * 100).sort_index()\n",
        "print(per_assigned_tr)"
      ],
      "metadata": {
        "id": "AOhaBtDZ0eO-",
        "outputId": "5ea2c54d-8d42-42bf-9015-6db59e5dab75",
        "colab": {
          "base_uri": "https://localhost:8080/"
        }
      },
      "execution_count": 255,
      "outputs": [
        {
          "output_type": "stream",
          "name": "stdout",
          "text": [
            "A    61.174105\n",
            "B     2.373605\n",
            "C     1.735236\n",
            "D    21.872079\n",
            "E     6.302573\n",
            "F     3.172448\n",
            "G     2.133775\n",
            "H     0.597810\n",
            "I     0.379142\n",
            "K     0.248647\n",
            "P     0.010581\n",
            "Name: assigned_room_type, dtype: float64\n"
          ]
        }
      ]
    },
    {
      "cell_type": "code",
      "source": [
        "per_assigned_te = (room_assigned_te / len(test) * 100).sort_index()\n",
        "print(per_assigned_te)"
      ],
      "metadata": {
        "id": "IIp9tenf0lDX",
        "outputId": "30642968-5179-47a1-b8c1-3a200891c0f5",
        "colab": {
          "base_uri": "https://localhost:8080/"
        }
      },
      "execution_count": 256,
      "outputs": [
        {
          "output_type": "stream",
          "name": "stdout",
          "text": [
            "A    61.252980\n",
            "B     0.747167\n",
            "C     2.243960\n",
            "D    21.881682\n",
            "E     7.127584\n",
            "F     3.244279\n",
            "G     2.359476\n",
            "H     0.607074\n",
            "I     0.253152\n",
            "K     0.267899\n",
            "P     0.014747\n",
            "Name: assigned_room_type, dtype: float64\n"
          ]
        }
      ]
    },
    {
      "cell_type": "code",
      "source": [
        "pasti_tr = train_non[\"meal\"].value_counts().sort_index()\n",
        "print(pasti_tr)"
      ],
      "metadata": {
        "id": "PuCrq-zN09JU",
        "outputId": "e60b6f7a-c864-4bac-ec6d-1d25ae95c0e0",
        "colab": {
          "base_uri": "https://localhost:8080/"
        }
      },
      "execution_count": 257,
      "outputs": [
        {
          "output_type": "stream",
          "name": "stdout",
          "text": [
            "BB           44551\n",
            "FB             334\n",
            "HB            6176\n",
            "SC            5060\n",
            "Undefined      586\n",
            "Name: meal, dtype: int64\n"
          ]
        }
      ]
    },
    {
      "cell_type": "code",
      "source": [
        "pasti_te =test_non[\"meal\"].value_counts().sort_index()\n",
        "print(pasti_te)"
      ],
      "metadata": {
        "id": "W-UM6N3e1F9Q",
        "outputId": "2de52e7a-815d-4f40-aecf-a45689d9fb41",
        "colab": {
          "base_uri": "https://localhost:8080/"
        }
      },
      "execution_count": 258,
      "outputs": [
        {
          "output_type": "stream",
          "name": "stdout",
          "text": [
            "BB           30524\n",
            "FB              95\n",
            "HB            4477\n",
            "SC            5178\n",
            "Undefined      413\n",
            "Name: meal, dtype: int64\n"
          ]
        }
      ]
    },
    {
      "cell_type": "code",
      "source": [
        "per_pasti_tr= (pasti_tr / len(train_non) * 100).sort_index()\n",
        "print(per_pasti_tr)"
      ],
      "metadata": {
        "id": "OEWr7god1TxE",
        "outputId": "3ea8f121-ad90-4ee2-8362-774d4a04960c",
        "colab": {
          "base_uri": "https://localhost:8080/"
        }
      },
      "execution_count": 259,
      "outputs": [
        {
          "output_type": "stream",
          "name": "stdout",
          "text": [
            "BB           78.563493\n",
            "FB            0.588993\n",
            "HB           10.891072\n",
            "SC            8.923061\n",
            "Undefined     1.033382\n",
            "Name: meal, dtype: float64\n"
          ]
        }
      ]
    },
    {
      "cell_type": "code",
      "source": [
        "per_pasti_te = (pasti_te / len(test_non) * 100).sort_index()\n",
        "print(per_pasti_te)"
      ],
      "metadata": {
        "id": "BJoUBCT81K-G",
        "outputId": "cfded43e-3b95-4cbc-b5c5-b72c25187d5f",
        "colab": {
          "base_uri": "https://localhost:8080/"
        }
      },
      "execution_count": 260,
      "outputs": [
        {
          "output_type": "stream",
          "name": "stdout",
          "text": [
            "BB           75.021506\n",
            "FB            0.233490\n",
            "HB           11.003515\n",
            "SC           12.726424\n",
            "Undefined     1.015066\n",
            "Name: meal, dtype: float64\n"
          ]
        }
      ]
    },
    {
      "cell_type": "code",
      "source": [
        "train_non.groupby(train_non[\"meal\"])[\"is_canceled\"].mean()"
      ],
      "metadata": {
        "id": "LbWxnHno3kXq",
        "outputId": "d30a817a-55b7-4312-ea76-666f78b19b2f",
        "colab": {
          "base_uri": "https://localhost:8080/"
        }
      },
      "execution_count": 198,
      "outputs": [
        {
          "output_type": "execute_result",
          "data": {
            "text/plain": [
              "meal\n",
              "BB           0.362304\n",
              "FB           0.601796\n",
              "HB           0.311528\n",
              "SC           0.374111\n",
              "Undefined    0.303754\n",
              "Name: is_canceled, dtype: float64"
            ]
          },
          "metadata": {},
          "execution_count": 198
        }
      ]
    },
    {
      "cell_type": "code",
      "source": [
        "test_non.groupby(test_non[\"meal\"])[\"is_canceled\"].mean()"
      ],
      "metadata": {
        "id": "dkMr-yRx4O4p",
        "outputId": "06eee6c0-869c-4365-eb90-5ef93ef6e77b",
        "colab": {
          "base_uri": "https://localhost:8080/"
        }
      },
      "execution_count": 199,
      "outputs": [
        {
          "output_type": "execute_result",
          "data": {
            "text/plain": [
              "meal\n",
              "BB           0.395918\n",
              "FB           0.389474\n",
              "HB           0.334152\n",
              "SC           0.393588\n",
              "Undefined    0.215496\n",
              "Name: is_canceled, dtype: float64"
            ]
          },
          "metadata": {},
          "execution_count": 199
        }
      ]
    },
    {
      "cell_type": "markdown",
      "source": [
        "Si segnala un valore alquanto elevato, rispetto al resto dei casi, nell'assegnazione di tipo \"0\" (più del 60% in entrambi i dataset). Per quanto riguarda il tipo di pasto invece i valori si concentrano per la maggior parte (più del 75%) nell'etichetta \"B&B\". Sempre per il caso pasti, notiamo una notevole riduzione delle cancellazioni nei casi di \"FB\" (full board: pensione completa). Nel caso \"room type\" vediamo un valore molto basso (6 unità) nell'ultima tipologia di stanza, della quale però possiamo solo ipotizzare la reale tipologia. Riguardare"
      ],
      "metadata": {
        "id": "VgJdX04W2cZR"
      }
    },
    {
      "cell_type": "markdown",
      "source": [
        "Controllare il numero di cancellazioni in base al deposito fatto oppure no (deposit_type)"
      ],
      "metadata": {
        "id": "-z5n5X6wQdMb"
      }
    },
    {
      "cell_type": "code",
      "source": [
        "depositi_tr = train_non[\"deposit_type\"].value_counts()\n",
        "print(depositi_tr)"
      ],
      "metadata": {
        "id": "wE-zYO725m3B",
        "outputId": "7b2e898c-a17d-4b20-d72d-07c522d1abbe",
        "colab": {
          "base_uri": "https://localhost:8080/"
        }
      },
      "execution_count": 204,
      "outputs": [
        {
          "output_type": "stream",
          "name": "stdout",
          "text": [
            "No Deposit    49782\n",
            "Non Refund     6794\n",
            "Refundable      131\n",
            "Name: deposit_type, dtype: int64\n"
          ]
        }
      ]
    },
    {
      "cell_type": "code",
      "source": [
        "depositi_te= test_non[\"deposit_type\"].value_counts()\n",
        "print(depositi_te)"
      ],
      "metadata": {
        "id": "UN3vHxwx5x6s",
        "outputId": "d0f21826-999c-483d-c8fa-e694cd3773f3",
        "colab": {
          "base_uri": "https://localhost:8080/"
        }
      },
      "execution_count": 205,
      "outputs": [
        {
          "output_type": "stream",
          "name": "stdout",
          "text": [
            "No Deposit    36534\n",
            "Non Refund     4126\n",
            "Refundable       27\n",
            "Name: deposit_type, dtype: int64\n"
          ]
        }
      ]
    },
    {
      "cell_type": "code",
      "source": [
        "per_dep_tr = (depositi_tr / len(train_non) * 100).sort_index()\n",
        "print(per_dep_tr)"
      ],
      "metadata": {
        "id": "aG7XpE2e57tg",
        "outputId": "ae096cfb-345a-497b-e521-4adef9dccafd",
        "colab": {
          "base_uri": "https://localhost:8080/"
        }
      },
      "execution_count": 261,
      "outputs": [
        {
          "output_type": "stream",
          "name": "stdout",
          "text": [
            "No Deposit    87.788104\n",
            "Non Refund    11.980884\n",
            "Refundable     0.231012\n",
            "Name: deposit_type, dtype: float64\n"
          ]
        }
      ]
    },
    {
      "cell_type": "code",
      "source": [
        "per_dep_te = (depositi_te / len(test_non) * 100).sort_index()\n",
        "print(per_dep_te)"
      ],
      "metadata": {
        "id": "KroUGV8v55sK",
        "outputId": "92f75a6e-3efa-45eb-d4b4-214a13edddf5",
        "colab": {
          "base_uri": "https://localhost:8080/"
        }
      },
      "execution_count": 262,
      "outputs": [
        {
          "output_type": "stream",
          "name": "stdout",
          "text": [
            "No Deposit    89.792809\n",
            "Non Refund    10.140831\n",
            "Refundable     0.066360\n",
            "Name: deposit_type, dtype: float64\n"
          ]
        }
      ]
    },
    {
      "cell_type": "code",
      "source": [
        "train_non.groupby(train_non[\"deposit_type\"])[\"is_canceled\"].mean()"
      ],
      "metadata": {
        "id": "vzV_7EKIAr4s",
        "outputId": "8a900875-04ec-44b6-9a7b-04e822b8b7e1",
        "colab": {
          "base_uri": "https://localhost:8080/"
        }
      },
      "execution_count": 269,
      "outputs": [
        {
          "output_type": "execute_result",
          "data": {
            "text/plain": [
              "deposit_type\n",
              "No Deposit    0.273372\n",
              "Non Refund    0.988814\n",
              "Refundable    0.076336\n",
              "Name: is_canceled, dtype: float64"
            ]
          },
          "metadata": {},
          "execution_count": 269
        }
      ]
    },
    {
      "cell_type": "code",
      "source": [
        "test_non.groupby(test_non[\"deposit_type\"])[\"is_canceled\"].mean()"
      ],
      "metadata": {
        "id": "nVCI_-WeAsr6",
        "outputId": "b0ad03c0-fe8e-4f0e-a78d-3161f329bf83",
        "colab": {
          "base_uri": "https://localhost:8080/"
        }
      },
      "execution_count": 267,
      "outputs": [
        {
          "output_type": "execute_result",
          "data": {
            "text/plain": [
              "deposit_type\n",
              "No Deposit    0.317540\n",
              "Non Refund    0.998061\n",
              "Refundable    0.962963\n",
              "Name: is_canceled, dtype: float64"
            ]
          },
          "metadata": {},
          "execution_count": 267
        }
      ]
    },
    {
      "cell_type": "markdown",
      "source": [
        "Sembra abbastanza evidente (come era lecito aspettarsi) una molto maggiore quantità di cancellazioni nei casi in cui non viene lasciato alcun deposito. Il dato che ci sembra invece più significativo è l'elevato numero di cancellazioni nei casi \"non refund\", rispetto ai relativamente pochi casi \"refundable\". Questo è senz'altro dovuto al numero molto maggiore di prenotazioni \"non refund\", dettate dalla maggiore convenienza economica. riguardare"
      ],
      "metadata": {
        "id": "vUb12NYWAkwu"
      }
    },
    {
      "cell_type": "markdown",
      "source": [
        "Controllare la distribuzione di chi ha richiesto un parcheggio e chi no"
      ],
      "metadata": {
        "id": "R61hglmoQoSG"
      }
    },
    {
      "cell_type": "markdown",
      "source": [
        "Seconda parte: esplorazione dati."
      ],
      "metadata": {
        "id": "8WGMAI8zpfgZ"
      }
    },
    {
      "cell_type": "markdown",
      "source": [],
      "metadata": {
        "id": "kpkiCmlztG3c"
      }
    },
    {
      "cell_type": "code",
      "source": [
        "#mese di arrivo e cancellazioni\n",
        "sns.set_style(\"whitegrid\")\n",
        "sns.histplot(x=\"arrival_date_month\", hue = \"is_canceled\", multiple = \"dodge\", data=train, bins = 12)\n",
        "plt.show()"
      ],
      "metadata": {
        "id": "VpZnh-mSpkam",
        "outputId": "f4006d05-187d-4cd6-8ec2-a00c565d69b5",
        "colab": {
          "base_uri": "https://localhost:8080/",
          "height": 450
        }
      },
      "execution_count": 130,
      "outputs": [
        {
          "output_type": "display_data",
          "data": {
            "text/plain": [
              "<Figure size 640x480 with 1 Axes>"
            ],
            "image/png": "[encoded data removed]"
          },
          "metadata": {}
        }
      ]
    },
    {
      "cell_type": "code",
      "source": [
        "sns.histplot(x=\"arrival_date_month\", hue = \"is_canceled\", multiple = \"fill\", stat = \"count\", data=train, bins =12)\n",
        "plt.show()"
      ],
      "metadata": {
        "id": "UfBXZjeNs8QU",
        "outputId": "a15ec207-4799-43b9-ab52-88a3744a7544",
        "colab": {
          "base_uri": "https://localhost:8080/",
          "height": 455
        }
      },
      "execution_count": 131,
      "outputs": [
        {
          "output_type": "display_data",
          "data": {
            "text/plain": [
              "<Figure size 640x480 with 1 Axes>"
            ],
            "image/png": "[encoded data removed]"
          },
          "metadata": {}
        }
      ]
    },
    {
      "cell_type": "code",
      "source": [
        "sns.histplot(x=\"arrival_date_month\", hue = \"is_canceled\", multiple = \"fill\", stat = \"count\", data=test, bins =8)\n",
        "plt.show()"
      ],
      "metadata": {
        "id": "eH95FdEnxvjK",
        "outputId": "8e1b03ec-a646-489b-afb9-8a1ff20944d1",
        "colab": {
          "base_uri": "https://localhost:8080/",
          "height": 455
        }
      },
      "execution_count": 132,
      "outputs": [
        {
          "output_type": "display_data",
          "data": {
            "text/plain": [
              "<Figure size 640x480 with 1 Axes>"
            ],
            "image/png": "[encoded data removed]"
          },
          "metadata": {}
        }
      ]
    },
    {
      "cell_type": "code",
      "source": [
        "sns.histplot(x=\"arrival_date_month\", hue = \"is_canceled\", multiple = \"stack\", stat = \"count\", data=test, bins =8)\n",
        "plt.show()"
      ],
      "metadata": {
        "id": "Lqcv7ed5x_m9",
        "outputId": "1b5adca5-56f6-458e-ba2e-28f4f4423e5b",
        "colab": {
          "base_uri": "https://localhost:8080/",
          "height": 450
        }
      },
      "execution_count": 133,
      "outputs": [
        {
          "output_type": "display_data",
          "data": {
            "text/plain": [
              "<Figure size 640x480 with 1 Axes>"
            ],
            "image/png": "[encoded data removed]"
          },
          "metadata": {}
        }
      ]
    },
    {
      "cell_type": "markdown",
      "source": [
        "Come abbiamo visto in precedenza i due dataset differiscono nel numero di mesi riportati (12 per il train e 8 per il test). Il numero di prenotazioni cresce in entrambi i dataset dal mese di gennaio (mese con il numero di prenotazioni più basso) fino a maggio per poi scendere nuovamente fino a luglio per poi risalire da agosto (dove però il test dataset si ferma) e riscendere da ottobre. Le percentuali di prenotazioni tendono ad essere, invece, abbastanza variabili tra i due dataset, in generale non sembra esserci una correlazione tra il mese e la crescita della media dele cancellazioni."
      ],
      "metadata": {
        "id": "frm3pLu2viiy"
      }
    },
    {
      "cell_type": "code",
      "source": [
        "#tipo di pasto in base ai\n",
        "sns.boxplot( x= \"hotel\" , y=\"stays_in_week_nights\", data=train_non)\n",
        "plt.show()"
      ],
      "metadata": {
        "id": "viE10UUvwhLR",
        "outputId": "46f69bf7-0ea1-470d-b417-17f9e35e4b6a",
        "colab": {
          "base_uri": "https://localhost:8080/",
          "height": 449
        }
      },
      "execution_count": 134,
      "outputs": [
        {
          "output_type": "display_data",
          "data": {
            "text/plain": [
              "<Figure size 640x480 with 1 Axes>"
            ],
            "image/png": "[encoded data removed]"
          },
          "metadata": {}
        }
      ]
    },
    {
      "cell_type": "code",
      "source": [
        "sns.boxplot(x=\"hotel\", y=\"stays_in_week_nights\", hue = \"is_canceled\", data=test_non)\n",
        "plt.show()"
      ],
      "metadata": {
        "id": "HNo-9G-owrOl",
        "outputId": "a274d360-76d1-49ad-fae3-39e3832d3c99",
        "colab": {
          "base_uri": "https://localhost:8080/",
          "height": 449
        }
      },
      "execution_count": 135,
      "outputs": [
        {
          "output_type": "display_data",
          "data": {
            "text/plain": [
              "<Figure size 640x480 with 1 Axes>"
            ],
            "image/png": "[encoded data removed]"
          },
          "metadata": {}
        }
      ]
    },
    {
      "cell_type": "code",
      "source": [
        "#tipo di pasto e cancellazioni\n",
        "sns.histplot(x=\"meal\", hue = \"is_canceled\", multiple = \"fill\", stat = \"count\", data=train_non, bins =8)\n",
        "plt.show()"
      ],
      "metadata": {
        "id": "gupX1tY5x9_u",
        "outputId": "74fe64da-397b-4e71-acee-b70dcf67abcb",
        "colab": {
          "base_uri": "https://localhost:8080/",
          "height": 455
        }
      },
      "execution_count": 136,
      "outputs": [
        {
          "output_type": "display_data",
          "data": {
            "text/plain": [
              "<Figure size 640x480 with 1 Axes>"
            ],
            "image/png": "[encoded data removed]"
          },
          "metadata": {}
        }
      ]
    },
    {
      "cell_type": "code",
      "source": [
        "#canale di distribuzione e cancellazioni\n",
        "sns.histplot(x=\"distribution_channel\", hue = \"is_canceled\", multiple = \"dodge\", stat = \"count\", data=train_non, bins =8)\n",
        "plt.show()"
      ],
      "metadata": {
        "id": "zm_6YiZWyanR",
        "outputId": "d55e4987-d5e7-4592-f7ce-5036dfcb229c",
        "colab": {
          "base_uri": "https://localhost:8080/",
          "height": 450
        }
      },
      "execution_count": 137,
      "outputs": [
        {
          "output_type": "display_data",
          "data": {
            "text/plain": [
              "<Figure size 640x480 with 1 Axes>"
            ],
            "image/png": "[encoded data removed]"
          },
          "metadata": {}
        }
      ]
    },
    {
      "cell_type": "code",
      "source": [
        "#cancellazioni in base alle persone\n",
        "sns.histplot(x=\"persone\", hue=\"is_canceled\", multiple=\"stack\", stat=\"count\", data=train, bins = 10)\n",
        "plt.xticks([1, 2, 3, 4, 5, 6])\n",
        "plt.show()"
      ],
      "metadata": {
        "id": "02bg7HZrzpsX",
        "outputId": "90fcd41f-dbdc-4779-877d-6bea622bba70",
        "colab": {
          "base_uri": "https://localhost:8080/",
          "height": 450
        }
      },
      "execution_count": 138,
      "outputs": [
        {
          "output_type": "display_data",
          "data": {
            "text/plain": [
              "<Figure size 640x480 with 1 Axes>"
            ],
            "image/png": "[encoded data removed]"
          },
          "metadata": {}
        }
      ]
    },
    {
      "cell_type": "code",
      "source": [
        "#persone e cancellazioni\n",
        "sns.histplot(x=\"persone\", hue = \"is_canceled\", multiple = \"dodge\", stat = \"count\", data=test, bins = 6)\n",
        "plt.xticks([1, 2, 3, 4, 5])\n",
        "plt.show()"
      ],
      "metadata": {
        "id": "f0PdMUWE3dgp",
        "outputId": "0636c15a-78a9-4fae-a306-057925d5953f",
        "colab": {
          "base_uri": "https://localhost:8080/",
          "height": 449
        }
      },
      "execution_count": 139,
      "outputs": [
        {
          "output_type": "display_data",
          "data": {
            "text/plain": [
              "<Figure size 640x480 with 1 Axes>"
            ],
            "image/png": "[encoded data removed]"
          },
          "metadata": {}
        }
      ]
    },
    {
      "cell_type": "code",
      "source": [
        "sns.histplot(x=\"persone\", hue = \"is_canceled\", multiple = \"fill\", stat = \"probability\", data=test, bins = 6)\n",
        "plt.show()"
      ],
      "metadata": {
        "id": "TXKIJqQdnO3u",
        "outputId": "7dc6996e-b050-4d50-d988-7234c5c43ff8",
        "colab": {
          "base_uri": "https://localhost:8080/",
          "height": 455
        }
      },
      "execution_count": 140,
      "outputs": [
        {
          "output_type": "display_data",
          "data": {
            "text/plain": [
              "<Figure size 640x480 with 1 Axes>"
            ],
            "image/png": "[encoded data removed]"
          },
          "metadata": {}
        }
      ]
    },
    {
      "cell_type": "code",
      "source": [
        "sns.histplot(x=\"persone\", hue = \"is_canceled\", multiple = \"fill\", stat = \"probability\", data=train, bins = 12)\n",
        "plt.xticks([0, 1, 2, 3, 4, 5, 12])\n",
        "plt.show()\n",
        "#togliere il valore 12"
      ],
      "metadata": {
        "id": "Zzg8hWF-njrl",
        "outputId": "20b57ffa-4cce-42f1-cf5c-d95e82c8d176",
        "colab": {
          "base_uri": "https://localhost:8080/",
          "height": 455
        }
      },
      "execution_count": 141,
      "outputs": [
        {
          "output_type": "display_data",
          "data": {
            "text/plain": [
              "<Figure size 640x480 with 1 Axes>"
            ],
            "image/png": "[encoded data removed]"
          },
          "metadata": {}
        }
      ]
    },
    {
      "cell_type": "markdown",
      "source": [
        "Dai grafici si evince molto chiaramente come la stragrande maggioranza delle prenotazioni sia per due persone. La percentuale di cancellazioni si alza notevolemente in corrispondenza di tale dato. Anche le prenotazioni da 4 persone, nonostante i casi siano di molto inferiori presenta una percentuale di cancellazioni molto alta"
      ],
      "metadata": {
        "id": "zLDUfnzdMKMO"
      }
    },
    {
      "cell_type": "code",
      "source": [
        "#sns.swarmplot(x=\"is_repeated_guest\", y=\"stays_in_week_nights\", hue=\"is_canceled\", size=2, data=train)\n",
        "#plt.show()"
      ],
      "metadata": {
        "id": "bVHMEib8OGWS"
      },
      "execution_count": 142,
      "outputs": []
    },
    {
      "cell_type": "code",
      "source": [
        "sns.boxplot(x=\"is_repeated_guest\", y= \"hotel\", hue = \"is_canceled\", data=train)\n",
        "plt.show()"
      ],
      "metadata": {
        "id": "catB2R3YOift",
        "outputId": "d9bbe510-354a-4287-ad24-044073f0a697",
        "colab": {
          "base_uri": "https://localhost:8080/",
          "height": 450
        }
      },
      "execution_count": 143,
      "outputs": [
        {
          "output_type": "display_data",
          "data": {
            "text/plain": [
              "<Figure size 640x480 with 1 Axes>"
            ],
            "image/png": "[encoded data removed]"
          },
          "metadata": {}
        }
      ]
    },
    {
      "cell_type": "markdown",
      "source": [
        "Fase 3 Machine learning"
      ],
      "metadata": {
        "id": "W5JaI6mzPt1x"
      }
    },
    {
      "cell_type": "code",
      "source": [
        "train.describe()"
      ],
      "metadata": {
        "id": "JVYPVXW9SWZi",
        "outputId": "dfc8d10d-11c6-43b8-cd6d-d4dfe8011e1c",
        "colab": {
          "base_uri": "https://localhost:8080/",
          "height": 349
        }
      },
      "execution_count": 144,
      "outputs": [
        {
          "output_type": "execute_result",
          "data": {
            "text/plain": [
              "              hotel   is_canceled     lead_time  arrival_date_year  \\\n",
              "count  56707.000000  56707.000000  56707.000000            56707.0   \n",
              "mean       0.327420      0.358633    102.870369             2016.0   \n",
              "std        0.469276      0.479603    106.582358                0.0   \n",
              "min        0.000000      0.000000      0.000000             2016.0   \n",
              "25%        0.000000      0.000000     17.000000             2016.0   \n",
              "50%        0.000000      0.000000     68.000000             2016.0   \n",
              "75%        1.000000      1.000000    160.000000             2016.0   \n",
              "max        1.000000      1.000000    709.000000             2016.0   \n",
              "\n",
              "       arrival_date_month  arrival_date_week_number  \\\n",
              "count        56707.000000              56707.000000   \n",
              "mean             6.767313                 28.458162   \n",
              "std              3.194300                 13.925493   \n",
              "min              1.000000                  1.000000   \n",
              "25%              4.000000                 17.000000   \n",
              "50%              7.000000                 28.000000   \n",
              "75%             10.000000                 41.000000   \n",
              "max             12.000000                 53.000000   \n",
              "\n",
              "       arrival_date_day_of_month  stays_in_weekend_nights  \\\n",
              "count               56707.000000             56707.000000   \n",
              "mean                   15.911104                 0.893981   \n",
              "std                     8.784897                 0.983110   \n",
              "min                     1.000000                 0.000000   \n",
              "25%                     8.000000                 0.000000   \n",
              "50%                    16.000000                 1.000000   \n",
              "75%                    24.000000                 2.000000   \n",
              "max                    31.000000                19.000000   \n",
              "\n",
              "       stays_in_week_nights        adults  ...         agent       company  \\\n",
              "count          56707.000000  56707.000000  ...  56707.000000  56707.000000   \n",
              "mean               2.442802      1.850988  ...     71.445095      8.487435   \n",
              "std                1.863548      0.498133  ...    102.585427     47.550647   \n",
              "min                0.000000      0.000000  ...     -1.000000     -1.000000   \n",
              "25%                1.000000      2.000000  ...      7.000000     -1.000000   \n",
              "50%                2.000000      2.000000  ...      9.000000     -1.000000   \n",
              "75%                3.000000      2.000000  ...    134.000000     -1.000000   \n",
              "max               50.000000      4.000000  ...    481.000000    499.000000   \n",
              "\n",
              "       days_in_waiting_list  customer_type           adr  \\\n",
              "count          56707.000000   56707.000000  56707.000000   \n",
              "mean               3.833865       2.171302     98.325863   \n",
              "std               23.785668       0.477327     49.955696   \n",
              "min                0.000000       0.000000      0.000000   \n",
              "25%                0.000000       2.000000     68.530000   \n",
              "50%                0.000000       2.000000     90.950000   \n",
              "75%                0.000000       2.000000    120.000000   \n",
              "max              391.000000       3.000000   5400.000000   \n",
              "\n",
              "       required_car_parking_spaces  total_of_special_requests       persone  \\\n",
              "count                 56707.000000               56707.000000  56707.000000   \n",
              "mean                      0.068334                   0.548645      1.963338   \n",
              "std                       0.253296                   0.761173      0.655733   \n",
              "min                       0.000000                   0.000000      0.000000   \n",
              "25%                       0.000000                   0.000000      2.000000   \n",
              "50%                       0.000000                   0.000000      2.000000   \n",
              "75%                       0.000000                   1.000000      2.000000   \n",
              "max                       3.000000                   5.000000     12.000000   \n",
              "\n",
              "       colonna_bambini  prenotazioni_precedenti  \n",
              "count     56707.000000             56707.000000  \n",
              "mean          0.112349                 0.197930  \n",
              "std           0.410922                 1.749266  \n",
              "min           0.000000                 0.000000  \n",
              "25%           0.000000                 0.000000  \n",
              "50%           0.000000                 0.000000  \n",
              "75%           0.000000                 0.000000  \n",
              "max          10.000000                64.000000  \n",
              "\n",
              "[8 rows x 33 columns]"
            ],
            "text/html": [
              "\n",
              "  <div id=\"df-65c71533-0429-4b92-a30d-e2b23b971252\" class=\"colab-df-container\">\n",
              "    <div>\n",
              "<style scoped>\n",
              "    .dataframe tbody tr th:only-of-type {\n",
              "        vertical-align: middle;\n",
              "    }\n",
              "\n",
              "    .dataframe tbody tr th {\n",
              "        vertical-align: top;\n",
              "    }\n",
              "\n",
              "    .dataframe thead th {\n",
              "        text-align: right;\n",
              "    }\n",
              "</style>\n",
              "<table border=\"1\" class=\"dataframe\">\n",
              "  <thead>\n",
              "    <tr style=\"text-align: right;\">\n",
              "      <th></th>\n",
              "      <th>hotel</th>\n",
              "      <th>is_canceled</th>\n",
              "      <th>lead_time</th>\n",
              "      <th>arrival_date_year</th>\n",
              "      <th>arrival_date_month</th>\n",
              "      <th>arrival_date_week_number</th>\n",
              "      <th>arrival_date_day_of_month</th>\n",
              "      <th>stays_in_weekend_nights</th>\n",
              "      <th>stays_in_week_nights</th>\n",
              "      <th>adults</th>\n",
              "      <th>...</th>\n",
              "      <th>agent</th>\n",
              "      <th>company</th>\n",
              "      <th>days_in_waiting_list</th>\n",
              "      <th>customer_type</th>\n",
              "      <th>adr</th>\n",
              "      <th>required_car_parking_spaces</th>\n",
              "      <th>total_of_special_requests</th>\n",
              "      <th>persone</th>\n",
              "      <th>colonna_bambini</th>\n",
              "      <th>prenotazioni_precedenti</th>\n",
              "    </tr>\n",
              "  </thead>\n",
              "  <tbody>\n",
              "    <tr>\n",
              "      <th>count</th>\n",
              "      <td>56707.000000</td>\n",
              "      <td>56707.000000</td>\n",
              "      <td>56707.000000</td>\n",
              "      <td>56707.0</td>\n",
              "      <td>56707.000000</td>\n",
              "      <td>56707.000000</td>\n",
              "      <td>56707.000000</td>\n",
              "      <td>56707.000000</td>\n",
              "      <td>56707.000000</td>\n",
              "      <td>56707.000000</td>\n",
              "      <td>...</td>\n",
              "      <td>56707.000000</td>\n",
              "      <td>56707.000000</td>\n",
              "      <td>56707.000000</td>\n",
              "      <td>56707.000000</td>\n",
              "      <td>56707.000000</td>\n",
              "      <td>56707.000000</td>\n",
              "      <td>56707.000000</td>\n",
              "      <td>56707.000000</td>\n",
              "      <td>56707.000000</td>\n",
              "      <td>56707.000000</td>\n",
              "    </tr>\n",
              "    <tr>\n",
              "      <th>mean</th>\n",
              "      <td>0.327420</td>\n",
              "      <td>0.358633</td>\n",
              "      <td>102.870369</td>\n",
              "      <td>2016.0</td>\n",
              "      <td>6.767313</td>\n",
              "      <td>28.458162</td>\n",
              "      <td>15.911104</td>\n",
              "      <td>0.893981</td>\n",
              "      <td>2.442802</td>\n",
              "      <td>1.850988</td>\n",
              "      <td>...</td>\n",
              "      <td>71.445095</td>\n",
              "      <td>8.487435</td>\n",
              "      <td>3.833865</td>\n",
              "      <td>2.171302</td>\n",
              "      <td>98.325863</td>\n",
              "      <td>0.068334</td>\n",
              "      <td>0.548645</td>\n",
              "      <td>1.963338</td>\n",
              "      <td>0.112349</td>\n",
              "      <td>0.197930</td>\n",
              "    </tr>\n",
              "    <tr>\n",
              "      <th>std</th>\n",
              "      <td>0.469276</td>\n",
              "      <td>0.479603</td>\n",
              "      <td>106.582358</td>\n",
              "      <td>0.0</td>\n",
              "      <td>3.194300</td>\n",
              "      <td>13.925493</td>\n",
              "      <td>8.784897</td>\n",
              "      <td>0.983110</td>\n",
              "      <td>1.863548</td>\n",
              "      <td>0.498133</td>\n",
              "      <td>...</td>\n",
              "      <td>102.585427</td>\n",
              "      <td>47.550647</td>\n",
              "      <td>23.785668</td>\n",
              "      <td>0.477327</td>\n",
              "      <td>49.955696</td>\n",
              "      <td>0.253296</td>\n",
              "      <td>0.761173</td>\n",
              "      <td>0.655733</td>\n",
              "      <td>0.410922</td>\n",
              "      <td>1.749266</td>\n",
              "    </tr>\n",
              "    <tr>\n",
              "      <th>min</th>\n",
              "      <td>0.000000</td>\n",
              "      <td>0.000000</td>\n",
              "      <td>0.000000</td>\n",
              "      <td>2016.0</td>\n",
              "      <td>1.000000</td>\n",
              "      <td>1.000000</td>\n",
              "      <td>1.000000</td>\n",
              "      <td>0.000000</td>\n",
              "      <td>0.000000</td>\n",
              "      <td>0.000000</td>\n",
              "      <td>...</td>\n",
              "      <td>-1.000000</td>\n",
              "      <td>-1.000000</td>\n",
              "      <td>0.000000</td>\n",
              "      <td>0.000000</td>\n",
              "      <td>0.000000</td>\n",
              "      <td>0.000000</td>\n",
              "      <td>0.000000</td>\n",
              "      <td>0.000000</td>\n",
              "      <td>0.000000</td>\n",
              "      <td>0.000000</td>\n",
              "    </tr>\n",
              "    <tr>\n",
              "      <th>25%</th>\n",
              "      <td>0.000000</td>\n",
              "      <td>0.000000</td>\n",
              "      <td>17.000000</td>\n",
              "      <td>2016.0</td>\n",
              "      <td>4.000000</td>\n",
              "      <td>17.000000</td>\n",
              "      <td>8.000000</td>\n",
              "      <td>0.000000</td>\n",
              "      <td>1.000000</td>\n",
              "      <td>2.000000</td>\n",
              "      <td>...</td>\n",
              "      <td>7.000000</td>\n",
              "      <td>-1.000000</td>\n",
              "      <td>0.000000</td>\n",
              "      <td>2.000000</td>\n",
              "      <td>68.530000</td>\n",
              "      <td>0.000000</td>\n",
              "      <td>0.000000</td>\n",
              "      <td>2.000000</td>\n",
              "      <td>0.000000</td>\n",
              "      <td>0.000000</td>\n",
              "    </tr>\n",
              "    <tr>\n",
              "      <th>50%</th>\n",
              "      <td>0.000000</td>\n",
              "      <td>0.000000</td>\n",
              "      <td>68.000000</td>\n",
              "      <td>2016.0</td>\n",
              "      <td>7.000000</td>\n",
              "      <td>28.000000</td>\n",
              "      <td>16.000000</td>\n",
              "      <td>1.000000</td>\n",
              "      <td>2.000000</td>\n",
              "      <td>2.000000</td>\n",
              "      <td>...</td>\n",
              "      <td>9.000000</td>\n",
              "      <td>-1.000000</td>\n",
              "      <td>0.000000</td>\n",
              "      <td>2.000000</td>\n",
              "      <td>90.950000</td>\n",
              "      <td>0.000000</td>\n",
              "      <td>0.000000</td>\n",
              "      <td>2.000000</td>\n",
              "      <td>0.000000</td>\n",
              "      <td>0.000000</td>\n",
              "    </tr>\n",
              "    <tr>\n",
              "      <th>75%</th>\n",
              "      <td>1.000000</td>\n",
              "      <td>1.000000</td>\n",
              "      <td>160.000000</td>\n",
              "      <td>2016.0</td>\n",
              "      <td>10.000000</td>\n",
              "      <td>41.000000</td>\n",
              "      <td>24.000000</td>\n",
              "      <td>2.000000</td>\n",
              "      <td>3.000000</td>\n",
              "      <td>2.000000</td>\n",
              "      <td>...</td>\n",
              "      <td>134.000000</td>\n",
              "      <td>-1.000000</td>\n",
              "      <td>0.000000</td>\n",
              "      <td>2.000000</td>\n",
              "      <td>120.000000</td>\n",
              "      <td>0.000000</td>\n",
              "      <td>1.000000</td>\n",
              "      <td>2.000000</td>\n",
              "      <td>0.000000</td>\n",
              "      <td>0.000000</td>\n",
              "    </tr>\n",
              "    <tr>\n",
              "      <th>max</th>\n",
              "      <td>1.000000</td>\n",
              "      <td>1.000000</td>\n",
              "      <td>709.000000</td>\n",
              "      <td>2016.0</td>\n",
              "      <td>12.000000</td>\n",
              "      <td>53.000000</td>\n",
              "      <td>31.000000</td>\n",
              "      <td>19.000000</td>\n",
              "      <td>50.000000</td>\n",
              "      <td>4.000000</td>\n",
              "      <td>...</td>\n",
              "      <td>481.000000</td>\n",
              "      <td>499.000000</td>\n",
              "      <td>391.000000</td>\n",
              "      <td>3.000000</td>\n",
              "      <td>5400.000000</td>\n",
              "      <td>3.000000</td>\n",
              "      <td>5.000000</td>\n",
              "      <td>12.000000</td>\n",
              "      <td>10.000000</td>\n",
              "      <td>64.000000</td>\n",
              "    </tr>\n",
              "  </tbody>\n",
              "</table>\n",
              "<p>8 rows × 33 columns</p>\n",
              "</div>\n",
              "    <div class=\"colab-df-buttons\">\n",
              "\n",
              "  <div class=\"colab-df-container\">\n",
              "    <button class=\"colab-df-convert\" onclick=\"convertToInteractive('df-65c71533-0429-4b92-a30d-e2b23b971252')\"\n",
              "            title=\"Convert this dataframe to an interactive table.\"\n",
              "            style=\"display:none;\">\n",
              "\n",
              "  <svg xmlns=\"http://www.w3.org/2000/svg\" height=\"24px\" viewBox=\"0 -960 960 960\">\n",
              "    <path d=\"M120-120v-720h720v720H120Zm60-500h600v-160H180v160Zm220 220h160v-160H400v160Zm0 220h160v-160H400v160ZM180-400h160v-160H180v160Zm440 0h160v-160H620v160ZM180-180h160v-160H180v160Zm440 0h160v-160H620v160Z\"/>\n",
              "  </svg>\n",
              "    </button>\n",
              "\n",
              "  <style>\n",
              "    .colab-df-container {\n",
              "      display:flex;\n",
              "      gap: 12px;\n",
              "    }\n",
              "\n",
              "    .colab-df-convert {\n",
              "      background-color: #E8F0FE;\n",
              "      border: none;\n",
              "      border-radius: 50%;\n",
              "      cursor: pointer;\n",
              "      display: none;\n",
              "      fill: #1967D2;\n",
              "      height: 32px;\n",
              "      padding: 0 0 0 0;\n",
              "      width: 32px;\n",
              "    }\n",
              "\n",
              "    .colab-df-convert:hover {\n",
              "      background-color: #E2EBFA;\n",
              "      box-shadow: 0px 1px 2px rgba(60, 64, 67, 0.3), 0px 1px 3px 1px rgba(60, 64, 67, 0.15);\n",
              "      fill: #174EA6;\n",
              "    }\n",
              "\n",
              "    .colab-df-buttons div {\n",
              "      margin-bottom: 4px;\n",
              "    }\n",
              "\n",
              "    [theme=dark] .colab-df-convert {\n",
              "      background-color: #3B4455;\n",
              "      fill: #D2E3FC;\n",
              "    }\n",
              "\n",
              "    [theme=dark] .colab-df-convert:hover {\n",
              "      background-color: #434B5C;\n",
              "      box-shadow: 0px 1px 3px 1px rgba(0, 0, 0, 0.15);\n",
              "      filter: drop-shadow(0px 1px 2px rgba(0, 0, 0, 0.3));\n",
              "      fill: #FFFFFF;\n",
              "    }\n",
              "  </style>\n",
              "\n",
              "    <script>\n",
              "      const buttonEl =\n",
              "        document.querySelector('#df-65c71533-0429-4b92-a30d-e2b23b971252 button.colab-df-convert');\n",
              "      buttonEl.style.display =\n",
              "        google.colab.kernel.accessAllowed ? 'block' : 'none';\n",
              "\n",
              "      async function convertToInteractive(key) {\n",
              "        const element = document.querySelector('#df-65c71533-0429-4b92-a30d-e2b23b971252');\n",
              "        const dataTable =\n",
              "          await google.colab.kernel.invokeFunction('convertToInteractive',\n",
              "                                                    [key], {});\n",
              "        if (!dataTable) return;\n",
              "\n",
              "        const docLinkHtml = 'Like what you see? Visit the ' +\n",
              "          '<a target=\"_blank\" href=https://colab.research.google.com/notebooks/data_table.ipynb>data table notebook</a>'\n",
              "          + ' to learn more about interactive tables.';\n",
              "        element.innerHTML = '';\n",
              "        dataTable['output_type'] = 'display_data';\n",
              "        await google.colab.output.renderOutput(dataTable, element);\n",
              "        const docLink = document.createElement('div');\n",
              "        docLink.innerHTML = docLinkHtml;\n",
              "        element.appendChild(docLink);\n",
              "      }\n",
              "    </script>\n",
              "  </div>\n",
              "\n",
              "\n",
              "<div id=\"df-6e15d786-692f-4657-87ac-dae9d176b0d8\">\n",
              "  <button class=\"colab-df-quickchart\" onclick=\"quickchart('df-6e15d786-692f-4657-87ac-dae9d176b0d8')\"\n",
              "            title=\"Suggest charts\"\n",
              "            style=\"display:none;\">\n",
              "\n",
              "<svg xmlns=\"http://www.w3.org/2000/svg\" height=\"24px\"viewBox=\"0 0 24 24\"\n",
              "     width=\"24px\">\n",
              "    <g>\n",
              "        <path d=\"M19 3H5c-1.1 0-2 .9-2 2v14c0 1.1.9 2 2 2h14c1.1 0 2-.9 2-2V5c0-1.1-.9-2-2-2zM9 17H7v-7h2v7zm4 0h-2V7h2v10zm4 0h-2v-4h2v4z\"/>\n",
              "    </g>\n",
              "</svg>\n",
              "  </button>\n",
              "\n",
              "<style>\n",
              "  .colab-df-quickchart {\n",
              "      --bg-color: #E8F0FE;\n",
              "      --fill-color: #1967D2;\n",
              "      --hover-bg-color: #E2EBFA;\n",
              "      --hover-fill-color: #174EA6;\n",
              "      --disabled-fill-color: #AAA;\n",
              "      --disabled-bg-color: #DDD;\n",
              "  }\n",
              "\n",
              "  [theme=dark] .colab-df-quickchart {\n",
              "      --bg-color: #3B4455;\n",
              "      --fill-color: #D2E3FC;\n",
              "      --hover-bg-color: #434B5C;\n",
              "      --hover-fill-color: #FFFFFF;\n",
              "      --disabled-bg-color: #3B4455;\n",
              "      --disabled-fill-color: #666;\n",
              "  }\n",
              "\n",
              "  .colab-df-quickchart {\n",
              "    background-color: var(--bg-color);\n",
              "    border: none;\n",
              "    border-radius: 50%;\n",
              "    cursor: pointer;\n",
              "    display: none;\n",
              "    fill: var(--fill-color);\n",
              "    height: 32px;\n",
              "    padding: 0;\n",
              "    width: 32px;\n",
              "  }\n",
              "\n",
              "  .colab-df-quickchart:hover {\n",
              "    background-color: var(--hover-bg-color);\n",
              "    box-shadow: 0 1px 2px rgba(60, 64, 67, 0.3), 0 1px 3px 1px rgba(60, 64, 67, 0.15);\n",
              "    fill: var(--button-hover-fill-color);\n",
              "  }\n",
              "\n",
              "  .colab-df-quickchart-complete:disabled,\n",
              "  .colab-df-quickchart-complete:disabled:hover {\n",
              "    background-color: var(--disabled-bg-color);\n",
              "    fill: var(--disabled-fill-color);\n",
              "    box-shadow: none;\n",
              "  }\n",
              "\n",
              "  .colab-df-spinner {\n",
              "    border: 2px solid var(--fill-color);\n",
              "    border-color: transparent;\n",
              "    border-bottom-color: var(--fill-color);\n",
              "    animation:\n",
              "      spin 1s steps(1) infinite;\n",
              "  }\n",
              "\n",
              "  @keyframes spin {\n",
              "    0% {\n",
              "      border-color: transparent;\n",
              "      border-bottom-color: var(--fill-color);\n",
              "      border-left-color: var(--fill-color);\n",
              "    }\n",
              "    20% {\n",
              "      border-color: transparent;\n",
              "      border-left-color: var(--fill-color);\n",
              "      border-top-color: var(--fill-color);\n",
              "    }\n",
              "    30% {\n",
              "      border-color: transparent;\n",
              "      border-left-color: var(--fill-color);\n",
              "      border-top-color: var(--fill-color);\n",
              "      border-right-color: var(--fill-color);\n",
              "    }\n",
              "    40% {\n",
              "      border-color: transparent;\n",
              "      border-right-color: var(--fill-color);\n",
              "      border-top-color: var(--fill-color);\n",
              "    }\n",
              "    60% {\n",
              "      border-color: transparent;\n",
              "      border-right-color: var(--fill-color);\n",
              "    }\n",
              "    80% {\n",
              "      border-color: transparent;\n",
              "      border-right-color: var(--fill-color);\n",
              "      border-bottom-color: var(--fill-color);\n",
              "    }\n",
              "    90% {\n",
              "      border-color: transparent;\n",
              "      border-bottom-color: var(--fill-color);\n",
              "    }\n",
              "  }\n",
              "</style>\n",
              "\n",
              "  <script>\n",
              "    async function quickchart(key) {\n",
              "      const quickchartButtonEl =\n",
              "        document.querySelector('#' + key + ' button');\n",
              "      quickchartButtonEl.disabled = true;  // To prevent multiple clicks.\n",
              "      quickchartButtonEl.classList.add('colab-df-spinner');\n",
              "      try {\n",
              "        const charts = await google.colab.kernel.invokeFunction(\n",
              "            'suggestCharts', [key], {});\n",
              "      } catch (error) {\n",
              "        console.error('Error during call to suggestCharts:', error);\n",
              "      }\n",
              "      quickchartButtonEl.classList.remove('colab-df-spinner');\n",
              "      quickchartButtonEl.classList.add('colab-df-quickchart-complete');\n",
              "    }\n",
              "    (() => {\n",
              "      let quickchartButtonEl =\n",
              "        document.querySelector('#df-6e15d786-692f-4657-87ac-dae9d176b0d8 button');\n",
              "      quickchartButtonEl.style.display =\n",
              "        google.colab.kernel.accessAllowed ? 'block' : 'none';\n",
              "    })();\n",
              "  </script>\n",
              "</div>\n",
              "    </div>\n",
              "  </div>\n"
            ]
          },
          "metadata": {},
          "execution_count": 144
        }
      ]
    },
    {
      "cell_type": "code",
      "source": [
        "print(test.isnull().sum())\n",
        "print(train.isnull().sum())"
      ],
      "metadata": {
        "id": "Laxb6_35PDNI",
        "outputId": "72489816-5f52-4f9f-f004-b45b28775341",
        "colab": {
          "base_uri": "https://localhost:8080/"
        }
      },
      "execution_count": 145,
      "outputs": [
        {
          "output_type": "stream",
          "name": "stdout",
          "text": [
            "hotel                             0\n",
            "is_canceled                       0\n",
            "lead_time                         0\n",
            "arrival_date_year                 0\n",
            "arrival_date_month                0\n",
            "arrival_date_week_number          0\n",
            "arrival_date_day_of_month         0\n",
            "stays_in_weekend_nights           0\n",
            "stays_in_week_nights              0\n",
            "adults                            0\n",
            "children                          0\n",
            "babies                            0\n",
            "meal                              0\n",
            "country                           0\n",
            "market_segment                    0\n",
            "distribution_channel              0\n",
            "is_repeated_guest                 0\n",
            "previous_cancellations            0\n",
            "previous_bookings_not_canceled    0\n",
            "reserved_room_type                0\n",
            "assigned_room_type                0\n",
            "booking_changes                   0\n",
            "deposit_type                      0\n",
            "agent                             0\n",
            "company                           0\n",
            "days_in_waiting_list              0\n",
            "customer_type                     0\n",
            "adr                               0\n",
            "required_car_parking_spaces       0\n",
            "total_of_special_requests         0\n",
            "persone                           0\n",
            "colonna_bambini                   0\n",
            "prenotazioni_precedenti           0\n",
            "dtype: int64\n",
            "hotel                             0\n",
            "is_canceled                       0\n",
            "lead_time                         0\n",
            "arrival_date_year                 0\n",
            "arrival_date_month                0\n",
            "arrival_date_week_number          0\n",
            "arrival_date_day_of_month         0\n",
            "stays_in_weekend_nights           0\n",
            "stays_in_week_nights              0\n",
            "adults                            0\n",
            "children                          0\n",
            "babies                            0\n",
            "meal                              0\n",
            "country                           0\n",
            "market_segment                    0\n",
            "distribution_channel              0\n",
            "is_repeated_guest                 0\n",
            "previous_cancellations            0\n",
            "previous_bookings_not_canceled    0\n",
            "reserved_room_type                0\n",
            "assigned_room_type                0\n",
            "booking_changes                   0\n",
            "deposit_type                      0\n",
            "agent                             0\n",
            "company                           0\n",
            "days_in_waiting_list              0\n",
            "customer_type                     0\n",
            "adr                               0\n",
            "required_car_parking_spaces       0\n",
            "total_of_special_requests         0\n",
            "persone                           0\n",
            "colonna_bambini                   0\n",
            "prenotazioni_precedenti           0\n",
            "dtype: int64\n"
          ]
        }
      ]
    }
  ]
}