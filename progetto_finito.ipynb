{
  "nbformat": 4,
  "nbformat_minor": 0,
  "metadata": {
    "colab": {
      "provenance": []
    },
    "kernelspec": {
      "name": "python3",
      "display_name": "Python 3"
    },
    "language_info": {
      "name": "python"
    }
  },
  "cells": [
    {
      "cell_type": "markdown",
      "source": [
        "Progetto laboratorio di programmazione. Gruppo: Nicolò Cioni, Rossano Gilioli e Salvatore Russo. Dataset scelto : dataset n 1"
      ],
      "metadata": {
        "id": "DuZebNFjdhPV"
      }
    },
    {
      "cell_type": "markdown",
      "source": [
        "Preparazione dell'ambiente"
      ],
      "metadata": {
        "id": "Vo3O2pD1Xg-0"
      }
    },
    {
      "cell_type": "code",
      "execution_count": 1,
      "metadata": {
        "id": "Iu5uvsGbHgtA"
      },
      "outputs": [],
      "source": [
        "import pandas as pd\n",
        "import numpy as np\n",
        "import seaborn as sns\n",
        "import matplotlib.pyplot as plt\n",
        "from sklearn import svm, tree\n",
        "from sklearn.metrics import *\n",
        "test= pd.read_csv(\"/content/sample_data/1.test_convertito_numerici.csv\", sep=\",\")\n",
        "test_non = pd.read_csv(\"/content/sample_data/1.test_non_convertito.csv\", sep=\",\")\n",
        "train_non = pd.read_csv(\"/content/sample_data/1.train_non_convertito.csv\", sep=\",\")\n",
        "train = pd.read_csv(\"/content/sample_data/1.train_convertito_numerici.csv\", sep=\",\")"
      ]
    },
    {
      "cell_type": "markdown",
      "source": [
        "# **Fase 1: descrizione e prima analisi del dataset**"
      ],
      "metadata": {
        "id": "1IbBdyK1Xlig"
      }
    },
    {
      "cell_type": "markdown",
      "source": [
        "# **Domanda** **n.1.1**:\n",
        "\n",
        "---\n",
        "\n",
        "\n",
        "\n",
        " Come si presentano inizialmente i dataset? Quanti casi prensentano? Quante\n",
        "variabili? Sono presenti valori nulli? Come sono divise le variabili (numeriche/categoriche/temporali). Qual è la media generale delle cancellazioni?"
      ],
      "metadata": {
        "id": "1fwEgseWNH82"
      }
    },
    {
      "cell_type": "code",
      "source": [
        "print(\"Train dataset info:\")\n",
        "train.describe()"
      ],
      "metadata": {
        "id": "4isnIM9XXomq",
        "outputId": "d7a826ff-2881-4571-c7b6-8db02b87eb8e",
        "colab": {
          "base_uri": "https://localhost:8080/",
          "height": 0
        }
      },
      "execution_count": 2,
      "outputs": [
        {
          "output_type": "stream",
          "name": "stdout",
          "text": [
            "Train dataset info:\n"
          ]
        },
        {
          "output_type": "execute_result",
          "data": {
            "text/plain": [
              "              hotel   is_canceled     lead_time  arrival_date_year  \\\n",
              "count  56707.000000  56707.000000  56707.000000            56707.0   \n",
              "mean       0.327420      0.358633    102.870369             2016.0   \n",
              "std        0.469276      0.479603    106.582358                0.0   \n",
              "min        0.000000      0.000000      0.000000             2016.0   \n",
              "25%        0.000000      0.000000     17.000000             2016.0   \n",
              "50%        0.000000      0.000000     68.000000             2016.0   \n",
              "75%        1.000000      1.000000    160.000000             2016.0   \n",
              "max        1.000000      1.000000    709.000000             2016.0   \n",
              "\n",
              "       arrival_date_month  arrival_date_week_number  \\\n",
              "count        56707.000000              56707.000000   \n",
              "mean             6.767313                 28.458162   \n",
              "std              3.194300                 13.925493   \n",
              "min              1.000000                  1.000000   \n",
              "25%              4.000000                 17.000000   \n",
              "50%              7.000000                 28.000000   \n",
              "75%             10.000000                 41.000000   \n",
              "max             12.000000                 53.000000   \n",
              "\n",
              "       arrival_date_day_of_month  stays_in_weekend_nights  \\\n",
              "count               56707.000000             56707.000000   \n",
              "mean                   15.911104                 0.893981   \n",
              "std                     8.784897                 0.983110   \n",
              "min                     1.000000                 0.000000   \n",
              "25%                     8.000000                 0.000000   \n",
              "50%                    16.000000                 1.000000   \n",
              "75%                    24.000000                 2.000000   \n",
              "max                    31.000000                19.000000   \n",
              "\n",
              "       stays_in_week_nights        adults  ...  assigned_room_type  \\\n",
              "count          56707.000000  56707.000000  ...        56707.000000   \n",
              "mean               2.442802      1.850988  ...            1.349075   \n",
              "std                1.863548      0.498133  ...            1.887103   \n",
              "min                0.000000      0.000000  ...            0.000000   \n",
              "25%                1.000000      2.000000  ...            0.000000   \n",
              "50%                2.000000      2.000000  ...            0.000000   \n",
              "75%                3.000000      2.000000  ...            3.000000   \n",
              "max               50.000000      4.000000  ...           11.000000   \n",
              "\n",
              "       booking_changes  deposit_type         agent       company  \\\n",
              "count      56707.00000  56707.000000  56707.000000  56707.000000   \n",
              "mean           0.22484      0.124429     71.445095      8.487435   \n",
              "std            0.66649      0.337000    102.585427     47.550647   \n",
              "min            0.00000      0.000000     -1.000000     -1.000000   \n",
              "25%            0.00000      0.000000      7.000000     -1.000000   \n",
              "50%            0.00000      0.000000      9.000000     -1.000000   \n",
              "75%            0.00000      0.000000    134.000000     -1.000000   \n",
              "max           21.00000      2.000000    481.000000    499.000000   \n",
              "\n",
              "       days_in_waiting_list  customer_type           adr  \\\n",
              "count          56707.000000   56707.000000  56707.000000   \n",
              "mean               3.833865       2.171302     98.325863   \n",
              "std               23.785668       0.477327     49.955696   \n",
              "min                0.000000       0.000000      0.000000   \n",
              "25%                0.000000       2.000000     68.530000   \n",
              "50%                0.000000       2.000000     90.950000   \n",
              "75%                0.000000       2.000000    120.000000   \n",
              "max              391.000000       3.000000   5400.000000   \n",
              "\n",
              "       required_car_parking_spaces  total_of_special_requests  \n",
              "count                 56707.000000               56707.000000  \n",
              "mean                      0.068334                   0.548645  \n",
              "std                       0.253296                   0.761173  \n",
              "min                       0.000000                   0.000000  \n",
              "25%                       0.000000                   0.000000  \n",
              "50%                       0.000000                   0.000000  \n",
              "75%                       0.000000                   1.000000  \n",
              "max                       3.000000                   5.000000  \n",
              "\n",
              "[8 rows x 30 columns]"
            ],
            "text/html": [
              "\n",
              "  <div id=\"df-ecc1a64a-b1b3-4afb-9dad-c560024aa452\" class=\"colab-df-container\">\n",
              "    <div>\n",
              "<style scoped>\n",
              "    .dataframe tbody tr th:only-of-type {\n",
              "        vertical-align: middle;\n",
              "    }\n",
              "\n",
              "    .dataframe tbody tr th {\n",
              "        vertical-align: top;\n",
              "    }\n",
              "\n",
              "    .dataframe thead th {\n",
              "        text-align: right;\n",
              "    }\n",
              "</style>\n",
              "<table border=\"1\" class=\"dataframe\">\n",
              "  <thead>\n",
              "    <tr style=\"text-align: right;\">\n",
              "      <th></th>\n",
              "      <th>hotel</th>\n",
              "      <th>is_canceled</th>\n",
              "      <th>lead_time</th>\n",
              "      <th>arrival_date_year</th>\n",
              "      <th>arrival_date_month</th>\n",
              "      <th>arrival_date_week_number</th>\n",
              "      <th>arrival_date_day_of_month</th>\n",
              "      <th>stays_in_weekend_nights</th>\n",
              "      <th>stays_in_week_nights</th>\n",
              "      <th>adults</th>\n",
              "      <th>...</th>\n",
              "      <th>assigned_room_type</th>\n",
              "      <th>booking_changes</th>\n",
              "      <th>deposit_type</th>\n",
              "      <th>agent</th>\n",
              "      <th>company</th>\n",
              "      <th>days_in_waiting_list</th>\n",
              "      <th>customer_type</th>\n",
              "      <th>adr</th>\n",
              "      <th>required_car_parking_spaces</th>\n",
              "      <th>total_of_special_requests</th>\n",
              "    </tr>\n",
              "  </thead>\n",
              "  <tbody>\n",
              "    <tr>\n",
              "      <th>count</th>\n",
              "      <td>56707.000000</td>\n",
              "      <td>56707.000000</td>\n",
              "      <td>56707.000000</td>\n",
              "      <td>56707.0</td>\n",
              "      <td>56707.000000</td>\n",
              "      <td>56707.000000</td>\n",
              "      <td>56707.000000</td>\n",
              "      <td>56707.000000</td>\n",
              "      <td>56707.000000</td>\n",
              "      <td>56707.000000</td>\n",
              "      <td>...</td>\n",
              "      <td>56707.000000</td>\n",
              "      <td>56707.00000</td>\n",
              "      <td>56707.000000</td>\n",
              "      <td>56707.000000</td>\n",
              "      <td>56707.000000</td>\n",
              "      <td>56707.000000</td>\n",
              "      <td>56707.000000</td>\n",
              "      <td>56707.000000</td>\n",
              "      <td>56707.000000</td>\n",
              "      <td>56707.000000</td>\n",
              "    </tr>\n",
              "    <tr>\n",
              "      <th>mean</th>\n",
              "      <td>0.327420</td>\n",
              "      <td>0.358633</td>\n",
              "      <td>102.870369</td>\n",
              "      <td>2016.0</td>\n",
              "      <td>6.767313</td>\n",
              "      <td>28.458162</td>\n",
              "      <td>15.911104</td>\n",
              "      <td>0.893981</td>\n",
              "      <td>2.442802</td>\n",
              "      <td>1.850988</td>\n",
              "      <td>...</td>\n",
              "      <td>1.349075</td>\n",
              "      <td>0.22484</td>\n",
              "      <td>0.124429</td>\n",
              "      <td>71.445095</td>\n",
              "      <td>8.487435</td>\n",
              "      <td>3.833865</td>\n",
              "      <td>2.171302</td>\n",
              "      <td>98.325863</td>\n",
              "      <td>0.068334</td>\n",
              "      <td>0.548645</td>\n",
              "    </tr>\n",
              "    <tr>\n",
              "      <th>std</th>\n",
              "      <td>0.469276</td>\n",
              "      <td>0.479603</td>\n",
              "      <td>106.582358</td>\n",
              "      <td>0.0</td>\n",
              "      <td>3.194300</td>\n",
              "      <td>13.925493</td>\n",
              "      <td>8.784897</td>\n",
              "      <td>0.983110</td>\n",
              "      <td>1.863548</td>\n",
              "      <td>0.498133</td>\n",
              "      <td>...</td>\n",
              "      <td>1.887103</td>\n",
              "      <td>0.66649</td>\n",
              "      <td>0.337000</td>\n",
              "      <td>102.585427</td>\n",
              "      <td>47.550647</td>\n",
              "      <td>23.785668</td>\n",
              "      <td>0.477327</td>\n",
              "      <td>49.955696</td>\n",
              "      <td>0.253296</td>\n",
              "      <td>0.761173</td>\n",
              "    </tr>\n",
              "    <tr>\n",
              "      <th>min</th>\n",
              "      <td>0.000000</td>\n",
              "      <td>0.000000</td>\n",
              "      <td>0.000000</td>\n",
              "      <td>2016.0</td>\n",
              "      <td>1.000000</td>\n",
              "      <td>1.000000</td>\n",
              "      <td>1.000000</td>\n",
              "      <td>0.000000</td>\n",
              "      <td>0.000000</td>\n",
              "      <td>0.000000</td>\n",
              "      <td>...</td>\n",
              "      <td>0.000000</td>\n",
              "      <td>0.00000</td>\n",
              "      <td>0.000000</td>\n",
              "      <td>-1.000000</td>\n",
              "      <td>-1.000000</td>\n",
              "      <td>0.000000</td>\n",
              "      <td>0.000000</td>\n",
              "      <td>0.000000</td>\n",
              "      <td>0.000000</td>\n",
              "      <td>0.000000</td>\n",
              "    </tr>\n",
              "    <tr>\n",
              "      <th>25%</th>\n",
              "      <td>0.000000</td>\n",
              "      <td>0.000000</td>\n",
              "      <td>17.000000</td>\n",
              "      <td>2016.0</td>\n",
              "      <td>4.000000</td>\n",
              "      <td>17.000000</td>\n",
              "      <td>8.000000</td>\n",
              "      <td>0.000000</td>\n",
              "      <td>1.000000</td>\n",
              "      <td>2.000000</td>\n",
              "      <td>...</td>\n",
              "      <td>0.000000</td>\n",
              "      <td>0.00000</td>\n",
              "      <td>0.000000</td>\n",
              "      <td>7.000000</td>\n",
              "      <td>-1.000000</td>\n",
              "      <td>0.000000</td>\n",
              "      <td>2.000000</td>\n",
              "      <td>68.530000</td>\n",
              "      <td>0.000000</td>\n",
              "      <td>0.000000</td>\n",
              "    </tr>\n",
              "    <tr>\n",
              "      <th>50%</th>\n",
              "      <td>0.000000</td>\n",
              "      <td>0.000000</td>\n",
              "      <td>68.000000</td>\n",
              "      <td>2016.0</td>\n",
              "      <td>7.000000</td>\n",
              "      <td>28.000000</td>\n",
              "      <td>16.000000</td>\n",
              "      <td>1.000000</td>\n",
              "      <td>2.000000</td>\n",
              "      <td>2.000000</td>\n",
              "      <td>...</td>\n",
              "      <td>0.000000</td>\n",
              "      <td>0.00000</td>\n",
              "      <td>0.000000</td>\n",
              "      <td>9.000000</td>\n",
              "      <td>-1.000000</td>\n",
              "      <td>0.000000</td>\n",
              "      <td>2.000000</td>\n",
              "      <td>90.950000</td>\n",
              "      <td>0.000000</td>\n",
              "      <td>0.000000</td>\n",
              "    </tr>\n",
              "    <tr>\n",
              "      <th>75%</th>\n",
              "      <td>1.000000</td>\n",
              "      <td>1.000000</td>\n",
              "      <td>160.000000</td>\n",
              "      <td>2016.0</td>\n",
              "      <td>10.000000</td>\n",
              "      <td>41.000000</td>\n",
              "      <td>24.000000</td>\n",
              "      <td>2.000000</td>\n",
              "      <td>3.000000</td>\n",
              "      <td>2.000000</td>\n",
              "      <td>...</td>\n",
              "      <td>3.000000</td>\n",
              "      <td>0.00000</td>\n",
              "      <td>0.000000</td>\n",
              "      <td>134.000000</td>\n",
              "      <td>-1.000000</td>\n",
              "      <td>0.000000</td>\n",
              "      <td>2.000000</td>\n",
              "      <td>120.000000</td>\n",
              "      <td>0.000000</td>\n",
              "      <td>1.000000</td>\n",
              "    </tr>\n",
              "    <tr>\n",
              "      <th>max</th>\n",
              "      <td>1.000000</td>\n",
              "      <td>1.000000</td>\n",
              "      <td>709.000000</td>\n",
              "      <td>2016.0</td>\n",
              "      <td>12.000000</td>\n",
              "      <td>53.000000</td>\n",
              "      <td>31.000000</td>\n",
              "      <td>19.000000</td>\n",
              "      <td>50.000000</td>\n",
              "      <td>4.000000</td>\n",
              "      <td>...</td>\n",
              "      <td>11.000000</td>\n",
              "      <td>21.00000</td>\n",
              "      <td>2.000000</td>\n",
              "      <td>481.000000</td>\n",
              "      <td>499.000000</td>\n",
              "      <td>391.000000</td>\n",
              "      <td>3.000000</td>\n",
              "      <td>5400.000000</td>\n",
              "      <td>3.000000</td>\n",
              "      <td>5.000000</td>\n",
              "    </tr>\n",
              "  </tbody>\n",
              "</table>\n",
              "<p>8 rows × 30 columns</p>\n",
              "</div>\n",
              "    <div class=\"colab-df-buttons\">\n",
              "\n",
              "  <div class=\"colab-df-container\">\n",
              "    <button class=\"colab-df-convert\" onclick=\"convertToInteractive('df-ecc1a64a-b1b3-4afb-9dad-c560024aa452')\"\n",
              "            title=\"Convert this dataframe to an interactive table.\"\n",
              "            style=\"display:none;\">\n",
              "\n",
              "  <svg xmlns=\"http://www.w3.org/2000/svg\" height=\"24px\" viewBox=\"0 -960 960 960\">\n",
              "    <path d=\"M120-120v-720h720v720H120Zm60-500h600v-160H180v160Zm220 220h160v-160H400v160Zm0 220h160v-160H400v160ZM180-400h160v-160H180v160Zm440 0h160v-160H620v160ZM180-180h160v-160H180v160Zm440 0h160v-160H620v160Z\"/>\n",
              "  </svg>\n",
              "    </button>\n",
              "\n",
              "  <style>\n",
              "    .colab-df-container {\n",
              "      display:flex;\n",
              "      gap: 12px;\n",
              "    }\n",
              "\n",
              "    .colab-df-convert {\n",
              "      background-color: #E8F0FE;\n",
              "      border: none;\n",
              "      border-radius: 50%;\n",
              "      cursor: pointer;\n",
              "      display: none;\n",
              "      fill: #1967D2;\n",
              "      height: 32px;\n",
              "      padding: 0 0 0 0;\n",
              "      width: 32px;\n",
              "    }\n",
              "\n",
              "    .colab-df-convert:hover {\n",
              "      background-color: #E2EBFA;\n",
              "      box-shadow: 0px 1px 2px rgba(60, 64, 67, 0.3), 0px 1px 3px 1px rgba(60, 64, 67, 0.15);\n",
              "      fill: #174EA6;\n",
              "    }\n",
              "\n",
              "    .colab-df-buttons div {\n",
              "      margin-bottom: 4px;\n",
              "    }\n",
              "\n",
              "    [theme=dark] .colab-df-convert {\n",
              "      background-color: #3B4455;\n",
              "      fill: #D2E3FC;\n",
              "    }\n",
              "\n",
              "    [theme=dark] .colab-df-convert:hover {\n",
              "      background-color: #434B5C;\n",
              "      box-shadow: 0px 1px 3px 1px rgba(0, 0, 0, 0.15);\n",
              "      filter: drop-shadow(0px 1px 2px rgba(0, 0, 0, 0.3));\n",
              "      fill: #FFFFFF;\n",
              "    }\n",
              "  </style>\n",
              "\n",
              "    <script>\n",
              "      const buttonEl =\n",
              "        document.querySelector('#df-ecc1a64a-b1b3-4afb-9dad-c560024aa452 button.colab-df-convert');\n",
              "      buttonEl.style.display =\n",
              "        google.colab.kernel.accessAllowed ? 'block' : 'none';\n",
              "\n",
              "      async function convertToInteractive(key) {\n",
              "        const element = document.querySelector('#df-ecc1a64a-b1b3-4afb-9dad-c560024aa452');\n",
              "        const dataTable =\n",
              "          await google.colab.kernel.invokeFunction('convertToInteractive',\n",
              "                                                    [key], {});\n",
              "        if (!dataTable) return;\n",
              "\n",
              "        const docLinkHtml = 'Like what you see? Visit the ' +\n",
              "          '<a target=\"_blank\" href=https://colab.research.google.com/notebooks/data_table.ipynb>data table notebook</a>'\n",
              "          + ' to learn more about interactive tables.';\n",
              "        element.innerHTML = '';\n",
              "        dataTable['output_type'] = 'display_data';\n",
              "        await google.colab.output.renderOutput(dataTable, element);\n",
              "        const docLink = document.createElement('div');\n",
              "        docLink.innerHTML = docLinkHtml;\n",
              "        element.appendChild(docLink);\n",
              "      }\n",
              "    </script>\n",
              "  </div>\n",
              "\n",
              "\n",
              "<div id=\"df-70a70960-c75d-4655-9ad1-7ca51469db3f\">\n",
              "  <button class=\"colab-df-quickchart\" onclick=\"quickchart('df-70a70960-c75d-4655-9ad1-7ca51469db3f')\"\n",
              "            title=\"Suggest charts\"\n",
              "            style=\"display:none;\">\n",
              "\n",
              "<svg xmlns=\"http://www.w3.org/2000/svg\" height=\"24px\"viewBox=\"0 0 24 24\"\n",
              "     width=\"24px\">\n",
              "    <g>\n",
              "        <path d=\"M19 3H5c-1.1 0-2 .9-2 2v14c0 1.1.9 2 2 2h14c1.1 0 2-.9 2-2V5c0-1.1-.9-2-2-2zM9 17H7v-7h2v7zm4 0h-2V7h2v10zm4 0h-2v-4h2v4z\"/>\n",
              "    </g>\n",
              "</svg>\n",
              "  </button>\n",
              "\n",
              "<style>\n",
              "  .colab-df-quickchart {\n",
              "      --bg-color: #E8F0FE;\n",
              "      --fill-color: #1967D2;\n",
              "      --hover-bg-color: #E2EBFA;\n",
              "      --hover-fill-color: #174EA6;\n",
              "      --disabled-fill-color: #AAA;\n",
              "      --disabled-bg-color: #DDD;\n",
              "  }\n",
              "\n",
              "  [theme=dark] .colab-df-quickchart {\n",
              "      --bg-color: #3B4455;\n",
              "      --fill-color: #D2E3FC;\n",
              "      --hover-bg-color: #434B5C;\n",
              "      --hover-fill-color: #FFFFFF;\n",
              "      --disabled-bg-color: #3B4455;\n",
              "      --disabled-fill-color: #666;\n",
              "  }\n",
              "\n",
              "  .colab-df-quickchart {\n",
              "    background-color: var(--bg-color);\n",
              "    border: none;\n",
              "    border-radius: 50%;\n",
              "    cursor: pointer;\n",
              "    display: none;\n",
              "    fill: var(--fill-color);\n",
              "    height: 32px;\n",
              "    padding: 0;\n",
              "    width: 32px;\n",
              "  }\n",
              "\n",
              "  .colab-df-quickchart:hover {\n",
              "    background-color: var(--hover-bg-color);\n",
              "    box-shadow: 0 1px 2px rgba(60, 64, 67, 0.3), 0 1px 3px 1px rgba(60, 64, 67, 0.15);\n",
              "    fill: var(--button-hover-fill-color);\n",
              "  }\n",
              "\n",
              "  .colab-df-quickchart-complete:disabled,\n",
              "  .colab-df-quickchart-complete:disabled:hover {\n",
              "    background-color: var(--disabled-bg-color);\n",
              "    fill: var(--disabled-fill-color);\n",
              "    box-shadow: none;\n",
              "  }\n",
              "\n",
              "  .colab-df-spinner {\n",
              "    border: 2px solid var(--fill-color);\n",
              "    border-color: transparent;\n",
              "    border-bottom-color: var(--fill-color);\n",
              "    animation:\n",
              "      spin 1s steps(1) infinite;\n",
              "  }\n",
              "\n",
              "  @keyframes spin {\n",
              "    0% {\n",
              "      border-color: transparent;\n",
              "      border-bottom-color: var(--fill-color);\n",
              "      border-left-color: var(--fill-color);\n",
              "    }\n",
              "    20% {\n",
              "      border-color: transparent;\n",
              "      border-left-color: var(--fill-color);\n",
              "      border-top-color: var(--fill-color);\n",
              "    }\n",
              "    30% {\n",
              "      border-color: transparent;\n",
              "      border-left-color: var(--fill-color);\n",
              "      border-top-color: var(--fill-color);\n",
              "      border-right-color: var(--fill-color);\n",
              "    }\n",
              "    40% {\n",
              "      border-color: transparent;\n",
              "      border-right-color: var(--fill-color);\n",
              "      border-top-color: var(--fill-color);\n",
              "    }\n",
              "    60% {\n",
              "      border-color: transparent;\n",
              "      border-right-color: var(--fill-color);\n",
              "    }\n",
              "    80% {\n",
              "      border-color: transparent;\n",
              "      border-right-color: var(--fill-color);\n",
              "      border-bottom-color: var(--fill-color);\n",
              "    }\n",
              "    90% {\n",
              "      border-color: transparent;\n",
              "      border-bottom-color: var(--fill-color);\n",
              "    }\n",
              "  }\n",
              "</style>\n",
              "\n",
              "  <script>\n",
              "    async function quickchart(key) {\n",
              "      const quickchartButtonEl =\n",
              "        document.querySelector('#' + key + ' button');\n",
              "      quickchartButtonEl.disabled = true;  // To prevent multiple clicks.\n",
              "      quickchartButtonEl.classList.add('colab-df-spinner');\n",
              "      try {\n",
              "        const charts = await google.colab.kernel.invokeFunction(\n",
              "            'suggestCharts', [key], {});\n",
              "      } catch (error) {\n",
              "        console.error('Error during call to suggestCharts:', error);\n",
              "      }\n",
              "      quickchartButtonEl.classList.remove('colab-df-spinner');\n",
              "      quickchartButtonEl.classList.add('colab-df-quickchart-complete');\n",
              "    }\n",
              "    (() => {\n",
              "      let quickchartButtonEl =\n",
              "        document.querySelector('#df-70a70960-c75d-4655-9ad1-7ca51469db3f button');\n",
              "      quickchartButtonEl.style.display =\n",
              "        google.colab.kernel.accessAllowed ? 'block' : 'none';\n",
              "    })();\n",
              "  </script>\n",
              "</div>\n",
              "    </div>\n",
              "  </div>\n"
            ]
          },
          "metadata": {},
          "execution_count": 2
        }
      ]
    },
    {
      "cell_type": "code",
      "source": [
        "print(\"Test dataset info:\")\n",
        "test.describe()"
      ],
      "metadata": {
        "id": "XtXRDSjFX_Am",
        "outputId": "9b5566fd-c42e-4a56-d426-aaec808493fc",
        "colab": {
          "base_uri": "https://localhost:8080/",
          "height": 0
        }
      },
      "execution_count": 3,
      "outputs": [
        {
          "output_type": "stream",
          "name": "stdout",
          "text": [
            "Test dataset info:\n"
          ]
        },
        {
          "output_type": "execute_result",
          "data": {
            "text/plain": [
              "              hotel   is_canceled     lead_time  arrival_date_year  \\\n",
              "count  40687.000000  40687.000000  40687.000000            40687.0   \n",
              "mean       0.323912      0.386979    109.259223             2017.0   \n",
              "std        0.467973      0.487065    107.940953                0.0   \n",
              "min        0.000000      0.000000      0.000000             2017.0   \n",
              "25%        0.000000      0.000000     23.000000             2017.0   \n",
              "50%        0.000000      0.000000     80.000000             2017.0   \n",
              "75%        1.000000      1.000000    164.500000             2017.0   \n",
              "max        1.000000      1.000000    629.000000             2017.0   \n",
              "\n",
              "       arrival_date_month  arrival_date_week_number  \\\n",
              "count        40687.000000              40687.000000   \n",
              "mean             4.709784                 18.630373   \n",
              "std              2.160014                  9.422475   \n",
              "min              1.000000                  1.000000   \n",
              "25%              3.000000                 11.000000   \n",
              "50%              5.000000                 19.000000   \n",
              "75%              7.000000                 26.000000   \n",
              "max              8.000000                 35.000000   \n",
              "\n",
              "       arrival_date_day_of_month  stays_in_weekend_nights  \\\n",
              "count               40687.000000             40687.000000   \n",
              "mean                   15.717576                 0.973308   \n",
              "std                     8.789609                 1.014337   \n",
              "min                     1.000000                 0.000000   \n",
              "25%                     8.000000                 0.000000   \n",
              "50%                    16.000000                 1.000000   \n",
              "75%                    23.000000                 2.000000   \n",
              "max                    31.000000                16.000000   \n",
              "\n",
              "       stays_in_week_nights        adults  ...  assigned_room_type  \\\n",
              "count          40687.000000  40687.000000  ...        40687.000000   \n",
              "mean               2.601543      1.877995  ...            1.386168   \n",
              "std                1.973291      0.496172  ...            1.907991   \n",
              "min                0.000000      0.000000  ...            0.000000   \n",
              "25%                1.000000      2.000000  ...            0.000000   \n",
              "50%                2.000000      2.000000  ...            0.000000   \n",
              "75%                3.000000      2.000000  ...            3.000000   \n",
              "max               40.000000      4.000000  ...           11.000000   \n",
              "\n",
              "       booking_changes  deposit_type         agent       company  \\\n",
              "count     40687.000000  40687.000000  40687.000000  40687.000000   \n",
              "mean          0.239438      0.102736     83.233047     12.665544   \n",
              "std           0.683429      0.305795    116.963712     65.972486   \n",
              "min           0.000000      0.000000     -1.000000     -1.000000   \n",
              "25%           0.000000      0.000000      9.000000     -1.000000   \n",
              "50%           0.000000      0.000000      9.000000     -1.000000   \n",
              "75%           0.000000      0.000000    229.000000     -1.000000   \n",
              "max          18.000000      2.000000    535.000000    543.000000   \n",
              "\n",
              "       days_in_waiting_list  customer_type           adr  \\\n",
              "count          40687.000000   40687.000000  40687.000000   \n",
              "mean               0.235186       2.109961    114.637950   \n",
              "std                4.458834       0.454108     52.256304   \n",
              "min                0.000000       0.000000     -6.380000   \n",
              "25%                0.000000       2.000000     80.000000   \n",
              "50%                0.000000       2.000000    107.100000   \n",
              "75%                0.000000       2.000000    140.000000   \n",
              "max              223.000000       3.000000    510.000000   \n",
              "\n",
              "       required_car_parking_spaces  total_of_special_requests  \n",
              "count                 40687.000000               40687.000000  \n",
              "mean                      0.054981                   0.676506  \n",
              "std                       0.235894                   0.846531  \n",
              "min                       0.000000                   0.000000  \n",
              "25%                       0.000000                   0.000000  \n",
              "50%                       0.000000                   0.000000  \n",
              "75%                       0.000000                   1.000000  \n",
              "max                       8.000000                   5.000000  \n",
              "\n",
              "[8 rows x 30 columns]"
            ],
            "text/html": [
              "\n",
              "  <div id=\"df-32dd5f01-cdad-4f57-8dc5-c1237fceccb2\" class=\"colab-df-container\">\n",
              "    <div>\n",
              "<style scoped>\n",
              "    .dataframe tbody tr th:only-of-type {\n",
              "        vertical-align: middle;\n",
              "    }\n",
              "\n",
              "    .dataframe tbody tr th {\n",
              "        vertical-align: top;\n",
              "    }\n",
              "\n",
              "    .dataframe thead th {\n",
              "        text-align: right;\n",
              "    }\n",
              "</style>\n",
              "<table border=\"1\" class=\"dataframe\">\n",
              "  <thead>\n",
              "    <tr style=\"text-align: right;\">\n",
              "      <th></th>\n",
              "      <th>hotel</th>\n",
              "      <th>is_canceled</th>\n",
              "      <th>lead_time</th>\n",
              "      <th>arrival_date_year</th>\n",
              "      <th>arrival_date_month</th>\n",
              "      <th>arrival_date_week_number</th>\n",
              "      <th>arrival_date_day_of_month</th>\n",
              "      <th>stays_in_weekend_nights</th>\n",
              "      <th>stays_in_week_nights</th>\n",
              "      <th>adults</th>\n",
              "      <th>...</th>\n",
              "      <th>assigned_room_type</th>\n",
              "      <th>booking_changes</th>\n",
              "      <th>deposit_type</th>\n",
              "      <th>agent</th>\n",
              "      <th>company</th>\n",
              "      <th>days_in_waiting_list</th>\n",
              "      <th>customer_type</th>\n",
              "      <th>adr</th>\n",
              "      <th>required_car_parking_spaces</th>\n",
              "      <th>total_of_special_requests</th>\n",
              "    </tr>\n",
              "  </thead>\n",
              "  <tbody>\n",
              "    <tr>\n",
              "      <th>count</th>\n",
              "      <td>40687.000000</td>\n",
              "      <td>40687.000000</td>\n",
              "      <td>40687.000000</td>\n",
              "      <td>40687.0</td>\n",
              "      <td>40687.000000</td>\n",
              "      <td>40687.000000</td>\n",
              "      <td>40687.000000</td>\n",
              "      <td>40687.000000</td>\n",
              "      <td>40687.000000</td>\n",
              "      <td>40687.000000</td>\n",
              "      <td>...</td>\n",
              "      <td>40687.000000</td>\n",
              "      <td>40687.000000</td>\n",
              "      <td>40687.000000</td>\n",
              "      <td>40687.000000</td>\n",
              "      <td>40687.000000</td>\n",
              "      <td>40687.000000</td>\n",
              "      <td>40687.000000</td>\n",
              "      <td>40687.000000</td>\n",
              "      <td>40687.000000</td>\n",
              "      <td>40687.000000</td>\n",
              "    </tr>\n",
              "    <tr>\n",
              "      <th>mean</th>\n",
              "      <td>0.323912</td>\n",
              "      <td>0.386979</td>\n",
              "      <td>109.259223</td>\n",
              "      <td>2017.0</td>\n",
              "      <td>4.709784</td>\n",
              "      <td>18.630373</td>\n",
              "      <td>15.717576</td>\n",
              "      <td>0.973308</td>\n",
              "      <td>2.601543</td>\n",
              "      <td>1.877995</td>\n",
              "      <td>...</td>\n",
              "      <td>1.386168</td>\n",
              "      <td>0.239438</td>\n",
              "      <td>0.102736</td>\n",
              "      <td>83.233047</td>\n",
              "      <td>12.665544</td>\n",
              "      <td>0.235186</td>\n",
              "      <td>2.109961</td>\n",
              "      <td>114.637950</td>\n",
              "      <td>0.054981</td>\n",
              "      <td>0.676506</td>\n",
              "    </tr>\n",
              "    <tr>\n",
              "      <th>std</th>\n",
              "      <td>0.467973</td>\n",
              "      <td>0.487065</td>\n",
              "      <td>107.940953</td>\n",
              "      <td>0.0</td>\n",
              "      <td>2.160014</td>\n",
              "      <td>9.422475</td>\n",
              "      <td>8.789609</td>\n",
              "      <td>1.014337</td>\n",
              "      <td>1.973291</td>\n",
              "      <td>0.496172</td>\n",
              "      <td>...</td>\n",
              "      <td>1.907991</td>\n",
              "      <td>0.683429</td>\n",
              "      <td>0.305795</td>\n",
              "      <td>116.963712</td>\n",
              "      <td>65.972486</td>\n",
              "      <td>4.458834</td>\n",
              "      <td>0.454108</td>\n",
              "      <td>52.256304</td>\n",
              "      <td>0.235894</td>\n",
              "      <td>0.846531</td>\n",
              "    </tr>\n",
              "    <tr>\n",
              "      <th>min</th>\n",
              "      <td>0.000000</td>\n",
              "      <td>0.000000</td>\n",
              "      <td>0.000000</td>\n",
              "      <td>2017.0</td>\n",
              "      <td>1.000000</td>\n",
              "      <td>1.000000</td>\n",
              "      <td>1.000000</td>\n",
              "      <td>0.000000</td>\n",
              "      <td>0.000000</td>\n",
              "      <td>0.000000</td>\n",
              "      <td>...</td>\n",
              "      <td>0.000000</td>\n",
              "      <td>0.000000</td>\n",
              "      <td>0.000000</td>\n",
              "      <td>-1.000000</td>\n",
              "      <td>-1.000000</td>\n",
              "      <td>0.000000</td>\n",
              "      <td>0.000000</td>\n",
              "      <td>-6.380000</td>\n",
              "      <td>0.000000</td>\n",
              "      <td>0.000000</td>\n",
              "    </tr>\n",
              "    <tr>\n",
              "      <th>25%</th>\n",
              "      <td>0.000000</td>\n",
              "      <td>0.000000</td>\n",
              "      <td>23.000000</td>\n",
              "      <td>2017.0</td>\n",
              "      <td>3.000000</td>\n",
              "      <td>11.000000</td>\n",
              "      <td>8.000000</td>\n",
              "      <td>0.000000</td>\n",
              "      <td>1.000000</td>\n",
              "      <td>2.000000</td>\n",
              "      <td>...</td>\n",
              "      <td>0.000000</td>\n",
              "      <td>0.000000</td>\n",
              "      <td>0.000000</td>\n",
              "      <td>9.000000</td>\n",
              "      <td>-1.000000</td>\n",
              "      <td>0.000000</td>\n",
              "      <td>2.000000</td>\n",
              "      <td>80.000000</td>\n",
              "      <td>0.000000</td>\n",
              "      <td>0.000000</td>\n",
              "    </tr>\n",
              "    <tr>\n",
              "      <th>50%</th>\n",
              "      <td>0.000000</td>\n",
              "      <td>0.000000</td>\n",
              "      <td>80.000000</td>\n",
              "      <td>2017.0</td>\n",
              "      <td>5.000000</td>\n",
              "      <td>19.000000</td>\n",
              "      <td>16.000000</td>\n",
              "      <td>1.000000</td>\n",
              "      <td>2.000000</td>\n",
              "      <td>2.000000</td>\n",
              "      <td>...</td>\n",
              "      <td>0.000000</td>\n",
              "      <td>0.000000</td>\n",
              "      <td>0.000000</td>\n",
              "      <td>9.000000</td>\n",
              "      <td>-1.000000</td>\n",
              "      <td>0.000000</td>\n",
              "      <td>2.000000</td>\n",
              "      <td>107.100000</td>\n",
              "      <td>0.000000</td>\n",
              "      <td>0.000000</td>\n",
              "    </tr>\n",
              "    <tr>\n",
              "      <th>75%</th>\n",
              "      <td>1.000000</td>\n",
              "      <td>1.000000</td>\n",
              "      <td>164.500000</td>\n",
              "      <td>2017.0</td>\n",
              "      <td>7.000000</td>\n",
              "      <td>26.000000</td>\n",
              "      <td>23.000000</td>\n",
              "      <td>2.000000</td>\n",
              "      <td>3.000000</td>\n",
              "      <td>2.000000</td>\n",
              "      <td>...</td>\n",
              "      <td>3.000000</td>\n",
              "      <td>0.000000</td>\n",
              "      <td>0.000000</td>\n",
              "      <td>229.000000</td>\n",
              "      <td>-1.000000</td>\n",
              "      <td>0.000000</td>\n",
              "      <td>2.000000</td>\n",
              "      <td>140.000000</td>\n",
              "      <td>0.000000</td>\n",
              "      <td>1.000000</td>\n",
              "    </tr>\n",
              "    <tr>\n",
              "      <th>max</th>\n",
              "      <td>1.000000</td>\n",
              "      <td>1.000000</td>\n",
              "      <td>629.000000</td>\n",
              "      <td>2017.0</td>\n",
              "      <td>8.000000</td>\n",
              "      <td>35.000000</td>\n",
              "      <td>31.000000</td>\n",
              "      <td>16.000000</td>\n",
              "      <td>40.000000</td>\n",
              "      <td>4.000000</td>\n",
              "      <td>...</td>\n",
              "      <td>11.000000</td>\n",
              "      <td>18.000000</td>\n",
              "      <td>2.000000</td>\n",
              "      <td>535.000000</td>\n",
              "      <td>543.000000</td>\n",
              "      <td>223.000000</td>\n",
              "      <td>3.000000</td>\n",
              "      <td>510.000000</td>\n",
              "      <td>8.000000</td>\n",
              "      <td>5.000000</td>\n",
              "    </tr>\n",
              "  </tbody>\n",
              "</table>\n",
              "<p>8 rows × 30 columns</p>\n",
              "</div>\n",
              "    <div class=\"colab-df-buttons\">\n",
              "\n",
              "  <div class=\"colab-df-container\">\n",
              "    <button class=\"colab-df-convert\" onclick=\"convertToInteractive('df-32dd5f01-cdad-4f57-8dc5-c1237fceccb2')\"\n",
              "            title=\"Convert this dataframe to an interactive table.\"\n",
              "            style=\"display:none;\">\n",
              "\n",
              "  <svg xmlns=\"http://www.w3.org/2000/svg\" height=\"24px\" viewBox=\"0 -960 960 960\">\n",
              "    <path d=\"M120-120v-720h720v720H120Zm60-500h600v-160H180v160Zm220 220h160v-160H400v160Zm0 220h160v-160H400v160ZM180-400h160v-160H180v160Zm440 0h160v-160H620v160ZM180-180h160v-160H180v160Zm440 0h160v-160H620v160Z\"/>\n",
              "  </svg>\n",
              "    </button>\n",
              "\n",
              "  <style>\n",
              "    .colab-df-container {\n",
              "      display:flex;\n",
              "      gap: 12px;\n",
              "    }\n",
              "\n",
              "    .colab-df-convert {\n",
              "      background-color: #E8F0FE;\n",
              "      border: none;\n",
              "      border-radius: 50%;\n",
              "      cursor: pointer;\n",
              "      display: none;\n",
              "      fill: #1967D2;\n",
              "      height: 32px;\n",
              "      padding: 0 0 0 0;\n",
              "      width: 32px;\n",
              "    }\n",
              "\n",
              "    .colab-df-convert:hover {\n",
              "      background-color: #E2EBFA;\n",
              "      box-shadow: 0px 1px 2px rgba(60, 64, 67, 0.3), 0px 1px 3px 1px rgba(60, 64, 67, 0.15);\n",
              "      fill: #174EA6;\n",
              "    }\n",
              "\n",
              "    .colab-df-buttons div {\n",
              "      margin-bottom: 4px;\n",
              "    }\n",
              "\n",
              "    [theme=dark] .colab-df-convert {\n",
              "      background-color: #3B4455;\n",
              "      fill: #D2E3FC;\n",
              "    }\n",
              "\n",
              "    [theme=dark] .colab-df-convert:hover {\n",
              "      background-color: #434B5C;\n",
              "      box-shadow: 0px 1px 3px 1px rgba(0, 0, 0, 0.15);\n",
              "      filter: drop-shadow(0px 1px 2px rgba(0, 0, 0, 0.3));\n",
              "      fill: #FFFFFF;\n",
              "    }\n",
              "  </style>\n",
              "\n",
              "    <script>\n",
              "      const buttonEl =\n",
              "        document.querySelector('#df-32dd5f01-cdad-4f57-8dc5-c1237fceccb2 button.colab-df-convert');\n",
              "      buttonEl.style.display =\n",
              "        google.colab.kernel.accessAllowed ? 'block' : 'none';\n",
              "\n",
              "      async function convertToInteractive(key) {\n",
              "        const element = document.querySelector('#df-32dd5f01-cdad-4f57-8dc5-c1237fceccb2');\n",
              "        const dataTable =\n",
              "          await google.colab.kernel.invokeFunction('convertToInteractive',\n",
              "                                                    [key], {});\n",
              "        if (!dataTable) return;\n",
              "\n",
              "        const docLinkHtml = 'Like what you see? Visit the ' +\n",
              "          '<a target=\"_blank\" href=https://colab.research.google.com/notebooks/data_table.ipynb>data table notebook</a>'\n",
              "          + ' to learn more about interactive tables.';\n",
              "        element.innerHTML = '';\n",
              "        dataTable['output_type'] = 'display_data';\n",
              "        await google.colab.output.renderOutput(dataTable, element);\n",
              "        const docLink = document.createElement('div');\n",
              "        docLink.innerHTML = docLinkHtml;\n",
              "        element.appendChild(docLink);\n",
              "      }\n",
              "    </script>\n",
              "  </div>\n",
              "\n",
              "\n",
              "<div id=\"df-744b1cb1-e17c-4ca1-bbcf-b9558f31005a\">\n",
              "  <button class=\"colab-df-quickchart\" onclick=\"quickchart('df-744b1cb1-e17c-4ca1-bbcf-b9558f31005a')\"\n",
              "            title=\"Suggest charts\"\n",
              "            style=\"display:none;\">\n",
              "\n",
              "<svg xmlns=\"http://www.w3.org/2000/svg\" height=\"24px\"viewBox=\"0 0 24 24\"\n",
              "     width=\"24px\">\n",
              "    <g>\n",
              "        <path d=\"M19 3H5c-1.1 0-2 .9-2 2v14c0 1.1.9 2 2 2h14c1.1 0 2-.9 2-2V5c0-1.1-.9-2-2-2zM9 17H7v-7h2v7zm4 0h-2V7h2v10zm4 0h-2v-4h2v4z\"/>\n",
              "    </g>\n",
              "</svg>\n",
              "  </button>\n",
              "\n",
              "<style>\n",
              "  .colab-df-quickchart {\n",
              "      --bg-color: #E8F0FE;\n",
              "      --fill-color: #1967D2;\n",
              "      --hover-bg-color: #E2EBFA;\n",
              "      --hover-fill-color: #174EA6;\n",
              "      --disabled-fill-color: #AAA;\n",
              "      --disabled-bg-color: #DDD;\n",
              "  }\n",
              "\n",
              "  [theme=dark] .colab-df-quickchart {\n",
              "      --bg-color: #3B4455;\n",
              "      --fill-color: #D2E3FC;\n",
              "      --hover-bg-color: #434B5C;\n",
              "      --hover-fill-color: #FFFFFF;\n",
              "      --disabled-bg-color: #3B4455;\n",
              "      --disabled-fill-color: #666;\n",
              "  }\n",
              "\n",
              "  .colab-df-quickchart {\n",
              "    background-color: var(--bg-color);\n",
              "    border: none;\n",
              "    border-radius: 50%;\n",
              "    cursor: pointer;\n",
              "    display: none;\n",
              "    fill: var(--fill-color);\n",
              "    height: 32px;\n",
              "    padding: 0;\n",
              "    width: 32px;\n",
              "  }\n",
              "\n",
              "  .colab-df-quickchart:hover {\n",
              "    background-color: var(--hover-bg-color);\n",
              "    box-shadow: 0 1px 2px rgba(60, 64, 67, 0.3), 0 1px 3px 1px rgba(60, 64, 67, 0.15);\n",
              "    fill: var(--button-hover-fill-color);\n",
              "  }\n",
              "\n",
              "  .colab-df-quickchart-complete:disabled,\n",
              "  .colab-df-quickchart-complete:disabled:hover {\n",
              "    background-color: var(--disabled-bg-color);\n",
              "    fill: var(--disabled-fill-color);\n",
              "    box-shadow: none;\n",
              "  }\n",
              "\n",
              "  .colab-df-spinner {\n",
              "    border: 2px solid var(--fill-color);\n",
              "    border-color: transparent;\n",
              "    border-bottom-color: var(--fill-color);\n",
              "    animation:\n",
              "      spin 1s steps(1) infinite;\n",
              "  }\n",
              "\n",
              "  @keyframes spin {\n",
              "    0% {\n",
              "      border-color: transparent;\n",
              "      border-bottom-color: var(--fill-color);\n",
              "      border-left-color: var(--fill-color);\n",
              "    }\n",
              "    20% {\n",
              "      border-color: transparent;\n",
              "      border-left-color: var(--fill-color);\n",
              "      border-top-color: var(--fill-color);\n",
              "    }\n",
              "    30% {\n",
              "      border-color: transparent;\n",
              "      border-left-color: var(--fill-color);\n",
              "      border-top-color: var(--fill-color);\n",
              "      border-right-color: var(--fill-color);\n",
              "    }\n",
              "    40% {\n",
              "      border-color: transparent;\n",
              "      border-right-color: var(--fill-color);\n",
              "      border-top-color: var(--fill-color);\n",
              "    }\n",
              "    60% {\n",
              "      border-color: transparent;\n",
              "      border-right-color: var(--fill-color);\n",
              "    }\n",
              "    80% {\n",
              "      border-color: transparent;\n",
              "      border-right-color: var(--fill-color);\n",
              "      border-bottom-color: var(--fill-color);\n",
              "    }\n",
              "    90% {\n",
              "      border-color: transparent;\n",
              "      border-bottom-color: var(--fill-color);\n",
              "    }\n",
              "  }\n",
              "</style>\n",
              "\n",
              "  <script>\n",
              "    async function quickchart(key) {\n",
              "      const quickchartButtonEl =\n",
              "        document.querySelector('#' + key + ' button');\n",
              "      quickchartButtonEl.disabled = true;  // To prevent multiple clicks.\n",
              "      quickchartButtonEl.classList.add('colab-df-spinner');\n",
              "      try {\n",
              "        const charts = await google.colab.kernel.invokeFunction(\n",
              "            'suggestCharts', [key], {});\n",
              "      } catch (error) {\n",
              "        console.error('Error during call to suggestCharts:', error);\n",
              "      }\n",
              "      quickchartButtonEl.classList.remove('colab-df-spinner');\n",
              "      quickchartButtonEl.classList.add('colab-df-quickchart-complete');\n",
              "    }\n",
              "    (() => {\n",
              "      let quickchartButtonEl =\n",
              "        document.querySelector('#df-744b1cb1-e17c-4ca1-bbcf-b9558f31005a button');\n",
              "      quickchartButtonEl.style.display =\n",
              "        google.colab.kernel.accessAllowed ? 'block' : 'none';\n",
              "    })();\n",
              "  </script>\n",
              "</div>\n",
              "    </div>\n",
              "  </div>\n"
            ]
          },
          "metadata": {},
          "execution_count": 3
        }
      ]
    },
    {
      "cell_type": "code",
      "source": [
        "tot_train =  56707"
      ],
      "metadata": {
        "id": "ZkVL9r7mYCn1"
      },
      "execution_count": 4,
      "outputs": []
    },
    {
      "cell_type": "code",
      "source": [
        "tot_test= 40687"
      ],
      "metadata": {
        "id": "owoCcvcOYF6V"
      },
      "execution_count": 5,
      "outputs": []
    },
    {
      "cell_type": "markdown",
      "source": [
        " **Risposta n.1:**\n",
        "\n",
        "---\n",
        "\n",
        "\n",
        "* Il dataset si presentano con 56707 casi per il \"*train dataset*\" e\n",
        "40687 per il \"*test dataset*\".\n",
        "* Le colonne sono 30 per entrambi.\n",
        "* I valori sono perlopiù categorici (14/30), infatti,  molti dei valori segnati come \"*int*\" in realtà sono la conversione in numero di \"Si\" e \"No\"(es: \"*is_canceled*\"), le temporali e le numeriche si dividono invece rispettivamente in 3/30 e 13/30.\n",
        "* In entrambi i dateset non sembrano essere presenti valori nulli. La media delle cancellazioni è del 36% nel train dataset e del 39% nel secondo."
      ],
      "metadata": {
        "id": "pNGVY-vjNWvS"
      }
    },
    {
      "cell_type": "markdown",
      "source": [
        "# **Domanda n.1.2**:\n",
        "\n",
        "---\n",
        "\n",
        "\n",
        "Come si distribuisce il valore relativo al numero di persone? Quante prenotazioni includono bambini e quanti ospiti sono, invece,  da soli?"
      ],
      "metadata": {
        "id": "hs6v15OQwROn"
      }
    },
    {
      "cell_type": "code",
      "source": [
        "train[\"persone\"] = train[\"babies\"] + train[\"children\"] + train[\"adults\"]\n",
        "print(train[\"persone\"].mean())\n",
        "test[\"persone\"] = test[\"babies\"] + test[\"children\"] + test[\"adults\"]\n",
        "print(test[\"persone\"].mean())"
      ],
      "metadata": {
        "colab": {
          "base_uri": "https://localhost:8080/"
        },
        "id": "oFiwbUHKVdzz",
        "outputId": "169e6d54-5f9c-4d4f-fea3-25c6fa652249"
      },
      "execution_count": 6,
      "outputs": [
        {
          "output_type": "stream",
          "name": "stdout",
          "text": [
            "1.9633378595235156\n",
            "2.0107405313736573\n"
          ]
        }
      ]
    },
    {
      "cell_type": "code",
      "source": [
        "bambini_tr = train[\"babies\"].value_counts()\n",
        "print(bambini_tr)"
      ],
      "metadata": {
        "id": "gRzUX48KyEFZ",
        "outputId": "4ceda881-c4d0-4115-e1ab-d93e7a272a24",
        "colab": {
          "base_uri": "https://localhost:8080/"
        }
      },
      "execution_count": 7,
      "outputs": [
        {
          "output_type": "stream",
          "name": "stdout",
          "text": [
            "0     56261\n",
            "1       437\n",
            "2         8\n",
            "10        1\n",
            "Name: babies, dtype: int64\n"
          ]
        }
      ]
    },
    {
      "cell_type": "code",
      "source": [
        "bambini_te = test[\"babies\"].value_counts()\n",
        "print(bambini_te)"
      ],
      "metadata": {
        "id": "g71aEVrBpQcs",
        "outputId": "87cd58df-8026-4e6c-89f3-3f075c26eafb",
        "colab": {
          "base_uri": "https://localhost:8080/"
        }
      },
      "execution_count": 8,
      "outputs": [
        {
          "output_type": "stream",
          "name": "stdout",
          "text": [
            "0    40429\n",
            "1      253\n",
            "2        5\n",
            "Name: babies, dtype: int64\n"
          ]
        }
      ]
    },
    {
      "cell_type": "code",
      "source": [
        "ragazzi_tr = train[\"children\"].value_counts()\n",
        "print(ragazzi_tr)"
      ],
      "metadata": {
        "id": "2IGSJS5GoPw9",
        "outputId": "0096d9d4-5d8d-4121-cced-ddc7755f4289",
        "colab": {
          "base_uri": "https://localhost:8080/"
        }
      },
      "execution_count": 9,
      "outputs": [
        {
          "output_type": "stream",
          "name": "stdout",
          "text": [
            "0.0    52578\n",
            "1.0     2384\n",
            "2.0     1711\n",
            "3.0       34\n",
            "Name: children, dtype: int64\n"
          ]
        }
      ]
    },
    {
      "cell_type": "code",
      "source": [
        "ragazzi_te = test[\"children\"].value_counts()\n",
        "print(ragazzi_te)"
      ],
      "metadata": {
        "id": "2mqxmxWZpU1y",
        "outputId": "f09e3743-9ab4-4313-bf89-3da07b9532a2",
        "colab": {
          "base_uri": "https://localhost:8080/"
        }
      },
      "execution_count": 10,
      "outputs": [
        {
          "output_type": "stream",
          "name": "stdout",
          "text": [
            "0.0    37137\n",
            "1.0     1999\n",
            "2.0     1514\n",
            "3.0       37\n",
            "Name: children, dtype: int64\n"
          ]
        }
      ]
    },
    {
      "cell_type": "code",
      "source": [
        "ragazzi_tot_tr = 2384+1711+34\n",
        "ragazzi_tot_te= 1999+1514+37\n",
        "bambini_tot_tr = 437+ 8 + 1\n",
        "bambini_tot_te = 253 + 5\n",
        "numero_famgilie_tr = ragazzi_tot_tr + bambini_tot_tr\n",
        "numero_famgilie_te  =ragazzi_tot_te + bambini_tot_te\n",
        "print(\"n. ragazzi nel train: \",ragazzi_tot_tr)\n",
        "print(\"n. ragazzi nel test: \",ragazzi_tot_te)\n",
        "print(\"n. bambini nel train: \",bambini_tot_tr)\n",
        "print(\"n. bambini nel test: \",bambini_tot_te)\n",
        "print(\"n. prenotazioni con non adulti neel train: \",numero_famgilie_tr)\n",
        "print(\"n. prenotazioni con non adulti nel test: \", numero_famgilie_te)\n"
      ],
      "metadata": {
        "id": "AE75DllCcHyp",
        "outputId": "e5ef2940-9a27-48a5-83a4-38cfc32ebd18",
        "colab": {
          "base_uri": "https://localhost:8080/"
        }
      },
      "execution_count": 11,
      "outputs": [
        {
          "output_type": "stream",
          "name": "stdout",
          "text": [
            "n. ragazzi nel train:  4129\n",
            "n. ragazzi nel test:  3550\n",
            "n. bambini nel train:  446\n",
            "n. bambini nel test:  258\n",
            "n. prenotazioni con non adulti neel train:  4575\n",
            "n. prenotazioni con non adulti nel test:  3808\n"
          ]
        }
      ]
    },
    {
      "cell_type": "code",
      "source": [
        "train[\"colonna_bambini\"] = train[\"babies\"] + train[\"children\"]\n",
        "bambini_rag_tr = train[\"colonna_bambini\"].value_counts()\n",
        "print(bambini_rag_tr)"
      ],
      "metadata": {
        "id": "sVEmkscMzGPn",
        "outputId": "a93558c5-2c45-497d-c76d-f380ee064045",
        "colab": {
          "base_uri": "https://localhost:8080/"
        }
      },
      "execution_count": 12,
      "outputs": [
        {
          "output_type": "stream",
          "name": "stdout",
          "text": [
            "0.0     52211\n",
            "1.0      2678\n",
            "2.0      1768\n",
            "3.0        49\n",
            "10.0        1\n",
            "Name: colonna_bambini, dtype: int64\n"
          ]
        }
      ]
    },
    {
      "cell_type": "code",
      "source": [
        "test[\"colonna_bambini\"] = test[\"babies\"] + test[\"children\"]\n",
        "bambini_rag_te = test[\"colonna_bambini\"].value_counts()\n",
        "print(bambini_rag_te)"
      ],
      "metadata": {
        "id": "dHGFbFpupYsm",
        "outputId": "2352f6d1-ed2b-4098-e325-1d80adde25f1",
        "colab": {
          "base_uri": "https://localhost:8080/"
        }
      },
      "execution_count": 13,
      "outputs": [
        {
          "output_type": "stream",
          "name": "stdout",
          "text": [
            "0.0    36941\n",
            "1.0     2136\n",
            "2.0     1565\n",
            "3.0       45\n",
            "Name: colonna_bambini, dtype: int64\n"
          ]
        }
      ]
    },
    {
      "cell_type": "code",
      "source": [
        "media_canc_bambini_tr = train.groupby(train[\"colonna_bambini\"])[\"is_canceled\"].mean()\n",
        "print(media_canc_bambini_tr)"
      ],
      "metadata": {
        "colab": {
          "base_uri": "https://localhost:8080/"
        },
        "id": "BNg4UTdfTT0w",
        "outputId": "2905ad54-7ecb-4548-a1c1-4432b4e2b0f9"
      },
      "execution_count": 14,
      "outputs": [
        {
          "output_type": "stream",
          "name": "stdout",
          "text": [
            "colonna_bambini\n",
            "0.0     0.360020\n",
            "1.0     0.305078\n",
            "2.0     0.400452\n",
            "3.0     0.306122\n",
            "10.0    0.000000\n",
            "Name: is_canceled, dtype: float64\n"
          ]
        }
      ]
    },
    {
      "cell_type": "code",
      "source": [
        "media_canc_bambini_te=test.groupby(test[\"colonna_bambini\"])[\"is_canceled\"].mean()\n",
        "print(media_canc_bambini_te)"
      ],
      "metadata": {
        "id": "tHeyQEWlfRRj",
        "outputId": "dbc79b03-781e-4b13-a76d-9446f0f0d12d",
        "colab": {
          "base_uri": "https://localhost:8080/"
        }
      },
      "execution_count": 15,
      "outputs": [
        {
          "output_type": "stream",
          "name": "stdout",
          "text": [
            "colonna_bambini\n",
            "0.0    0.385859\n",
            "1.0    0.352060\n",
            "2.0    0.466454\n",
            "3.0    0.200000\n",
            "Name: is_canceled, dtype: float64\n"
          ]
        }
      ]
    },
    {
      "cell_type": "code",
      "source": [
        "persone_tr = train[\"persone\"].value_counts().sort_index()\n",
        "print(persone_tr)"
      ],
      "metadata": {
        "id": "rWwbuYWTz8mA",
        "outputId": "a4dcc18d-f9ba-49b6-9271-b8313e5afcb8",
        "colab": {
          "base_uri": "https://localhost:8080/"
        }
      },
      "execution_count": 16,
      "outputs": [
        {
          "output_type": "stream",
          "name": "stdout",
          "text": [
            "0.0        84\n",
            "1.0     10967\n",
            "2.0     38563\n",
            "3.0      5189\n",
            "4.0      1852\n",
            "5.0        51\n",
            "12.0        1\n",
            "Name: persone, dtype: int64\n"
          ]
        }
      ]
    },
    {
      "cell_type": "code",
      "source": [
        "persone_te = test[\"persone\"].value_counts().sort_index()\n",
        "print(persone_te)"
      ],
      "metadata": {
        "id": "zIRVUeK8f6B0",
        "outputId": "c2049cdb-0054-4f4e-f504-14e2cac40881",
        "colab": {
          "base_uri": "https://localhost:8080/"
        }
      },
      "execution_count": 17,
      "outputs": [
        {
          "output_type": "stream",
          "name": "stdout",
          "text": [
            "0.0       67\n",
            "1.0     7181\n",
            "2.0    27455\n",
            "3.0     4282\n",
            "4.0     1636\n",
            "5.0       66\n",
            "Name: persone, dtype: int64\n"
          ]
        }
      ]
    },
    {
      "cell_type": "code",
      "source": [
        "media_canc_persone_tr=train.groupby(train[\"persone\"])[\"is_canceled\"].mean()\n",
        "print(media_canc_persone_tr)"
      ],
      "metadata": {
        "id": "4gwvyfeTg2bZ",
        "outputId": "55bdf38b-43c7-4e9f-ccb6-1bcd4a567f85",
        "colab": {
          "base_uri": "https://localhost:8080/"
        }
      },
      "execution_count": 18,
      "outputs": [
        {
          "output_type": "stream",
          "name": "stdout",
          "text": [
            "persone\n",
            "0.0     0.154762\n",
            "1.0     0.301176\n",
            "2.0     0.380468\n",
            "3.0     0.305454\n",
            "4.0     0.405508\n",
            "5.0     0.254902\n",
            "12.0    0.000000\n",
            "Name: is_canceled, dtype: float64\n"
          ]
        }
      ]
    },
    {
      "cell_type": "code",
      "source": [
        "media_canc_persone_te =test.groupby(test[\"persone\"])[\"is_canceled\"].mean()\n",
        "print(media_canc_persone_te)"
      ],
      "metadata": {
        "id": "hqJMWjzUgyyx",
        "outputId": "1c212cac-976b-4cc3-b31d-e8623b3e478e",
        "colab": {
          "base_uri": "https://localhost:8080/"
        }
      },
      "execution_count": 19,
      "outputs": [
        {
          "output_type": "stream",
          "name": "stdout",
          "text": [
            "persone\n",
            "0.0    0.164179\n",
            "1.0    0.290071\n",
            "2.0    0.409033\n",
            "3.0    0.380897\n",
            "4.0    0.473105\n",
            "5.0    0.242424\n",
            "Name: is_canceled, dtype: float64\n"
          ]
        }
      ]
    },
    {
      "cell_type": "code",
      "source": [
        "prenotazioni_fallaci_tr= train[(train[\"adults\"]== 0) & (train[\"children\"]== 0)]\n",
        "print(prenotazioni_fallaci_tr)"
      ],
      "metadata": {
        "id": "JSlKH_d_fk5K",
        "outputId": "bbde9351-c344-422c-d6b9-86b7046a9f6e",
        "colab": {
          "base_uri": "https://localhost:8080/"
        }
      },
      "execution_count": 20,
      "outputs": [
        {
          "output_type": "stream",
          "name": "stdout",
          "text": [
            "       hotel  is_canceled  lead_time  arrival_date_year  arrival_date_month  \\\n",
            "389        1            1          0               2016                   2   \n",
            "5638       1            1          0               2016                  11   \n",
            "18555      1            0         31               2016                  12   \n",
            "19312      0            1          1               2016                   2   \n",
            "19326      0            0          0               2016                   2   \n",
            "...      ...          ...        ...                ...                 ...   \n",
            "55556      0            0          0               2016                  12   \n",
            "56000      0            0          0               2016                  12   \n",
            "56053      0            0          0               2016                  12   \n",
            "56443      0            0        255               2016                  12   \n",
            "56703      0            0        177               2016                  12   \n",
            "\n",
            "       arrival_date_week_number  arrival_date_day_of_month  \\\n",
            "389                           8                         15   \n",
            "5638                         48                         21   \n",
            "18555                        53                         27   \n",
            "19312                         7                         11   \n",
            "19326                         7                         12   \n",
            "...                         ...                        ...   \n",
            "55556                        50                          7   \n",
            "56000                        52                         18   \n",
            "56053                        52                         20   \n",
            "56443                        53                         27   \n",
            "56703                        53                         30   \n",
            "\n",
            "       stays_in_weekend_nights  stays_in_week_nights  adults  ...  \\\n",
            "389                          0                     0       0  ...   \n",
            "5638                         0                     0       0  ...   \n",
            "18555                        2                     8       0  ...   \n",
            "19312                        0                     3       0  ...   \n",
            "19326                        0                     1       0  ...   \n",
            "...                        ...                   ...     ...  ...   \n",
            "55556                        0                     0       0  ...   \n",
            "56000                        0                     0       0  ...   \n",
            "56053                        0                     0       0  ...   \n",
            "56443                        0                     3       0  ...   \n",
            "56703                        2                     5       0  ...   \n",
            "\n",
            "       deposit_type  agent  company  days_in_waiting_list  customer_type  \\\n",
            "389               0   -1.0    383.0                     0              2   \n",
            "5638              0   -1.0    386.0                     0              1   \n",
            "18555             0   -1.0     -1.0                     0              2   \n",
            "19312             0    9.0     -1.0                     0              2   \n",
            "19326             0   -1.0     45.0                     0              2   \n",
            "...             ...    ...      ...                   ...            ...   \n",
            "55556             0    7.0     -1.0                     0              2   \n",
            "56000             0    7.0     -1.0                     0              2   \n",
            "56053             0   28.0     -1.0                     0              2   \n",
            "56443             0   79.0     -1.0                     0              2   \n",
            "56703             0   -1.0     -1.0                     0              2   \n",
            "\n",
            "         adr  required_car_parking_spaces  total_of_special_requests  persone  \\\n",
            "389     0.00                            0                          0      0.0   \n",
            "5638    0.00                            0                          0      0.0   \n",
            "18555  28.00                            1                          0      0.0   \n",
            "19312   0.00                            0                          1      0.0   \n",
            "19326   0.00                            0                          2      0.0   \n",
            "...      ...                          ...                        ...      ...   \n",
            "55556   0.00                            0                          1      0.0   \n",
            "56000   0.00                            0                          1      0.0   \n",
            "56053   0.00                            0                          0      0.0   \n",
            "56443  20.88                            0                          0      0.0   \n",
            "56703   1.29                            0                          2      0.0   \n",
            "\n",
            "       colonna_bambini  \n",
            "389                0.0  \n",
            "5638               0.0  \n",
            "18555              0.0  \n",
            "19312              0.0  \n",
            "19326              0.0  \n",
            "...                ...  \n",
            "55556              0.0  \n",
            "56000              0.0  \n",
            "56053              0.0  \n",
            "56443              0.0  \n",
            "56703              0.0  \n",
            "\n",
            "[84 rows x 32 columns]\n"
          ]
        }
      ]
    },
    {
      "cell_type": "code",
      "source": [
        "prenotazioni_fallaci_te = test[(test[\"adults\"]== 0) & (test[\"children\"]== 0)]\n",
        "print(prenotazioni_fallaci_te)"
      ],
      "metadata": {
        "id": "B8zc1bhuhsQ7",
        "outputId": "588c9c89-b36b-4170-ea0f-0f09c2841239",
        "colab": {
          "base_uri": "https://localhost:8080/"
        }
      },
      "execution_count": 21,
      "outputs": [
        {
          "output_type": "stream",
          "name": "stdout",
          "text": [
            "       hotel  is_canceled  lead_time  arrival_date_year  arrival_date_month  \\\n",
            "5148       1            0          4               2017                   1   \n",
            "5946       1            0         46               2017                   1   \n",
            "7968       1            0         15               2017                   3   \n",
            "7974       1            0         15               2017                   3   \n",
            "10578      1            0          1               2017                   6   \n",
            "...      ...          ...        ...                ...                 ...   \n",
            "36326      0            0        107               2017                   6   \n",
            "36388      0            0          1               2017                   6   \n",
            "37548      0            0         44               2017                   7   \n",
            "37831      0            0          2               2017                   7   \n",
            "38384      0            0        170               2017                   7   \n",
            "\n",
            "       arrival_date_week_number  arrival_date_day_of_month  \\\n",
            "5148                          2                         14   \n",
            "5946                          4                         25   \n",
            "7968                         13                         30   \n",
            "7974                         13                         30   \n",
            "10578                        25                         18   \n",
            "...                         ...                        ...   \n",
            "36326                        26                         27   \n",
            "36388                        26                         30   \n",
            "37548                        28                         15   \n",
            "37831                        28                         15   \n",
            "38384                        30                         27   \n",
            "\n",
            "       stays_in_weekend_nights  stays_in_week_nights  adults  ...  \\\n",
            "5148                         0                     1       0  ...   \n",
            "5946                         3                     9       0  ...   \n",
            "7968                         2                     6       0  ...   \n",
            "7974                         2                     6       0  ...   \n",
            "10578                        2                     5       0  ...   \n",
            "...                        ...                   ...     ...  ...   \n",
            "36326                        0                     3       0  ...   \n",
            "36388                        0                     1       0  ...   \n",
            "37548                        1                     1       0  ...   \n",
            "37831                        2                     5       0  ...   \n",
            "38384                        0                     2       0  ...   \n",
            "\n",
            "       deposit_type  agent  company  days_in_waiting_list  customer_type  \\\n",
            "5148              0  168.0     -1.0                     0              3   \n",
            "5946              0   -1.0     -1.0                     0              2   \n",
            "7968              0   -1.0    523.0                     0              3   \n",
            "7974              0   -1.0    523.0                     0              3   \n",
            "10578             0   -1.0     -1.0                     0              2   \n",
            "...             ...    ...      ...                   ...            ...   \n",
            "36326             0    7.0     -1.0                     0              2   \n",
            "36388             0   -1.0     -1.0                     0              2   \n",
            "37548             0  425.0     -1.0                     0              2   \n",
            "37831             0    9.0     -1.0                     0              3   \n",
            "38384             0   52.0     -1.0                     0              2   \n",
            "\n",
            "          adr  required_car_parking_spaces  total_of_special_requests  \\\n",
            "5148     0.00                            0                          0   \n",
            "5946     0.00                            0                          0   \n",
            "7968     0.00                            0                          0   \n",
            "7974     0.00                            0                          0   \n",
            "10578    0.00                            0                          0   \n",
            "...       ...                          ...                        ...   \n",
            "36326  100.80                            0                          0   \n",
            "36388    0.00                            1                          1   \n",
            "37548   73.80                            0                          0   \n",
            "37831   22.86                            0                          1   \n",
            "38384    0.00                            0                          0   \n",
            "\n",
            "       persone  colonna_bambini  \n",
            "5148       0.0              0.0  \n",
            "5946       0.0              0.0  \n",
            "7968       0.0              0.0  \n",
            "7974       0.0              0.0  \n",
            "10578      0.0              0.0  \n",
            "...        ...              ...  \n",
            "36326      0.0              0.0  \n",
            "36388      0.0              0.0  \n",
            "37548      0.0              0.0  \n",
            "37831      0.0              0.0  \n",
            "38384      0.0              0.0  \n",
            "\n",
            "[67 rows x 32 columns]\n"
          ]
        }
      ]
    },
    {
      "cell_type": "markdown",
      "source": [
        "**Risposta n.2** :\n",
        "\n",
        "---\n",
        "\n",
        "* La media relativa al numero di persone è di circa 2 persone in entrambi i dataset e rappresenta anche il caso più rappresentato (38563 prenotazioni da 2 persone nel train dataset e 27455 nel test dataset)\n",
        "* Il numero di prenotazioni composte da un numero qualsiasi di adulti con almeno un bambino (\"*babies*\" e/o \"*children*\") è relativamente basso in entrambi i dataset: 4575 (con 4129 con almeno un \"*child*\" e 446 con almeno un \"*baby*\") per il train e 3808 (con 3550 con almeno un \"*child*\" e 258 con almeno un \"*baby*\") per il test .\n",
        "* Il numero massimo di bambini è di 10 raggiunto però in un singolo caso del \"train dataset\". Escludendo quello il massimo di bambini a seguito è di 3.\n",
        "* La percentuale delle cancellazioni scende per le prenotazioni con solamente un \"non adulto\" e torna a salire per le prenotazioni con 2 a seguito (le prenotazioni con 3 \"non adulti\" sono così poche da non essere rilevanti).\n",
        "* Escludendo suddetto caso estremo il numero massimo di persone per una singola camera è 5.\n",
        "* La media delle cancellazioni cambia in base al numero di persone ma l'aumentare del numero di persone non aumenta questa media in modo lineare (prenotazioni da 3 componenti cancellano in media meno che prenotazioni da 2 e da 4).\n",
        "* In entrambi i dataset poi sono presenti valori anomali corrispondenti a 0 persone per camera (84 nel train e 67 nel test) alcune prenotazioni invece contengono i casi con 0 adulti ma almeno un \"*children*\" quindi non si può sapere se siano valide o meno.\n",
        "* Il numero di viaggiatori \"solitari\" è invece cospicuo e simile in entrambi i dataset (10967 nel train e 7181 nel test).\n",
        "Il numero di adulti per prenotazione varia da un minomo di 1 fino a un massimo di 4.\n",
        "\n"
      ],
      "metadata": {
        "id": "iJd5zwHqSmW-"
      }
    },
    {
      "cell_type": "markdown",
      "source": [
        "# **Domanda n.1.3**:\n",
        "\n",
        "---\n",
        "\n",
        "\n",
        "Come si sono divisi i casi in base al segmento di mercato e alla distribuzione? Come cambia la media relativa al numero di cancellazioni?"
      ],
      "metadata": {
        "id": "Gkunk5JJGUPJ"
      }
    },
    {
      "cell_type": "code",
      "source": [
        "mercato_tr= train_non[\"market_segment\"].value_counts().sort_index()\n",
        "print(mercato_tr)"
      ],
      "metadata": {
        "id": "UnH_wddXQlCw",
        "outputId": "d27ec87d-4a4b-4747-df5d-7be0423ae696",
        "colab": {
          "base_uri": "https://localhost:8080/"
        }
      },
      "execution_count": 22,
      "outputs": [
        {
          "output_type": "stream",
          "name": "stdout",
          "text": [
            "Aviation           127\n",
            "Complementary      364\n",
            "Corporate         2562\n",
            "Direct            5663\n",
            "Groups            7857\n",
            "Offline TA/TO    12473\n",
            "Online TA        27661\n",
            "Name: market_segment, dtype: int64\n"
          ]
        }
      ]
    },
    {
      "cell_type": "code",
      "source": [
        "per_merc_tr = (mercato_tr/ len(train_non) * 100).sort_index()\n",
        "print(per_merc_tr)"
      ],
      "metadata": {
        "id": "n4WZSlZLvXDW",
        "outputId": "d571801c-106c-4091-f752-b2bc124fd54f",
        "colab": {
          "base_uri": "https://localhost:8080/"
        }
      },
      "execution_count": 23,
      "outputs": [
        {
          "output_type": "stream",
          "name": "stdout",
          "text": [
            "Aviation          0.223958\n",
            "Complementary     0.641896\n",
            "Corporate         4.517961\n",
            "Direct            9.986421\n",
            "Groups           13.855432\n",
            "Offline TA/TO    21.995521\n",
            "Online TA        48.778810\n",
            "Name: market_segment, dtype: float64\n"
          ]
        }
      ]
    },
    {
      "cell_type": "code",
      "source": [
        "mercato_te = test_non[\"market_segment\"].value_counts().sort_index()\n",
        "print(mercato_te)"
      ],
      "metadata": {
        "id": "_zrEzp2U-tMv",
        "outputId": "49f9c0a4-a0cf-490a-a1bd-f7b4691b2722",
        "colab": {
          "base_uri": "https://localhost:8080/"
        }
      },
      "execution_count": 24,
      "outputs": [
        {
          "output_type": "stream",
          "name": "stdout",
          "text": [
            "Aviation           110\n",
            "Complementary      214\n",
            "Corporate         1562\n",
            "Direct            4629\n",
            "Groups            5854\n",
            "Offline TA/TO     5667\n",
            "Online TA        22651\n",
            "Name: market_segment, dtype: int64\n"
          ]
        }
      ]
    },
    {
      "cell_type": "code",
      "source": [
        "per_merc_te= (mercato_te / len(test_non) * 100).sort_index()\n",
        "print(per_merc_te)"
      ],
      "metadata": {
        "id": "JWEVUSyDvqF8",
        "outputId": "7bd7724f-118b-47a4-df40-ce565dec0542",
        "colab": {
          "base_uri": "https://localhost:8080/"
        }
      },
      "execution_count": 25,
      "outputs": [
        {
          "output_type": "stream",
          "name": "stdout",
          "text": [
            "Aviation          0.270357\n",
            "Complementary     0.525967\n",
            "Corporate         3.839064\n",
            "Direct           11.377098\n",
            "Groups           14.387888\n",
            "Offline TA/TO    13.928282\n",
            "Online TA        55.671345\n",
            "Name: market_segment, dtype: float64\n"
          ]
        }
      ]
    },
    {
      "cell_type": "code",
      "source": [
        "distribuzione_tr= train_non[\"distribution_channel\"].value_counts().sort_index()\n",
        "print(mercato_tr)"
      ],
      "metadata": {
        "id": "ZYwcXl_QmKx2",
        "outputId": "f74bfafe-3daa-4fb4-8712-6aaaeb77a53f",
        "colab": {
          "base_uri": "https://localhost:8080/"
        }
      },
      "execution_count": 26,
      "outputs": [
        {
          "output_type": "stream",
          "name": "stdout",
          "text": [
            "Aviation           127\n",
            "Complementary      364\n",
            "Corporate         2562\n",
            "Direct            5663\n",
            "Groups            7857\n",
            "Offline TA/TO    12473\n",
            "Online TA        27661\n",
            "Name: market_segment, dtype: int64\n"
          ]
        }
      ]
    },
    {
      "cell_type": "code",
      "source": [
        "per_distribuzione_tr = (distribuzione_tr/ len(train_non) * 100).sort_index()\n",
        "print(per_distribuzione_tr)"
      ],
      "metadata": {
        "id": "wm5f4lrAnOA3",
        "outputId": "65f04687-6033-44b2-eda1-4ff508e890e6",
        "colab": {
          "base_uri": "https://localhost:8080/"
        }
      },
      "execution_count": 27,
      "outputs": [
        {
          "output_type": "stream",
          "name": "stdout",
          "text": [
            "Corporate     5.805280\n",
            "Direct       11.989701\n",
            "GDS           0.183399\n",
            "TA/TO        82.021620\n",
            "Name: distribution_channel, dtype: float64\n"
          ]
        }
      ]
    },
    {
      "cell_type": "code",
      "source": [
        "distribuzione_te= test_non[\"distribution_channel\"].value_counts().sort_index()\n",
        "print(distribuzione_te)"
      ],
      "metadata": {
        "id": "EBApUqmomaaL",
        "outputId": "664732eb-ff9f-4433-e745-e62aedacea3e",
        "colab": {
          "base_uri": "https://localhost:8080/"
        }
      },
      "execution_count": 28,
      "outputs": [
        {
          "output_type": "stream",
          "name": "stdout",
          "text": [
            "Corporate     1921\n",
            "Direct        5061\n",
            "GDS             88\n",
            "TA/TO        33617\n",
            "Name: distribution_channel, dtype: int64\n"
          ]
        }
      ]
    },
    {
      "cell_type": "code",
      "source": [
        "per_distribuzione_te = (distribuzione_te/ len(test) * 100).sort_index()\n",
        "print(per_distribuzione_te)"
      ],
      "metadata": {
        "id": "eYlJeCqznZUc",
        "outputId": "5de7736c-65b9-4ecd-f1f3-21859a0cc6e8",
        "colab": {
          "base_uri": "https://localhost:8080/"
        }
      },
      "execution_count": 29,
      "outputs": [
        {
          "output_type": "stream",
          "name": "stdout",
          "text": [
            "Corporate     4.721410\n",
            "Direct       12.438863\n",
            "GDS           0.216285\n",
            "TA/TO        82.623442\n",
            "Name: distribution_channel, dtype: float64\n"
          ]
        }
      ]
    },
    {
      "cell_type": "code",
      "source": [
        "canc_mercato_tr = train_non.groupby(train_non[\"market_segment\"])[\"is_canceled\"].mean()\n",
        "print(canc_mercato_tr)"
      ],
      "metadata": {
        "id": "F8DcO36R_M7U",
        "outputId": "79f3e979-2fb7-45bd-fd7d-77119d811f63",
        "colab": {
          "base_uri": "https://localhost:8080/"
        }
      },
      "execution_count": 30,
      "outputs": [
        {
          "output_type": "stream",
          "name": "stdout",
          "text": [
            "market_segment\n",
            "Aviation         0.228346\n",
            "Complementary    0.129121\n",
            "Corporate        0.146370\n",
            "Direct           0.153099\n",
            "Groups           0.617539\n",
            "Offline TA/TO    0.347150\n",
            "Online TA        0.355627\n",
            "Name: is_canceled, dtype: float64\n"
          ]
        }
      ]
    },
    {
      "cell_type": "code",
      "source": [
        "canc_mercato_te = test_non.groupby(test_non[\"market_segment\"])[\"is_canceled\"].mean()\n",
        "print(canc_mercato_te)"
      ],
      "metadata": {
        "id": "iUguoB9l_CTv",
        "outputId": "3e4f7c13-6e2d-4a96-db34-37ce114990cd",
        "colab": {
          "base_uri": "https://localhost:8080/"
        }
      },
      "execution_count": 31,
      "outputs": [
        {
          "output_type": "stream",
          "name": "stdout",
          "text": [
            "market_segment\n",
            "Aviation         0.209091\n",
            "Complementary    0.163551\n",
            "Corporate        0.254802\n",
            "Direct           0.154677\n",
            "Groups           0.581141\n",
            "Offline TA/TO    0.337745\n",
            "Online TA        0.408680\n",
            "Name: is_canceled, dtype: float64\n"
          ]
        }
      ]
    },
    {
      "cell_type": "code",
      "source": [
        "canc_distribuzione_tr = train_non.groupby(train_non[\"distribution_channel\"])[\"is_canceled\"].mean()\n",
        "print(canc_distribuzione_tr)"
      ],
      "metadata": {
        "id": "jJYdjrF7oc_l",
        "outputId": "161c9a73-a240-48c7-9fd3-d443978c25ac",
        "colab": {
          "base_uri": "https://localhost:8080/"
        }
      },
      "execution_count": 32,
      "outputs": [
        {
          "output_type": "stream",
          "name": "stdout",
          "text": [
            "distribution_channel\n",
            "Corporate    0.183475\n",
            "Direct       0.171790\n",
            "GDS          0.211538\n",
            "TA/TO        0.398671\n",
            "Name: is_canceled, dtype: float64\n"
          ]
        }
      ]
    },
    {
      "cell_type": "code",
      "source": [
        "canc_distribuzione_te = test_non.groupby(test_non[\"distribution_channel\"])[\"is_canceled\"].mean()\n",
        "print(canc_distribuzione_te)"
      ],
      "metadata": {
        "id": "36uQg1fyotJr",
        "outputId": "6cb98240-dfff-493d-ee22-a29d455af88d",
        "colab": {
          "base_uri": "https://localhost:8080/"
        }
      },
      "execution_count": 33,
      "outputs": [
        {
          "output_type": "stream",
          "name": "stdout",
          "text": [
            "distribution_channel\n",
            "Corporate    0.258199\n",
            "Direct       0.175855\n",
            "GDS          0.170455\n",
            "TA/TO        0.426689\n",
            "Name: is_canceled, dtype: float64\n"
          ]
        }
      ]
    },
    {
      "cell_type": "markdown",
      "source": [
        "**Risposta n.1.3**:  \n",
        "* I valori relativi al segmento di mercato e il canale di distribuzione sembrano più o meno omogenei nei due dataset.\n",
        "* Sia per quanto riguarda il segmento di mercato che il canale di distribuzione c'è una netta maggioranza per quanto riguarda i \"*Travel Agents*\" con più dell'80% dei casi per il primo e più del 60% (unendo online e offline) per il secondo.\n",
        "* Per quanto riguarda il segmento di mercato \"*Aviation*\" e \"*complementary*\" hanno un numero di casi estremamente basso (neanche l'1%) e \"*Groups*\", \"*Direct*\" e \"*Corporate*\" non raggiungono insieme nemmeno il 30% dei casi.\n",
        "* Per il segmento di mercato la media delle cancellazioni è praticamente raddoppiata (rispetto a quella generale) per il valore \"Groups\" mentre è quasi la metà per \"*Direct*\".\n",
        "* Nella distribuzione n po' più alta rispetto alla media generale (circa il 40%) la media relativa alle cancellazioni per il valore \"*TA/TO*\" mentre molto più basse quelle degli altri valori.\n"
      ],
      "metadata": {
        "id": "7PfoBqlenlVk"
      }
    },
    {
      "cell_type": "markdown",
      "source": [
        "# **Domanda n.1.4:**\n",
        "\n",
        "---\n",
        "\n",
        "\n",
        "Come si distribuisce il valore delle prenotazioni precedenti (cancellate e non) e come aver già prenotato presso l'hotel influisce sulla media delle cancellazioni? Esiste una differenza, per quanto riguarda la media delle cancellazioni, tra avere già avuto una prenotazione non cancellata e una cancellazione?"
      ],
      "metadata": {
        "id": "450pvgseHwha"
      }
    },
    {
      "cell_type": "code",
      "source": [
        "cancellazioni_tr = train[\"previous_cancellations\"].value_counts().sort_index()\n",
        "print(cancellazioni_tr)"
      ],
      "metadata": {
        "id": "j_UOmPJJJYlS",
        "outputId": "c126e8b8-3ab3-48fc-ad65-2cd73ba12463",
        "colab": {
          "base_uri": "https://localhost:8080/"
        }
      },
      "execution_count": 34,
      "outputs": [
        {
          "output_type": "stream",
          "name": "stdout",
          "text": [
            "0     54936\n",
            "1      1595\n",
            "2        48\n",
            "3        51\n",
            "4        12\n",
            "5        13\n",
            "6         7\n",
            "11       33\n",
            "13       12\n",
            "Name: previous_cancellations, dtype: int64\n"
          ]
        }
      ]
    },
    {
      "cell_type": "code",
      "source": [
        "canc_prec_tot_train = tot_train - 54936\n",
        "print(canc_prec_tot_train)"
      ],
      "metadata": {
        "id": "rZcYJgf84krV",
        "outputId": "31e302c7-8911-4b4f-fb48-8ddaf5973819",
        "colab": {
          "base_uri": "https://localhost:8080/"
        }
      },
      "execution_count": 35,
      "outputs": [
        {
          "output_type": "stream",
          "name": "stdout",
          "text": [
            "1771\n"
          ]
        }
      ]
    },
    {
      "cell_type": "code",
      "source": [
        "cancellazioni_te = test[\"previous_cancellations\"].value_counts()\n",
        "print(cancellazioni_te)"
      ],
      "metadata": {
        "id": "2igQ1PJ9Mz_w",
        "outputId": "b8b2d642-51fe-4382-b69b-fc85fedbea65",
        "colab": {
          "base_uri": "https://localhost:8080/"
        }
      },
      "execution_count": 36,
      "outputs": [
        {
          "output_type": "stream",
          "name": "stdout",
          "text": [
            "0    40409\n",
            "1      195\n",
            "2       37\n",
            "4       19\n",
            "6       15\n",
            "3        6\n",
            "5        6\n",
            "Name: previous_cancellations, dtype: int64\n"
          ]
        }
      ]
    },
    {
      "cell_type": "code",
      "source": [
        "canc_prec_tot_test = tot_test - 40409\n",
        "print(canc_prec_tot_test)"
      ],
      "metadata": {
        "id": "uBA4mkKM4wSe",
        "outputId": "ba4b4ced-f916-404e-84ad-ed4d7d4a8a71",
        "colab": {
          "base_uri": "https://localhost:8080/"
        }
      },
      "execution_count": 37,
      "outputs": [
        {
          "output_type": "stream",
          "name": "stdout",
          "text": [
            "278\n"
          ]
        }
      ]
    },
    {
      "cell_type": "code",
      "source": [
        "non_cancellazioni_tr = train[\"previous_bookings_not_canceled\"].value_counts().sort_index()\n",
        "print(non_cancellazioni_tr)"
      ],
      "metadata": {
        "id": "3_XIlI2gM5hr",
        "outputId": "bc87c9c1-7c8c-456a-d99d-685081b91d51",
        "colab": {
          "base_uri": "https://localhost:8080/"
        }
      },
      "execution_count": 38,
      "outputs": [
        {
          "output_type": "stream",
          "name": "stdout",
          "text": [
            "0     54827\n",
            "1       777\n",
            "2       289\n",
            "3       183\n",
            "4       138\n",
            "5       110\n",
            "6        62\n",
            "7        43\n",
            "8        36\n",
            "9        27\n",
            "10       22\n",
            "11       18\n",
            "12       15\n",
            "13       10\n",
            "14       11\n",
            "15       11\n",
            "16       10\n",
            "17        9\n",
            "18        9\n",
            "19        8\n",
            "20        9\n",
            "21        9\n",
            "22        9\n",
            "23        4\n",
            "24        4\n",
            "25       11\n",
            "26        2\n",
            "27        4\n",
            "28        3\n",
            "29        3\n",
            "30        2\n",
            "31        2\n",
            "32        2\n",
            "33        1\n",
            "34        1\n",
            "35        1\n",
            "36        1\n",
            "37        1\n",
            "38        1\n",
            "39        1\n",
            "40        1\n",
            "41        1\n",
            "42        1\n",
            "43        1\n",
            "44        2\n",
            "45        1\n",
            "46        1\n",
            "47        1\n",
            "48        2\n",
            "49        1\n",
            "50        1\n",
            "51        1\n",
            "52        1\n",
            "53        1\n",
            "54        1\n",
            "55        1\n",
            "56        1\n",
            "57        1\n",
            "58        1\n",
            "Name: previous_bookings_not_canceled, dtype: int64\n"
          ]
        }
      ]
    },
    {
      "cell_type": "code",
      "source": [
        "non_canc_tot_tr = tot_train - 54827\n",
        "print(non_canc_tot_tr)"
      ],
      "metadata": {
        "id": "eZW4GJxE8qNE",
        "outputId": "547a39e0-ce12-44e4-8acd-3228dfec0449",
        "colab": {
          "base_uri": "https://localhost:8080/"
        }
      },
      "execution_count": 39,
      "outputs": [
        {
          "output_type": "stream",
          "name": "stdout",
          "text": [
            "1880\n"
          ]
        }
      ]
    },
    {
      "cell_type": "code",
      "source": [
        "non_cancellazioni_te = test[\"previous_bookings_not_canceled\"].value_counts().sort_index()\n",
        "print(non_cancellazioni_te)"
      ],
      "metadata": {
        "id": "eYnS-MjONTQl",
        "outputId": "3c659255-6316-4a9a-b780-f3277c64bf26",
        "colab": {
          "base_uri": "https://localhost:8080/"
        }
      },
      "execution_count": 40,
      "outputs": [
        {
          "output_type": "stream",
          "name": "stdout",
          "text": [
            "0     39259\n",
            "1       590\n",
            "2       231\n",
            "3       122\n",
            "4        80\n",
            "5        60\n",
            "6        46\n",
            "7        39\n",
            "8        30\n",
            "9        30\n",
            "10       29\n",
            "11       23\n",
            "12       21\n",
            "13       19\n",
            "14       16\n",
            "15       10\n",
            "16       10\n",
            "17        7\n",
            "18        5\n",
            "19        5\n",
            "20        3\n",
            "21        3\n",
            "22        1\n",
            "23        3\n",
            "24        5\n",
            "25        6\n",
            "26        5\n",
            "27        5\n",
            "28        4\n",
            "29        3\n",
            "30        2\n",
            "58        1\n",
            "59        1\n",
            "60        1\n",
            "61        1\n",
            "62        1\n",
            "63        1\n",
            "64        1\n",
            "65        1\n",
            "66        1\n",
            "67        1\n",
            "68        1\n",
            "69        1\n",
            "70        1\n",
            "71        1\n",
            "72        1\n",
            "Name: previous_bookings_not_canceled, dtype: int64\n"
          ]
        }
      ]
    },
    {
      "cell_type": "code",
      "source": [
        "non_canc_tot_te = tot_test - 39259\n",
        "print(non_canc_tot_te)"
      ],
      "metadata": {
        "id": "eWP4C-qo810p",
        "outputId": "02ab9b78-3c76-4e63-f59c-afc70491a6ce",
        "colab": {
          "base_uri": "https://localhost:8080/"
        }
      },
      "execution_count": 41,
      "outputs": [
        {
          "output_type": "stream",
          "name": "stdout",
          "text": [
            "1428\n"
          ]
        }
      ]
    },
    {
      "cell_type": "code",
      "source": [
        "train[\"prenotazioni_precedenti\"] = train[\"previous_bookings_not_canceled\"] + train[\"previous_cancellations\"]\n",
        "prenotazioni_tr = train[\"prenotazioni_precedenti\"].value_counts().sort_index()\n",
        "print(prenotazioni_tr)"
      ],
      "metadata": {
        "id": "Nk1X51onPORW",
        "outputId": "383cba44-bf73-4023-c2ed-71e5f01de356",
        "colab": {
          "base_uri": "https://localhost:8080/"
        }
      },
      "execution_count": 42,
      "outputs": [
        {
          "output_type": "stream",
          "name": "stdout",
          "text": [
            "0     53380\n",
            "1      2162\n",
            "2       302\n",
            "3       179\n",
            "4       125\n",
            "      ...  \n",
            "59        1\n",
            "60        1\n",
            "61        1\n",
            "62        1\n",
            "64        1\n",
            "Name: prenotazioni_precedenti, Length: 63, dtype: int64\n"
          ]
        }
      ]
    },
    {
      "cell_type": "code",
      "source": [
        "pren_prec_tot_train= tot_train - 53380\n",
        "print(pren_prec_tot_train)"
      ],
      "metadata": {
        "id": "aF9JkVwf3a7s",
        "outputId": "90f04d72-3646-4dfa-aec0-04958e9cdbd1",
        "colab": {
          "base_uri": "https://localhost:8080/"
        }
      },
      "execution_count": 43,
      "outputs": [
        {
          "output_type": "stream",
          "name": "stdout",
          "text": [
            "3327\n"
          ]
        }
      ]
    },
    {
      "cell_type": "code",
      "source": [
        "test[\"prenotazioni_precedenti\"] = test[\"previous_bookings_not_canceled\"] + test[\"previous_cancellations\"]\n",
        "prenotazioni_te = test[\"prenotazioni_precedenti\"].value_counts().sort_index()\n",
        "print(prenotazioni_te)"
      ],
      "metadata": {
        "id": "evpMaTvHUtIN",
        "outputId": "9cac627c-09d0-4585-8133-d0c8249fc121",
        "colab": {
          "base_uri": "https://localhost:8080/"
        }
      },
      "execution_count": 44,
      "outputs": [
        {
          "output_type": "stream",
          "name": "stdout",
          "text": [
            "0     39253\n",
            "1       570\n",
            "2       236\n",
            "3       122\n",
            "4        89\n",
            "5        58\n",
            "6        47\n",
            "7        31\n",
            "8        32\n",
            "9        31\n",
            "10       26\n",
            "11       23\n",
            "12       21\n",
            "13       18\n",
            "14       18\n",
            "15       15\n",
            "16       14\n",
            "17       10\n",
            "18        5\n",
            "19        5\n",
            "20        5\n",
            "21        3\n",
            "22        2\n",
            "23        3\n",
            "24        5\n",
            "25        6\n",
            "26        4\n",
            "27        5\n",
            "28        4\n",
            "29        3\n",
            "30        3\n",
            "31        2\n",
            "32        1\n",
            "33        1\n",
            "34        1\n",
            "64        1\n",
            "65        1\n",
            "66        1\n",
            "67        1\n",
            "68        1\n",
            "69        1\n",
            "70        1\n",
            "71        1\n",
            "72        1\n",
            "73        1\n",
            "74        1\n",
            "75        1\n",
            "76        1\n",
            "77        1\n",
            "78        1\n",
            "Name: prenotazioni_precedenti, dtype: int64\n"
          ]
        }
      ]
    },
    {
      "cell_type": "code",
      "source": [
        "pren_prec_tot_test= tot_test - 39253\n",
        "print(pren_prec_tot_test)"
      ],
      "metadata": {
        "id": "Eu1AAvpi4R-3",
        "outputId": "bdd05d58-0220-4e85-deb2-9e4aa284404d",
        "colab": {
          "base_uri": "https://localhost:8080/"
        }
      },
      "execution_count": 45,
      "outputs": [
        {
          "output_type": "stream",
          "name": "stdout",
          "text": [
            "1434\n"
          ]
        }
      ]
    },
    {
      "cell_type": "code",
      "source": [
        "media_canc_non_canc_tr=train.groupby(train[\"previous_bookings_not_canceled\"])[\"is_canceled\"].mean()\n",
        "print(media_canc_non_canc_tr)"
      ],
      "metadata": {
        "id": "ANMgOlw5OHLc",
        "outputId": "304cac98-88bf-45fe-8649-5032ce3ca1b2",
        "colab": {
          "base_uri": "https://localhost:8080/"
        }
      },
      "execution_count": 46,
      "outputs": [
        {
          "output_type": "stream",
          "name": "stdout",
          "text": [
            "previous_bookings_not_canceled\n",
            "0     0.368924\n",
            "1     0.055341\n",
            "2     0.038062\n",
            "3     0.043716\n",
            "4     0.072464\n",
            "5     0.081818\n",
            "6     0.048387\n",
            "7     0.023256\n",
            "8     0.055556\n",
            "9     0.000000\n",
            "10    0.136364\n",
            "11    0.111111\n",
            "12    0.200000\n",
            "13    0.000000\n",
            "14    0.000000\n",
            "15    0.181818\n",
            "16    0.000000\n",
            "17    0.000000\n",
            "18    0.000000\n",
            "19    0.000000\n",
            "20    0.000000\n",
            "21    0.000000\n",
            "22    0.000000\n",
            "23    0.000000\n",
            "24    0.000000\n",
            "25    0.727273\n",
            "26    0.000000\n",
            "27    0.250000\n",
            "28    0.000000\n",
            "29    0.333333\n",
            "30    0.000000\n",
            "31    0.000000\n",
            "32    0.000000\n",
            "33    0.000000\n",
            "34    0.000000\n",
            "35    0.000000\n",
            "36    0.000000\n",
            "37    0.000000\n",
            "38    0.000000\n",
            "39    0.000000\n",
            "40    0.000000\n",
            "41    0.000000\n",
            "42    0.000000\n",
            "43    0.000000\n",
            "44    0.500000\n",
            "45    0.000000\n",
            "46    0.000000\n",
            "47    0.000000\n",
            "48    0.500000\n",
            "49    0.000000\n",
            "50    0.000000\n",
            "51    0.000000\n",
            "52    0.000000\n",
            "53    0.000000\n",
            "54    0.000000\n",
            "55    0.000000\n",
            "56    0.000000\n",
            "57    0.000000\n",
            "58    1.000000\n",
            "Name: is_canceled, dtype: float64\n"
          ]
        }
      ]
    },
    {
      "cell_type": "code",
      "source": [
        "media_canc_non_canc_te =test.groupby(test[\"previous_bookings_not_canceled\"])[\"is_canceled\"].mean()\n",
        "print(media_canc_non_canc_te)"
      ],
      "metadata": {
        "id": "Df6Xuys6NiEa",
        "outputId": "ffb3c4c6-830d-40bc-e9e7-35227eb44d2d",
        "colab": {
          "base_uri": "https://localhost:8080/"
        }
      },
      "execution_count": 47,
      "outputs": [
        {
          "output_type": "stream",
          "name": "stdout",
          "text": [
            "previous_bookings_not_canceled\n",
            "0     0.399272\n",
            "1     0.049153\n",
            "2     0.060606\n",
            "3     0.040984\n",
            "4     0.025000\n",
            "5     0.016667\n",
            "6     0.000000\n",
            "7     0.076923\n",
            "8     0.033333\n",
            "9     0.000000\n",
            "10    0.137931\n",
            "11    0.130435\n",
            "12    0.000000\n",
            "13    0.105263\n",
            "14    0.125000\n",
            "15    0.000000\n",
            "16    0.100000\n",
            "17    0.142857\n",
            "18    0.000000\n",
            "19    0.000000\n",
            "20    0.000000\n",
            "21    0.000000\n",
            "22    0.000000\n",
            "23    0.000000\n",
            "24    0.000000\n",
            "25    0.000000\n",
            "26    0.200000\n",
            "27    0.200000\n",
            "28    0.000000\n",
            "29    0.000000\n",
            "30    0.000000\n",
            "58    0.000000\n",
            "59    0.000000\n",
            "60    0.000000\n",
            "61    0.000000\n",
            "62    0.000000\n",
            "63    0.000000\n",
            "64    0.000000\n",
            "65    0.000000\n",
            "66    0.000000\n",
            "67    0.000000\n",
            "68    0.000000\n",
            "69    0.000000\n",
            "70    0.000000\n",
            "71    0.000000\n",
            "72    0.000000\n",
            "Name: is_canceled, dtype: float64\n"
          ]
        }
      ]
    },
    {
      "cell_type": "code",
      "source": [
        "media_canc_canc_tr = train.groupby(train[\"previous_cancellations\"])[\"is_canceled\"].mean()\n",
        "print(media_canc_canc_tr)"
      ],
      "metadata": {
        "id": "3Whe03PWVAq6",
        "outputId": "a2165422-8ddd-4798-fa3b-7cda2852313f",
        "colab": {
          "base_uri": "https://localhost:8080/"
        }
      },
      "execution_count": 48,
      "outputs": [
        {
          "output_type": "stream",
          "name": "stdout",
          "text": [
            "previous_cancellations\n",
            "0     0.342799\n",
            "1     0.909718\n",
            "2     0.312500\n",
            "3     0.196078\n",
            "4     0.083333\n",
            "5     0.153846\n",
            "6     1.000000\n",
            "11    0.242424\n",
            "13    0.916667\n",
            "Name: is_canceled, dtype: float64\n"
          ]
        }
      ]
    },
    {
      "cell_type": "code",
      "source": [
        "media_canc_canc_te = test.groupby(test[\"previous_cancellations\"])[\"is_canceled\"].mean()\n",
        "print(media_canc_canc_te)"
      ],
      "metadata": {
        "id": "bFsGmYm5Vhmg",
        "outputId": "3339d3f7-fcd0-4b85-e4d4-c6c6a48b127a",
        "colab": {
          "base_uri": "https://localhost:8080/"
        }
      },
      "execution_count": 49,
      "outputs": [
        {
          "output_type": "stream",
          "name": "stdout",
          "text": [
            "previous_cancellations\n",
            "0    0.388453\n",
            "1    0.174359\n",
            "2    0.162162\n",
            "3    0.333333\n",
            "4    0.315789\n",
            "5    0.000000\n",
            "6    0.000000\n",
            "Name: is_canceled, dtype: float64\n"
          ]
        }
      ]
    },
    {
      "cell_type": "code",
      "source": [
        "media_pren_prec_tr=train.groupby(train[\"prenotazioni_precedenti\"])[\"is_canceled\"].mean()\n",
        "print(media_pren_prec_tr)"
      ],
      "metadata": {
        "id": "eq9p2QCoU3_e",
        "outputId": "7635712e-e25a-4620-8c3c-2c832d45b39f",
        "colab": {
          "base_uri": "https://localhost:8080/"
        }
      },
      "execution_count": 50,
      "outputs": [
        {
          "output_type": "stream",
          "name": "stdout",
          "text": [
            "prenotazioni_precedenti\n",
            "0     0.352154\n",
            "1     0.663275\n",
            "2     0.076159\n",
            "3     0.039106\n",
            "4     0.056000\n",
            "        ...   \n",
            "59    0.000000\n",
            "60    0.000000\n",
            "61    0.000000\n",
            "62    0.000000\n",
            "64    1.000000\n",
            "Name: is_canceled, Length: 63, dtype: float64\n"
          ]
        }
      ]
    },
    {
      "cell_type": "code",
      "source": [
        "media_pren_prec_te=test.groupby(test[\"prenotazioni_precedenti\"])[\"is_canceled\"].mean()\n",
        "print(media_pren_prec_te)"
      ],
      "metadata": {
        "id": "e9VUjubAVez6",
        "outputId": "bbb23e9c-edb3-43d8-c778-f37cb79f9df7",
        "colab": {
          "base_uri": "https://localhost:8080/"
        }
      },
      "execution_count": 51,
      "outputs": [
        {
          "output_type": "stream",
          "name": "stdout",
          "text": [
            "prenotazioni_precedenti\n",
            "0     0.399256\n",
            "1     0.024561\n",
            "2     0.093220\n",
            "3     0.073770\n",
            "4     0.067416\n",
            "5     0.051724\n",
            "6     0.000000\n",
            "7     0.032258\n",
            "8     0.031250\n",
            "9     0.032258\n",
            "10    0.076923\n",
            "11    0.130435\n",
            "12    0.000000\n",
            "13    0.000000\n",
            "14    0.055556\n",
            "15    0.200000\n",
            "16    0.214286\n",
            "17    0.100000\n",
            "18    0.000000\n",
            "19    0.000000\n",
            "20    0.000000\n",
            "21    0.333333\n",
            "22    0.000000\n",
            "23    0.000000\n",
            "24    0.000000\n",
            "25    0.000000\n",
            "26    0.000000\n",
            "27    0.200000\n",
            "28    0.000000\n",
            "29    0.000000\n",
            "30    0.333333\n",
            "31    0.000000\n",
            "32    0.000000\n",
            "33    0.000000\n",
            "34    0.000000\n",
            "64    0.000000\n",
            "65    0.000000\n",
            "66    0.000000\n",
            "67    0.000000\n",
            "68    0.000000\n",
            "69    0.000000\n",
            "70    0.000000\n",
            "71    0.000000\n",
            "72    0.000000\n",
            "73    0.000000\n",
            "74    0.000000\n",
            "75    0.000000\n",
            "76    0.000000\n",
            "77    0.000000\n",
            "78    0.000000\n",
            "Name: is_canceled, dtype: float64\n"
          ]
        }
      ]
    },
    {
      "cell_type": "markdown",
      "source": [
        "**Risposta n.1.4**:\n",
        "\n",
        "---\n",
        "\n",
        "\n",
        "* Il numero di persone che hanno almeno una prenotazione non cancellata presso l'hotel è abbastanza omogeneo nei due dataset (1880 per il train e 1428 per il test).  \n",
        "* Quello invece al numero di ospiti con almeno una cancellazione riscontra un valore anomalo, in quanto nel train è di 1771 e invece nel test appena 278, in più la media di cancellazioni, nel train, di chi aveva già una cancellazione precedente risulta estremamente alta (90% circa).\n",
        "* In generale avere già una prenotazione precedente diminuisce di molto la media delle cancellazioni, anche se questo è più evidente per chi aveva una prenotazione non cancellata."
      ],
      "metadata": {
        "id": "oM9yc0bvOA4G"
      }
    },
    {
      "cell_type": "markdown",
      "source": [
        "# **Domanda n.1.5:**\n",
        "\n",
        "---\n",
        "\n",
        "\n",
        "Come si distribuiscono i dati relativamente alla durata del soggiorno nei due dataset? Qual è la media di notti prenotate? Quante durante la settimana? Quante durante il weekend?"
      ],
      "metadata": {
        "id": "UTSjn7hIPWKT"
      }
    },
    {
      "cell_type": "code",
      "source": [
        "weekend_tr = train[\"stays_in_weekend_nights\"].value_counts().sort_index()\n",
        "print(weekend_tr)"
      ],
      "metadata": {
        "id": "oGObUmI4uFH4",
        "outputId": "e4248443-8d77-4e73-a02c-2aa0db4e6228",
        "colab": {
          "base_uri": "https://localhost:8080/"
        }
      },
      "execution_count": 52,
      "outputs": [
        {
          "output_type": "stream",
          "name": "stdout",
          "text": [
            "0     25340\n",
            "1     14987\n",
            "2     14807\n",
            "3       602\n",
            "4       818\n",
            "5        44\n",
            "6        59\n",
            "7         7\n",
            "8        29\n",
            "9         6\n",
            "10        2\n",
            "12        2\n",
            "14        2\n",
            "16        1\n",
            "19        1\n",
            "Name: stays_in_weekend_nights, dtype: int64\n"
          ]
        }
      ]
    },
    {
      "cell_type": "code",
      "source": [
        "weekend_te = test[\"stays_in_weekend_nights\"].value_counts().sort_index()\n",
        "print(weekend_te)"
      ],
      "metadata": {
        "id": "oLCoChf7uQkK",
        "outputId": "f9bef580-f1c2-4fd3-eb4e-46b39997d22a",
        "colab": {
          "base_uri": "https://localhost:8080/"
        }
      },
      "execution_count": 53,
      "outputs": [
        {
          "output_type": "stream",
          "name": "stdout",
          "text": [
            "0     16885\n",
            "1     10433\n",
            "2     12138\n",
            "3       408\n",
            "4       689\n",
            "5        15\n",
            "6        81\n",
            "7         2\n",
            "8        23\n",
            "9         1\n",
            "10        5\n",
            "12        3\n",
            "13        2\n",
            "16        2\n",
            "Name: stays_in_weekend_nights, dtype: int64\n"
          ]
        }
      ]
    },
    {
      "cell_type": "code",
      "source": [
        "per_end_tr = (weekend_tr / len(train) * 100).sort_index()\n",
        "print(per_end_tr)"
      ],
      "metadata": {
        "id": "Gpu51VtOWZZm",
        "outputId": "e9d8fd9c-d98e-4179-cae7-9f5699e883fd",
        "colab": {
          "base_uri": "https://localhost:8080/"
        }
      },
      "execution_count": 54,
      "outputs": [
        {
          "output_type": "stream",
          "name": "stdout",
          "text": [
            "0     44.685841\n",
            "1     26.428836\n",
            "2     26.111415\n",
            "3      1.061597\n",
            "4      1.442503\n",
            "5      0.077592\n",
            "6      0.104044\n",
            "7      0.012344\n",
            "8      0.051140\n",
            "9      0.010581\n",
            "10     0.003527\n",
            "12     0.003527\n",
            "14     0.003527\n",
            "16     0.001763\n",
            "19     0.001763\n",
            "Name: stays_in_weekend_nights, dtype: float64\n"
          ]
        }
      ]
    },
    {
      "cell_type": "code",
      "source": [
        "per_end_te = (weekend_te / len(test) * 100).sort_index()\n",
        "print(per_end_te)"
      ],
      "metadata": {
        "id": "Inr_p5pOWr7u",
        "outputId": "b6cc0c10-c17a-44d2-8d04-97df89c072aa",
        "colab": {
          "base_uri": "https://localhost:8080/"
        }
      },
      "execution_count": 55,
      "outputs": [
        {
          "output_type": "stream",
          "name": "stdout",
          "text": [
            "0     41.499742\n",
            "1     25.642097\n",
            "2     29.832625\n",
            "3      1.002777\n",
            "4      1.693416\n",
            "5      0.036867\n",
            "6      0.199081\n",
            "7      0.004916\n",
            "8      0.056529\n",
            "9      0.002458\n",
            "10     0.012289\n",
            "12     0.007373\n",
            "13     0.004916\n",
            "16     0.004916\n",
            "Name: stays_in_weekend_nights, dtype: float64\n"
          ]
        }
      ]
    },
    {
      "cell_type": "code",
      "source": [
        "week_tr=train[\"stays_in_week_nights\"].value_counts().sort_index()\n",
        "print(week_tr)"
      ],
      "metadata": {
        "id": "3DwunHyeuVS7",
        "outputId": "4d7f85de-9872-4758-8061-a09df0b07ff4",
        "colab": {
          "base_uri": "https://localhost:8080/"
        }
      },
      "execution_count": 56,
      "outputs": [
        {
          "output_type": "stream",
          "name": "stdout",
          "text": [
            "0      3978\n",
            "1     14464\n",
            "2     16209\n",
            "3     10651\n",
            "4      4376\n",
            "5      4901\n",
            "6       640\n",
            "7       455\n",
            "8       289\n",
            "9        97\n",
            "10      487\n",
            "11       27\n",
            "12       15\n",
            "13       12\n",
            "14       11\n",
            "15       37\n",
            "16        3\n",
            "17        3\n",
            "18        5\n",
            "19        4\n",
            "20       22\n",
            "21        8\n",
            "22        3\n",
            "24        1\n",
            "25        3\n",
            "30        2\n",
            "34        1\n",
            "35        1\n",
            "41        1\n",
            "50        1\n",
            "Name: stays_in_week_nights, dtype: int64\n"
          ]
        }
      ]
    },
    {
      "cell_type": "code",
      "source": [
        "week_te = test[\"stays_in_week_nights\"].value_counts().sort_index()\n",
        "print(week_te)"
      ],
      "metadata": {
        "id": "BkRTMsKiudDS",
        "outputId": "b96b4a8a-f89a-4fac-dd9c-9062d5deb133",
        "colab": {
          "base_uri": "https://localhost:8080/"
        }
      },
      "execution_count": 57,
      "outputs": [
        {
          "output_type": "stream",
          "name": "stdout",
          "text": [
            "0      2452\n",
            "1      9864\n",
            "2     10535\n",
            "3      8349\n",
            "4      3587\n",
            "5      4187\n",
            "6       515\n",
            "7       362\n",
            "8       236\n",
            "9        88\n",
            "10      338\n",
            "11       14\n",
            "12       18\n",
            "13        8\n",
            "14       22\n",
            "15       33\n",
            "16        7\n",
            "17        1\n",
            "18        1\n",
            "19       39\n",
            "20       12\n",
            "21        5\n",
            "22        4\n",
            "25        3\n",
            "26        1\n",
            "30        3\n",
            "32        1\n",
            "40        2\n",
            "Name: stays_in_week_nights, dtype: int64\n"
          ]
        }
      ]
    },
    {
      "cell_type": "code",
      "source": [
        "media_weekend_tr = train[\"stays_in_weekend_nights\"].mean()\n",
        "print(media_weekend_tr)"
      ],
      "metadata": {
        "id": "QPOMhVGxukHC",
        "outputId": "e4886a6d-2bc7-449c-c865-c913d79db149",
        "colab": {
          "base_uri": "https://localhost:8080/"
        }
      },
      "execution_count": 58,
      "outputs": [
        {
          "output_type": "stream",
          "name": "stdout",
          "text": [
            "0.8939813426913785\n"
          ]
        }
      ]
    },
    {
      "cell_type": "code",
      "source": [
        "media_weekend_te = test[\"stays_in_weekend_nights\"].mean()\n",
        "print(media_weekend_te)"
      ],
      "metadata": {
        "id": "qyhwIM-GuxAv",
        "outputId": "7afba47e-7594-4112-ccd5-fa268eb28217",
        "colab": {
          "base_uri": "https://localhost:8080/"
        }
      },
      "execution_count": 59,
      "outputs": [
        {
          "output_type": "stream",
          "name": "stdout",
          "text": [
            "0.9733084277533365\n"
          ]
        }
      ]
    },
    {
      "cell_type": "code",
      "source": [
        "media_week_tr =train[\"stays_in_week_nights\"].mean()\n",
        "print(media_week_tr)"
      ],
      "metadata": {
        "id": "7Y4t3twZunMi",
        "outputId": "b723f348-e9db-44c3-fbd5-9851397800bb",
        "colab": {
          "base_uri": "https://localhost:8080/"
        }
      },
      "execution_count": 60,
      "outputs": [
        {
          "output_type": "stream",
          "name": "stdout",
          "text": [
            "2.4428024758848115\n"
          ]
        }
      ]
    },
    {
      "cell_type": "code",
      "source": [
        "media_week_te = test[\"stays_in_week_nights\"].mean()\n",
        "print(media_week_te)"
      ],
      "metadata": {
        "id": "Zj_WVShkuz5m",
        "outputId": "e7e5cdde-ec9a-45d7-e22e-6643cb859553",
        "colab": {
          "base_uri": "https://localhost:8080/"
        }
      },
      "execution_count": 61,
      "outputs": [
        {
          "output_type": "stream",
          "name": "stdout",
          "text": [
            "2.601543490549807\n"
          ]
        }
      ]
    },
    {
      "cell_type": "code",
      "source": [
        "per_week_tr = (week_tr / len(train) * 100).sort_index()\n",
        "print(per_week_tr)"
      ],
      "metadata": {
        "id": "hfhlHhrMu9CS",
        "outputId": "c71a8084-e8e2-48b5-e197-1ac75f189afd",
        "colab": {
          "base_uri": "https://localhost:8080/"
        }
      },
      "execution_count": 62,
      "outputs": [
        {
          "output_type": "stream",
          "name": "stdout",
          "text": [
            "0      7.015007\n",
            "1     25.506551\n",
            "2     28.583773\n",
            "3     18.782514\n",
            "4      7.716860\n",
            "5      8.642672\n",
            "6      1.128608\n",
            "7      0.802370\n",
            "8      0.509637\n",
            "9      0.171055\n",
            "10     0.858801\n",
            "11     0.047613\n",
            "12     0.026452\n",
            "13     0.021161\n",
            "14     0.019398\n",
            "15     0.065248\n",
            "16     0.005290\n",
            "17     0.005290\n",
            "18     0.008817\n",
            "19     0.007054\n",
            "20     0.038796\n",
            "21     0.014108\n",
            "22     0.005290\n",
            "24     0.001763\n",
            "25     0.005290\n",
            "30     0.003527\n",
            "34     0.001763\n",
            "35     0.001763\n",
            "41     0.001763\n",
            "50     0.001763\n",
            "Name: stays_in_week_nights, dtype: float64\n"
          ]
        }
      ]
    },
    {
      "cell_type": "code",
      "source": [
        "per_week_te = (week_te / len(test) * 100).sort_index()\n",
        "print(per_week_te)"
      ],
      "metadata": {
        "id": "14eBDEIivCIC",
        "outputId": "bf09e363-6a43-455c-893b-f69ab0df035d",
        "colab": {
          "base_uri": "https://localhost:8080/"
        }
      },
      "execution_count": 63,
      "outputs": [
        {
          "output_type": "stream",
          "name": "stdout",
          "text": [
            "0      6.026495\n",
            "1     24.243616\n",
            "2     25.892791\n",
            "3     20.520068\n",
            "4      8.816084\n",
            "5     10.290756\n",
            "6      1.265761\n",
            "7      0.889719\n",
            "8      0.580038\n",
            "9      0.216285\n",
            "10     0.830732\n",
            "11     0.034409\n",
            "12     0.044240\n",
            "13     0.019662\n",
            "14     0.054071\n",
            "15     0.081107\n",
            "16     0.017205\n",
            "17     0.002458\n",
            "18     0.002458\n",
            "19     0.095854\n",
            "20     0.029493\n",
            "21     0.012289\n",
            "22     0.009831\n",
            "25     0.007373\n",
            "26     0.002458\n",
            "30     0.007373\n",
            "32     0.002458\n",
            "40     0.004916\n",
            "Name: stays_in_week_nights, dtype: float64\n"
          ]
        }
      ]
    },
    {
      "cell_type": "code",
      "source": [
        "train[\"giorni_totali\"] = train[\"stays_in_week_nights\"] + train[\"stays_in_weekend_nights\"]\n",
        "giorni_tr = train[\"giorni_totali\"].value_counts().sort_index()\n",
        "print(giorni_tr)"
      ],
      "metadata": {
        "id": "9irS3rYbxTec",
        "outputId": "05bb0e3a-6f3e-4434-8947-cb56f0c16c88",
        "colab": {
          "base_uri": "https://localhost:8080/"
        }
      },
      "execution_count": 64,
      "outputs": [
        {
          "output_type": "stream",
          "name": "stdout",
          "text": [
            "0       417\n",
            "1     10803\n",
            "2     12912\n",
            "3     13119\n",
            "4      7928\n",
            "5      3672\n",
            "6      1817\n",
            "7      3711\n",
            "8       507\n",
            "9       389\n",
            "10      494\n",
            "11      169\n",
            "12       94\n",
            "13       54\n",
            "14      435\n",
            "15       46\n",
            "16       12\n",
            "17       11\n",
            "18        8\n",
            "19        7\n",
            "20       10\n",
            "21       34\n",
            "22        3\n",
            "23        2\n",
            "24        4\n",
            "25        1\n",
            "26        5\n",
            "27        1\n",
            "28       19\n",
            "29        8\n",
            "30        5\n",
            "33        1\n",
            "34        1\n",
            "35        2\n",
            "42        2\n",
            "48        1\n",
            "49        1\n",
            "57        1\n",
            "69        1\n",
            "Name: giorni_totali, dtype: int64\n"
          ]
        }
      ]
    },
    {
      "cell_type": "code",
      "source": [
        "test[\"giorni_totali\"] = test[\"stays_in_week_nights\"] + test[\"stays_in_weekend_nights\"]\n",
        "giorni_te=test[\"giorni_totali\"].value_counts().sort_index()\n",
        "print(giorni_te)"
      ],
      "metadata": {
        "id": "VMj0w5HKx2AN",
        "outputId": "9dd6df22-1d89-4d66-e305-a772e0bf9756",
        "colab": {
          "base_uri": "https://localhost:8080/"
        }
      },
      "execution_count": 65,
      "outputs": [
        {
          "output_type": "stream",
          "name": "stdout",
          "text": [
            "0      144\n",
            "1     6764\n",
            "2     8159\n",
            "3     9681\n",
            "4     6558\n",
            "5     2862\n",
            "6     1300\n",
            "7     3370\n",
            "8      380\n",
            "9      280\n",
            "10     421\n",
            "11     155\n",
            "12      82\n",
            "13      37\n",
            "14     314\n",
            "15      16\n",
            "16      17\n",
            "17       5\n",
            "18      23\n",
            "19       7\n",
            "20       1\n",
            "21      32\n",
            "22       5\n",
            "23       1\n",
            "24       2\n",
            "25      36\n",
            "26       1\n",
            "27       3\n",
            "28      10\n",
            "29       4\n",
            "30       7\n",
            "35       3\n",
            "38       1\n",
            "42       2\n",
            "43       1\n",
            "45       1\n",
            "56       2\n",
            "Name: giorni_totali, dtype: int64\n"
          ]
        }
      ]
    },
    {
      "cell_type": "code",
      "source": [
        "media_giorni_tot_tr = train[\"giorni_totali\"].mean()\n",
        "print(media_giorni_tot_tr)"
      ],
      "metadata": {
        "id": "yXngitKyT1yQ",
        "outputId": "d73ad4d6-0e8a-49a7-8b7b-d35d7d6c2c55",
        "colab": {
          "base_uri": "https://localhost:8080/"
        }
      },
      "execution_count": 66,
      "outputs": [
        {
          "output_type": "stream",
          "name": "stdout",
          "text": [
            "3.33678381857619\n"
          ]
        }
      ]
    },
    {
      "cell_type": "code",
      "source": [
        "media_giorni_tot_te = test[\"giorni_totali\"].mean()\n",
        "print(media_giorni_tot_te)"
      ],
      "metadata": {
        "id": "ruJIfWUXT9tg",
        "outputId": "d6fce175-cada-4908-c7e1-c639de435305",
        "colab": {
          "base_uri": "https://localhost:8080/"
        }
      },
      "execution_count": 67,
      "outputs": [
        {
          "output_type": "stream",
          "name": "stdout",
          "text": [
            "3.5748519183031435\n"
          ]
        }
      ]
    },
    {
      "cell_type": "code",
      "source": [
        "per_giorni_tot_tr = (giorni_tr / len(train) * 100).sort_index()\n",
        "print(per_giorni_tot_tr)"
      ],
      "metadata": {
        "id": "yvq29TfUVQPL",
        "outputId": "a98625e2-8e0d-4325-feef-a7fcc22198ce",
        "colab": {
          "base_uri": "https://localhost:8080/"
        }
      },
      "execution_count": 68,
      "outputs": [
        {
          "output_type": "stream",
          "name": "stdout",
          "text": [
            "0      0.735359\n",
            "1     19.050558\n",
            "2     22.769676\n",
            "3     23.134710\n",
            "4     13.980637\n",
            "5      6.475391\n",
            "6      3.204190\n",
            "7      6.544166\n",
            "8      0.894070\n",
            "9      0.685982\n",
            "10     0.871145\n",
            "11     0.298023\n",
            "12     0.165764\n",
            "13     0.095226\n",
            "14     0.767101\n",
            "15     0.081119\n",
            "16     0.021161\n",
            "17     0.019398\n",
            "18     0.014108\n",
            "19     0.012344\n",
            "20     0.017635\n",
            "21     0.059957\n",
            "22     0.005290\n",
            "23     0.003527\n",
            "24     0.007054\n",
            "25     0.001763\n",
            "26     0.008817\n",
            "27     0.001763\n",
            "28     0.033506\n",
            "29     0.014108\n",
            "30     0.008817\n",
            "33     0.001763\n",
            "34     0.001763\n",
            "35     0.003527\n",
            "42     0.003527\n",
            "48     0.001763\n",
            "49     0.001763\n",
            "57     0.001763\n",
            "69     0.001763\n",
            "Name: giorni_totali, dtype: float64\n"
          ]
        }
      ]
    },
    {
      "cell_type": "code",
      "source": [
        "per_giorni_tot_te = (giorni_te / len(test) * 100).sort_index()\n",
        "print(per_giorni_tot_te)"
      ],
      "metadata": {
        "id": "6IqgcNweVgAz",
        "outputId": "7073b8f1-3868-4df6-b09c-e92fb652e56b",
        "colab": {
          "base_uri": "https://localhost:8080/"
        }
      },
      "execution_count": 69,
      "outputs": [
        {
          "output_type": "stream",
          "name": "stdout",
          "text": [
            "0      0.353921\n",
            "1     16.624475\n",
            "2     20.053088\n",
            "3     23.793841\n",
            "4     16.118170\n",
            "5      7.034188\n",
            "6      3.195124\n",
            "7      8.282744\n",
            "8      0.933959\n",
            "9      0.688180\n",
            "10     1.034729\n",
            "11     0.380957\n",
            "12     0.201539\n",
            "13     0.090938\n",
            "14     0.771745\n",
            "15     0.039325\n",
            "16     0.041782\n",
            "17     0.012289\n",
            "18     0.056529\n",
            "19     0.017205\n",
            "20     0.002458\n",
            "21     0.078649\n",
            "22     0.012289\n",
            "23     0.002458\n",
            "24     0.004916\n",
            "25     0.088480\n",
            "26     0.002458\n",
            "27     0.007373\n",
            "28     0.024578\n",
            "29     0.009831\n",
            "30     0.017205\n",
            "35     0.007373\n",
            "38     0.002458\n",
            "42     0.004916\n",
            "43     0.002458\n",
            "45     0.002458\n",
            "56     0.004916\n",
            "Name: giorni_totali, dtype: float64\n"
          ]
        }
      ]
    },
    {
      "cell_type": "markdown",
      "source": [
        "**Risposta n.1.5**:\n",
        "\n",
        "---\n",
        "\n",
        "\n",
        "* I dati ralativi ai giorni totali prenotati in hotel sembrano distribuiti in modo abbastanza omogeneo, sia per quanto riguarda i weekend sia per quanto riguarda i giorni feriali, la maggior parte delle prenotazioni si concentra tra l'1 e i 4 giorni totali ( circa 70%). Gran parte di esse (56% per il train e 59% per il test) prevede almeno una giornata durante il weekend.\n",
        "* La media di notti prenotate nel train è di 3.33 (0.89 per il weekend e 2.44 per la settimana), nel test, invece, è di 3,57 (0,97 per il weekend e 2,60 per la settimana)."
      ],
      "metadata": {
        "id": "4V385IkDwncS"
      }
    },
    {
      "cell_type": "markdown",
      "source": [
        "# **Domanda n.1.6**:\n",
        "\n",
        "---\n",
        "\n",
        "\n",
        "In che modo si distribuiscono i dati rispetto al tipo di prenotazione effettuata? Quali sono le percentuali di prenotazione relativamente alle varie tipologie di stanza? Cosa possiamo dire, inoltre, rispetto ai dati relativi alla prenotazione dei pasti?"
      ],
      "metadata": {
        "id": "ajwYQQ3FP_ii"
      }
    },
    {
      "cell_type": "code",
      "source": [
        "room_type_tr = train_non[\"reserved_room_type\"].value_counts().sort_index()\n",
        "print(room_type_tr)"
      ],
      "metadata": {
        "id": "x2e5giTzwq_q",
        "outputId": "190e3ff4-ab33-4a08-f725-13205d9b530e",
        "colab": {
          "base_uri": "https://localhost:8080/"
        }
      },
      "execution_count": 70,
      "outputs": [
        {
          "output_type": "stream",
          "name": "stdout",
          "text": [
            "A    40718\n",
            "B      672\n",
            "C      282\n",
            "D     9421\n",
            "E     2881\n",
            "F     1424\n",
            "G      997\n",
            "H      306\n",
            "P        6\n",
            "Name: reserved_room_type, dtype: int64\n"
          ]
        }
      ]
    },
    {
      "cell_type": "code",
      "source": [
        "room_type_te=test_non[\"reserved_room_type\"].value_counts().sort_index()\n",
        "print(room_type_te)"
      ],
      "metadata": {
        "id": "Jt0QY_1jycgR",
        "outputId": "6f69eb07-6327-4f30-8463-f16f1252d3f0",
        "colab": {
          "base_uri": "https://localhost:8080/"
        }
      },
      "execution_count": 71,
      "outputs": [
        {
          "output_type": "stream",
          "name": "stdout",
          "text": [
            "A    27556\n",
            "B      202\n",
            "C      479\n",
            "D     7594\n",
            "E     2701\n",
            "F     1099\n",
            "G      837\n",
            "H      213\n",
            "P        6\n",
            "Name: reserved_room_type, dtype: int64\n"
          ]
        }
      ]
    },
    {
      "cell_type": "code",
      "source": [
        "per_room_tr = (room_type_tr / len(train) * 100).sort_index()\n",
        "print(per_room_tr)"
      ],
      "metadata": {
        "id": "sblzKI04y1rb",
        "outputId": "2cfea748-540f-49a1-cca0-d002b2f7d1de",
        "colab": {
          "base_uri": "https://localhost:8080/"
        }
      },
      "execution_count": 72,
      "outputs": [
        {
          "output_type": "stream",
          "name": "stdout",
          "text": [
            "A    71.804186\n",
            "B     1.185039\n",
            "C     0.497293\n",
            "D    16.613469\n",
            "E     5.080502\n",
            "F     2.511154\n",
            "G     1.758160\n",
            "H     0.539616\n",
            "P     0.010581\n",
            "Name: reserved_room_type, dtype: float64\n"
          ]
        }
      ]
    },
    {
      "cell_type": "code",
      "source": [
        "per_room_te = (room_type_te / len(test) * 100).sort_index()\n",
        "print(per_room_te)"
      ],
      "metadata": {
        "id": "5y82ZIKmzYny",
        "outputId": "55cc1d16-5449-4b3a-db26-22bc04fff7dc",
        "colab": {
          "base_uri": "https://localhost:8080/"
        }
      },
      "execution_count": 73,
      "outputs": [
        {
          "output_type": "stream",
          "name": "stdout",
          "text": [
            "A    67.726792\n",
            "B     0.496473\n",
            "C     1.177280\n",
            "D    18.664438\n",
            "E     6.638484\n",
            "F     2.701108\n",
            "G     2.057168\n",
            "H     0.523509\n",
            "P     0.014747\n",
            "Name: reserved_room_type, dtype: float64\n"
          ]
        }
      ]
    },
    {
      "cell_type": "code",
      "source": [
        "media_canc_room_tr = train_non.groupby(train_non[\"reserved_room_type\"])[\"is_canceled\"].mean()\n",
        "print(media_canc_room_tr)"
      ],
      "metadata": {
        "colab": {
          "base_uri": "https://localhost:8080/"
        },
        "id": "vwaJOTxub7VA",
        "outputId": "d7d1ccff-58aa-4c8d-89c5-b584655513d3"
      },
      "execution_count": 74,
      "outputs": [
        {
          "output_type": "stream",
          "name": "stdout",
          "text": [
            "reserved_room_type\n",
            "A    0.376124\n",
            "B    0.313988\n",
            "C    0.234043\n",
            "D    0.324594\n",
            "E    0.267963\n",
            "F    0.316713\n",
            "G    0.340020\n",
            "H    0.388889\n",
            "P    1.000000\n",
            "Name: is_canceled, dtype: float64\n"
          ]
        }
      ]
    },
    {
      "cell_type": "code",
      "source": [
        "media_canc_room_te = test_non.groupby(test_non[\"reserved_room_type\"])[\"is_canceled\"].mean()\n",
        "print(media_canc_room_te)"
      ],
      "metadata": {
        "colab": {
          "base_uri": "https://localhost:8080/"
        },
        "id": "JXR8NW15cM7t",
        "outputId": "c827b9b4-067b-430b-bdb0-3b23b2989f0a"
      },
      "execution_count": 75,
      "outputs": [
        {
          "output_type": "stream",
          "name": "stdout",
          "text": [
            "reserved_room_type\n",
            "A    0.399804\n",
            "B    0.430693\n",
            "C    0.427975\n",
            "D    0.350672\n",
            "E    0.347649\n",
            "F    0.338490\n",
            "G    0.425329\n",
            "H    0.469484\n",
            "P    1.000000\n",
            "Name: is_canceled, dtype: float64\n"
          ]
        }
      ]
    },
    {
      "cell_type": "code",
      "source": [
        "pasti_tr = train_non[\"meal\"].value_counts().sort_index()\n",
        "print(pasti_tr)"
      ],
      "metadata": {
        "id": "PuCrq-zN09JU",
        "outputId": "f6cad090-39cb-4a07-96d8-fe4f8ea2572e",
        "colab": {
          "base_uri": "https://localhost:8080/"
        }
      },
      "execution_count": 76,
      "outputs": [
        {
          "output_type": "stream",
          "name": "stdout",
          "text": [
            "BB           44551\n",
            "FB             334\n",
            "HB            6176\n",
            "SC            5060\n",
            "Undefined      586\n",
            "Name: meal, dtype: int64\n"
          ]
        }
      ]
    },
    {
      "cell_type": "code",
      "source": [
        "pasti_te =test_non[\"meal\"].value_counts().sort_index()\n",
        "print(pasti_te)"
      ],
      "metadata": {
        "id": "W-UM6N3e1F9Q",
        "outputId": "4ad53c52-381c-4ba3-8261-cffd0a77e4ae",
        "colab": {
          "base_uri": "https://localhost:8080/"
        }
      },
      "execution_count": 77,
      "outputs": [
        {
          "output_type": "stream",
          "name": "stdout",
          "text": [
            "BB           30524\n",
            "FB              95\n",
            "HB            4477\n",
            "SC            5178\n",
            "Undefined      413\n",
            "Name: meal, dtype: int64\n"
          ]
        }
      ]
    },
    {
      "cell_type": "code",
      "source": [
        "per_pasti_tr= (pasti_tr / len(train_non) * 100).sort_index()\n",
        "print(per_pasti_tr)"
      ],
      "metadata": {
        "id": "OEWr7god1TxE",
        "outputId": "7c5f83f3-45b0-4fc9-c5e6-8abbe4efac2b",
        "colab": {
          "base_uri": "https://localhost:8080/"
        }
      },
      "execution_count": 78,
      "outputs": [
        {
          "output_type": "stream",
          "name": "stdout",
          "text": [
            "BB           78.563493\n",
            "FB            0.588993\n",
            "HB           10.891072\n",
            "SC            8.923061\n",
            "Undefined     1.033382\n",
            "Name: meal, dtype: float64\n"
          ]
        }
      ]
    },
    {
      "cell_type": "code",
      "source": [
        "per_pasti_te = (pasti_te / len(test_non) * 100).sort_index()\n",
        "print(per_pasti_te)"
      ],
      "metadata": {
        "id": "BJoUBCT81K-G",
        "outputId": "df551380-16e3-4e2f-81a1-23e1f320c0fe",
        "colab": {
          "base_uri": "https://localhost:8080/"
        }
      },
      "execution_count": 79,
      "outputs": [
        {
          "output_type": "stream",
          "name": "stdout",
          "text": [
            "BB           75.021506\n",
            "FB            0.233490\n",
            "HB           11.003515\n",
            "SC           12.726424\n",
            "Undefined     1.015066\n",
            "Name: meal, dtype: float64\n"
          ]
        }
      ]
    },
    {
      "cell_type": "code",
      "source": [
        "media_past_tr= train_non.groupby(train_non[\"meal\"])[\"is_canceled\"].mean()\n",
        "print(media_past_tr)"
      ],
      "metadata": {
        "id": "LbWxnHno3kXq",
        "outputId": "55de4b56-cae9-4ac1-f690-f9e21b8ffe24",
        "colab": {
          "base_uri": "https://localhost:8080/"
        }
      },
      "execution_count": 80,
      "outputs": [
        {
          "output_type": "stream",
          "name": "stdout",
          "text": [
            "meal\n",
            "BB           0.362304\n",
            "FB           0.601796\n",
            "HB           0.311528\n",
            "SC           0.374111\n",
            "Undefined    0.303754\n",
            "Name: is_canceled, dtype: float64\n"
          ]
        }
      ]
    },
    {
      "cell_type": "code",
      "source": [
        "media_past_te = test_non.groupby(test_non[\"meal\"])[\"is_canceled\"].mean()\n",
        "print(media_past_te)"
      ],
      "metadata": {
        "id": "dkMr-yRx4O4p",
        "outputId": "b91b4458-2810-460a-ea4d-8baf21d6f3d6",
        "colab": {
          "base_uri": "https://localhost:8080/"
        }
      },
      "execution_count": 81,
      "outputs": [
        {
          "output_type": "stream",
          "name": "stdout",
          "text": [
            "meal\n",
            "BB           0.395918\n",
            "FB           0.389474\n",
            "HB           0.334152\n",
            "SC           0.393588\n",
            "Undefined    0.215496\n",
            "Name: is_canceled, dtype: float64\n"
          ]
        }
      ]
    },
    {
      "cell_type": "markdown",
      "source": [
        "**Risposta n.1.6**:\n",
        "* Rispetto alla tipologia di stanza, si segnalano valori \"*train*\" sensibilmente diversi da quelli \"*test*\"; in particolare, vediamo come nella tipologia \"A\" il \"*train*\" sia maggiore di oltre una volta e mezzo; nel caso \"B\", invece, il \"*train*\" è superiore di circa tre volte. Nel caso \"C\", al contrario, il valore del \"train\" è di circa la metà rispettio al \"test\".\n",
        "* Si segnala un valore alquanto elevato, rispetto al resto dei casi, nell'assegnazione di tipo \"A\" (più del 60% in entrambi i dataset).\n",
        "* Anche le cancellazioni assumono valori molto diversi tra i due dataset, distaccandosi anche più di 10 punti percentuali.\n",
        "* Per quanto riguarda il tipo di pasto invece i valori si concentrano per la maggior parte (più del 75%) nell'etichetta \"B&B\". Nel Train dataset la media delle cancellazioni per il valore FB (\"*full board*\") è quasi del doppio.\n",
        "* Nel caso \"*room type*\" vediamo un valore molto basso (6 unità) nell'ultima tipologia di stanza, della quale però possiamo solo ipotizzare la reale tipologia."
      ],
      "metadata": {
        "id": "VgJdX04W2cZR"
      }
    },
    {
      "cell_type": "markdown",
      "source": [
        "# **Domanda n.1.7:**\n",
        "\n",
        "---\n",
        "\n",
        "\n",
        "In che modo si dispongono i dati relativi ai casi \"*deposit_type*\"? Esiste una correlazione tra cancellazioni e depositi?"
      ],
      "metadata": {
        "id": "-z5n5X6wQdMb"
      }
    },
    {
      "cell_type": "code",
      "source": [
        "depositi_tr = train_non[\"deposit_type\"].value_counts()\n",
        "print(depositi_tr)"
      ],
      "metadata": {
        "id": "wE-zYO725m3B",
        "outputId": "0875f14a-d02c-46f1-e05a-d3270870762d",
        "colab": {
          "base_uri": "https://localhost:8080/"
        }
      },
      "execution_count": 82,
      "outputs": [
        {
          "output_type": "stream",
          "name": "stdout",
          "text": [
            "No Deposit    49782\n",
            "Non Refund     6794\n",
            "Refundable      131\n",
            "Name: deposit_type, dtype: int64\n"
          ]
        }
      ]
    },
    {
      "cell_type": "code",
      "source": [
        "depositi_te= test_non[\"deposit_type\"].value_counts()\n",
        "print(depositi_te)"
      ],
      "metadata": {
        "id": "UN3vHxwx5x6s",
        "outputId": "9d915a97-450e-4eb7-f0fd-91387880b48a",
        "colab": {
          "base_uri": "https://localhost:8080/"
        }
      },
      "execution_count": 83,
      "outputs": [
        {
          "output_type": "stream",
          "name": "stdout",
          "text": [
            "No Deposit    36534\n",
            "Non Refund     4126\n",
            "Refundable       27\n",
            "Name: deposit_type, dtype: int64\n"
          ]
        }
      ]
    },
    {
      "cell_type": "code",
      "source": [
        "per_dep_tr = (depositi_tr / len(train_non) * 100).sort_index()\n",
        "print(per_dep_tr)"
      ],
      "metadata": {
        "id": "aG7XpE2e57tg",
        "outputId": "96fbaf26-cb92-4fed-a727-73d226f8b1e3",
        "colab": {
          "base_uri": "https://localhost:8080/"
        }
      },
      "execution_count": 84,
      "outputs": [
        {
          "output_type": "stream",
          "name": "stdout",
          "text": [
            "No Deposit    87.788104\n",
            "Non Refund    11.980884\n",
            "Refundable     0.231012\n",
            "Name: deposit_type, dtype: float64\n"
          ]
        }
      ]
    },
    {
      "cell_type": "code",
      "source": [
        "per_dep_te = (depositi_te / len(test_non) * 100).sort_index()\n",
        "print(per_dep_te)"
      ],
      "metadata": {
        "id": "KroUGV8v55sK",
        "outputId": "f96613eb-8b1b-4c4b-d132-9050e53d5c17",
        "colab": {
          "base_uri": "https://localhost:8080/"
        }
      },
      "execution_count": 85,
      "outputs": [
        {
          "output_type": "stream",
          "name": "stdout",
          "text": [
            "No Deposit    89.792809\n",
            "Non Refund    10.140831\n",
            "Refundable     0.066360\n",
            "Name: deposit_type, dtype: float64\n"
          ]
        }
      ]
    },
    {
      "cell_type": "code",
      "source": [
        "train_non.groupby(train_non[\"deposit_type\"])[\"is_canceled\"].mean()"
      ],
      "metadata": {
        "id": "vzV_7EKIAr4s",
        "outputId": "3f1e23a0-2b28-42fd-dcf5-56e452a12ad6",
        "colab": {
          "base_uri": "https://localhost:8080/"
        }
      },
      "execution_count": 86,
      "outputs": [
        {
          "output_type": "execute_result",
          "data": {
            "text/plain": [
              "deposit_type\n",
              "No Deposit    0.273372\n",
              "Non Refund    0.988814\n",
              "Refundable    0.076336\n",
              "Name: is_canceled, dtype: float64"
            ]
          },
          "metadata": {},
          "execution_count": 86
        }
      ]
    },
    {
      "cell_type": "code",
      "source": [
        "test_non.groupby(test_non[\"deposit_type\"])[\"is_canceled\"].mean()"
      ],
      "metadata": {
        "id": "nVCI_-WeAsr6",
        "outputId": "637bd739-c098-4bdc-92c9-3eb056790f26",
        "colab": {
          "base_uri": "https://localhost:8080/"
        }
      },
      "execution_count": 87,
      "outputs": [
        {
          "output_type": "execute_result",
          "data": {
            "text/plain": [
              "deposit_type\n",
              "No Deposit    0.317540\n",
              "Non Refund    0.998061\n",
              "Refundable    0.962963\n",
              "Name: is_canceled, dtype: float64"
            ]
          },
          "metadata": {},
          "execution_count": 87
        }
      ]
    },
    {
      "cell_type": "markdown",
      "source": [
        "**Risposta n.1.7**:\n",
        "\n",
        "---\n",
        "\n",
        "\n",
        "* Possiamo vedere come, a fronte di un conteggio relativamente sbilanciato verso il \"*train*\" (si veda, ad esempio, il caso di mancato deposito: circa 50mila nel \"*train*\", contro poco più di 35mila del \"*test*\"), le percentuali siano molto simili, nei due dataset.\n",
        "* I dati che invece appaiono notevoli sono quelli relativi alla media di cancellazioni effettuate nei casi \"*Non Refund*\" (quasi il 100% dei casi in entrambi i dataset).\n",
        "* Inoltre, sembra significativa (nonostante l'esiguità dei casi) la profonda differenza tra \"train\" e \"test\" nei casi \"*Refundable*\": 8% e 96% rispettivamente."
      ],
      "metadata": {
        "id": "vUb12NYWAkwu"
      }
    },
    {
      "cell_type": "markdown",
      "source": [
        "# **Domanda n.1.8**:\n",
        "\n",
        "\n",
        "---\n",
        "\n",
        "\n",
        "Come si presentano i dati relativi alla richiesta di parcheggio? Quali sono le percentuali relative alle richieste di parcheggio? C'è correlazione tra richiesta di parcheggio e cancellazione?"
      ],
      "metadata": {
        "id": "R61hglmoQoSG"
      }
    },
    {
      "cell_type": "code",
      "source": [
        "macchina_tr = train[\"required_car_parking_spaces\"].value_counts()\n",
        "print(macchina_tr)"
      ],
      "metadata": {
        "id": "_iNQh6jxbeNi",
        "outputId": "304a7a25-cf12-4fe0-bbd3-b62dca78d21b",
        "colab": {
          "base_uri": "https://localhost:8080/"
        }
      },
      "execution_count": 88,
      "outputs": [
        {
          "output_type": "stream",
          "name": "stdout",
          "text": [
            "0    52845\n",
            "1     3850\n",
            "2       11\n",
            "3        1\n",
            "Name: required_car_parking_spaces, dtype: int64\n"
          ]
        }
      ]
    },
    {
      "cell_type": "code",
      "source": [
        "macchina_te = test[\"required_car_parking_spaces\"].value_counts().sort_index()\n",
        "print(macchina_te)"
      ],
      "metadata": {
        "id": "xdDubxkQb8Fn",
        "outputId": "87617963-00c6-463e-b3b8-3c6a0de42fab",
        "colab": {
          "base_uri": "https://localhost:8080/"
        }
      },
      "execution_count": 89,
      "outputs": [
        {
          "output_type": "stream",
          "name": "stdout",
          "text": [
            "0    38481\n",
            "1     2189\n",
            "2       13\n",
            "3        2\n",
            "8        2\n",
            "Name: required_car_parking_spaces, dtype: int64\n"
          ]
        }
      ]
    },
    {
      "cell_type": "code",
      "source": [
        "per_macchina_tr = (macchina_tr / len(train) * 100).sort_index()\n",
        "print(per_macchina_tr)"
      ],
      "metadata": {
        "id": "8kC_yxX8dMYV",
        "outputId": "0c63ec5d-3d6f-46ab-89cb-b5b1aeb0f0ee",
        "colab": {
          "base_uri": "https://localhost:8080/"
        }
      },
      "execution_count": 90,
      "outputs": [
        {
          "output_type": "stream",
          "name": "stdout",
          "text": [
            "0    93.189553\n",
            "1     6.789285\n",
            "2     0.019398\n",
            "3     0.001763\n",
            "Name: required_car_parking_spaces, dtype: float64\n"
          ]
        }
      ]
    },
    {
      "cell_type": "code",
      "source": [
        "per_macchina_te = (macchina_te / len(test) * 100).sort_index()\n",
        "print(per_macchina_te)"
      ],
      "metadata": {
        "id": "kHUy-g_qdr0T",
        "outputId": "ebda2504-ca4e-41a3-a990-4ab4519ee23e",
        "colab": {
          "base_uri": "https://localhost:8080/"
        }
      },
      "execution_count": 91,
      "outputs": [
        {
          "output_type": "stream",
          "name": "stdout",
          "text": [
            "0    94.578121\n",
            "1     5.380097\n",
            "2     0.031951\n",
            "3     0.004916\n",
            "8     0.004916\n",
            "Name: required_car_parking_spaces, dtype: float64\n"
          ]
        }
      ]
    },
    {
      "cell_type": "code",
      "source": [
        "train.groupby(train[\"required_car_parking_spaces\"])[\"is_canceled\"].mean()"
      ],
      "metadata": {
        "colab": {
          "base_uri": "https://localhost:8080/"
        },
        "id": "rMzLmScfdKUh",
        "outputId": "9ddb5fb1-6362-4607-8453-a9e6044b3a96"
      },
      "execution_count": 92,
      "outputs": [
        {
          "output_type": "execute_result",
          "data": {
            "text/plain": [
              "required_car_parking_spaces\n",
              "0    0.384842\n",
              "1    0.000000\n",
              "2    0.000000\n",
              "3    0.000000\n",
              "Name: is_canceled, dtype: float64"
            ]
          },
          "metadata": {},
          "execution_count": 92
        }
      ]
    },
    {
      "cell_type": "code",
      "source": [
        "test.groupby(test[\"required_car_parking_spaces\"])[\"is_canceled\"].mean()"
      ],
      "metadata": {
        "colab": {
          "base_uri": "https://localhost:8080/"
        },
        "id": "106NLxSVdWhD",
        "outputId": "a60c33e8-f198-46bb-cfb9-4d7f3e77324d"
      },
      "execution_count": 93,
      "outputs": [
        {
          "output_type": "execute_result",
          "data": {
            "text/plain": [
              "required_car_parking_spaces\n",
              "0    0.409163\n",
              "1    0.000000\n",
              "2    0.000000\n",
              "3    0.000000\n",
              "8    0.000000\n",
              "Name: is_canceled, dtype: float64"
            ]
          },
          "metadata": {},
          "execution_count": 93
        }
      ]
    },
    {
      "cell_type": "markdown",
      "source": [
        "**Risposta n. 1.8**:\n",
        "\n",
        "---\n",
        "\n",
        "\n",
        "* I dati relativi al parcheggio sembrano abbastanza lineari, nei due dataset. Nonostante la maggiore quantità di dati presente nel \"train\", notiamo che le percentuali nei due dataset sono molto simili: più del 90% dei casi, infatti, si concentra sul dato che indica 0 posti macchina richiesti.\n",
        "* Si noti che, in entrambi i dataset, non vi sono cancellazioni da parte di coloro che hanno riservato posti auto."
      ],
      "metadata": {
        "id": "pFUq1ZlHo0sa"
      }
    },
    {
      "cell_type": "markdown",
      "source": [
        "# **Domanda n.1.9:**\n",
        "\n",
        "---\n",
        "\n",
        "\n",
        "Come si distribuiscono i dati relativi ai giorni in lista d'attesa nei due dataset? Quante persone sono rimaste in attesa? Come influisce sulle cancellazioni?"
      ],
      "metadata": {
        "id": "By8E1ceKV0sY"
      }
    },
    {
      "cell_type": "code",
      "source": [
        "attesa_tr = train[\"days_in_waiting_list\"].value_counts().sort_index()\n",
        "print(attesa_tr)"
      ],
      "metadata": {
        "colab": {
          "base_uri": "https://localhost:8080/"
        },
        "id": "RS-H45DeQ4bb",
        "outputId": "a9c7be21-8a3c-46cf-dec5-06050935a817"
      },
      "execution_count": 94,
      "outputs": [
        {
          "output_type": "stream",
          "name": "stdout",
          "text": [
            "0      53958\n",
            "1          8\n",
            "2          3\n",
            "3         59\n",
            "4         20\n",
            "       ...  \n",
            "236       35\n",
            "259       10\n",
            "330       15\n",
            "379       15\n",
            "391       45\n",
            "Name: days_in_waiting_list, Length: 94, dtype: int64\n"
          ]
        }
      ]
    },
    {
      "cell_type": "code",
      "source": [
        "waiting_people = tot_train - 53958\n",
        "print(waiting_people)"
      ],
      "metadata": {
        "colab": {
          "base_uri": "https://localhost:8080/"
        },
        "id": "ZKMqxBQ7V7Nl",
        "outputId": "86f663b6-b7a4-49f6-e94d-2905b5645275"
      },
      "execution_count": 95,
      "outputs": [
        {
          "output_type": "stream",
          "name": "stdout",
          "text": [
            "2749\n"
          ]
        }
      ]
    },
    {
      "cell_type": "code",
      "source": [
        "attesa_te = test[\"days_in_waiting_list\"].value_counts().sort_index()\n",
        "print(attesa_te)"
      ],
      "metadata": {
        "colab": {
          "base_uri": "https://localhost:8080/"
        },
        "id": "mxQhaQm_V9Ik",
        "outputId": "0c32ea04-eb98-4ecd-9929-2be94ff831a4"
      },
      "execution_count": 96,
      "outputs": [
        {
          "output_type": "stream",
          "name": "stdout",
          "text": [
            "0      40487\n",
            "1          4\n",
            "2          2\n",
            "4          5\n",
            "5          6\n",
            "       ...  \n",
            "165        1\n",
            "175        1\n",
            "183        1\n",
            "185        2\n",
            "223        1\n",
            "Name: days_in_waiting_list, Length: 76, dtype: int64\n"
          ]
        }
      ]
    },
    {
      "cell_type": "code",
      "source": [
        "waiting_people_test = tot_test - 40487\n",
        "print(waiting_people_test)"
      ],
      "metadata": {
        "colab": {
          "base_uri": "https://localhost:8080/"
        },
        "id": "J3F4q1zbV_Nl",
        "outputId": "14c94de1-b3bc-4793-9a5d-149360bd3d1e"
      },
      "execution_count": 97,
      "outputs": [
        {
          "output_type": "stream",
          "name": "stdout",
          "text": [
            "200\n"
          ]
        }
      ]
    },
    {
      "cell_type": "code",
      "source": [
        "attesa_tr= train[\"lista_d'attesa\"] = pd.cut(train[\"days_in_waiting_list\"], bins=[-1, 0, 391], labels=[\"0 giorni\", \"1-391 giorni\"])\n",
        "media_attesa_tr = train.groupby(\"lista_d'attesa\")[\"is_canceled\"].mean()\n",
        "print(media_attesa_tr)"
      ],
      "metadata": {
        "colab": {
          "base_uri": "https://localhost:8080/"
        },
        "id": "dYXS22e0WBJX",
        "outputId": "fa303774-9f0b-4eec-ca84-41c1e04892de"
      },
      "execution_count": 98,
      "outputs": [
        {
          "output_type": "stream",
          "name": "stdout",
          "text": [
            "lista_d'attesa\n",
            "0 giorni        0.33830\n",
            "1-391 giorni    0.75773\n",
            "Name: is_canceled, dtype: float64\n"
          ]
        }
      ]
    },
    {
      "cell_type": "code",
      "source": [
        "attesa_te= test[\"lista_d'attesa\"] = pd.cut(test[\"days_in_waiting_list\"], bins=[-1, 0, 223], labels=[\"0 giorni\", \"1-391 giorni\"])\n",
        "media_attesa_te = test.groupby(\"lista_d'attesa\")[\"is_canceled\"].mean()\n",
        "print(media_attesa_te)"
      ],
      "metadata": {
        "colab": {
          "base_uri": "https://localhost:8080/"
        },
        "id": "TX8cFc0dWIk5",
        "outputId": "1b0f0abe-b451-4c16-b924-a898c8bedcab"
      },
      "execution_count": 99,
      "outputs": [
        {
          "output_type": "stream",
          "name": "stdout",
          "text": [
            "lista_d'attesa\n",
            "0 giorni        0.386124\n",
            "1-391 giorni    0.560000\n",
            "Name: is_canceled, dtype: float64\n"
          ]
        }
      ]
    },
    {
      "cell_type": "markdown",
      "source": [
        "**Risposta n.1.9**:\n",
        "\n",
        "---\n",
        "\n",
        "\n",
        "* I due dataset differiscono molto nei valori relativi alle persone che sono rimaste in lista d'attesa, difatti, nel train dataset abbiamo 2750 persone con valori che vanno da 0 a 391 giorni in lista d'attesa, nel secondo, invece, i casi scendono a 200 con valori da 0 a 223.\n",
        "* in generale il dato relativo alla media delle cancellazioni di chi ha atteso almeno un giorno sembra confermare il sospetto iniziale che un'attesa, di qualsiasi tipo, porti a una probabilità molto più alta di cancellazione con un valore riscontrato del 75% nel train e il 56% nel test."
      ],
      "metadata": {
        "id": "TDXSHYOlWS5M"
      }
    },
    {
      "cell_type": "markdown",
      "source": [
        "# **Domanda n.1.10:**\n",
        "\n",
        "---\n",
        "\n",
        "\n",
        "Come si distribuiscono i dati relativi al tipo di cliente nei due dataset? Quali sono le percentuali di prenotazioni e cancellazioni per tipologia di cliente?"
      ],
      "metadata": {
        "id": "s-5mcuuEaVsb"
      }
    },
    {
      "cell_type": "code",
      "source": [
        "Customer_tr = train_non[\"customer_type\"].value_counts().sort_index()\n",
        "print(Customer_tr)"
      ],
      "metadata": {
        "colab": {
          "base_uri": "https://localhost:8080/"
        },
        "id": "nZ1nQRTWaVHe",
        "outputId": "22c99418-ef57-42f9-e038-166da6f7e35e"
      },
      "execution_count": 100,
      "outputs": [
        {
          "output_type": "stream",
          "name": "stdout",
          "text": [
            "Contract             756\n",
            "Group                167\n",
            "Transient          44391\n",
            "Transient-Party    11393\n",
            "Name: customer_type, dtype: int64\n"
          ]
        }
      ]
    },
    {
      "cell_type": "code",
      "source": [
        "Customer_te = test_non[\"customer_type\"].value_counts().sort_index()\n",
        "print(Customer_te)"
      ],
      "metadata": {
        "colab": {
          "base_uri": "https://localhost:8080/"
        },
        "id": "Xeur_4DAal6Q",
        "outputId": "c69e77ba-c73e-488e-f965-b3986535f592"
      },
      "execution_count": 101,
      "outputs": [
        {
          "output_type": "stream",
          "name": "stdout",
          "text": [
            "Contract             662\n",
            "Group                218\n",
            "Transient          33791\n",
            "Transient-Party     6016\n",
            "Name: customer_type, dtype: int64\n"
          ]
        }
      ]
    },
    {
      "cell_type": "code",
      "source": [
        "per_customer_tr = (Customer_tr / len(train) * 100).sort_index()\n",
        "print(per_customer_tr)"
      ],
      "metadata": {
        "colab": {
          "base_uri": "https://localhost:8080/"
        },
        "id": "N8EetzEran0S",
        "outputId": "d1e0c261-cd28-4131-ecdc-47d6d8da3ab7"
      },
      "execution_count": 102,
      "outputs": [
        {
          "output_type": "stream",
          "name": "stdout",
          "text": [
            "Contract            1.333169\n",
            "Group               0.294496\n",
            "Transient          78.281341\n",
            "Transient-Party    20.090994\n",
            "Name: customer_type, dtype: float64\n"
          ]
        }
      ]
    },
    {
      "cell_type": "code",
      "source": [
        "per_customer_te = (Customer_te / len(test) * 100).sort_index()\n",
        "print(per_customer_te)"
      ],
      "metadata": {
        "colab": {
          "base_uri": "https://localhost:8080/"
        },
        "id": "91clkcZDaqc1",
        "outputId": "6a241325-a416-4d2b-cf14-d7bd9ba628aa"
      },
      "execution_count": 103,
      "outputs": [
        {
          "output_type": "stream",
          "name": "stdout",
          "text": [
            "Contract            1.627055\n",
            "Group               0.535798\n",
            "Transient          83.051097\n",
            "Transient-Party    14.786050\n",
            "Name: customer_type, dtype: float64\n"
          ]
        }
      ]
    },
    {
      "cell_type": "code",
      "source": [
        "media_customer_tr= train_non.groupby(train_non[\"customer_type\"])[\"is_canceled\"].mean()\n",
        "print(media_customer_tr)"
      ],
      "metadata": {
        "colab": {
          "base_uri": "https://localhost:8080/"
        },
        "id": "MsRJ0CSnaxeI",
        "outputId": "e47d71b7-602a-4656-fe6d-2f43e0057908"
      },
      "execution_count": 104,
      "outputs": [
        {
          "output_type": "stream",
          "name": "stdout",
          "text": [
            "customer_type\n",
            "Contract           0.164021\n",
            "Group              0.065868\n",
            "Transient          0.399248\n",
            "Transient-Party    0.217590\n",
            "Name: is_canceled, dtype: float64\n"
          ]
        }
      ]
    },
    {
      "cell_type": "code",
      "source": [
        "media_customer_te= test_non.groupby(test_non[\"customer_type\"])[\"is_canceled\"].mean()\n",
        "print(media_customer_te)"
      ],
      "metadata": {
        "colab": {
          "base_uri": "https://localhost:8080/"
        },
        "id": "0Qr-dVhVa0Go",
        "outputId": "9240cd7f-56f8-4fab-857b-b0163b1e1978"
      },
      "execution_count": 105,
      "outputs": [
        {
          "output_type": "stream",
          "name": "stdout",
          "text": [
            "customer_type\n",
            "Contract           0.116314\n",
            "Group              0.064220\n",
            "Transient          0.432719\n",
            "Transient-Party    0.171543\n",
            "Name: is_canceled, dtype: float64\n"
          ]
        }
      ]
    },
    {
      "cell_type": "markdown",
      "source": [
        "**Risposta n.1.10**:\n",
        "\n",
        "---\n",
        "\n",
        "\n",
        "* Nei due dataset sono presenti 4 tipi di clienti: Contract, Group, Transient, Transient-party. In entrambi i dataset la maggior parte delle prenotazioni è effettuata da clienti \"Transient\" (train: 44.391 , test: 33.791 ).\n",
        "* In percentuali: il 78% dei clienti è Transient nel dataset train mentre è del 83% nel dataset test; il 20% nel dataset train è coperto da clienti Transient-party contro il 14% nel dataset test.\n",
        "* Nei due dataset i clienti Transient cancellano mediamente molto di più delle altre tipologie di clienti (39% per il train e 43% per il test)."
      ],
      "metadata": {
        "id": "OUrMbCBohy-q"
      }
    },
    {
      "cell_type": "markdown",
      "source": [
        "# **Seconda parte: esplorazione dati.**\n",
        "\n",
        "---\n",
        "\n"
      ],
      "metadata": {
        "id": "8WGMAI8zpfgZ"
      }
    },
    {
      "cell_type": "markdown",
      "source": [
        "# **Domanda** **n.2.1:**\n",
        "\n",
        "\n",
        "---\n",
        "\n",
        "\n",
        "Come si distribuiscono le prenotazioni durante i mesi dell'anno? Le cancellazioni cambiano di mese in mese o rimangono stabili nel corso dell'anno?\n",
        "\n",
        "\n",
        "\n"
      ],
      "metadata": {
        "id": "kpkiCmlztG3c"
      }
    },
    {
      "cell_type": "code",
      "source": [
        "sns.set_style(\"whitegrid\")\n",
        "sns.histplot(x=\"arrival_date_month\", hue = \"is_canceled\", multiple = \"dodge\", data=train, bins = 12)\n",
        "plt.xticks([1, 2, 3, 4, 5,6,7,8,9,10,11,12])\n",
        "plt.show()"
      ],
      "metadata": {
        "id": "VpZnh-mSpkam",
        "outputId": "0d49f315-73a4-4f7d-cacb-dbc7693e293d",
        "colab": {
          "base_uri": "https://localhost:8080/",
          "height": 0
        }
      },
      "execution_count": 106,
      "outputs": [
        {
          "output_type": "display_data",
          "data": {
            "text/plain": [
              "<Figure size 640x480 with 1 Axes>"
            ],
            "image/png": "[encoded data removed]"
          },
          "metadata": {}
        }
      ]
    },
    {
      "cell_type": "code",
      "source": [
        "sns.histplot(x=\"arrival_date_month\", hue = \"is_canceled\", multiple = \"stack\", stat = \"percent\", data=train, bins =12)\n",
        "plt.xticks([1, 2, 3, 4, 5,6,7,8,9,10,11,12])\n",
        "plt.show()"
      ],
      "metadata": {
        "id": "UfBXZjeNs8QU",
        "outputId": "7c74605b-5d0e-4d22-ec2a-d0ed7eaaf5e0",
        "colab": {
          "base_uri": "https://localhost:8080/",
          "height": 0
        }
      },
      "execution_count": 107,
      "outputs": [
        {
          "output_type": "display_data",
          "data": {
            "text/plain": [
              "<Figure size 640x480 with 1 Axes>"
            ],
            "image/png": "[encoded data removed]"
          },
          "metadata": {}
        }
      ]
    },
    {
      "cell_type": "code",
      "source": [
        "sns.histplot(x=\"arrival_date_month\", hue = \"is_canceled\", multiple = \"dodge\",stat = \"count\", data=test, bins = 8)\n",
        "plt.show()"
      ],
      "metadata": {
        "id": "vnfSDiB4JAJB",
        "outputId": "25217c4e-72a3-47b6-c5b0-dd37006c3cb1",
        "colab": {
          "base_uri": "https://localhost:8080/",
          "height": 0
        }
      },
      "execution_count": 108,
      "outputs": [
        {
          "output_type": "display_data",
          "data": {
            "text/plain": [
              "<Figure size 640x480 with 1 Axes>"
            ],
            "image/png": "[encoded data removed]"
          },
          "metadata": {}
        }
      ]
    },
    {
      "cell_type": "code",
      "source": [
        "sns.histplot(x=\"arrival_date_month\", hue = \"is_canceled\", multiple = \"stack\",stat = \"percent\", data=test, bins = 8)\n",
        "plt.show()"
      ],
      "metadata": {
        "id": "Y7YJ2Vm2FIQy",
        "outputId": "dc54dd02-938b-4707-e303-8f357fca8b56",
        "colab": {
          "base_uri": "https://localhost:8080/",
          "height": 0
        }
      },
      "execution_count": 109,
      "outputs": [
        {
          "output_type": "display_data",
          "data": {
            "text/plain": [
              "<Figure size 640x480 with 1 Axes>"
            ],
            "image/png": "[encoded data removed]"
          },
          "metadata": {}
        }
      ]
    },
    {
      "cell_type": "code",
      "source": [
        "media_mesi_tr = train.groupby(train[\"arrival_date_month\"])[\"is_canceled\"].mean()\n",
        "print(media_mesi_tr)"
      ],
      "metadata": {
        "id": "SdsaJdVbbKGq",
        "outputId": "8e4b00a9-6a70-4bd8-efcc-ef29befa3f7c",
        "colab": {
          "base_uri": "https://localhost:8080/"
        }
      },
      "execution_count": 110,
      "outputs": [
        {
          "output_type": "stream",
          "name": "stdout",
          "text": [
            "arrival_date_month\n",
            "1     0.247776\n",
            "2     0.343613\n",
            "3     0.306177\n",
            "4     0.379698\n",
            "5     0.349580\n",
            "6     0.396070\n",
            "7     0.327865\n",
            "8     0.360458\n",
            "9     0.374861\n",
            "10    0.405288\n",
            "11    0.367310\n",
            "12    0.362176\n",
            "Name: is_canceled, dtype: float64\n"
          ]
        }
      ]
    },
    {
      "cell_type": "code",
      "source": [
        "media_mesi_te = test.groupby(test[\"arrival_date_month\"])[\"is_canceled\"].mean()\n",
        "print(media_mesi_te)"
      ],
      "metadata": {
        "id": "i1P0UKRRbOm_",
        "outputId": "d204a8a0-bcd2-48c6-f131-89fc3f72bf97",
        "colab": {
          "base_uri": "https://localhost:8080/"
        }
      },
      "execution_count": 111,
      "outputs": [
        {
          "output_type": "stream",
          "name": "stdout",
          "text": [
            "arrival_date_month\n",
            "1    0.339582\n",
            "2    0.325353\n",
            "3    0.336419\n",
            "4    0.435082\n",
            "5    0.437510\n",
            "6    0.431911\n",
            "7    0.373424\n",
            "8    0.368731\n",
            "Name: is_canceled, dtype: float64\n"
          ]
        }
      ]
    },
    {
      "cell_type": "markdown",
      "source": [
        "**Risposta n.2.1:**\n",
        "* I due dataset differiscono per il numero di mesi tenuti in considerazione: il test dataset, infatti, prende in considerazione soltanto i mesi da gennaio a agosto.\n",
        "* Il mese che ha riscontrato più prenotazioni nel train dataset è quello di ottobre (15% circa del totale); tuttavia, le prenotazioni sembrano abbastanza equamente suddivise tra il 15% e il 7%, fatta eccezione per gennaio dove si è riscontrato un valore notevolmente più basso in entrambi i dataset (anche se più marcato nel train dove corrisponde al 4%). Nel test dataset si ha poi un aumento non trascurabile di prenotazioni nel mese di maggio (15% del totale), non presente invece nel train.\n",
        "* La media delle cancellazioni risulta altalentante con valori che si distanziano notevolmente dalla media generale (es: gennaio, nel train dataset, si distanzia di 11 punti percentuali).\n",
        "\n",
        "\n",
        "\n"
      ],
      "metadata": {
        "id": "frm3pLu2viiy"
      }
    },
    {
      "cell_type": "markdown",
      "source": [
        "# **Domanda n.2.2:**\n",
        "\n",
        "\n",
        "---\n",
        "Come si distribuisce il valore relativo alla lunghezza delle prenotazioni nei due hotel? La lunghezza della prenotazione influisce sulla probabilità di cancellazione?\n",
        "\n"
      ],
      "metadata": {
        "id": "2aUAIGsAhdjg"
      }
    },
    {
      "cell_type": "code",
      "source": [
        "test_non[\"giorni_totali\"] = test_non[\"stays_in_week_nights\"] + test_non[\"stays_in_weekend_nights\"]\n",
        "train_non[\"giorni_totali\"] = train_non[\"stays_in_week_nights\"] + train_non[\"stays_in_weekend_nights\"]\n",
        "sns.boxplot(x=\"hotel\", y=\"giorni_totali\", hue = \"is_canceled\", data=train_non)\n",
        "plt.show()"
      ],
      "metadata": {
        "id": "jCBx6XHLiPOY",
        "outputId": "2c43f829-7b7a-4cb9-9abd-e553a0d0d870",
        "colab": {
          "base_uri": "https://localhost:8080/",
          "height": 0
        }
      },
      "execution_count": 112,
      "outputs": [
        {
          "output_type": "display_data",
          "data": {
            "text/plain": [
              "<Figure size 640x480 with 1 Axes>"
            ],
            "image/png": "[encoded data removed]"
          },
          "metadata": {}
        }
      ]
    },
    {
      "cell_type": "code",
      "source": [
        "sns.boxplot(x=\"hotel\", y=\"giorni_totali\", hue = \"is_canceled\", data=test_non)\n",
        "plt.show()"
      ],
      "metadata": {
        "id": "GDLVUhcCmJkO",
        "outputId": "5a8df15b-9d23-473b-e2b4-6c38918e24d0",
        "colab": {
          "base_uri": "https://localhost:8080/",
          "height": 0
        }
      },
      "execution_count": 113,
      "outputs": [
        {
          "output_type": "display_data",
          "data": {
            "text/plain": [
              "<Figure size 640x480 with 1 Axes>"
            ],
            "image/png": "[encoded data removed]"
          },
          "metadata": {}
        }
      ]
    },
    {
      "cell_type": "markdown",
      "source": [
        "**Risposta** **n.2.2**:\n",
        "\n",
        "---\n",
        "\n",
        "\n",
        "\n",
        "*   I valori relativi alla durata della prenotazione risultano molto schiacciati, c'è infatti una distanza minima tra i quartili (questo fenomeno è più evidente per le prenotazioni nel \"City Hotel\").\n",
        "* La durata delle prenotazioni cancellate e le prenotazioni confermate nel \"City Hotel\" sono esattamente identiche, mentre per quanto riguarda il \"Resort Hotel\" le prenotazioni cancellate sembrano essere più lunghe in quanto la mediana di quest'ultime è posizionata sul valore 6 mentre è di 4 nelle prime.\n",
        "* La dispersione dei valori fuori dal terzo quartile è abbastanza ampia con valori che superano i 50 giorni.\n"
      ],
      "metadata": {
        "id": "OSQhJsaemf5k"
      }
    },
    {
      "cell_type": "markdown",
      "source": [
        "# **Domanda n.2.3:**\n",
        "---\n",
        "Come è distribuito il valore relativo al tipo di stanza assegnato? Questa ha una rilevanza per quanto riguarda le cancellazioni?"
      ],
      "metadata": {
        "id": "oimRVVzxdxxG"
      }
    },
    {
      "cell_type": "code",
      "source": [
        "sns.histplot(x=\"assigned_room_type\", hue=\"is_canceled\", data=train, bins=11, multiple=\"dodge\")\n",
        "plt.xticks([0, 1, 2, 3, 4, 5, 6, 7, 8 ,9 , 10,11])\n",
        "plt.show()"
      ],
      "metadata": {
        "id": "zuiZezrTiLZi",
        "outputId": "47c3c961-f76a-4bc6-97e8-2120e536632f",
        "colab": {
          "base_uri": "https://localhost:8080/",
          "height": 0
        }
      },
      "execution_count": 114,
      "outputs": [
        {
          "output_type": "display_data",
          "data": {
            "text/plain": [
              "<Figure size 640x480 with 1 Axes>"
            ],
            "image/png": "[encoded data removed]"
          },
          "metadata": {}
        }
      ]
    },
    {
      "cell_type": "code",
      "source": [
        "sns.histplot(x=\"assigned_room_type\", hue=\"is_canceled\", data=test, bins=11, multiple=\"dodge\")\n",
        "plt.xticks([0, 1, 2, 3, 4, 5, 6, 7, 8 ,9 , 10,11])\n",
        "plt.show()"
      ],
      "metadata": {
        "id": "agR85QfChXd2",
        "outputId": "ab7ab99f-574e-4856-a3d5-1eea6a683648",
        "colab": {
          "base_uri": "https://localhost:8080/",
          "height": 0
        }
      },
      "execution_count": 115,
      "outputs": [
        {
          "output_type": "display_data",
          "data": {
            "text/plain": [
              "<Figure size 640x480 with 1 Axes>"
            ],
            "image/png": "[encoded data removed]"
          },
          "metadata": {}
        }
      ]
    },
    {
      "cell_type": "code",
      "source": [
        "sns.histplot(x=\"assigned_room_type\", hue=\"is_canceled\", data=train, stat = \"percent\", bins=11, multiple=\"stack\")\n",
        "plt.xticks([0, 1, 2, 3, 4, 5, 6, 7, 8 ,9 , 10,11])\n",
        "plt.show()"
      ],
      "metadata": {
        "id": "ZenixgWBh_hY",
        "outputId": "06e9d02a-6c15-412c-db30-fdff22056518",
        "colab": {
          "base_uri": "https://localhost:8080/",
          "height": 0
        }
      },
      "execution_count": 116,
      "outputs": [
        {
          "output_type": "display_data",
          "data": {
            "text/plain": [
              "<Figure size 640x480 with 1 Axes>"
            ],
            "image/png": "[encoded data removed]"
          },
          "metadata": {}
        }
      ]
    },
    {
      "cell_type": "code",
      "source": [
        "sns.histplot(x=\"assigned_room_type\", hue=\"is_canceled\", data=test, stat = \"percent\", bins=11, multiple=\"stack\")\n",
        "plt.xticks([0, 1, 2, 3, 4, 5, 6, 7, 8 ,9 , 10,11])\n",
        "plt.show()"
      ],
      "metadata": {
        "id": "9UQ9wkzoiZhH",
        "outputId": "59cc12ae-ccec-4e3a-b924-2b73b5ffb995",
        "colab": {
          "base_uri": "https://localhost:8080/",
          "height": 0
        }
      },
      "execution_count": 117,
      "outputs": [
        {
          "output_type": "display_data",
          "data": {
            "text/plain": [
              "<Figure size 640x480 with 1 Axes>"
            ],
            "image/png": "[encoded data removed]"
          },
          "metadata": {}
        }
      ]
    },
    {
      "cell_type": "code",
      "source": [
        "media_canc_ass_tr = train.groupby(train[\"assigned_room_type\"])[\"is_canceled\"].mean()\n",
        "print(media_canc_ass_tr)"
      ],
      "metadata": {
        "colab": {
          "base_uri": "https://localhost:8080/"
        },
        "id": "mmjYZdK5fF1N",
        "outputId": "44e1be29-bacc-4064-f7f7-5d5a470898a6"
      },
      "execution_count": 118,
      "outputs": [
        {
          "output_type": "stream",
          "name": "stdout",
          "text": [
            "assigned_room_type\n",
            "0     0.431709\n",
            "1     0.225854\n",
            "2     0.130081\n",
            "3     0.256228\n",
            "4     0.224119\n",
            "5     0.260145\n",
            "6     0.285950\n",
            "7     0.356932\n",
            "8     0.009302\n",
            "9     0.049645\n",
            "11    1.000000\n",
            "Name: is_canceled, dtype: float64\n"
          ]
        }
      ]
    },
    {
      "cell_type": "code",
      "source": [
        "media_canc_ass_te = test.groupby(test[\"assigned_room_type\"])[\"is_canceled\"].mean()\n",
        "print(media_canc_ass_te)"
      ],
      "metadata": {
        "colab": {
          "base_uri": "https://localhost:8080/"
        },
        "id": "8GjgLfUQfYUU",
        "outputId": "75cc279e-9d0d-42cb-a70c-48906715c188"
      },
      "execution_count": 119,
      "outputs": [
        {
          "output_type": "stream",
          "name": "stdout",
          "text": [
            "assigned_room_type\n",
            "0     0.432830\n",
            "1     0.427632\n",
            "2     0.299014\n",
            "3     0.307537\n",
            "4     0.330690\n",
            "5     0.290909\n",
            "6     0.377083\n",
            "7     0.408907\n",
            "8     0.009709\n",
            "9     0.036697\n",
            "11    1.000000\n",
            "Name: is_canceled, dtype: float64\n"
          ]
        }
      ]
    },
    {
      "cell_type": "markdown",
      "source": [
        "**Risposta 2.3:**\n",
        "\n",
        "\n",
        "---\n",
        "* Già da una prima analisi dei dati avevamo osservato che le percentuali di assegnazione della stanza risultavano molto simili, nei due dataset con una netta maggioranza per la stanza \"0\".\n",
        "* Le percentuali di cancellazione in relazione alla tipologia di stanza risultano alquanto differenti nei due dataset, per cui il \"room type\" risulta un dato non particolarmente dirimente rispetto alla probabilità di cancellazione.\n"
      ],
      "metadata": {
        "id": "YpXF5Ariikkg"
      }
    },
    {
      "cell_type": "markdown",
      "source": [
        "# **Domanda 2.4**:\n",
        "---\n",
        "Come si distribuiscono i valori relativi al tipo di hotel prenotato? Questo ha un effetto sul numero delle cancellazioni?"
      ],
      "metadata": {
        "id": "_zF9EBCTi1ma"
      }
    },
    {
      "cell_type": "code",
      "source": [
        "sns.histplot(x=\"hotel\", hue = \"is_canceled\", multiple = \"stack\", stat = \"count\", data=train_non, bins =5)\n",
        "plt.show()"
      ],
      "metadata": {
        "id": "gupX1tY5x9_u",
        "outputId": "a688c338-b3f6-4696-aaab-3854cf8f7976",
        "colab": {
          "base_uri": "https://localhost:8080/",
          "height": 0
        }
      },
      "execution_count": 120,
      "outputs": [
        {
          "output_type": "display_data",
          "data": {
            "text/plain": [
              "<Figure size 640x480 with 1 Axes>"
            ],
            "image/png": "[encoded data removed]"
          },
          "metadata": {}
        }
      ]
    },
    {
      "cell_type": "code",
      "source": [
        "sns.histplot(x=\"hotel\", hue = \"is_canceled\", multiple = \"stack\", stat = \"count\", data=test_non, bins =5)\n",
        "plt.show()"
      ],
      "metadata": {
        "id": "ipvfW7_dhixl",
        "outputId": "ac08da8f-091f-464b-f284-6e0041768e72",
        "colab": {
          "base_uri": "https://localhost:8080/",
          "height": 0
        }
      },
      "execution_count": 121,
      "outputs": [
        {
          "output_type": "display_data",
          "data": {
            "text/plain": [
              "<Figure size 640x480 with 1 Axes>"
            ],
            "image/png": "[encoded data removed]"
          },
          "metadata": {}
        }
      ]
    },
    {
      "cell_type": "code",
      "source": [
        "sns.histplot(x=\"hotel\", hue = \"is_canceled\", multiple = \"dodge\", stat = \"percent\", data=train_non, bins =5)\n",
        "plt.show()"
      ],
      "metadata": {
        "id": "M9RtXAfGj_uZ",
        "outputId": "c94d3fcd-e6c7-474d-cd3c-fe44496e4ab0",
        "colab": {
          "base_uri": "https://localhost:8080/",
          "height": 0
        }
      },
      "execution_count": 122,
      "outputs": [
        {
          "output_type": "display_data",
          "data": {
            "text/plain": [
              "<Figure size 640x480 with 1 Axes>"
            ],
            "image/png": "[encoded data removed]"
          },
          "metadata": {}
        }
      ]
    },
    {
      "cell_type": "code",
      "source": [
        "sns.histplot(x=\"hotel\", hue = \"is_canceled\", multiple = \"dodge\", stat = \"percent\", data=test_non, bins =5)\n",
        "plt.show()"
      ],
      "metadata": {
        "colab": {
          "base_uri": "https://localhost:8080/",
          "height": 0
        },
        "id": "qa9fbF-Igcgs",
        "outputId": "73d50bac-ed6c-4988-b601-076b16090a87"
      },
      "execution_count": 123,
      "outputs": [
        {
          "output_type": "display_data",
          "data": {
            "text/plain": [
              "<Figure size 640x480 with 1 Axes>"
            ],
            "image/png": "[encoded data removed]"
          },
          "metadata": {}
        }
      ]
    },
    {
      "cell_type": "markdown",
      "source": [
        "**Risposta n.2.4**:\n",
        "\n",
        "---\n",
        "\n",
        "\n",
        "* Il numero di prenotazioni sono maggiori presso l'hotel \"City hotel\" rispetto all'hotel \"Resort hotel\". Nel test, rispetto al train, il numero delle prenotazioni totali è inferiore ma il trand si conferma.\n",
        "* Le percentuali di prenotazioni nei due dataset sono molto simili, difatti differiscono solamente di pochi decimi (67% \"City Hotel\" e 33% \"Resort Hotel)\n",
        "* La media delle cancellazioni è leggermente differente tra i due dataset, ma in generale si può affermare che il \"City Hotel\" riscontri, in media, più cancellazioni."
      ],
      "metadata": {
        "id": "cjBEKYgGgv0E"
      }
    },
    {
      "cell_type": "markdown",
      "source": [
        "# **Domanda n.2.5**:\n",
        "\n",
        "---\n",
        "Quanto influisce la prenotazione di uno o più posti auto sulla cancellazione"
      ],
      "metadata": {
        "id": "6n6iuvEoCENu"
      }
    },
    {
      "cell_type": "code",
      "source": [
        "sns.histplot(x=\"required_car_parking_spaces\", hue=\"is_canceled\", multiple=\"stack\", stat=\"count\", data=train, bins = 8)\n",
        "plt.xticks([1, 2, 3, 4])\n",
        "plt.show()"
      ],
      "metadata": {
        "colab": {
          "base_uri": "https://localhost:8080/",
          "height": 0
        },
        "id": "dVvPBGJwygBD",
        "outputId": "2b44b4b9-43a6-46ea-8559-90c6d7f998fd"
      },
      "execution_count": 124,
      "outputs": [
        {
          "output_type": "display_data",
          "data": {
            "text/plain": [
              "<Figure size 640x480 with 1 Axes>"
            ],
            "image/png": "[encoded data removed]"
          },
          "metadata": {}
        }
      ]
    },
    {
      "cell_type": "code",
      "source": [
        "sns.histplot(x=\"required_car_parking_spaces\", hue=\"is_canceled\", multiple=\"stack\", stat=\"count\", data=test, bins = 8)\n",
        "plt.xticks([1, 2, 3, 4, 5, 6])\n",
        "plt.show()"
      ],
      "metadata": {
        "colab": {
          "base_uri": "https://localhost:8080/",
          "height": 0
        },
        "id": "9XVWNhNdymCi",
        "outputId": "8f4492b5-d732-4c48-c640-49d4fcaaed2c"
      },
      "execution_count": 125,
      "outputs": [
        {
          "output_type": "display_data",
          "data": {
            "text/plain": [
              "<Figure size 640x480 with 1 Axes>"
            ],
            "image/png": "[encoded data removed]"
          },
          "metadata": {}
        }
      ]
    },
    {
      "cell_type": "code",
      "source": [
        "sns.histplot(x=\"required_car_parking_spaces\", hue = \"is_canceled\", multiple = \"fill\", stat = \"probability\", data=test, bins = 8)\n",
        "plt.show()"
      ],
      "metadata": {
        "colab": {
          "base_uri": "https://localhost:8080/",
          "height": 0
        },
        "id": "QvTXsGhqypJi",
        "outputId": "4531c5e7-0976-404e-d309-c3a8463fc539"
      },
      "execution_count": 126,
      "outputs": [
        {
          "output_type": "display_data",
          "data": {
            "text/plain": [
              "<Figure size 640x480 with 1 Axes>"
            ],
            "image/png": "[encoded data removed]"
          },
          "metadata": {}
        }
      ]
    },
    {
      "cell_type": "code",
      "source": [
        "sns.histplot(x=\"required_car_parking_spaces\", hue = \"is_canceled\", multiple = \"fill\", stat = \"probability\", data=train, bins = 8)\n",
        "plt.show()"
      ],
      "metadata": {
        "colab": {
          "base_uri": "https://localhost:8080/",
          "height": 0
        },
        "id": "Dy8Ywd6dyrOO",
        "outputId": "bccf1f3a-9ec0-490f-a444-c03cf1ff5de3"
      },
      "execution_count": 127,
      "outputs": [
        {
          "output_type": "display_data",
          "data": {
            "text/plain": [
              "<Figure size 640x480 with 1 Axes>"
            ],
            "image/png": "[encoded data removed]"
          },
          "metadata": {}
        }
      ]
    },
    {
      "cell_type": "markdown",
      "source": [
        "**Risposta n.2.5**:\n",
        "\n",
        "---\n",
        "Come avevamo notato anche nella prima parte, possiamo osservare che la prenotazione di uno o più posti auto ci fornisce una risposta molto netta, in relazione alla cancellazione. Infatti, nonostante l'esiguo numero di casi, a nessuna \"required car parking space\" ha fattio seguito una cancellazione."
      ],
      "metadata": {
        "id": "zLEc6qM4ytrd"
      }
    },
    {
      "cell_type": "markdown",
      "source": [
        "# **Domanda 2.6**:\n",
        "---\n",
        "Quanti giorni circa prima dell'arrivo vengono prenotati i soggiorni? Questo ha un impatto sulla probabilità di cancellazione della prenotazione? Il dato cambia in base al tipo di hotel?"
      ],
      "metadata": {
        "id": "RAI64-n3zvOt"
      }
    },
    {
      "cell_type": "code",
      "source": [
        "sns.boxplot(x=\"hotel\", y=\"lead_time\", hue= \"is_canceled\", data=train_non)\n",
        "plt.show()"
      ],
      "metadata": {
        "colab": {
          "base_uri": "https://localhost:8080/",
          "height": 0
        },
        "id": "FutZ7-MN1h6q",
        "outputId": "7c731f66-3b03-4fc2-eec6-245f6258d6a7"
      },
      "execution_count": 128,
      "outputs": [
        {
          "output_type": "display_data",
          "data": {
            "text/plain": [
              "<Figure size 640x480 with 1 Axes>"
            ],
            "image/png": "[encoded data removed]"
          },
          "metadata": {}
        }
      ]
    },
    {
      "cell_type": "code",
      "source": [
        "sns.boxplot(x=\"hotel\", y=\"lead_time\", hue= \"is_canceled\", data=test_non)\n",
        "plt.show()"
      ],
      "metadata": {
        "colab": {
          "base_uri": "https://localhost:8080/",
          "height": 0
        },
        "id": "NmnDEmIl2Fkg",
        "outputId": "67cdc30a-20c7-438f-aa84-0ea79dc87cbe"
      },
      "execution_count": 129,
      "outputs": [
        {
          "output_type": "display_data",
          "data": {
            "text/plain": [
              "<Figure size 640x480 with 1 Axes>"
            ],
            "image/png": "[encoded data removed]"
          },
          "metadata": {}
        }
      ]
    },
    {
      "cell_type": "code",
      "source": [
        "anticipo_tr = train[\"anticipo\"] = pd.cut(train[\"lead_time\"], bins=[-1,0, 100, 200, 300, 400, 500, 600, 800], labels=[ \"0\", \"1-100\", \"100-200\", \"200-300\", \"300-400\", \"400-500\", \"500-600\", \"600-800\"])\n",
        "media_anticipo_tr = train.groupby(\"anticipo\")[\"is_canceled\"].mean()\n",
        "print(media_anticipo_tr)"
      ],
      "metadata": {
        "colab": {
          "base_uri": "https://localhost:8080/"
        },
        "id": "Z-NidSqZ7e82",
        "outputId": "20e08a35-85b0-4f86-ef66-79d0c0f4aa4d"
      },
      "execution_count": 130,
      "outputs": [
        {
          "output_type": "stream",
          "name": "stdout",
          "text": [
            "anticipo\n",
            "0          0.065075\n",
            "1-100      0.292749\n",
            "100-200    0.432953\n",
            "200-300    0.523328\n",
            "300-400    0.552941\n",
            "400-500    0.895859\n",
            "500-600    0.816000\n",
            "600-800    0.983607\n",
            "Name: is_canceled, dtype: float64\n"
          ]
        }
      ]
    },
    {
      "cell_type": "code",
      "source": [
        "anticipo_te = test[\"anticipo\"] = pd.cut(test[\"lead_time\"], bins=[-1,0, 100, 200, 300, 400, 500, 600, 800], labels=[ \"0\", \"1-100\", \"100-200\", \"200-300\", \"300-400\", \"400-500\", \"500-600\", \"600-800\"])\n",
        "media_anticipo_te = test.groupby(\"anticipo\")[\"is_canceled\"].mean()\n",
        "print(media_anticipo_te)"
      ],
      "metadata": {
        "colab": {
          "base_uri": "https://localhost:8080/"
        },
        "id": "GKhVt8fN7iFh",
        "outputId": "090947ce-8773-4dbb-a9f4-8460d2e80ed8"
      },
      "execution_count": 131,
      "outputs": [
        {
          "output_type": "stream",
          "name": "stdout",
          "text": [
            "anticipo\n",
            "0          0.066038\n",
            "1-100      0.326309\n",
            "100-200    0.473423\n",
            "200-300    0.481404\n",
            "300-400    0.604194\n",
            "400-500    0.437656\n",
            "500-600    0.793269\n",
            "600-800    1.000000\n",
            "Name: is_canceled, dtype: float64\n"
          ]
        }
      ]
    },
    {
      "cell_type": "markdown",
      "source": [
        "**Risposta n.2.6:**\n",
        "---\n",
        "* Non ci sono grosse differenze nella distribuzione dei dati tra train e test dataset.\n",
        "* Le prenotazioni non cancellate hanno la maggioranza dei dati schiacciati verso il valore 0. Quindi una prenotazione \"all'ultimo minuto\" ha meno probabilità di essere cancellata rispetto a una prenotazione fatta con largo anticipo.\n",
        "* I valori del resort hotel risultano meno schiacciati e hanno anche un numero minore di valori al di fuori del terzo quartile."
      ],
      "metadata": {
        "id": "UfCJHP_t0WFZ"
      }
    },
    {
      "cell_type": "markdown",
      "source": [
        "# **Fase 3 Machine learning**"
      ],
      "metadata": {
        "id": "W5JaI6mzPt1x"
      }
    },
    {
      "cell_type": "code",
      "source": [
        "train.describe()"
      ],
      "metadata": {
        "id": "JVYPVXW9SWZi",
        "outputId": "4de831b3-db26-46e0-a8ab-458345bb0e6e",
        "colab": {
          "base_uri": "https://localhost:8080/",
          "height": 349
        }
      },
      "execution_count": 132,
      "outputs": [
        {
          "output_type": "execute_result",
          "data": {
            "text/plain": [
              "              hotel   is_canceled     lead_time  arrival_date_year  \\\n",
              "count  56707.000000  56707.000000  56707.000000            56707.0   \n",
              "mean       0.327420      0.358633    102.870369             2016.0   \n",
              "std        0.469276      0.479603    106.582358                0.0   \n",
              "min        0.000000      0.000000      0.000000             2016.0   \n",
              "25%        0.000000      0.000000     17.000000             2016.0   \n",
              "50%        0.000000      0.000000     68.000000             2016.0   \n",
              "75%        1.000000      1.000000    160.000000             2016.0   \n",
              "max        1.000000      1.000000    709.000000             2016.0   \n",
              "\n",
              "       arrival_date_month  arrival_date_week_number  \\\n",
              "count        56707.000000              56707.000000   \n",
              "mean             6.767313                 28.458162   \n",
              "std              3.194300                 13.925493   \n",
              "min              1.000000                  1.000000   \n",
              "25%              4.000000                 17.000000   \n",
              "50%              7.000000                 28.000000   \n",
              "75%             10.000000                 41.000000   \n",
              "max             12.000000                 53.000000   \n",
              "\n",
              "       arrival_date_day_of_month  stays_in_weekend_nights  \\\n",
              "count               56707.000000             56707.000000   \n",
              "mean                   15.911104                 0.893981   \n",
              "std                     8.784897                 0.983110   \n",
              "min                     1.000000                 0.000000   \n",
              "25%                     8.000000                 0.000000   \n",
              "50%                    16.000000                 1.000000   \n",
              "75%                    24.000000                 2.000000   \n",
              "max                    31.000000                19.000000   \n",
              "\n",
              "       stays_in_week_nights        adults  ...       company  \\\n",
              "count          56707.000000  56707.000000  ...  56707.000000   \n",
              "mean               2.442802      1.850988  ...      8.487435   \n",
              "std                1.863548      0.498133  ...     47.550647   \n",
              "min                0.000000      0.000000  ...     -1.000000   \n",
              "25%                1.000000      2.000000  ...     -1.000000   \n",
              "50%                2.000000      2.000000  ...     -1.000000   \n",
              "75%                3.000000      2.000000  ...     -1.000000   \n",
              "max               50.000000      4.000000  ...    499.000000   \n",
              "\n",
              "       days_in_waiting_list  customer_type           adr  \\\n",
              "count          56707.000000   56707.000000  56707.000000   \n",
              "mean               3.833865       2.171302     98.325863   \n",
              "std               23.785668       0.477327     49.955696   \n",
              "min                0.000000       0.000000      0.000000   \n",
              "25%                0.000000       2.000000     68.530000   \n",
              "50%                0.000000       2.000000     90.950000   \n",
              "75%                0.000000       2.000000    120.000000   \n",
              "max              391.000000       3.000000   5400.000000   \n",
              "\n",
              "       required_car_parking_spaces  total_of_special_requests       persone  \\\n",
              "count                 56707.000000               56707.000000  56707.000000   \n",
              "mean                      0.068334                   0.548645      1.963338   \n",
              "std                       0.253296                   0.761173      0.655733   \n",
              "min                       0.000000                   0.000000      0.000000   \n",
              "25%                       0.000000                   0.000000      2.000000   \n",
              "50%                       0.000000                   0.000000      2.000000   \n",
              "75%                       0.000000                   1.000000      2.000000   \n",
              "max                       3.000000                   5.000000     12.000000   \n",
              "\n",
              "       colonna_bambini  prenotazioni_precedenti  giorni_totali  \n",
              "count     56707.000000             56707.000000   56707.000000  \n",
              "mean          0.112349                 0.197930       3.336784  \n",
              "std           0.410922                 1.749266       2.498863  \n",
              "min           0.000000                 0.000000       0.000000  \n",
              "25%           0.000000                 0.000000       2.000000  \n",
              "50%           0.000000                 0.000000       3.000000  \n",
              "75%           0.000000                 0.000000       4.000000  \n",
              "max          10.000000                64.000000      69.000000  \n",
              "\n",
              "[8 rows x 34 columns]"
            ],
            "text/html": [
              "\n",
              "  <div id=\"df-3cfee72d-544f-4be9-b723-5d2d0f546248\" class=\"colab-df-container\">\n",
              "    <div>\n",
              "<style scoped>\n",
              "    .dataframe tbody tr th:only-of-type {\n",
              "        vertical-align: middle;\n",
              "    }\n",
              "\n",
              "    .dataframe tbody tr th {\n",
              "        vertical-align: top;\n",
              "    }\n",
              "\n",
              "    .dataframe thead th {\n",
              "        text-align: right;\n",
              "    }\n",
              "</style>\n",
              "<table border=\"1\" class=\"dataframe\">\n",
              "  <thead>\n",
              "    <tr style=\"text-align: right;\">\n",
              "      <th></th>\n",
              "      <th>hotel</th>\n",
              "      <th>is_canceled</th>\n",
              "      <th>lead_time</th>\n",
              "      <th>arrival_date_year</th>\n",
              "      <th>arrival_date_month</th>\n",
              "      <th>arrival_date_week_number</th>\n",
              "      <th>arrival_date_day_of_month</th>\n",
              "      <th>stays_in_weekend_nights</th>\n",
              "      <th>stays_in_week_nights</th>\n",
              "      <th>adults</th>\n",
              "      <th>...</th>\n",
              "      <th>company</th>\n",
              "      <th>days_in_waiting_list</th>\n",
              "      <th>customer_type</th>\n",
              "      <th>adr</th>\n",
              "      <th>required_car_parking_spaces</th>\n",
              "      <th>total_of_special_requests</th>\n",
              "      <th>persone</th>\n",
              "      <th>colonna_bambini</th>\n",
              "      <th>prenotazioni_precedenti</th>\n",
              "      <th>giorni_totali</th>\n",
              "    </tr>\n",
              "  </thead>\n",
              "  <tbody>\n",
              "    <tr>\n",
              "      <th>count</th>\n",
              "      <td>56707.000000</td>\n",
              "      <td>56707.000000</td>\n",
              "      <td>56707.000000</td>\n",
              "      <td>56707.0</td>\n",
              "      <td>56707.000000</td>\n",
              "      <td>56707.000000</td>\n",
              "      <td>56707.000000</td>\n",
              "      <td>56707.000000</td>\n",
              "      <td>56707.000000</td>\n",
              "      <td>56707.000000</td>\n",
              "      <td>...</td>\n",
              "      <td>56707.000000</td>\n",
              "      <td>56707.000000</td>\n",
              "      <td>56707.000000</td>\n",
              "      <td>56707.000000</td>\n",
              "      <td>56707.000000</td>\n",
              "      <td>56707.000000</td>\n",
              "      <td>56707.000000</td>\n",
              "      <td>56707.000000</td>\n",
              "      <td>56707.000000</td>\n",
              "      <td>56707.000000</td>\n",
              "    </tr>\n",
              "    <tr>\n",
              "      <th>mean</th>\n",
              "      <td>0.327420</td>\n",
              "      <td>0.358633</td>\n",
              "      <td>102.870369</td>\n",
              "      <td>2016.0</td>\n",
              "      <td>6.767313</td>\n",
              "      <td>28.458162</td>\n",
              "      <td>15.911104</td>\n",
              "      <td>0.893981</td>\n",
              "      <td>2.442802</td>\n",
              "      <td>1.850988</td>\n",
              "      <td>...</td>\n",
              "      <td>8.487435</td>\n",
              "      <td>3.833865</td>\n",
              "      <td>2.171302</td>\n",
              "      <td>98.325863</td>\n",
              "      <td>0.068334</td>\n",
              "      <td>0.548645</td>\n",
              "      <td>1.963338</td>\n",
              "      <td>0.112349</td>\n",
              "      <td>0.197930</td>\n",
              "      <td>3.336784</td>\n",
              "    </tr>\n",
              "    <tr>\n",
              "      <th>std</th>\n",
              "      <td>0.469276</td>\n",
              "      <td>0.479603</td>\n",
              "      <td>106.582358</td>\n",
              "      <td>0.0</td>\n",
              "      <td>3.194300</td>\n",
              "      <td>13.925493</td>\n",
              "      <td>8.784897</td>\n",
              "      <td>0.983110</td>\n",
              "      <td>1.863548</td>\n",
              "      <td>0.498133</td>\n",
              "      <td>...</td>\n",
              "      <td>47.550647</td>\n",
              "      <td>23.785668</td>\n",
              "      <td>0.477327</td>\n",
              "      <td>49.955696</td>\n",
              "      <td>0.253296</td>\n",
              "      <td>0.761173</td>\n",
              "      <td>0.655733</td>\n",
              "      <td>0.410922</td>\n",
              "      <td>1.749266</td>\n",
              "      <td>2.498863</td>\n",
              "    </tr>\n",
              "    <tr>\n",
              "      <th>min</th>\n",
              "      <td>0.000000</td>\n",
              "      <td>0.000000</td>\n",
              "      <td>0.000000</td>\n",
              "      <td>2016.0</td>\n",
              "      <td>1.000000</td>\n",
              "      <td>1.000000</td>\n",
              "      <td>1.000000</td>\n",
              "      <td>0.000000</td>\n",
              "      <td>0.000000</td>\n",
              "      <td>0.000000</td>\n",
              "      <td>...</td>\n",
              "      <td>-1.000000</td>\n",
              "      <td>0.000000</td>\n",
              "      <td>0.000000</td>\n",
              "      <td>0.000000</td>\n",
              "      <td>0.000000</td>\n",
              "      <td>0.000000</td>\n",
              "      <td>0.000000</td>\n",
              "      <td>0.000000</td>\n",
              "      <td>0.000000</td>\n",
              "      <td>0.000000</td>\n",
              "    </tr>\n",
              "    <tr>\n",
              "      <th>25%</th>\n",
              "      <td>0.000000</td>\n",
              "      <td>0.000000</td>\n",
              "      <td>17.000000</td>\n",
              "      <td>2016.0</td>\n",
              "      <td>4.000000</td>\n",
              "      <td>17.000000</td>\n",
              "      <td>8.000000</td>\n",
              "      <td>0.000000</td>\n",
              "      <td>1.000000</td>\n",
              "      <td>2.000000</td>\n",
              "      <td>...</td>\n",
              "      <td>-1.000000</td>\n",
              "      <td>0.000000</td>\n",
              "      <td>2.000000</td>\n",
              "      <td>68.530000</td>\n",
              "      <td>0.000000</td>\n",
              "      <td>0.000000</td>\n",
              "      <td>2.000000</td>\n",
              "      <td>0.000000</td>\n",
              "      <td>0.000000</td>\n",
              "      <td>2.000000</td>\n",
              "    </tr>\n",
              "    <tr>\n",
              "      <th>50%</th>\n",
              "      <td>0.000000</td>\n",
              "      <td>0.000000</td>\n",
              "      <td>68.000000</td>\n",
              "      <td>2016.0</td>\n",
              "      <td>7.000000</td>\n",
              "      <td>28.000000</td>\n",
              "      <td>16.000000</td>\n",
              "      <td>1.000000</td>\n",
              "      <td>2.000000</td>\n",
              "      <td>2.000000</td>\n",
              "      <td>...</td>\n",
              "      <td>-1.000000</td>\n",
              "      <td>0.000000</td>\n",
              "      <td>2.000000</td>\n",
              "      <td>90.950000</td>\n",
              "      <td>0.000000</td>\n",
              "      <td>0.000000</td>\n",
              "      <td>2.000000</td>\n",
              "      <td>0.000000</td>\n",
              "      <td>0.000000</td>\n",
              "      <td>3.000000</td>\n",
              "    </tr>\n",
              "    <tr>\n",
              "      <th>75%</th>\n",
              "      <td>1.000000</td>\n",
              "      <td>1.000000</td>\n",
              "      <td>160.000000</td>\n",
              "      <td>2016.0</td>\n",
              "      <td>10.000000</td>\n",
              "      <td>41.000000</td>\n",
              "      <td>24.000000</td>\n",
              "      <td>2.000000</td>\n",
              "      <td>3.000000</td>\n",
              "      <td>2.000000</td>\n",
              "      <td>...</td>\n",
              "      <td>-1.000000</td>\n",
              "      <td>0.000000</td>\n",
              "      <td>2.000000</td>\n",
              "      <td>120.000000</td>\n",
              "      <td>0.000000</td>\n",
              "      <td>1.000000</td>\n",
              "      <td>2.000000</td>\n",
              "      <td>0.000000</td>\n",
              "      <td>0.000000</td>\n",
              "      <td>4.000000</td>\n",
              "    </tr>\n",
              "    <tr>\n",
              "      <th>max</th>\n",
              "      <td>1.000000</td>\n",
              "      <td>1.000000</td>\n",
              "      <td>709.000000</td>\n",
              "      <td>2016.0</td>\n",
              "      <td>12.000000</td>\n",
              "      <td>53.000000</td>\n",
              "      <td>31.000000</td>\n",
              "      <td>19.000000</td>\n",
              "      <td>50.000000</td>\n",
              "      <td>4.000000</td>\n",
              "      <td>...</td>\n",
              "      <td>499.000000</td>\n",
              "      <td>391.000000</td>\n",
              "      <td>3.000000</td>\n",
              "      <td>5400.000000</td>\n",
              "      <td>3.000000</td>\n",
              "      <td>5.000000</td>\n",
              "      <td>12.000000</td>\n",
              "      <td>10.000000</td>\n",
              "      <td>64.000000</td>\n",
              "      <td>69.000000</td>\n",
              "    </tr>\n",
              "  </tbody>\n",
              "</table>\n",
              "<p>8 rows × 34 columns</p>\n",
              "</div>\n",
              "    <div class=\"colab-df-buttons\">\n",
              "\n",
              "  <div class=\"colab-df-container\">\n",
              "    <button class=\"colab-df-convert\" onclick=\"convertToInteractive('df-3cfee72d-544f-4be9-b723-5d2d0f546248')\"\n",
              "            title=\"Convert this dataframe to an interactive table.\"\n",
              "            style=\"display:none;\">\n",
              "\n",
              "  <svg xmlns=\"http://www.w3.org/2000/svg\" height=\"24px\" viewBox=\"0 -960 960 960\">\n",
              "    <path d=\"M120-120v-720h720v720H120Zm60-500h600v-160H180v160Zm220 220h160v-160H400v160Zm0 220h160v-160H400v160ZM180-400h160v-160H180v160Zm440 0h160v-160H620v160ZM180-180h160v-160H180v160Zm440 0h160v-160H620v160Z\"/>\n",
              "  </svg>\n",
              "    </button>\n",
              "\n",
              "  <style>\n",
              "    .colab-df-container {\n",
              "      display:flex;\n",
              "      gap: 12px;\n",
              "    }\n",
              "\n",
              "    .colab-df-convert {\n",
              "      background-color: #E8F0FE;\n",
              "      border: none;\n",
              "      border-radius: 50%;\n",
              "      cursor: pointer;\n",
              "      display: none;\n",
              "      fill: #1967D2;\n",
              "      height: 32px;\n",
              "      padding: 0 0 0 0;\n",
              "      width: 32px;\n",
              "    }\n",
              "\n",
              "    .colab-df-convert:hover {\n",
              "      background-color: #E2EBFA;\n",
              "      box-shadow: 0px 1px 2px rgba(60, 64, 67, 0.3), 0px 1px 3px 1px rgba(60, 64, 67, 0.15);\n",
              "      fill: #174EA6;\n",
              "    }\n",
              "\n",
              "    .colab-df-buttons div {\n",
              "      margin-bottom: 4px;\n",
              "    }\n",
              "\n",
              "    [theme=dark] .colab-df-convert {\n",
              "      background-color: #3B4455;\n",
              "      fill: #D2E3FC;\n",
              "    }\n",
              "\n",
              "    [theme=dark] .colab-df-convert:hover {\n",
              "      background-color: #434B5C;\n",
              "      box-shadow: 0px 1px 3px 1px rgba(0, 0, 0, 0.15);\n",
              "      filter: drop-shadow(0px 1px 2px rgba(0, 0, 0, 0.3));\n",
              "      fill: #FFFFFF;\n",
              "    }\n",
              "  </style>\n",
              "\n",
              "    <script>\n",
              "      const buttonEl =\n",
              "        document.querySelector('#df-3cfee72d-544f-4be9-b723-5d2d0f546248 button.colab-df-convert');\n",
              "      buttonEl.style.display =\n",
              "        google.colab.kernel.accessAllowed ? 'block' : 'none';\n",
              "\n",
              "      async function convertToInteractive(key) {\n",
              "        const element = document.querySelector('#df-3cfee72d-544f-4be9-b723-5d2d0f546248');\n",
              "        const dataTable =\n",
              "          await google.colab.kernel.invokeFunction('convertToInteractive',\n",
              "                                                    [key], {});\n",
              "        if (!dataTable) return;\n",
              "\n",
              "        const docLinkHtml = 'Like what you see? Visit the ' +\n",
              "          '<a target=\"_blank\" href=https://colab.research.google.com/notebooks/data_table.ipynb>data table notebook</a>'\n",
              "          + ' to learn more about interactive tables.';\n",
              "        element.innerHTML = '';\n",
              "        dataTable['output_type'] = 'display_data';\n",
              "        await google.colab.output.renderOutput(dataTable, element);\n",
              "        const docLink = document.createElement('div');\n",
              "        docLink.innerHTML = docLinkHtml;\n",
              "        element.appendChild(docLink);\n",
              "      }\n",
              "    </script>\n",
              "  </div>\n",
              "\n",
              "\n",
              "<div id=\"df-f58e5dcd-dbb6-41fa-af65-c899621b6270\">\n",
              "  <button class=\"colab-df-quickchart\" onclick=\"quickchart('df-f58e5dcd-dbb6-41fa-af65-c899621b6270')\"\n",
              "            title=\"Suggest charts\"\n",
              "            style=\"display:none;\">\n",
              "\n",
              "<svg xmlns=\"http://www.w3.org/2000/svg\" height=\"24px\"viewBox=\"0 0 24 24\"\n",
              "     width=\"24px\">\n",
              "    <g>\n",
              "        <path d=\"M19 3H5c-1.1 0-2 .9-2 2v14c0 1.1.9 2 2 2h14c1.1 0 2-.9 2-2V5c0-1.1-.9-2-2-2zM9 17H7v-7h2v7zm4 0h-2V7h2v10zm4 0h-2v-4h2v4z\"/>\n",
              "    </g>\n",
              "</svg>\n",
              "  </button>\n",
              "\n",
              "<style>\n",
              "  .colab-df-quickchart {\n",
              "      --bg-color: #E8F0FE;\n",
              "      --fill-color: #1967D2;\n",
              "      --hover-bg-color: #E2EBFA;\n",
              "      --hover-fill-color: #174EA6;\n",
              "      --disabled-fill-color: #AAA;\n",
              "      --disabled-bg-color: #DDD;\n",
              "  }\n",
              "\n",
              "  [theme=dark] .colab-df-quickchart {\n",
              "      --bg-color: #3B4455;\n",
              "      --fill-color: #D2E3FC;\n",
              "      --hover-bg-color: #434B5C;\n",
              "      --hover-fill-color: #FFFFFF;\n",
              "      --disabled-bg-color: #3B4455;\n",
              "      --disabled-fill-color: #666;\n",
              "  }\n",
              "\n",
              "  .colab-df-quickchart {\n",
              "    background-color: var(--bg-color);\n",
              "    border: none;\n",
              "    border-radius: 50%;\n",
              "    cursor: pointer;\n",
              "    display: none;\n",
              "    fill: var(--fill-color);\n",
              "    height: 32px;\n",
              "    padding: 0;\n",
              "    width: 32px;\n",
              "  }\n",
              "\n",
              "  .colab-df-quickchart:hover {\n",
              "    background-color: var(--hover-bg-color);\n",
              "    box-shadow: 0 1px 2px rgba(60, 64, 67, 0.3), 0 1px 3px 1px rgba(60, 64, 67, 0.15);\n",
              "    fill: var(--button-hover-fill-color);\n",
              "  }\n",
              "\n",
              "  .colab-df-quickchart-complete:disabled,\n",
              "  .colab-df-quickchart-complete:disabled:hover {\n",
              "    background-color: var(--disabled-bg-color);\n",
              "    fill: var(--disabled-fill-color);\n",
              "    box-shadow: none;\n",
              "  }\n",
              "\n",
              "  .colab-df-spinner {\n",
              "    border: 2px solid var(--fill-color);\n",
              "    border-color: transparent;\n",
              "    border-bottom-color: var(--fill-color);\n",
              "    animation:\n",
              "      spin 1s steps(1) infinite;\n",
              "  }\n",
              "\n",
              "  @keyframes spin {\n",
              "    0% {\n",
              "      border-color: transparent;\n",
              "      border-bottom-color: var(--fill-color);\n",
              "      border-left-color: var(--fill-color);\n",
              "    }\n",
              "    20% {\n",
              "      border-color: transparent;\n",
              "      border-left-color: var(--fill-color);\n",
              "      border-top-color: var(--fill-color);\n",
              "    }\n",
              "    30% {\n",
              "      border-color: transparent;\n",
              "      border-left-color: var(--fill-color);\n",
              "      border-top-color: var(--fill-color);\n",
              "      border-right-color: var(--fill-color);\n",
              "    }\n",
              "    40% {\n",
              "      border-color: transparent;\n",
              "      border-right-color: var(--fill-color);\n",
              "      border-top-color: var(--fill-color);\n",
              "    }\n",
              "    60% {\n",
              "      border-color: transparent;\n",
              "      border-right-color: var(--fill-color);\n",
              "    }\n",
              "    80% {\n",
              "      border-color: transparent;\n",
              "      border-right-color: var(--fill-color);\n",
              "      border-bottom-color: var(--fill-color);\n",
              "    }\n",
              "    90% {\n",
              "      border-color: transparent;\n",
              "      border-bottom-color: var(--fill-color);\n",
              "    }\n",
              "  }\n",
              "</style>\n",
              "\n",
              "  <script>\n",
              "    async function quickchart(key) {\n",
              "      const quickchartButtonEl =\n",
              "        document.querySelector('#' + key + ' button');\n",
              "      quickchartButtonEl.disabled = true;  // To prevent multiple clicks.\n",
              "      quickchartButtonEl.classList.add('colab-df-spinner');\n",
              "      try {\n",
              "        const charts = await google.colab.kernel.invokeFunction(\n",
              "            'suggestCharts', [key], {});\n",
              "      } catch (error) {\n",
              "        console.error('Error during call to suggestCharts:', error);\n",
              "      }\n",
              "      quickchartButtonEl.classList.remove('colab-df-spinner');\n",
              "      quickchartButtonEl.classList.add('colab-df-quickchart-complete');\n",
              "    }\n",
              "    (() => {\n",
              "      let quickchartButtonEl =\n",
              "        document.querySelector('#df-f58e5dcd-dbb6-41fa-af65-c899621b6270 button');\n",
              "      quickchartButtonEl.style.display =\n",
              "        google.colab.kernel.accessAllowed ? 'block' : 'none';\n",
              "    })();\n",
              "  </script>\n",
              "</div>\n",
              "    </div>\n",
              "  </div>\n"
            ]
          },
          "metadata": {},
          "execution_count": 132
        }
      ]
    },
    {
      "cell_type": "code",
      "source": [
        "attesa = {\"0 giorni\": 0, \"1-391 giorni\": 1}\n",
        "train[\"lista_d'attesa\"] = train[\"lista_d'attesa\"].map(attesa)\n",
        "test[\"lista_d'attesa\"] = test[\"lista_d'attesa\"].map(attesa)"
      ],
      "metadata": {
        "id": "jyXmXJ7M4Vz2"
      },
      "execution_count": 133,
      "outputs": []
    },
    {
      "cell_type": "code",
      "source": [
        "anticipo = {\"0\": 0, \"1-100\": 1, \"100-200\":2, \"200-300\": 3, \"300-400\":4, \"400-500\":5, \"500-600\":6, \"600-800\":7}\n",
        "train[\"anticipo\"] = train[\"anticipo\"].map(anticipo)\n",
        "test[\"anticipo\"] = test[\"anticipo\"].map(anticipo)"
      ],
      "metadata": {
        "id": "yp_1HLQW8bvy"
      },
      "execution_count": 134,
      "outputs": []
    },
    {
      "cell_type": "code",
      "source": [
        "print(test.isnull().sum())\n",
        "print(train.isnull().sum())"
      ],
      "metadata": {
        "id": "Laxb6_35PDNI",
        "outputId": "41709d2f-45e7-415a-ff69-df662bc0cdc5",
        "colab": {
          "base_uri": "https://localhost:8080/"
        }
      },
      "execution_count": 135,
      "outputs": [
        {
          "output_type": "stream",
          "name": "stdout",
          "text": [
            "hotel                             0\n",
            "is_canceled                       0\n",
            "lead_time                         0\n",
            "arrival_date_year                 0\n",
            "arrival_date_month                0\n",
            "arrival_date_week_number          0\n",
            "arrival_date_day_of_month         0\n",
            "stays_in_weekend_nights           0\n",
            "stays_in_week_nights              0\n",
            "adults                            0\n",
            "children                          0\n",
            "babies                            0\n",
            "meal                              0\n",
            "country                           0\n",
            "market_segment                    0\n",
            "distribution_channel              0\n",
            "is_repeated_guest                 0\n",
            "previous_cancellations            0\n",
            "previous_bookings_not_canceled    0\n",
            "reserved_room_type                0\n",
            "assigned_room_type                0\n",
            "booking_changes                   0\n",
            "deposit_type                      0\n",
            "agent                             0\n",
            "company                           0\n",
            "days_in_waiting_list              0\n",
            "customer_type                     0\n",
            "adr                               0\n",
            "required_car_parking_spaces       0\n",
            "total_of_special_requests         0\n",
            "persone                           0\n",
            "colonna_bambini                   0\n",
            "prenotazioni_precedenti           0\n",
            "giorni_totali                     0\n",
            "lista_d'attesa                    0\n",
            "anticipo                          0\n",
            "dtype: int64\n",
            "hotel                             0\n",
            "is_canceled                       0\n",
            "lead_time                         0\n",
            "arrival_date_year                 0\n",
            "arrival_date_month                0\n",
            "arrival_date_week_number          0\n",
            "arrival_date_day_of_month         0\n",
            "stays_in_weekend_nights           0\n",
            "stays_in_week_nights              0\n",
            "adults                            0\n",
            "children                          0\n",
            "babies                            0\n",
            "meal                              0\n",
            "country                           0\n",
            "market_segment                    0\n",
            "distribution_channel              0\n",
            "is_repeated_guest                 0\n",
            "previous_cancellations            0\n",
            "previous_bookings_not_canceled    0\n",
            "reserved_room_type                0\n",
            "assigned_room_type                0\n",
            "booking_changes                   0\n",
            "deposit_type                      0\n",
            "agent                             0\n",
            "company                           0\n",
            "days_in_waiting_list              0\n",
            "customer_type                     0\n",
            "adr                               0\n",
            "required_car_parking_spaces       0\n",
            "total_of_special_requests         0\n",
            "persone                           0\n",
            "colonna_bambini                   0\n",
            "prenotazioni_precedenti           0\n",
            "giorni_totali                     0\n",
            "lista_d'attesa                    0\n",
            "anticipo                          0\n",
            "dtype: int64\n"
          ]
        }
      ]
    },
    {
      "cell_type": "code",
      "source": [
        "X_train = train.drop([\"is_canceled\",\"persone\",\"colonna_bambini\", \"prenotazioni_precedenti\", \"giorni_totali\", \"lista_d'attesa\", \"anticipo\"], axis=1)\n",
        "Y_train = train[\"is_canceled\"]\n",
        "X_test = test.drop([\"is_canceled\",\"persone\",\"colonna_bambini\", \"prenotazioni_precedenti\", \"giorni_totali\", \"lista_d'attesa\", \"anticipo\"], axis=1)\n",
        "Y_test= test[\"is_canceled\"]\n"
      ],
      "metadata": {
        "id": "BVPYYIzXEp8L"
      },
      "execution_count": 136,
      "outputs": []
    },
    {
      "cell_type": "markdown",
      "source": [
        "# **Test n.1**:\n",
        "\n",
        "---\n",
        "\n"
      ],
      "metadata": {
        "id": "K4OmYJniCend"
      }
    },
    {
      "cell_type": "markdown",
      "source": [
        "# **Modello Support-Vector Machine (SVM)**\n",
        "\n",
        "---\n",
        "\n"
      ],
      "metadata": {
        "id": "E3SUvUu0JHrq"
      }
    },
    {
      "cell_type": "code",
      "source": [
        "model_svm = svm.SVC(kernel='linear', C=1, random_state=0)\n",
        "model_svm.fit(X_train, Y_train)"
      ],
      "metadata": {
        "colab": {
          "base_uri": "https://localhost:8080/",
          "height": 74
        },
        "id": "8RzqUtBaHmI5",
        "outputId": "c4bf9ef3-2d21-4371-c906-cddc6d33199c"
      },
      "execution_count": 137,
      "outputs": [
        {
          "output_type": "execute_result",
          "data": {
            "text/plain": [
              "SVC(C=1, kernel='linear', random_state=0)"
            ],
            "text/html": [
              "<style>#sk-container-id-1 {color: black;background-color: white;}#sk-container-id-1 pre{padding: 0;}#sk-container-id-1 div.sk-toggleable {background-color: white;}#sk-container-id-1 label.sk-toggleable__label {cursor: pointer;display: block;width: 100%;margin-bottom: 0;padding: 0.3em;box-sizing: border-box;text-align: center;}#sk-container-id-1 label.sk-toggleable__label-arrow:before {content: \"▸\";float: left;margin-right: 0.25em;color: #696969;}#sk-container-id-1 label.sk-toggleable__label-arrow:hover:before {color: black;}#sk-container-id-1 div.sk-estimator:hover label.sk-toggleable__label-arrow:before {color: black;}#sk-container-id-1 div.sk-toggleable__content {max-height: 0;max-width: 0;overflow: hidden;text-align: left;background-color: #f0f8ff;}#sk-container-id-1 div.sk-toggleable__content pre {margin: 0.2em;color: black;border-radius: 0.25em;background-color: #f0f8ff;}#sk-container-id-1 input.sk-toggleable__control:checked~div.sk-toggleable__content {max-height: 200px;max-width: 100%;overflow: auto;}#sk-container-id-1 input.sk-toggleable__control:checked~label.sk-toggleable__label-arrow:before {content: \"▾\";}#sk-container-id-1 div.sk-estimator input.sk-toggleable__control:checked~label.sk-toggleable__label {background-color: #d4ebff;}#sk-container-id-1 div.sk-label input.sk-toggleable__control:checked~label.sk-toggleable__label {background-color: #d4ebff;}#sk-container-id-1 input.sk-hidden--visually {border: 0;clip: rect(1px 1px 1px 1px);clip: rect(1px, 1px, 1px, 1px);height: 1px;margin: -1px;overflow: hidden;padding: 0;position: absolute;width: 1px;}#sk-container-id-1 div.sk-estimator {font-family: monospace;background-color: #f0f8ff;border: 1px dotted black;border-radius: 0.25em;box-sizing: border-box;margin-bottom: 0.5em;}#sk-container-id-1 div.sk-estimator:hover {background-color: #d4ebff;}#sk-container-id-1 div.sk-parallel-item::after {content: \"\";width: 100%;border-bottom: 1px solid gray;flex-grow: 1;}#sk-container-id-1 div.sk-label:hover label.sk-toggleable__label {background-color: #d4ebff;}#sk-container-id-1 div.sk-serial::before {content: \"\";position: absolute;border-left: 1px solid gray;box-sizing: border-box;top: 0;bottom: 0;left: 50%;z-index: 0;}#sk-container-id-1 div.sk-serial {display: flex;flex-direction: column;align-items: center;background-color: white;padding-right: 0.2em;padding-left: 0.2em;position: relative;}#sk-container-id-1 div.sk-item {position: relative;z-index: 1;}#sk-container-id-1 div.sk-parallel {display: flex;align-items: stretch;justify-content: center;background-color: white;position: relative;}#sk-container-id-1 div.sk-item::before, #sk-container-id-1 div.sk-parallel-item::before {content: \"\";position: absolute;border-left: 1px solid gray;box-sizing: border-box;top: 0;bottom: 0;left: 50%;z-index: -1;}#sk-container-id-1 div.sk-parallel-item {display: flex;flex-direction: column;z-index: 1;position: relative;background-color: white;}#sk-container-id-1 div.sk-parallel-item:first-child::after {align-self: flex-end;width: 50%;}#sk-container-id-1 div.sk-parallel-item:last-child::after {align-self: flex-start;width: 50%;}#sk-container-id-1 div.sk-parallel-item:only-child::after {width: 0;}#sk-container-id-1 div.sk-dashed-wrapped {border: 1px dashed gray;margin: 0 0.4em 0.5em 0.4em;box-sizing: border-box;padding-bottom: 0.4em;background-color: white;}#sk-container-id-1 div.sk-label label {font-family: monospace;font-weight: bold;display: inline-block;line-height: 1.2em;}#sk-container-id-1 div.sk-label-container {text-align: center;}#sk-container-id-1 div.sk-container {/* jupyter's `normalize.less` sets `[hidden] { display: none; }` but bootstrap.min.css set `[hidden] { display: none !important; }` so we also need the `!important` here to be able to override the default hidden behavior on the sphinx rendered scikit-learn.org. See: https://github.com/scikit-learn/scikit-learn/issues/21755 */display: inline-block !important;position: relative;}#sk-container-id-1 div.sk-text-repr-fallback {display: none;}</style><div id=\"sk-container-id-1\" class=\"sk-top-container\"><div class=\"sk-text-repr-fallback\"><pre>SVC(C=1, kernel=&#x27;linear&#x27;, random_state=0)</pre><b>In a Jupyter environment, please rerun this cell to show the HTML representation or trust the notebook. <br />On GitHub, the HTML representation is unable to render, please try loading this page with nbviewer.org.</b></div><div class=\"sk-container\" hidden><div class=\"sk-item\"><div class=\"sk-estimator sk-toggleable\"><input class=\"sk-toggleable__control sk-hidden--visually\" id=\"sk-estimator-id-1\" type=\"checkbox\" checked><label for=\"sk-estimator-id-1\" class=\"sk-toggleable__label sk-toggleable__label-arrow\">SVC</label><div class=\"sk-toggleable__content\"><pre>SVC(C=1, kernel=&#x27;linear&#x27;, random_state=0)</pre></div></div></div></div></div>"
            ]
          },
          "metadata": {},
          "execution_count": 137
        }
      ]
    },
    {
      "cell_type": "code",
      "source": [
        "Y_pred_svm = model_svm.predict(X_test)\n",
        "Y_pred_svm"
      ],
      "metadata": {
        "colab": {
          "base_uri": "https://localhost:8080/"
        },
        "id": "iMtkdZu7Hq60",
        "outputId": "08da2371-df77-4f6a-91fa-c20d3e066bfa"
      },
      "execution_count": 138,
      "outputs": [
        {
          "output_type": "execute_result",
          "data": {
            "text/plain": [
              "array([0, 0, 0, ..., 0, 1, 0])"
            ]
          },
          "metadata": {},
          "execution_count": 138
        }
      ]
    },
    {
      "cell_type": "code",
      "source": [
        "accuracy_score(Y_test, Y_pred_svm)"
      ],
      "metadata": {
        "colab": {
          "base_uri": "https://localhost:8080/"
        },
        "id": "raaYarooHxHI",
        "outputId": "7aaec5b9-614c-4406-b933-e3619d6e00d9"
      },
      "execution_count": 139,
      "outputs": [
        {
          "output_type": "execute_result",
          "data": {
            "text/plain": [
              "0.7496989210312877"
            ]
          },
          "metadata": {},
          "execution_count": 139
        }
      ]
    },
    {
      "cell_type": "code",
      "source": [
        "confusion_matrix(Y_test, Y_pred_svm, labels=[0,1])"
      ],
      "metadata": {
        "colab": {
          "base_uri": "https://localhost:8080/"
        },
        "id": "b8hEXNX7H2f4",
        "outputId": "11b847ee-6118-4127-8639-5c3d87d1b42d"
      },
      "execution_count": 140,
      "outputs": [
        {
          "output_type": "execute_result",
          "data": {
            "text/plain": [
              "array([[23235,  1707],\n",
              "       [ 8477,  7268]])"
            ]
          },
          "metadata": {},
          "execution_count": 140
        }
      ]
    },
    {
      "cell_type": "code",
      "source": [
        "cr = classification_report(Y_test, Y_pred_svm)\n",
        "print(cr)"
      ],
      "metadata": {
        "colab": {
          "base_uri": "https://localhost:8080/"
        },
        "id": "xyV3oLbBH6rV",
        "outputId": "340028af-d719-4a9f-f9c3-7911b09ccef9"
      },
      "execution_count": 141,
      "outputs": [
        {
          "output_type": "stream",
          "name": "stdout",
          "text": [
            "              precision    recall  f1-score   support\n",
            "\n",
            "           0       0.73      0.93      0.82     24942\n",
            "           1       0.81      0.46      0.59     15745\n",
            "\n",
            "    accuracy                           0.75     40687\n",
            "   macro avg       0.77      0.70      0.70     40687\n",
            "weighted avg       0.76      0.75      0.73     40687\n",
            "\n"
          ]
        }
      ]
    },
    {
      "cell_type": "markdown",
      "source": [
        "**Commento**\n",
        "\n",
        "---\n",
        "* Per questa prima prova vengono utilizzati i dataset completi.\n",
        "* Il modello SVM in questo caso impiega circa 4 minuti e mezzo per l'esecuzione.\n",
        "* L'accuratezza è del 74.9%, che su un dataset ben distribuito, dove le cancellazioni sono il 36% e le non cancellazioni il 64%, è un dato rilevante.\n",
        "* Se il modello individua una prenotazione come cancellata ha una bassa probabilità di sbagliare (precisione del 81%) un po' più alta in caso di predizione come non cancellazione (73%)\n",
        "* Risulta abbastanza evidente che la recall per le \"cancellazioni\" sia molto bassa (46%) e, al contrario, molto buona per le \"non cancellazioni\" (93%)"
      ],
      "metadata": {
        "id": "L-DvunMQKOcs"
      }
    },
    {
      "cell_type": "markdown",
      "source": [
        "# **Modello \"Decision Trees (DT)\"**\n",
        "\n",
        "---\n",
        "\n"
      ],
      "metadata": {
        "id": "ka_10vj8JZmI"
      }
    },
    {
      "cell_type": "code",
      "source": [
        "model_dt = tree.DecisionTreeClassifier(random_state=0)\n",
        "model_dt.fit(X_train, Y_train)"
      ],
      "metadata": {
        "id": "5-wTlt3cMj6h",
        "colab": {
          "base_uri": "https://localhost:8080/",
          "height": 0
        },
        "outputId": "5d6b0e55-280a-460b-ebc2-234405ebc1ff"
      },
      "execution_count": 142,
      "outputs": [
        {
          "output_type": "execute_result",
          "data": {
            "text/plain": [
              "DecisionTreeClassifier(random_state=0)"
            ],
            "text/html": [
              "<style>#sk-container-id-2 {color: black;background-color: white;}#sk-container-id-2 pre{padding: 0;}#sk-container-id-2 div.sk-toggleable {background-color: white;}#sk-container-id-2 label.sk-toggleable__label {cursor: pointer;display: block;width: 100%;margin-bottom: 0;padding: 0.3em;box-sizing: border-box;text-align: center;}#sk-container-id-2 label.sk-toggleable__label-arrow:before {content: \"▸\";float: left;margin-right: 0.25em;color: #696969;}#sk-container-id-2 label.sk-toggleable__label-arrow:hover:before {color: black;}#sk-container-id-2 div.sk-estimator:hover label.sk-toggleable__label-arrow:before {color: black;}#sk-container-id-2 div.sk-toggleable__content {max-height: 0;max-width: 0;overflow: hidden;text-align: left;background-color: #f0f8ff;}#sk-container-id-2 div.sk-toggleable__content pre {margin: 0.2em;color: black;border-radius: 0.25em;background-color: #f0f8ff;}#sk-container-id-2 input.sk-toggleable__control:checked~div.sk-toggleable__content {max-height: 200px;max-width: 100%;overflow: auto;}#sk-container-id-2 input.sk-toggleable__control:checked~label.sk-toggleable__label-arrow:before {content: \"▾\";}#sk-container-id-2 div.sk-estimator input.sk-toggleable__control:checked~label.sk-toggleable__label {background-color: #d4ebff;}#sk-container-id-2 div.sk-label input.sk-toggleable__control:checked~label.sk-toggleable__label {background-color: #d4ebff;}#sk-container-id-2 input.sk-hidden--visually {border: 0;clip: rect(1px 1px 1px 1px);clip: rect(1px, 1px, 1px, 1px);height: 1px;margin: -1px;overflow: hidden;padding: 0;position: absolute;width: 1px;}#sk-container-id-2 div.sk-estimator {font-family: monospace;background-color: #f0f8ff;border: 1px dotted black;border-radius: 0.25em;box-sizing: border-box;margin-bottom: 0.5em;}#sk-container-id-2 div.sk-estimator:hover {background-color: #d4ebff;}#sk-container-id-2 div.sk-parallel-item::after {content: \"\";width: 100%;border-bottom: 1px solid gray;flex-grow: 1;}#sk-container-id-2 div.sk-label:hover label.sk-toggleable__label {background-color: #d4ebff;}#sk-container-id-2 div.sk-serial::before {content: \"\";position: absolute;border-left: 1px solid gray;box-sizing: border-box;top: 0;bottom: 0;left: 50%;z-index: 0;}#sk-container-id-2 div.sk-serial {display: flex;flex-direction: column;align-items: center;background-color: white;padding-right: 0.2em;padding-left: 0.2em;position: relative;}#sk-container-id-2 div.sk-item {position: relative;z-index: 1;}#sk-container-id-2 div.sk-parallel {display: flex;align-items: stretch;justify-content: center;background-color: white;position: relative;}#sk-container-id-2 div.sk-item::before, #sk-container-id-2 div.sk-parallel-item::before {content: \"\";position: absolute;border-left: 1px solid gray;box-sizing: border-box;top: 0;bottom: 0;left: 50%;z-index: -1;}#sk-container-id-2 div.sk-parallel-item {display: flex;flex-direction: column;z-index: 1;position: relative;background-color: white;}#sk-container-id-2 div.sk-parallel-item:first-child::after {align-self: flex-end;width: 50%;}#sk-container-id-2 div.sk-parallel-item:last-child::after {align-self: flex-start;width: 50%;}#sk-container-id-2 div.sk-parallel-item:only-child::after {width: 0;}#sk-container-id-2 div.sk-dashed-wrapped {border: 1px dashed gray;margin: 0 0.4em 0.5em 0.4em;box-sizing: border-box;padding-bottom: 0.4em;background-color: white;}#sk-container-id-2 div.sk-label label {font-family: monospace;font-weight: bold;display: inline-block;line-height: 1.2em;}#sk-container-id-2 div.sk-label-container {text-align: center;}#sk-container-id-2 div.sk-container {/* jupyter's `normalize.less` sets `[hidden] { display: none; }` but bootstrap.min.css set `[hidden] { display: none !important; }` so we also need the `!important` here to be able to override the default hidden behavior on the sphinx rendered scikit-learn.org. See: https://github.com/scikit-learn/scikit-learn/issues/21755 */display: inline-block !important;position: relative;}#sk-container-id-2 div.sk-text-repr-fallback {display: none;}</style><div id=\"sk-container-id-2\" class=\"sk-top-container\"><div class=\"sk-text-repr-fallback\"><pre>DecisionTreeClassifier(random_state=0)</pre><b>In a Jupyter environment, please rerun this cell to show the HTML representation or trust the notebook. <br />On GitHub, the HTML representation is unable to render, please try loading this page with nbviewer.org.</b></div><div class=\"sk-container\" hidden><div class=\"sk-item\"><div class=\"sk-estimator sk-toggleable\"><input class=\"sk-toggleable__control sk-hidden--visually\" id=\"sk-estimator-id-2\" type=\"checkbox\" checked><label for=\"sk-estimator-id-2\" class=\"sk-toggleable__label sk-toggleable__label-arrow\">DecisionTreeClassifier</label><div class=\"sk-toggleable__content\"><pre>DecisionTreeClassifier(random_state=0)</pre></div></div></div></div></div>"
            ]
          },
          "metadata": {},
          "execution_count": 142
        }
      ]
    },
    {
      "cell_type": "code",
      "source": [
        "Y_pred_dt = model_dt.predict(X_test)\n",
        "Y_pred_dt"
      ],
      "metadata": {
        "id": "rfKS04ZHQK0q",
        "colab": {
          "base_uri": "https://localhost:8080/"
        },
        "outputId": "524e7792-56e8-46c8-d05e-be82e4a122f0"
      },
      "execution_count": 143,
      "outputs": [
        {
          "output_type": "execute_result",
          "data": {
            "text/plain": [
              "array([1, 0, 0, ..., 0, 0, 1])"
            ]
          },
          "metadata": {},
          "execution_count": 143
        }
      ]
    },
    {
      "cell_type": "code",
      "source": [
        "accuracy_score(Y_test, Y_pred_dt)"
      ],
      "metadata": {
        "id": "663zLz5jRwNW",
        "colab": {
          "base_uri": "https://localhost:8080/"
        },
        "outputId": "7c6b9057-b203-4d0b-b475-861d66288a00"
      },
      "execution_count": 144,
      "outputs": [
        {
          "output_type": "execute_result",
          "data": {
            "text/plain": [
              "0.7386634551576671"
            ]
          },
          "metadata": {},
          "execution_count": 144
        }
      ]
    },
    {
      "cell_type": "code",
      "source": [
        "confusion_matrix(Y_test, Y_pred_dt, labels=[0,1])"
      ],
      "metadata": {
        "id": "xcVkw1yKSmgj",
        "colab": {
          "base_uri": "https://localhost:8080/"
        },
        "outputId": "af057b42-22f1-4a31-88e9-d83ebe049ad8"
      },
      "execution_count": 145,
      "outputs": [
        {
          "output_type": "execute_result",
          "data": {
            "text/plain": [
              "array([[20575,  4367],\n",
              "       [ 6266,  9479]])"
            ]
          },
          "metadata": {},
          "execution_count": 145
        }
      ]
    },
    {
      "cell_type": "code",
      "source": [
        "cr = classification_report(Y_test, Y_pred_dt)\n",
        "print(cr)"
      ],
      "metadata": {
        "id": "Rte5PsBD9cVK",
        "colab": {
          "base_uri": "https://localhost:8080/"
        },
        "outputId": "05a0500c-ae18-474e-bb51-1bd2186f8630"
      },
      "execution_count": 146,
      "outputs": [
        {
          "output_type": "stream",
          "name": "stdout",
          "text": [
            "              precision    recall  f1-score   support\n",
            "\n",
            "           0       0.77      0.82      0.79     24942\n",
            "           1       0.68      0.60      0.64     15745\n",
            "\n",
            "    accuracy                           0.74     40687\n",
            "   macro avg       0.73      0.71      0.72     40687\n",
            "weighted avg       0.73      0.74      0.74     40687\n",
            "\n"
          ]
        }
      ]
    },
    {
      "cell_type": "markdown",
      "source": [
        "**Commento:**\n",
        "\n",
        "\n",
        "---\n",
        "\n",
        "\n",
        "* Il modello DT risulta molto più veloce del precedente con nemmeno 2 secondi per l'esecuzione.\n",
        "* L'accuratezza è lievemente minore corrispondente al 73.8%.\n",
        "* Tuttavia i valori relativi alla precisione e alla recall sono particolarmente interessanti.\n",
        "* Difatti il sistema meno probabilità di sbagliare in caso di predizione relativa alle camere non cancellate (77% di precisione contro il 73% del modello precedente) ma maggiore in modo non trascurabile in caso di cancellazioni (solo il 68% di precisione contro l'81% del SVM).\n",
        "* La recall risulta abbastanza più bassa per quanto riguarda le non cancellazioni: 82%; mentre è molto più alta inerentemente alle cancellazioni raggiungendo il valore di 60%. Difatti il sistema ha indovinato più di 2000 casi in più di cancellazioni.\n",
        "* Il fatto di avere una recall e una precisione così tanto più alte sul valore delle cancellazioni mi porta a pensare che il modello DT sia, nonostante l'accuratezza minore, decisamente preferibile per questa specifica situazione."
      ],
      "metadata": {
        "id": "TS6C2dj1-J-I"
      }
    },
    {
      "cell_type": "markdown",
      "source": [
        "# **Test n.2:**\n",
        "\n",
        "---\n",
        "\n"
      ],
      "metadata": {
        "id": "Pig-tpDwCCRu"
      }
    },
    {
      "cell_type": "code",
      "source": [
        "X_train2 = train[[\"persone\", \"colonna_bambini\", \"prenotazioni_precedenti\", \"lista_d'attesa\",\n",
        "             \"anticipo\", \"required_car_parking_spaces\", \"market_segment\", \"distribution_channel\", \"deposit_type\", \"country\", \"hotel\", \"meal\"]]\n",
        "Y_train2 = train[\"is_canceled\"]\n",
        "X_test2 = test[[\"persone\", \"colonna_bambini\", \"prenotazioni_precedenti\", \"lista_d'attesa\",\n",
        "             \"anticipo\", \"required_car_parking_spaces\", \"market_segment\", \"distribution_channel\", \"deposit_type\", \"country\",\"hotel\",\"meal\"]]\n",
        "Y_test2= test[\"is_canceled\"]"
      ],
      "metadata": {
        "id": "big-xVxJCBhD"
      },
      "execution_count": 147,
      "outputs": []
    },
    {
      "cell_type": "markdown",
      "source": [
        "# **SVM**\n",
        "\n",
        "---\n",
        "\n"
      ],
      "metadata": {
        "id": "L_gbAZqyV4_c"
      }
    },
    {
      "cell_type": "code",
      "source": [
        "model_svm = svm.SVC(kernel=\"rbf\", C=1, random_state=0)\n",
        "model_svm.fit(X_train2, Y_train2)"
      ],
      "metadata": {
        "colab": {
          "base_uri": "https://localhost:8080/",
          "height": 74
        },
        "id": "E0Ns250yEjYn",
        "outputId": "713cd7d3-8fc4-43c7-cf02-9caed202bb6f"
      },
      "execution_count": 149,
      "outputs": [
        {
          "output_type": "execute_result",
          "data": {
            "text/plain": [
              "SVC(C=1, random_state=0)"
            ],
            "text/html": [
              "<style>#sk-container-id-3 {color: black;background-color: white;}#sk-container-id-3 pre{padding: 0;}#sk-container-id-3 div.sk-toggleable {background-color: white;}#sk-container-id-3 label.sk-toggleable__label {cursor: pointer;display: block;width: 100%;margin-bottom: 0;padding: 0.3em;box-sizing: border-box;text-align: center;}#sk-container-id-3 label.sk-toggleable__label-arrow:before {content: \"▸\";float: left;margin-right: 0.25em;color: #696969;}#sk-container-id-3 label.sk-toggleable__label-arrow:hover:before {color: black;}#sk-container-id-3 div.sk-estimator:hover label.sk-toggleable__label-arrow:before {color: black;}#sk-container-id-3 div.sk-toggleable__content {max-height: 0;max-width: 0;overflow: hidden;text-align: left;background-color: #f0f8ff;}#sk-container-id-3 div.sk-toggleable__content pre {margin: 0.2em;color: black;border-radius: 0.25em;background-color: #f0f8ff;}#sk-container-id-3 input.sk-toggleable__control:checked~div.sk-toggleable__content {max-height: 200px;max-width: 100%;overflow: auto;}#sk-container-id-3 input.sk-toggleable__control:checked~label.sk-toggleable__label-arrow:before {content: \"▾\";}#sk-container-id-3 div.sk-estimator input.sk-toggleable__control:checked~label.sk-toggleable__label {background-color: #d4ebff;}#sk-container-id-3 div.sk-label input.sk-toggleable__control:checked~label.sk-toggleable__label {background-color: #d4ebff;}#sk-container-id-3 input.sk-hidden--visually {border: 0;clip: rect(1px 1px 1px 1px);clip: rect(1px, 1px, 1px, 1px);height: 1px;margin: -1px;overflow: hidden;padding: 0;position: absolute;width: 1px;}#sk-container-id-3 div.sk-estimator {font-family: monospace;background-color: #f0f8ff;border: 1px dotted black;border-radius: 0.25em;box-sizing: border-box;margin-bottom: 0.5em;}#sk-container-id-3 div.sk-estimator:hover {background-color: #d4ebff;}#sk-container-id-3 div.sk-parallel-item::after {content: \"\";width: 100%;border-bottom: 1px solid gray;flex-grow: 1;}#sk-container-id-3 div.sk-label:hover label.sk-toggleable__label {background-color: #d4ebff;}#sk-container-id-3 div.sk-serial::before {content: \"\";position: absolute;border-left: 1px solid gray;box-sizing: border-box;top: 0;bottom: 0;left: 50%;z-index: 0;}#sk-container-id-3 div.sk-serial {display: flex;flex-direction: column;align-items: center;background-color: white;padding-right: 0.2em;padding-left: 0.2em;position: relative;}#sk-container-id-3 div.sk-item {position: relative;z-index: 1;}#sk-container-id-3 div.sk-parallel {display: flex;align-items: stretch;justify-content: center;background-color: white;position: relative;}#sk-container-id-3 div.sk-item::before, #sk-container-id-3 div.sk-parallel-item::before {content: \"\";position: absolute;border-left: 1px solid gray;box-sizing: border-box;top: 0;bottom: 0;left: 50%;z-index: -1;}#sk-container-id-3 div.sk-parallel-item {display: flex;flex-direction: column;z-index: 1;position: relative;background-color: white;}#sk-container-id-3 div.sk-parallel-item:first-child::after {align-self: flex-end;width: 50%;}#sk-container-id-3 div.sk-parallel-item:last-child::after {align-self: flex-start;width: 50%;}#sk-container-id-3 div.sk-parallel-item:only-child::after {width: 0;}#sk-container-id-3 div.sk-dashed-wrapped {border: 1px dashed gray;margin: 0 0.4em 0.5em 0.4em;box-sizing: border-box;padding-bottom: 0.4em;background-color: white;}#sk-container-id-3 div.sk-label label {font-family: monospace;font-weight: bold;display: inline-block;line-height: 1.2em;}#sk-container-id-3 div.sk-label-container {text-align: center;}#sk-container-id-3 div.sk-container {/* jupyter's `normalize.less` sets `[hidden] { display: none; }` but bootstrap.min.css set `[hidden] { display: none !important; }` so we also need the `!important` here to be able to override the default hidden behavior on the sphinx rendered scikit-learn.org. See: https://github.com/scikit-learn/scikit-learn/issues/21755 */display: inline-block !important;position: relative;}#sk-container-id-3 div.sk-text-repr-fallback {display: none;}</style><div id=\"sk-container-id-3\" class=\"sk-top-container\"><div class=\"sk-text-repr-fallback\"><pre>SVC(C=1, random_state=0)</pre><b>In a Jupyter environment, please rerun this cell to show the HTML representation or trust the notebook. <br />On GitHub, the HTML representation is unable to render, please try loading this page with nbviewer.org.</b></div><div class=\"sk-container\" hidden><div class=\"sk-item\"><div class=\"sk-estimator sk-toggleable\"><input class=\"sk-toggleable__control sk-hidden--visually\" id=\"sk-estimator-id-3\" type=\"checkbox\" checked><label for=\"sk-estimator-id-3\" class=\"sk-toggleable__label sk-toggleable__label-arrow\">SVC</label><div class=\"sk-toggleable__content\"><pre>SVC(C=1, random_state=0)</pre></div></div></div></div></div>"
            ]
          },
          "metadata": {},
          "execution_count": 149
        }
      ]
    },
    {
      "cell_type": "code",
      "source": [
        "Y_pred_svm2 = model_svm.predict(X_test2)\n",
        "Y_pred_svm2"
      ],
      "metadata": {
        "colab": {
          "base_uri": "https://localhost:8080/"
        },
        "id": "2Ed0pzV9E-NN",
        "outputId": "5967bf77-c5ff-4170-ae8a-981a4cfea88d"
      },
      "execution_count": 150,
      "outputs": [
        {
          "output_type": "execute_result",
          "data": {
            "text/plain": [
              "array([0, 0, 0, ..., 0, 0, 0])"
            ]
          },
          "metadata": {},
          "execution_count": 150
        }
      ]
    },
    {
      "cell_type": "code",
      "source": [
        "accuracy_score(Y_test2, Y_pred_svm2)"
      ],
      "metadata": {
        "colab": {
          "base_uri": "https://localhost:8080/"
        },
        "id": "sYOoJ-PbFFeV",
        "outputId": "c2d10767-727b-4dff-f769-6469dd2d7a60"
      },
      "execution_count": 151,
      "outputs": [
        {
          "output_type": "execute_result",
          "data": {
            "text/plain": [
              "0.7161501216604812"
            ]
          },
          "metadata": {},
          "execution_count": 151
        }
      ]
    },
    {
      "cell_type": "code",
      "source": [
        "confusion_matrix(Y_test2, Y_pred_svm2, labels=[0,1])"
      ],
      "metadata": {
        "colab": {
          "base_uri": "https://localhost:8080/"
        },
        "id": "m0M83XYiFLll",
        "outputId": "783304dc-97c7-440a-c3dc-75ed225e88b0"
      },
      "execution_count": 152,
      "outputs": [
        {
          "output_type": "execute_result",
          "data": {
            "text/plain": [
              "array([[24406,   536],\n",
              "       [11013,  4732]])"
            ]
          },
          "metadata": {},
          "execution_count": 152
        }
      ]
    },
    {
      "cell_type": "code",
      "source": [
        "cr2 = classification_report(Y_test2, Y_pred_svm2)\n",
        "print(cr2)"
      ],
      "metadata": {
        "colab": {
          "base_uri": "https://localhost:8080/"
        },
        "id": "BRe-2dhGGFA-",
        "outputId": "22ddd69c-f546-4aad-a7cf-1d61f88632dc"
      },
      "execution_count": 153,
      "outputs": [
        {
          "output_type": "stream",
          "name": "stdout",
          "text": [
            "              precision    recall  f1-score   support\n",
            "\n",
            "           0       0.69      0.98      0.81     24942\n",
            "           1       0.90      0.30      0.45     15745\n",
            "\n",
            "    accuracy                           0.72     40687\n",
            "   macro avg       0.79      0.64      0.63     40687\n",
            "weighted avg       0.77      0.72      0.67     40687\n",
            "\n"
          ]
        }
      ]
    },
    {
      "cell_type": "markdown",
      "source": [
        "**Commento secondo modello SVM**\n",
        "\n",
        "---\n",
        "* Questa volta venegono utilizzate le nuove colonne create durante l'esplorazione del dataset e le colonne ritenute più significative.\n",
        "* Il valore \"kernel\" è stato cambiato da \"linear\" a \"rbf\" (come da segnalazione del docente) in quanto con il primo il tempo di caricamento risultava molto lungo.\n",
        "* Con questi cambiamenti il tempo di esecuzione risulta quasi dimezzato, si passa infatti a 2 minuti circa.\n",
        "* L'accuratezza scende di 3 punti percentuali.\n",
        "* Tuttavia cresce ancora la precisione relativa alle cancellazioni fino al 90%, mentre scende quella inerente alle \"non cancellazioni\" dal 74% al 69%.\n",
        "* La recall è molto alta nel caso delle non cancellazioni, difatti, il sistema non ha individuato solamente 536 non cancellazioni ottenendo così un valore di recall pari al 98%.\n",
        "* Ancora non soddisfacente invece la recall delle cancellazioni che riscontra un valore pari al 30% scendendo così di 16 punti percentuali.\n",
        "* In conclusione si può forse affermare che, nonostante i tempi minori, la precisione aumentata nel caso delle cancellazioni e i pochi errori nel valutare le non cancellazioni, forse il modello più affidabile e completo rimane il primo.\n"
      ],
      "metadata": {
        "id": "QJtpSrApWOUl"
      }
    },
    {
      "cell_type": "markdown",
      "source": [
        "# **DT**\n",
        "\n",
        "---\n",
        "\n"
      ],
      "metadata": {
        "id": "M2F2j55XWBiq"
      }
    },
    {
      "cell_type": "code",
      "source": [
        "model_dt2 = tree.DecisionTreeClassifier(random_state=0)\n",
        "model_dt2.fit(X_train2, Y_train2)"
      ],
      "metadata": {
        "colab": {
          "base_uri": "https://localhost:8080/",
          "height": 74
        },
        "id": "tCiN2eL6QLZ1",
        "outputId": "e7a58d71-8788-4859-b5a1-e5c337c6c436"
      },
      "execution_count": 154,
      "outputs": [
        {
          "output_type": "execute_result",
          "data": {
            "text/plain": [
              "DecisionTreeClassifier(random_state=0)"
            ],
            "text/html": [
              "<style>#sk-container-id-4 {color: black;background-color: white;}#sk-container-id-4 pre{padding: 0;}#sk-container-id-4 div.sk-toggleable {background-color: white;}#sk-container-id-4 label.sk-toggleable__label {cursor: pointer;display: block;width: 100%;margin-bottom: 0;padding: 0.3em;box-sizing: border-box;text-align: center;}#sk-container-id-4 label.sk-toggleable__label-arrow:before {content: \"▸\";float: left;margin-right: 0.25em;color: #696969;}#sk-container-id-4 label.sk-toggleable__label-arrow:hover:before {color: black;}#sk-container-id-4 div.sk-estimator:hover label.sk-toggleable__label-arrow:before {color: black;}#sk-container-id-4 div.sk-toggleable__content {max-height: 0;max-width: 0;overflow: hidden;text-align: left;background-color: #f0f8ff;}#sk-container-id-4 div.sk-toggleable__content pre {margin: 0.2em;color: black;border-radius: 0.25em;background-color: #f0f8ff;}#sk-container-id-4 input.sk-toggleable__control:checked~div.sk-toggleable__content {max-height: 200px;max-width: 100%;overflow: auto;}#sk-container-id-4 input.sk-toggleable__control:checked~label.sk-toggleable__label-arrow:before {content: \"▾\";}#sk-container-id-4 div.sk-estimator input.sk-toggleable__control:checked~label.sk-toggleable__label {background-color: #d4ebff;}#sk-container-id-4 div.sk-label input.sk-toggleable__control:checked~label.sk-toggleable__label {background-color: #d4ebff;}#sk-container-id-4 input.sk-hidden--visually {border: 0;clip: rect(1px 1px 1px 1px);clip: rect(1px, 1px, 1px, 1px);height: 1px;margin: -1px;overflow: hidden;padding: 0;position: absolute;width: 1px;}#sk-container-id-4 div.sk-estimator {font-family: monospace;background-color: #f0f8ff;border: 1px dotted black;border-radius: 0.25em;box-sizing: border-box;margin-bottom: 0.5em;}#sk-container-id-4 div.sk-estimator:hover {background-color: #d4ebff;}#sk-container-id-4 div.sk-parallel-item::after {content: \"\";width: 100%;border-bottom: 1px solid gray;flex-grow: 1;}#sk-container-id-4 div.sk-label:hover label.sk-toggleable__label {background-color: #d4ebff;}#sk-container-id-4 div.sk-serial::before {content: \"\";position: absolute;border-left: 1px solid gray;box-sizing: border-box;top: 0;bottom: 0;left: 50%;z-index: 0;}#sk-container-id-4 div.sk-serial {display: flex;flex-direction: column;align-items: center;background-color: white;padding-right: 0.2em;padding-left: 0.2em;position: relative;}#sk-container-id-4 div.sk-item {position: relative;z-index: 1;}#sk-container-id-4 div.sk-parallel {display: flex;align-items: stretch;justify-content: center;background-color: white;position: relative;}#sk-container-id-4 div.sk-item::before, #sk-container-id-4 div.sk-parallel-item::before {content: \"\";position: absolute;border-left: 1px solid gray;box-sizing: border-box;top: 0;bottom: 0;left: 50%;z-index: -1;}#sk-container-id-4 div.sk-parallel-item {display: flex;flex-direction: column;z-index: 1;position: relative;background-color: white;}#sk-container-id-4 div.sk-parallel-item:first-child::after {align-self: flex-end;width: 50%;}#sk-container-id-4 div.sk-parallel-item:last-child::after {align-self: flex-start;width: 50%;}#sk-container-id-4 div.sk-parallel-item:only-child::after {width: 0;}#sk-container-id-4 div.sk-dashed-wrapped {border: 1px dashed gray;margin: 0 0.4em 0.5em 0.4em;box-sizing: border-box;padding-bottom: 0.4em;background-color: white;}#sk-container-id-4 div.sk-label label {font-family: monospace;font-weight: bold;display: inline-block;line-height: 1.2em;}#sk-container-id-4 div.sk-label-container {text-align: center;}#sk-container-id-4 div.sk-container {/* jupyter's `normalize.less` sets `[hidden] { display: none; }` but bootstrap.min.css set `[hidden] { display: none !important; }` so we also need the `!important` here to be able to override the default hidden behavior on the sphinx rendered scikit-learn.org. See: https://github.com/scikit-learn/scikit-learn/issues/21755 */display: inline-block !important;position: relative;}#sk-container-id-4 div.sk-text-repr-fallback {display: none;}</style><div id=\"sk-container-id-4\" class=\"sk-top-container\"><div class=\"sk-text-repr-fallback\"><pre>DecisionTreeClassifier(random_state=0)</pre><b>In a Jupyter environment, please rerun this cell to show the HTML representation or trust the notebook. <br />On GitHub, the HTML representation is unable to render, please try loading this page with nbviewer.org.</b></div><div class=\"sk-container\" hidden><div class=\"sk-item\"><div class=\"sk-estimator sk-toggleable\"><input class=\"sk-toggleable__control sk-hidden--visually\" id=\"sk-estimator-id-4\" type=\"checkbox\" checked><label for=\"sk-estimator-id-4\" class=\"sk-toggleable__label sk-toggleable__label-arrow\">DecisionTreeClassifier</label><div class=\"sk-toggleable__content\"><pre>DecisionTreeClassifier(random_state=0)</pre></div></div></div></div></div>"
            ]
          },
          "metadata": {},
          "execution_count": 154
        }
      ]
    },
    {
      "cell_type": "code",
      "source": [
        "Y_pred_dt2 = model_dt2.predict(X_test2)\n",
        "Y_pred_dt2"
      ],
      "metadata": {
        "colab": {
          "base_uri": "https://localhost:8080/"
        },
        "id": "UsajdYLcQVNF",
        "outputId": "b2db0971-4153-46e9-f7a3-c0d50d30dcc4"
      },
      "execution_count": 155,
      "outputs": [
        {
          "output_type": "execute_result",
          "data": {
            "text/plain": [
              "array([0, 0, 0, ..., 0, 0, 1])"
            ]
          },
          "metadata": {},
          "execution_count": 155
        }
      ]
    },
    {
      "cell_type": "code",
      "source": [
        "accuracy_score(Y_test2, Y_pred_dt2)"
      ],
      "metadata": {
        "colab": {
          "base_uri": "https://localhost:8080/"
        },
        "id": "CABPsJobQY4O",
        "outputId": "8b77ce64-574a-48c8-a088-e26ec22a3e9c"
      },
      "execution_count": 156,
      "outputs": [
        {
          "output_type": "execute_result",
          "data": {
            "text/plain": [
              "0.7374345614078207"
            ]
          },
          "metadata": {},
          "execution_count": 156
        }
      ]
    },
    {
      "cell_type": "code",
      "source": [
        "confusion_matrix(Y_test2, Y_pred_dt2, labels=[0,1])"
      ],
      "metadata": {
        "colab": {
          "base_uri": "https://localhost:8080/"
        },
        "id": "t-7ZJO8tQfTf",
        "outputId": "ba48bee9-d8a2-4a4f-b1f6-95088f081b58"
      },
      "execution_count": 157,
      "outputs": [
        {
          "output_type": "execute_result",
          "data": {
            "text/plain": [
              "array([[22200,  2742],\n",
              "       [ 7941,  7804]])"
            ]
          },
          "metadata": {},
          "execution_count": 157
        }
      ]
    },
    {
      "cell_type": "code",
      "source": [
        "cr2 = classification_report(Y_test2, Y_pred_dt2)\n",
        "print(cr2)"
      ],
      "metadata": {
        "colab": {
          "base_uri": "https://localhost:8080/"
        },
        "id": "3OCp3fdaQjiN",
        "outputId": "09d4cbdc-01e9-47d0-9018-ea674a527a22"
      },
      "execution_count": 158,
      "outputs": [
        {
          "output_type": "stream",
          "name": "stdout",
          "text": [
            "              precision    recall  f1-score   support\n",
            "\n",
            "           0       0.74      0.89      0.81     24942\n",
            "           1       0.74      0.50      0.59     15745\n",
            "\n",
            "    accuracy                           0.74     40687\n",
            "   macro avg       0.74      0.69      0.70     40687\n",
            "weighted avg       0.74      0.74      0.72     40687\n",
            "\n"
          ]
        }
      ]
    },
    {
      "cell_type": "markdown",
      "source": [
        "# **Commento**\n",
        "\n",
        "\n",
        "---\n",
        "* Utilizzando le nuove colonne e quelle che, durante lo studio del dataset, ci erano sembrate più significative si ottengono, anche qui, risultati non particolarmente differenti ma comunque, a nostro avviso, degni di nota.\n",
        "* L'accuratezza rimane prressochè invariata.\n",
        "* Ciò che invece cambia sono i valori di precisione e recall.\n",
        " * I valori di precisione sono del 74% per entrambi i valori, scende così di punti percentuali la precisione relativa al valore \"non cancellato\" e sale di 6 quello per le cancellazioni:\n",
        " * Per quanto riguarda la recall, invece, aumenta quella relativa al valore \"non cancellato\" da 80% a 89% e diminuisce di 10 punti percentuali quella realtiva alle cancellazioni, difatti il sistema ha individuato circa 2000 casi in meno.\n",
        "* Alla luce di ciò si potrebbe affermare che i due modelli sostanzialmente si equivalgono in quanto per ogni miglioramento in un campo c'è un peggioramento quasi equivalente nell'altro.\n",
        "* Se proprio si dovesse fare una scelta, vista la recall maggiore per il valore delle cancellazioni del secondo modello, il sottoscritto utilizzerebbe quest'ultimo.\n"
      ],
      "metadata": {
        "id": "Ptj8uYONYzY4"
      }
    }
  ]
}